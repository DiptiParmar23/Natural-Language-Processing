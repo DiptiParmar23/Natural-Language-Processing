{
 "cells": [
  {
   "cell_type": "markdown",
   "metadata": {
    "id": "6ux6SgFASm7t"
   },
   "source": [
    "#**DOMAIN: Digital content management**"
   ]
  },
  {
   "cell_type": "markdown",
   "metadata": {
    "id": "sQHVL8A3SspC"
   },
   "source": [
    "##**• PROJECT OBJECTIVE: To build a NLP classifier which can use input text parameters to determine the label/s of the blog. Specific to this case study, you can consider the text of the blog: ‘text’ feature as independent variable and ‘topic’ as dependent variable.**"
   ]
  },
  {
   "cell_type": "markdown",
   "metadata": {
    "id": "EbfK3mJgSssd"
   },
   "source": [
    "###**1. Read and Analyse Dataset.**"
   ]
  },
  {
   "cell_type": "markdown",
   "metadata": {
    "id": "Ha23qJf3S4Gb"
   },
   "source": [
    "###**A. Clearly write outcome of data analysis(Minimum 2 points)**"
   ]
  },
  {
   "cell_type": "code",
   "execution_count": null,
   "metadata": {
    "colab": {
     "base_uri": "https://localhost:8080/"
    },
    "id": "qiStvSM9S2KL",
    "outputId": "3f314b53-1685-4b7b-b42d-02342f00d87f"
   },
   "outputs": [
    {
     "name": "stdout",
     "output_type": "stream",
     "text": [
      "Mounted at /content/drive\n"
     ]
    }
   ],
   "source": [
    "#for reading data from google drive\n",
    "from google.colab import drive\n",
    "drive.mount('/content/drive')"
   ]
  },
  {
   "cell_type": "code",
   "execution_count": 12,
   "metadata": {
    "id": "uDuHad4BS-MG"
   },
   "outputs": [],
   "source": [
    "import numpy as np                                  #for large and multi-dimensional arrays\n",
    "import pandas as pd                                 #for data manipulation and analysis\n",
    "import matplotlib.pyplot as plt                     \n",
    "%matplotlib inline                                \n",
    "import seaborn as sns\n",
    "\n",
    "import nltk                                         #Natural language processing tool-kit\n",
    "\n",
    "from nltk.corpus import stopwords                   #Stopwords corpus\n",
    "\n",
    "from sklearn.feature_extraction.text import CountVectorizer          #For Bag of words\n",
    "from sklearn.feature_extraction.text import TfidfVectorizer          #For TF-IDF\n",
    "\n",
    "from sklearn.linear_model import LogisticRegression\n",
    "from sklearn.metrics import accuracy_score,precision_score,f1_score,recall_score\n",
    "from sklearn.preprocessing import MinMaxScaler\n",
    "\n",
    "#surpress display of warning\n",
    "import warnings\n",
    "warnings.filterwarnings('ignore')"
   ]
  },
  {
   "cell_type": "code",
   "execution_count": 13,
   "metadata": {
    "id": "GyvWsk_jS-PZ"
   },
   "outputs": [],
   "source": [
    "df_digi = pd.read_csv('/content/drive/My Drive/AIML/NLP/Part1_ProjectData/blogtext.csv')"
   ]
  },
  {
   "cell_type": "code",
   "execution_count": 14,
   "metadata": {
    "colab": {
     "base_uri": "https://localhost:8080/",
     "height": 206
    },
    "id": "A4Y6b2JyS-df",
    "outputId": "d699d513-e7e6-444b-93e0-24b2a7226fc0"
   },
   "outputs": [
    {
     "data": {
      "text/html": [
       "\n",
       "  <div id=\"df-9d4254f6-67bd-4b2d-b852-a0cf5edce154\">\n",
       "    <div class=\"colab-df-container\">\n",
       "      <div>\n",
       "<style scoped>\n",
       "    .dataframe tbody tr th:only-of-type {\n",
       "        vertical-align: middle;\n",
       "    }\n",
       "\n",
       "    .dataframe tbody tr th {\n",
       "        vertical-align: top;\n",
       "    }\n",
       "\n",
       "    .dataframe thead th {\n",
       "        text-align: right;\n",
       "    }\n",
       "</style>\n",
       "<table border=\"1\" class=\"dataframe\">\n",
       "  <thead>\n",
       "    <tr style=\"text-align: right;\">\n",
       "      <th></th>\n",
       "      <th>id</th>\n",
       "      <th>gender</th>\n",
       "      <th>age</th>\n",
       "      <th>topic</th>\n",
       "      <th>sign</th>\n",
       "      <th>date</th>\n",
       "      <th>text</th>\n",
       "    </tr>\n",
       "  </thead>\n",
       "  <tbody>\n",
       "    <tr>\n",
       "      <th>0</th>\n",
       "      <td>2059027</td>\n",
       "      <td>male</td>\n",
       "      <td>15</td>\n",
       "      <td>Student</td>\n",
       "      <td>Leo</td>\n",
       "      <td>14,May,2004</td>\n",
       "      <td>Info has been found (+/- 100 pages,...</td>\n",
       "    </tr>\n",
       "    <tr>\n",
       "      <th>1</th>\n",
       "      <td>2059027</td>\n",
       "      <td>male</td>\n",
       "      <td>15</td>\n",
       "      <td>Student</td>\n",
       "      <td>Leo</td>\n",
       "      <td>13,May,2004</td>\n",
       "      <td>These are the team members:   Drewe...</td>\n",
       "    </tr>\n",
       "    <tr>\n",
       "      <th>2</th>\n",
       "      <td>2059027</td>\n",
       "      <td>male</td>\n",
       "      <td>15</td>\n",
       "      <td>Student</td>\n",
       "      <td>Leo</td>\n",
       "      <td>12,May,2004</td>\n",
       "      <td>In het kader van kernfusie op aarde...</td>\n",
       "    </tr>\n",
       "    <tr>\n",
       "      <th>3</th>\n",
       "      <td>2059027</td>\n",
       "      <td>male</td>\n",
       "      <td>15</td>\n",
       "      <td>Student</td>\n",
       "      <td>Leo</td>\n",
       "      <td>12,May,2004</td>\n",
       "      <td>testing!!!  testing!!!</td>\n",
       "    </tr>\n",
       "    <tr>\n",
       "      <th>4</th>\n",
       "      <td>3581210</td>\n",
       "      <td>male</td>\n",
       "      <td>33</td>\n",
       "      <td>InvestmentBanking</td>\n",
       "      <td>Aquarius</td>\n",
       "      <td>11,June,2004</td>\n",
       "      <td>Thanks to Yahoo!'s Toolbar I can ...</td>\n",
       "    </tr>\n",
       "  </tbody>\n",
       "</table>\n",
       "</div>\n",
       "      <button class=\"colab-df-convert\" onclick=\"convertToInteractive('df-9d4254f6-67bd-4b2d-b852-a0cf5edce154')\"\n",
       "              title=\"Convert this dataframe to an interactive table.\"\n",
       "              style=\"display:none;\">\n",
       "        \n",
       "  <svg xmlns=\"http://www.w3.org/2000/svg\" height=\"24px\"viewBox=\"0 0 24 24\"\n",
       "       width=\"24px\">\n",
       "    <path d=\"M0 0h24v24H0V0z\" fill=\"none\"/>\n",
       "    <path d=\"M18.56 5.44l.94 2.06.94-2.06 2.06-.94-2.06-.94-.94-2.06-.94 2.06-2.06.94zm-11 1L8.5 8.5l.94-2.06 2.06-.94-2.06-.94L8.5 2.5l-.94 2.06-2.06.94zm10 10l.94 2.06.94-2.06 2.06-.94-2.06-.94-.94-2.06-.94 2.06-2.06.94z\"/><path d=\"M17.41 7.96l-1.37-1.37c-.4-.4-.92-.59-1.43-.59-.52 0-1.04.2-1.43.59L10.3 9.45l-7.72 7.72c-.78.78-.78 2.05 0 2.83L4 21.41c.39.39.9.59 1.41.59.51 0 1.02-.2 1.41-.59l7.78-7.78 2.81-2.81c.8-.78.8-2.07 0-2.86zM5.41 20L4 18.59l7.72-7.72 1.47 1.35L5.41 20z\"/>\n",
       "  </svg>\n",
       "      </button>\n",
       "      \n",
       "  <style>\n",
       "    .colab-df-container {\n",
       "      display:flex;\n",
       "      flex-wrap:wrap;\n",
       "      gap: 12px;\n",
       "    }\n",
       "\n",
       "    .colab-df-convert {\n",
       "      background-color: #E8F0FE;\n",
       "      border: none;\n",
       "      border-radius: 50%;\n",
       "      cursor: pointer;\n",
       "      display: none;\n",
       "      fill: #1967D2;\n",
       "      height: 32px;\n",
       "      padding: 0 0 0 0;\n",
       "      width: 32px;\n",
       "    }\n",
       "\n",
       "    .colab-df-convert:hover {\n",
       "      background-color: #E2EBFA;\n",
       "      box-shadow: 0px 1px 2px rgba(60, 64, 67, 0.3), 0px 1px 3px 1px rgba(60, 64, 67, 0.15);\n",
       "      fill: #174EA6;\n",
       "    }\n",
       "\n",
       "    [theme=dark] .colab-df-convert {\n",
       "      background-color: #3B4455;\n",
       "      fill: #D2E3FC;\n",
       "    }\n",
       "\n",
       "    [theme=dark] .colab-df-convert:hover {\n",
       "      background-color: #434B5C;\n",
       "      box-shadow: 0px 1px 3px 1px rgba(0, 0, 0, 0.15);\n",
       "      filter: drop-shadow(0px 1px 2px rgba(0, 0, 0, 0.3));\n",
       "      fill: #FFFFFF;\n",
       "    }\n",
       "  </style>\n",
       "\n",
       "      <script>\n",
       "        const buttonEl =\n",
       "          document.querySelector('#df-9d4254f6-67bd-4b2d-b852-a0cf5edce154 button.colab-df-convert');\n",
       "        buttonEl.style.display =\n",
       "          google.colab.kernel.accessAllowed ? 'block' : 'none';\n",
       "\n",
       "        async function convertToInteractive(key) {\n",
       "          const element = document.querySelector('#df-9d4254f6-67bd-4b2d-b852-a0cf5edce154');\n",
       "          const dataTable =\n",
       "            await google.colab.kernel.invokeFunction('convertToInteractive',\n",
       "                                                     [key], {});\n",
       "          if (!dataTable) return;\n",
       "\n",
       "          const docLinkHtml = 'Like what you see? Visit the ' +\n",
       "            '<a target=\"_blank\" href=https://colab.research.google.com/notebooks/data_table.ipynb>data table notebook</a>'\n",
       "            + ' to learn more about interactive tables.';\n",
       "          element.innerHTML = '';\n",
       "          dataTable['output_type'] = 'display_data';\n",
       "          await google.colab.output.renderOutput(dataTable, element);\n",
       "          const docLink = document.createElement('div');\n",
       "          docLink.innerHTML = docLinkHtml;\n",
       "          element.appendChild(docLink);\n",
       "        }\n",
       "      </script>\n",
       "    </div>\n",
       "  </div>\n",
       "  "
      ],
      "text/plain": [
       "        id  ...                                               text\n",
       "0  2059027  ...             Info has been found (+/- 100 pages,...\n",
       "1  2059027  ...             These are the team members:   Drewe...\n",
       "2  2059027  ...             In het kader van kernfusie op aarde...\n",
       "3  2059027  ...                   testing!!!  testing!!!          \n",
       "4  3581210  ...               Thanks to Yahoo!'s Toolbar I can ...\n",
       "\n",
       "[5 rows x 7 columns]"
      ]
     },
     "execution_count": 14,
     "metadata": {},
     "output_type": "execute_result"
    }
   ],
   "source": [
    "#Read Dataset\n",
    "df_digi.head()"
   ]
  },
  {
   "cell_type": "code",
   "execution_count": 15,
   "metadata": {
    "colab": {
     "base_uri": "https://localhost:8080/"
    },
    "id": "Y9j0h5BGS-f7",
    "outputId": "743de836-fe3f-42c2-8b46-6703dbd645fb"
   },
   "outputs": [
    {
     "data": {
      "text/plain": [
       "Index(['id', 'gender', 'age', 'topic', 'sign', 'date', 'text'], dtype='object')"
      ]
     },
     "execution_count": 15,
     "metadata": {},
     "output_type": "execute_result"
    }
   ],
   "source": [
    "# Columns of dataset\n",
    "df_digi.columns"
   ]
  },
  {
   "cell_type": "code",
   "execution_count": 16,
   "metadata": {
    "colab": {
     "base_uri": "https://localhost:8080/"
    },
    "id": "1JA2OMrBS-jR",
    "outputId": "a9f89d35-500c-4d1b-e986-4b8968030ddf"
   },
   "outputs": [
    {
     "name": "stdout",
     "output_type": "stream",
     "text": [
      "<class 'pandas.core.frame.DataFrame'>\n",
      "RangeIndex: 681284 entries, 0 to 681283\n",
      "Data columns (total 7 columns):\n",
      " #   Column  Non-Null Count   Dtype \n",
      "---  ------  --------------   ----- \n",
      " 0   id      681284 non-null  int64 \n",
      " 1   gender  681284 non-null  object\n",
      " 2   age     681284 non-null  int64 \n",
      " 3   topic   681284 non-null  object\n",
      " 4   sign    681284 non-null  object\n",
      " 5   date    681284 non-null  object\n",
      " 6   text    681284 non-null  object\n",
      "dtypes: int64(2), object(5)\n",
      "memory usage: 36.4+ MB\n"
     ]
    }
   ],
   "source": [
    "#Shows the summary of a DataFrame. \n",
    "#This shows the index dtype,column dtypes, non-null values and emory usage\n",
    "df_digi.info()"
   ]
  },
  {
   "cell_type": "code",
   "execution_count": 17,
   "metadata": {
    "colab": {
     "base_uri": "https://localhost:8080/"
    },
    "id": "yiD-lhnPTR7_",
    "outputId": "db45caf8-8a29-46c1-edf0-b16ee7a5f5e8"
   },
   "outputs": [
    {
     "data": {
      "text/plain": [
       "(681284, 7)"
      ]
     },
     "execution_count": 17,
     "metadata": {},
     "output_type": "execute_result"
    }
   ],
   "source": [
    "# Shape of our data(Total no. of rows and columns)\n",
    "df_digi.shape"
   ]
  },
  {
   "cell_type": "markdown",
   "metadata": {
    "id": "EOwKRT2aTbbr"
   },
   "source": [
    "There are 681284 records and 7 columns in the dataset. This dataset is huge to perform analysis and computation. Hence, we are going to take a subset and return with the entire dataset once all errors are fixed and optimization is done."
   ]
  },
  {
   "cell_type": "code",
   "execution_count": 18,
   "metadata": {
    "id": "rF1BrTV0TR_b"
   },
   "outputs": [],
   "source": [
    "df_digi=df_digi.head(10000)"
   ]
  },
  {
   "cell_type": "code",
   "execution_count": 19,
   "metadata": {
    "colab": {
     "base_uri": "https://localhost:8080/"
    },
    "id": "nfSRPhp4TYIc",
    "outputId": "df84c6e3-a3d0-4c8e-a8bc-3970cac6d554"
   },
   "outputs": [
    {
     "name": "stdout",
     "output_type": "stream",
     "text": [
      "<class 'pandas.core.frame.DataFrame'>\n",
      "RangeIndex: 10000 entries, 0 to 9999\n",
      "Data columns (total 7 columns):\n",
      " #   Column  Non-Null Count  Dtype \n",
      "---  ------  --------------  ----- \n",
      " 0   id      10000 non-null  int64 \n",
      " 1   gender  10000 non-null  object\n",
      " 2   age     10000 non-null  int64 \n",
      " 3   topic   10000 non-null  object\n",
      " 4   sign    10000 non-null  object\n",
      " 5   date    10000 non-null  object\n",
      " 6   text    10000 non-null  object\n",
      "dtypes: int64(2), object(5)\n",
      "memory usage: 547.0+ KB\n"
     ]
    }
   ],
   "source": [
    "df_digi.info()"
   ]
  },
  {
   "cell_type": "code",
   "execution_count": 20,
   "metadata": {
    "colab": {
     "base_uri": "https://localhost:8080/"
    },
    "id": "7WoVXJgFTYK6",
    "outputId": "b050ed6a-603b-4660-d3fd-a9f80803aad5"
   },
   "outputs": [
    {
     "data": {
      "text/plain": [
       "male      5916\n",
       "female    4084\n",
       "Name: gender, dtype: int64"
      ]
     },
     "execution_count": 20,
     "metadata": {},
     "output_type": "execute_result"
    }
   ],
   "source": [
    "df_digi.gender.value_counts()"
   ]
  },
  {
   "cell_type": "code",
   "execution_count": 22,
   "metadata": {
    "colab": {
     "base_uri": "https://localhost:8080/",
     "height": 296
    },
    "id": "1Bk2jY77TYN2",
    "outputId": "3f5f2a54-d3da-43dc-b314-35c007792472"
   },
   "outputs": [
    {
     "data": {
      "text/plain": [
       "<matplotlib.axes._subplots.AxesSubplot at 0x7fbf125877d0>"
      ]
     },
     "execution_count": 22,
     "metadata": {},
     "output_type": "execute_result"
    },
    {
     "data": {
      "image/png": "[encoded data removed]",
      "text/plain": [
       "<Figure size 432x288 with 1 Axes>"
      ]
     },
     "metadata": {
      "needs_background": "light"
     },
     "output_type": "display_data"
    }
   ],
   "source": [
    "sns.countplot(x='age',data=df_digi,hue='gender')"
   ]
  },
  {
   "cell_type": "code",
   "execution_count": 23,
   "metadata": {
    "colab": {
     "base_uri": "https://localhost:8080/",
     "height": 296
    },
    "id": "JRHKt5HyTYQc",
    "outputId": "ad81d552-f06f-4b3d-9bc7-2316a3f6d23c"
   },
   "outputs": [
    {
     "data": {
      "text/plain": [
       "<matplotlib.axes._subplots.AxesSubplot at 0x7fbf11ff0810>"
      ]
     },
     "execution_count": 23,
     "metadata": {},
     "output_type": "execute_result"
    },
    {
     "data": {
      "image/png": "[encoded data removed]",
      "text/plain": [
       "<Figure size 432x288 with 1 Axes>"
      ]
     },
     "metadata": {
      "needs_background": "light"
     },
     "output_type": "display_data"
    }
   ],
   "source": [
    "sns.countplot(x='topic',data=df_digi,hue='gender')"
   ]
  },
  {
   "cell_type": "code",
   "execution_count": 24,
   "metadata": {
    "colab": {
     "base_uri": "https://localhost:8080/"
    },
    "id": "M8A1GztWTYS5",
    "outputId": "6f40ba5c-d51b-4adf-8edd-9ae17c54269f"
   },
   "outputs": [
    {
     "data": {
      "text/plain": [
       "Index          128\n",
       "id           80000\n",
       "gender      850840\n",
       "age          80000\n",
       "topic      1011485\n",
       "sign        632415\n",
       "date        704036\n",
       "text      10799209\n",
       "dtype: int64"
      ]
     },
     "execution_count": 24,
     "metadata": {},
     "output_type": "execute_result"
    }
   ],
   "source": [
    "#Memory analysis for data analysis for dataframe and try reducing whenever is possible\n",
    "original_memory=df_digi.memory_usage(deep=True)\n",
    "original_memory"
   ]
  },
  {
   "cell_type": "markdown",
   "metadata": {
    "id": "tsSW0YCXTyyo"
   },
   "source": [
    "###**B. Clean the Structured Data**"
   ]
  },
  {
   "cell_type": "markdown",
   "metadata": {
    "id": "ldbnCdAkTy2F"
   },
   "source": [
    "###**i. Missing value analysis and imputation.**"
   ]
  },
  {
   "cell_type": "code",
   "execution_count": 25,
   "metadata": {
    "colab": {
     "base_uri": "https://localhost:8080/"
    },
    "id": "EwuGYcj3TYVM",
    "outputId": "517b9990-0234-4ea1-92f7-9284fcd81286"
   },
   "outputs": [
    {
     "data": {
      "text/plain": [
       "id        False\n",
       "gender    False\n",
       "age       False\n",
       "topic     False\n",
       "sign      False\n",
       "date      False\n",
       "text      False\n",
       "dtype: bool"
      ]
     },
     "execution_count": 25,
     "metadata": {},
     "output_type": "execute_result"
    }
   ],
   "source": [
    "df_digi.isna().any()"
   ]
  },
  {
   "cell_type": "markdown",
   "metadata": {
    "id": "JtozczE2T_de"
   },
   "source": [
    "**No null values present in the dataset**"
   ]
  },
  {
   "cell_type": "code",
   "execution_count": 26,
   "metadata": {
    "id": "KDRWKvOEUD6d"
   },
   "outputs": [],
   "source": [
    "df_digi.drop(['id','date'],axis=1,inplace=True)"
   ]
  },
  {
   "cell_type": "markdown",
   "metadata": {
    "id": "klQfXo2JT_g5"
   },
   "source": [
    "**Columns like 'id' and 'date' are removed from the dataset as they do not provide much value.**"
   ]
  },
  {
   "cell_type": "code",
   "execution_count": 27,
   "metadata": {
    "colab": {
     "base_uri": "https://localhost:8080/",
     "height": 206
    },
    "id": "JvlA5R6fTYYD",
    "outputId": "c8e7ec14-aac3-456e-f747-ce9d6cdc8f51"
   },
   "outputs": [
    {
     "data": {
      "text/html": [
       "\n",
       "  <div id=\"df-03ee7fe1-dc52-4b7e-b5ce-dce9f1dd6e3f\">\n",
       "    <div class=\"colab-df-container\">\n",
       "      <div>\n",
       "<style scoped>\n",
       "    .dataframe tbody tr th:only-of-type {\n",
       "        vertical-align: middle;\n",
       "    }\n",
       "\n",
       "    .dataframe tbody tr th {\n",
       "        vertical-align: top;\n",
       "    }\n",
       "\n",
       "    .dataframe thead th {\n",
       "        text-align: right;\n",
       "    }\n",
       "</style>\n",
       "<table border=\"1\" class=\"dataframe\">\n",
       "  <thead>\n",
       "    <tr style=\"text-align: right;\">\n",
       "      <th></th>\n",
       "      <th>gender</th>\n",
       "      <th>age</th>\n",
       "      <th>topic</th>\n",
       "      <th>sign</th>\n",
       "      <th>text</th>\n",
       "    </tr>\n",
       "  </thead>\n",
       "  <tbody>\n",
       "    <tr>\n",
       "      <th>0</th>\n",
       "      <td>male</td>\n",
       "      <td>15</td>\n",
       "      <td>Student</td>\n",
       "      <td>Leo</td>\n",
       "      <td>Info has been found (+/- 100 pages,...</td>\n",
       "    </tr>\n",
       "    <tr>\n",
       "      <th>1</th>\n",
       "      <td>male</td>\n",
       "      <td>15</td>\n",
       "      <td>Student</td>\n",
       "      <td>Leo</td>\n",
       "      <td>These are the team members:   Drewe...</td>\n",
       "    </tr>\n",
       "    <tr>\n",
       "      <th>2</th>\n",
       "      <td>male</td>\n",
       "      <td>15</td>\n",
       "      <td>Student</td>\n",
       "      <td>Leo</td>\n",
       "      <td>In het kader van kernfusie op aarde...</td>\n",
       "    </tr>\n",
       "    <tr>\n",
       "      <th>3</th>\n",
       "      <td>male</td>\n",
       "      <td>15</td>\n",
       "      <td>Student</td>\n",
       "      <td>Leo</td>\n",
       "      <td>testing!!!  testing!!!</td>\n",
       "    </tr>\n",
       "    <tr>\n",
       "      <th>4</th>\n",
       "      <td>male</td>\n",
       "      <td>33</td>\n",
       "      <td>InvestmentBanking</td>\n",
       "      <td>Aquarius</td>\n",
       "      <td>Thanks to Yahoo!'s Toolbar I can ...</td>\n",
       "    </tr>\n",
       "  </tbody>\n",
       "</table>\n",
       "</div>\n",
       "      <button class=\"colab-df-convert\" onclick=\"convertToInteractive('df-03ee7fe1-dc52-4b7e-b5ce-dce9f1dd6e3f')\"\n",
       "              title=\"Convert this dataframe to an interactive table.\"\n",
       "              style=\"display:none;\">\n",
       "        \n",
       "  <svg xmlns=\"http://www.w3.org/2000/svg\" height=\"24px\"viewBox=\"0 0 24 24\"\n",
       "       width=\"24px\">\n",
       "    <path d=\"M0 0h24v24H0V0z\" fill=\"none\"/>\n",
       "    <path d=\"M18.56 5.44l.94 2.06.94-2.06 2.06-.94-2.06-.94-.94-2.06-.94 2.06-2.06.94zm-11 1L8.5 8.5l.94-2.06 2.06-.94-2.06-.94L8.5 2.5l-.94 2.06-2.06.94zm10 10l.94 2.06.94-2.06 2.06-.94-2.06-.94-.94-2.06-.94 2.06-2.06.94z\"/><path d=\"M17.41 7.96l-1.37-1.37c-.4-.4-.92-.59-1.43-.59-.52 0-1.04.2-1.43.59L10.3 9.45l-7.72 7.72c-.78.78-.78 2.05 0 2.83L4 21.41c.39.39.9.59 1.41.59.51 0 1.02-.2 1.41-.59l7.78-7.78 2.81-2.81c.8-.78.8-2.07 0-2.86zM5.41 20L4 18.59l7.72-7.72 1.47 1.35L5.41 20z\"/>\n",
       "  </svg>\n",
       "      </button>\n",
       "      \n",
       "  <style>\n",
       "    .colab-df-container {\n",
       "      display:flex;\n",
       "      flex-wrap:wrap;\n",
       "      gap: 12px;\n",
       "    }\n",
       "\n",
       "    .colab-df-convert {\n",
       "      background-color: #E8F0FE;\n",
       "      border: none;\n",
       "      border-radius: 50%;\n",
       "      cursor: pointer;\n",
       "      display: none;\n",
       "      fill: #1967D2;\n",
       "      height: 32px;\n",
       "      padding: 0 0 0 0;\n",
       "      width: 32px;\n",
       "    }\n",
       "\n",
       "    .colab-df-convert:hover {\n",
       "      background-color: #E2EBFA;\n",
       "      box-shadow: 0px 1px 2px rgba(60, 64, 67, 0.3), 0px 1px 3px 1px rgba(60, 64, 67, 0.15);\n",
       "      fill: #174EA6;\n",
       "    }\n",
       "\n",
       "    [theme=dark] .colab-df-convert {\n",
       "      background-color: #3B4455;\n",
       "      fill: #D2E3FC;\n",
       "    }\n",
       "\n",
       "    [theme=dark] .colab-df-convert:hover {\n",
       "      background-color: #434B5C;\n",
       "      box-shadow: 0px 1px 3px 1px rgba(0, 0, 0, 0.15);\n",
       "      filter: drop-shadow(0px 1px 2px rgba(0, 0, 0, 0.3));\n",
       "      fill: #FFFFFF;\n",
       "    }\n",
       "  </style>\n",
       "\n",
       "      <script>\n",
       "        const buttonEl =\n",
       "          document.querySelector('#df-03ee7fe1-dc52-4b7e-b5ce-dce9f1dd6e3f button.colab-df-convert');\n",
       "        buttonEl.style.display =\n",
       "          google.colab.kernel.accessAllowed ? 'block' : 'none';\n",
       "\n",
       "        async function convertToInteractive(key) {\n",
       "          const element = document.querySelector('#df-03ee7fe1-dc52-4b7e-b5ce-dce9f1dd6e3f');\n",
       "          const dataTable =\n",
       "            await google.colab.kernel.invokeFunction('convertToInteractive',\n",
       "                                                     [key], {});\n",
       "          if (!dataTable) return;\n",
       "\n",
       "          const docLinkHtml = 'Like what you see? Visit the ' +\n",
       "            '<a target=\"_blank\" href=https://colab.research.google.com/notebooks/data_table.ipynb>data table notebook</a>'\n",
       "            + ' to learn more about interactive tables.';\n",
       "          element.innerHTML = '';\n",
       "          dataTable['output_type'] = 'display_data';\n",
       "          await google.colab.output.renderOutput(dataTable, element);\n",
       "          const docLink = document.createElement('div');\n",
       "          docLink.innerHTML = docLinkHtml;\n",
       "          element.appendChild(docLink);\n",
       "        }\n",
       "      </script>\n",
       "    </div>\n",
       "  </div>\n",
       "  "
      ],
      "text/plain": [
       "  gender  age  ...      sign                                               text\n",
       "0   male   15  ...       Leo             Info has been found (+/- 100 pages,...\n",
       "1   male   15  ...       Leo             These are the team members:   Drewe...\n",
       "2   male   15  ...       Leo             In het kader van kernfusie op aarde...\n",
       "3   male   15  ...       Leo                   testing!!!  testing!!!          \n",
       "4   male   33  ...  Aquarius               Thanks to Yahoo!'s Toolbar I can ...\n",
       "\n",
       "[5 rows x 5 columns]"
      ]
     },
     "execution_count": 27,
     "metadata": {},
     "output_type": "execute_result"
    }
   ],
   "source": [
    "#Dataset after removing 'id' and 'date' columns\n",
    "df_digi.head()"
   ]
  },
  {
   "cell_type": "code",
   "execution_count": 28,
   "metadata": {
    "id": "epoGXc27TYba"
   },
   "outputs": [],
   "source": [
    "df_digi['text']=df_digi['text'].astype(str)"
   ]
  },
  {
   "cell_type": "code",
   "execution_count": 29,
   "metadata": {
    "colab": {
     "base_uri": "https://localhost:8080/",
     "height": 302
    },
    "id": "ZlKSSLowTYf9",
    "outputId": "e2b58156-5723-43d4-9e7d-b9ea2459fb92"
   },
   "outputs": [
    {
     "data": {
      "text/html": [
       "\n",
       "  <div id=\"df-b165d3ec-1c58-4908-ac58-e5df15cbb899\">\n",
       "    <div class=\"colab-df-container\">\n",
       "      <div>\n",
       "<style scoped>\n",
       "    .dataframe tbody tr th:only-of-type {\n",
       "        vertical-align: middle;\n",
       "    }\n",
       "\n",
       "    .dataframe tbody tr th {\n",
       "        vertical-align: top;\n",
       "    }\n",
       "\n",
       "    .dataframe thead th {\n",
       "        text-align: right;\n",
       "    }\n",
       "</style>\n",
       "<table border=\"1\" class=\"dataframe\">\n",
       "  <thead>\n",
       "    <tr style=\"text-align: right;\">\n",
       "      <th></th>\n",
       "      <th>0</th>\n",
       "      <th>1</th>\n",
       "      <th>2</th>\n",
       "      <th>3</th>\n",
       "      <th>4</th>\n",
       "      <th>5</th>\n",
       "      <th>6</th>\n",
       "      <th>7</th>\n",
       "      <th>8</th>\n",
       "      <th>9</th>\n",
       "    </tr>\n",
       "  </thead>\n",
       "  <tbody>\n",
       "    <tr>\n",
       "      <th>gender</th>\n",
       "      <td>male</td>\n",
       "      <td>male</td>\n",
       "      <td>male</td>\n",
       "      <td>male</td>\n",
       "      <td>male</td>\n",
       "      <td>male</td>\n",
       "      <td>male</td>\n",
       "      <td>male</td>\n",
       "      <td>male</td>\n",
       "      <td>male</td>\n",
       "    </tr>\n",
       "    <tr>\n",
       "      <th>age</th>\n",
       "      <td>15</td>\n",
       "      <td>15</td>\n",
       "      <td>15</td>\n",
       "      <td>15</td>\n",
       "      <td>33</td>\n",
       "      <td>33</td>\n",
       "      <td>33</td>\n",
       "      <td>33</td>\n",
       "      <td>33</td>\n",
       "      <td>33</td>\n",
       "    </tr>\n",
       "    <tr>\n",
       "      <th>topic</th>\n",
       "      <td>Student</td>\n",
       "      <td>Student</td>\n",
       "      <td>Student</td>\n",
       "      <td>Student</td>\n",
       "      <td>InvestmentBanking</td>\n",
       "      <td>InvestmentBanking</td>\n",
       "      <td>InvestmentBanking</td>\n",
       "      <td>InvestmentBanking</td>\n",
       "      <td>InvestmentBanking</td>\n",
       "      <td>InvestmentBanking</td>\n",
       "    </tr>\n",
       "    <tr>\n",
       "      <th>sign</th>\n",
       "      <td>Leo</td>\n",
       "      <td>Leo</td>\n",
       "      <td>Leo</td>\n",
       "      <td>Leo</td>\n",
       "      <td>Aquarius</td>\n",
       "      <td>Aquarius</td>\n",
       "      <td>Aquarius</td>\n",
       "      <td>Aquarius</td>\n",
       "      <td>Aquarius</td>\n",
       "      <td>Aquarius</td>\n",
       "    </tr>\n",
       "    <tr>\n",
       "      <th>text</th>\n",
       "      <td>Info has been found (+/- 100 pages,...</td>\n",
       "      <td>These are the team members:   Drewe...</td>\n",
       "      <td>In het kader van kernfusie op aarde...</td>\n",
       "      <td>testing!!!  testing!!!</td>\n",
       "      <td>Thanks to Yahoo!'s Toolbar I can ...</td>\n",
       "      <td>I had an interesting conversation...</td>\n",
       "      <td>Somehow Coca-Cola has a way of su...</td>\n",
       "      <td>If anything, Korea is a country o...</td>\n",
       "      <td>Take a read of this news article ...</td>\n",
       "      <td>I surf the English news sites a l...</td>\n",
       "    </tr>\n",
       "  </tbody>\n",
       "</table>\n",
       "</div>\n",
       "      <button class=\"colab-df-convert\" onclick=\"convertToInteractive('df-b165d3ec-1c58-4908-ac58-e5df15cbb899')\"\n",
       "              title=\"Convert this dataframe to an interactive table.\"\n",
       "              style=\"display:none;\">\n",
       "        \n",
       "  <svg xmlns=\"http://www.w3.org/2000/svg\" height=\"24px\"viewBox=\"0 0 24 24\"\n",
       "       width=\"24px\">\n",
       "    <path d=\"M0 0h24v24H0V0z\" fill=\"none\"/>\n",
       "    <path d=\"M18.56 5.44l.94 2.06.94-2.06 2.06-.94-2.06-.94-.94-2.06-.94 2.06-2.06.94zm-11 1L8.5 8.5l.94-2.06 2.06-.94-2.06-.94L8.5 2.5l-.94 2.06-2.06.94zm10 10l.94 2.06.94-2.06 2.06-.94-2.06-.94-.94-2.06-.94 2.06-2.06.94z\"/><path d=\"M17.41 7.96l-1.37-1.37c-.4-.4-.92-.59-1.43-.59-.52 0-1.04.2-1.43.59L10.3 9.45l-7.72 7.72c-.78.78-.78 2.05 0 2.83L4 21.41c.39.39.9.59 1.41.59.51 0 1.02-.2 1.41-.59l7.78-7.78 2.81-2.81c.8-.78.8-2.07 0-2.86zM5.41 20L4 18.59l7.72-7.72 1.47 1.35L5.41 20z\"/>\n",
       "  </svg>\n",
       "      </button>\n",
       "      \n",
       "  <style>\n",
       "    .colab-df-container {\n",
       "      display:flex;\n",
       "      flex-wrap:wrap;\n",
       "      gap: 12px;\n",
       "    }\n",
       "\n",
       "    .colab-df-convert {\n",
       "      background-color: #E8F0FE;\n",
       "      border: none;\n",
       "      border-radius: 50%;\n",
       "      cursor: pointer;\n",
       "      display: none;\n",
       "      fill: #1967D2;\n",
       "      height: 32px;\n",
       "      padding: 0 0 0 0;\n",
       "      width: 32px;\n",
       "    }\n",
       "\n",
       "    .colab-df-convert:hover {\n",
       "      background-color: #E2EBFA;\n",
       "      box-shadow: 0px 1px 2px rgba(60, 64, 67, 0.3), 0px 1px 3px 1px rgba(60, 64, 67, 0.15);\n",
       "      fill: #174EA6;\n",
       "    }\n",
       "\n",
       "    [theme=dark] .colab-df-convert {\n",
       "      background-color: #3B4455;\n",
       "      fill: #D2E3FC;\n",
       "    }\n",
       "\n",
       "    [theme=dark] .colab-df-convert:hover {\n",
       "      background-color: #434B5C;\n",
       "      box-shadow: 0px 1px 3px 1px rgba(0, 0, 0, 0.15);\n",
       "      filter: drop-shadow(0px 1px 2px rgba(0, 0, 0, 0.3));\n",
       "      fill: #FFFFFF;\n",
       "    }\n",
       "  </style>\n",
       "\n",
       "      <script>\n",
       "        const buttonEl =\n",
       "          document.querySelector('#df-b165d3ec-1c58-4908-ac58-e5df15cbb899 button.colab-df-convert');\n",
       "        buttonEl.style.display =\n",
       "          google.colab.kernel.accessAllowed ? 'block' : 'none';\n",
       "\n",
       "        async function convertToInteractive(key) {\n",
       "          const element = document.querySelector('#df-b165d3ec-1c58-4908-ac58-e5df15cbb899');\n",
       "          const dataTable =\n",
       "            await google.colab.kernel.invokeFunction('convertToInteractive',\n",
       "                                                     [key], {});\n",
       "          if (!dataTable) return;\n",
       "\n",
       "          const docLinkHtml = 'Like what you see? Visit the ' +\n",
       "            '<a target=\"_blank\" href=https://colab.research.google.com/notebooks/data_table.ipynb>data table notebook</a>'\n",
       "            + ' to learn more about interactive tables.';\n",
       "          element.innerHTML = '';\n",
       "          dataTable['output_type'] = 'display_data';\n",
       "          await google.colab.output.renderOutput(dataTable, element);\n",
       "          const docLink = document.createElement('div');\n",
       "          docLink.innerHTML = docLinkHtml;\n",
       "          element.appendChild(docLink);\n",
       "        }\n",
       "      </script>\n",
       "    </div>\n",
       "  </div>\n",
       "  "
      ],
      "text/plain": [
       "                                                        0  ...                                                  9\n",
       "gender                                               male  ...                                               male\n",
       "age                                                    15  ...                                                 33\n",
       "topic                                             Student  ...                                  InvestmentBanking\n",
       "sign                                                  Leo  ...                                           Aquarius\n",
       "text               Info has been found (+/- 100 pages,...  ...               I surf the English news sites a l...\n",
       "\n",
       "[5 rows x 10 columns]"
      ]
     },
     "execution_count": 29,
     "metadata": {},
     "output_type": "execute_result"
    }
   ],
   "source": [
    "pd.set_option('display.max_colwidth',50)\n",
    "df_digi.head(10).T"
   ]
  },
  {
   "cell_type": "code",
   "execution_count": 30,
   "metadata": {
    "colab": {
     "base_uri": "https://localhost:8080/",
     "height": 81
    },
    "id": "VKKxoXyNTYid",
    "outputId": "1905e796-2a88-44c1-e554-699c3b845a13"
   },
   "outputs": [
    {
     "data": {
      "text/html": [
       "\n",
       "  <div id=\"df-129e960d-c0bb-43c3-8b7e-3d1e9b029b5a\">\n",
       "    <div class=\"colab-df-container\">\n",
       "      <div>\n",
       "<style scoped>\n",
       "    .dataframe tbody tr th:only-of-type {\n",
       "        vertical-align: middle;\n",
       "    }\n",
       "\n",
       "    .dataframe tbody tr th {\n",
       "        vertical-align: top;\n",
       "    }\n",
       "\n",
       "    .dataframe thead th {\n",
       "        text-align: right;\n",
       "    }\n",
       "</style>\n",
       "<table border=\"1\" class=\"dataframe\">\n",
       "  <thead>\n",
       "    <tr style=\"text-align: right;\">\n",
       "      <th></th>\n",
       "      <th>count</th>\n",
       "      <th>mean</th>\n",
       "      <th>std</th>\n",
       "      <th>min</th>\n",
       "      <th>25%</th>\n",
       "      <th>50%</th>\n",
       "      <th>75%</th>\n",
       "      <th>max</th>\n",
       "    </tr>\n",
       "  </thead>\n",
       "  <tbody>\n",
       "    <tr>\n",
       "      <th>age</th>\n",
       "      <td>10000.0</td>\n",
       "      <td>28.0193</td>\n",
       "      <td>8.123923</td>\n",
       "      <td>13.0</td>\n",
       "      <td>23.0</td>\n",
       "      <td>27.0</td>\n",
       "      <td>35.0</td>\n",
       "      <td>46.0</td>\n",
       "    </tr>\n",
       "  </tbody>\n",
       "</table>\n",
       "</div>\n",
       "      <button class=\"colab-df-convert\" onclick=\"convertToInteractive('df-129e960d-c0bb-43c3-8b7e-3d1e9b029b5a')\"\n",
       "              title=\"Convert this dataframe to an interactive table.\"\n",
       "              style=\"display:none;\">\n",
       "        \n",
       "  <svg xmlns=\"http://www.w3.org/2000/svg\" height=\"24px\"viewBox=\"0 0 24 24\"\n",
       "       width=\"24px\">\n",
       "    <path d=\"M0 0h24v24H0V0z\" fill=\"none\"/>\n",
       "    <path d=\"M18.56 5.44l.94 2.06.94-2.06 2.06-.94-2.06-.94-.94-2.06-.94 2.06-2.06.94zm-11 1L8.5 8.5l.94-2.06 2.06-.94-2.06-.94L8.5 2.5l-.94 2.06-2.06.94zm10 10l.94 2.06.94-2.06 2.06-.94-2.06-.94-.94-2.06-.94 2.06-2.06.94z\"/><path d=\"M17.41 7.96l-1.37-1.37c-.4-.4-.92-.59-1.43-.59-.52 0-1.04.2-1.43.59L10.3 9.45l-7.72 7.72c-.78.78-.78 2.05 0 2.83L4 21.41c.39.39.9.59 1.41.59.51 0 1.02-.2 1.41-.59l7.78-7.78 2.81-2.81c.8-.78.8-2.07 0-2.86zM5.41 20L4 18.59l7.72-7.72 1.47 1.35L5.41 20z\"/>\n",
       "  </svg>\n",
       "      </button>\n",
       "      \n",
       "  <style>\n",
       "    .colab-df-container {\n",
       "      display:flex;\n",
       "      flex-wrap:wrap;\n",
       "      gap: 12px;\n",
       "    }\n",
       "\n",
       "    .colab-df-convert {\n",
       "      background-color: #E8F0FE;\n",
       "      border: none;\n",
       "      border-radius: 50%;\n",
       "      cursor: pointer;\n",
       "      display: none;\n",
       "      fill: #1967D2;\n",
       "      height: 32px;\n",
       "      padding: 0 0 0 0;\n",
       "      width: 32px;\n",
       "    }\n",
       "\n",
       "    .colab-df-convert:hover {\n",
       "      background-color: #E2EBFA;\n",
       "      box-shadow: 0px 1px 2px rgba(60, 64, 67, 0.3), 0px 1px 3px 1px rgba(60, 64, 67, 0.15);\n",
       "      fill: #174EA6;\n",
       "    }\n",
       "\n",
       "    [theme=dark] .colab-df-convert {\n",
       "      background-color: #3B4455;\n",
       "      fill: #D2E3FC;\n",
       "    }\n",
       "\n",
       "    [theme=dark] .colab-df-convert:hover {\n",
       "      background-color: #434B5C;\n",
       "      box-shadow: 0px 1px 3px 1px rgba(0, 0, 0, 0.15);\n",
       "      filter: drop-shadow(0px 1px 2px rgba(0, 0, 0, 0.3));\n",
       "      fill: #FFFFFF;\n",
       "    }\n",
       "  </style>\n",
       "\n",
       "      <script>\n",
       "        const buttonEl =\n",
       "          document.querySelector('#df-129e960d-c0bb-43c3-8b7e-3d1e9b029b5a button.colab-df-convert');\n",
       "        buttonEl.style.display =\n",
       "          google.colab.kernel.accessAllowed ? 'block' : 'none';\n",
       "\n",
       "        async function convertToInteractive(key) {\n",
       "          const element = document.querySelector('#df-129e960d-c0bb-43c3-8b7e-3d1e9b029b5a');\n",
       "          const dataTable =\n",
       "            await google.colab.kernel.invokeFunction('convertToInteractive',\n",
       "                                                     [key], {});\n",
       "          if (!dataTable) return;\n",
       "\n",
       "          const docLinkHtml = 'Like what you see? Visit the ' +\n",
       "            '<a target=\"_blank\" href=https://colab.research.google.com/notebooks/data_table.ipynb>data table notebook</a>'\n",
       "            + ' to learn more about interactive tables.';\n",
       "          element.innerHTML = '';\n",
       "          dataTable['output_type'] = 'display_data';\n",
       "          await google.colab.output.renderOutput(dataTable, element);\n",
       "          const docLink = document.createElement('div');\n",
       "          docLink.innerHTML = docLinkHtml;\n",
       "          element.appendChild(docLink);\n",
       "        }\n",
       "      </script>\n",
       "    </div>\n",
       "  </div>\n",
       "  "
      ],
      "text/plain": [
       "       count     mean       std   min   25%   50%   75%   max\n",
       "age  10000.0  28.0193  8.123923  13.0  23.0  27.0  35.0  46.0"
      ]
     },
     "execution_count": 30,
     "metadata": {},
     "output_type": "execute_result"
    }
   ],
   "source": [
    "df_digi.describe(include=[np.number]).T"
   ]
  },
  {
   "cell_type": "code",
   "execution_count": 31,
   "metadata": {
    "colab": {
     "base_uri": "https://localhost:8080/"
    },
    "id": "QuACCz4nTYmF",
    "outputId": "6c70ee88-9b6d-4f52-d469-4692a6a9997f"
   },
   "outputs": [
    {
     "name": "stdout",
     "output_type": "stream",
     "text": [
      "35    2315\n",
      "36    1708\n",
      "17    1185\n",
      "27    1054\n",
      "24     655\n",
      "15     602\n",
      "34     553\n",
      "16     440\n",
      "25     386\n",
      "23     253\n",
      "26     234\n",
      "14     212\n",
      "33     136\n",
      "39      79\n",
      "38      46\n",
      "13      42\n",
      "37      33\n",
      "41      20\n",
      "45      16\n",
      "42      14\n",
      "46       7\n",
      "43       6\n",
      "44       3\n",
      "40       1\n",
      "Name: age, dtype: int64\n"
     ]
    }
   ],
   "source": [
    "print(df_digi.age.value_counts())"
   ]
  },
  {
   "cell_type": "code",
   "execution_count": 32,
   "metadata": {
    "colab": {
     "base_uri": "https://localhost:8080/",
     "height": 174
    },
    "id": "vq8zzzuiUV6x",
    "outputId": "9b122fe8-5b4c-4fb4-9c02-b22b11a6a42d"
   },
   "outputs": [
    {
     "data": {
      "text/html": [
       "\n",
       "  <div id=\"df-4bdadd3e-f7a8-402b-bb00-ca28af398ff6\">\n",
       "    <div class=\"colab-df-container\">\n",
       "      <div>\n",
       "<style scoped>\n",
       "    .dataframe tbody tr th:only-of-type {\n",
       "        vertical-align: middle;\n",
       "    }\n",
       "\n",
       "    .dataframe tbody tr th {\n",
       "        vertical-align: top;\n",
       "    }\n",
       "\n",
       "    .dataframe thead th {\n",
       "        text-align: right;\n",
       "    }\n",
       "</style>\n",
       "<table border=\"1\" class=\"dataframe\">\n",
       "  <thead>\n",
       "    <tr style=\"text-align: right;\">\n",
       "      <th></th>\n",
       "      <th>count</th>\n",
       "      <th>unique</th>\n",
       "      <th>top</th>\n",
       "      <th>freq</th>\n",
       "    </tr>\n",
       "  </thead>\n",
       "  <tbody>\n",
       "    <tr>\n",
       "      <th>gender</th>\n",
       "      <td>10000</td>\n",
       "      <td>2</td>\n",
       "      <td>male</td>\n",
       "      <td>5916</td>\n",
       "    </tr>\n",
       "    <tr>\n",
       "      <th>topic</th>\n",
       "      <td>10000</td>\n",
       "      <td>26</td>\n",
       "      <td>indUnk</td>\n",
       "      <td>3287</td>\n",
       "    </tr>\n",
       "    <tr>\n",
       "      <th>sign</th>\n",
       "      <td>10000</td>\n",
       "      <td>12</td>\n",
       "      <td>Aries</td>\n",
       "      <td>4198</td>\n",
       "    </tr>\n",
       "    <tr>\n",
       "      <th>text</th>\n",
       "      <td>10000</td>\n",
       "      <td>9949</td>\n",
       "      <td></td>\n",
       "      <td>13</td>\n",
       "    </tr>\n",
       "  </tbody>\n",
       "</table>\n",
       "</div>\n",
       "      <button class=\"colab-df-convert\" onclick=\"convertToInteractive('df-4bdadd3e-f7a8-402b-bb00-ca28af398ff6')\"\n",
       "              title=\"Convert this dataframe to an interactive table.\"\n",
       "              style=\"display:none;\">\n",
       "        \n",
       "  <svg xmlns=\"http://www.w3.org/2000/svg\" height=\"24px\"viewBox=\"0 0 24 24\"\n",
       "       width=\"24px\">\n",
       "    <path d=\"M0 0h24v24H0V0z\" fill=\"none\"/>\n",
       "    <path d=\"M18.56 5.44l.94 2.06.94-2.06 2.06-.94-2.06-.94-.94-2.06-.94 2.06-2.06.94zm-11 1L8.5 8.5l.94-2.06 2.06-.94-2.06-.94L8.5 2.5l-.94 2.06-2.06.94zm10 10l.94 2.06.94-2.06 2.06-.94-2.06-.94-.94-2.06-.94 2.06-2.06.94z\"/><path d=\"M17.41 7.96l-1.37-1.37c-.4-.4-.92-.59-1.43-.59-.52 0-1.04.2-1.43.59L10.3 9.45l-7.72 7.72c-.78.78-.78 2.05 0 2.83L4 21.41c.39.39.9.59 1.41.59.51 0 1.02-.2 1.41-.59l7.78-7.78 2.81-2.81c.8-.78.8-2.07 0-2.86zM5.41 20L4 18.59l7.72-7.72 1.47 1.35L5.41 20z\"/>\n",
       "  </svg>\n",
       "      </button>\n",
       "      \n",
       "  <style>\n",
       "    .colab-df-container {\n",
       "      display:flex;\n",
       "      flex-wrap:wrap;\n",
       "      gap: 12px;\n",
       "    }\n",
       "\n",
       "    .colab-df-convert {\n",
       "      background-color: #E8F0FE;\n",
       "      border: none;\n",
       "      border-radius: 50%;\n",
       "      cursor: pointer;\n",
       "      display: none;\n",
       "      fill: #1967D2;\n",
       "      height: 32px;\n",
       "      padding: 0 0 0 0;\n",
       "      width: 32px;\n",
       "    }\n",
       "\n",
       "    .colab-df-convert:hover {\n",
       "      background-color: #E2EBFA;\n",
       "      box-shadow: 0px 1px 2px rgba(60, 64, 67, 0.3), 0px 1px 3px 1px rgba(60, 64, 67, 0.15);\n",
       "      fill: #174EA6;\n",
       "    }\n",
       "\n",
       "    [theme=dark] .colab-df-convert {\n",
       "      background-color: #3B4455;\n",
       "      fill: #D2E3FC;\n",
       "    }\n",
       "\n",
       "    [theme=dark] .colab-df-convert:hover {\n",
       "      background-color: #434B5C;\n",
       "      box-shadow: 0px 1px 3px 1px rgba(0, 0, 0, 0.15);\n",
       "      filter: drop-shadow(0px 1px 2px rgba(0, 0, 0, 0.3));\n",
       "      fill: #FFFFFF;\n",
       "    }\n",
       "  </style>\n",
       "\n",
       "      <script>\n",
       "        const buttonEl =\n",
       "          document.querySelector('#df-4bdadd3e-f7a8-402b-bb00-ca28af398ff6 button.colab-df-convert');\n",
       "        buttonEl.style.display =\n",
       "          google.colab.kernel.accessAllowed ? 'block' : 'none';\n",
       "\n",
       "        async function convertToInteractive(key) {\n",
       "          const element = document.querySelector('#df-4bdadd3e-f7a8-402b-bb00-ca28af398ff6');\n",
       "          const dataTable =\n",
       "            await google.colab.kernel.invokeFunction('convertToInteractive',\n",
       "                                                     [key], {});\n",
       "          if (!dataTable) return;\n",
       "\n",
       "          const docLinkHtml = 'Like what you see? Visit the ' +\n",
       "            '<a target=\"_blank\" href=https://colab.research.google.com/notebooks/data_table.ipynb>data table notebook</a>'\n",
       "            + ' to learn more about interactive tables.';\n",
       "          element.innerHTML = '';\n",
       "          dataTable['output_type'] = 'display_data';\n",
       "          await google.colab.output.renderOutput(dataTable, element);\n",
       "          const docLink = document.createElement('div');\n",
       "          docLink.innerHTML = docLinkHtml;\n",
       "          element.appendChild(docLink);\n",
       "        }\n",
       "      </script>\n",
       "    </div>\n",
       "  </div>\n",
       "  "
      ],
      "text/plain": [
       "        count unique           top  freq\n",
       "gender  10000      2          male  5916\n",
       "topic   10000     26        indUnk  3287\n",
       "sign    10000     12         Aries  4198\n",
       "text    10000   9949                  13"
      ]
     },
     "execution_count": 32,
     "metadata": {},
     "output_type": "execute_result"
    }
   ],
   "source": [
    "df_digi.describe(include=[np.object]).T"
   ]
  },
  {
   "cell_type": "code",
   "execution_count": 33,
   "metadata": {
    "colab": {
     "base_uri": "https://localhost:8080/"
    },
    "id": "CV3Uws6gUV9P",
    "outputId": "61db9e9e-2f81-4717-ae87-3ad5371d7c1d"
   },
   "outputs": [
    {
     "data": {
      "text/plain": [
       "False"
      ]
     },
     "execution_count": 33,
     "metadata": {},
     "output_type": "execute_result"
    }
   ],
   "source": [
    "df_digi.isna().values.any()"
   ]
  },
  {
   "cell_type": "code",
   "execution_count": 34,
   "metadata": {
    "id": "ttQj6focUWAJ"
   },
   "outputs": [],
   "source": [
    "new_df=df_digi[['text','topic']]"
   ]
  },
  {
   "cell_type": "code",
   "execution_count": 35,
   "metadata": {
    "colab": {
     "base_uri": "https://localhost:8080/",
     "height": 206
    },
    "id": "ECJQpoWqUWCq",
    "outputId": "6418d406-6775-452a-c845-7f0cf144bec9"
   },
   "outputs": [
    {
     "data": {
      "text/html": [
       "\n",
       "  <div id=\"df-2e95c07e-ac6b-4197-9054-aef6e0f5ac5d\">\n",
       "    <div class=\"colab-df-container\">\n",
       "      <div>\n",
       "<style scoped>\n",
       "    .dataframe tbody tr th:only-of-type {\n",
       "        vertical-align: middle;\n",
       "    }\n",
       "\n",
       "    .dataframe tbody tr th {\n",
       "        vertical-align: top;\n",
       "    }\n",
       "\n",
       "    .dataframe thead th {\n",
       "        text-align: right;\n",
       "    }\n",
       "</style>\n",
       "<table border=\"1\" class=\"dataframe\">\n",
       "  <thead>\n",
       "    <tr style=\"text-align: right;\">\n",
       "      <th></th>\n",
       "      <th>text</th>\n",
       "      <th>topic</th>\n",
       "    </tr>\n",
       "  </thead>\n",
       "  <tbody>\n",
       "    <tr>\n",
       "      <th>0</th>\n",
       "      <td>Info has been found (+/- 100 pages,...</td>\n",
       "      <td>Student</td>\n",
       "    </tr>\n",
       "    <tr>\n",
       "      <th>1</th>\n",
       "      <td>These are the team members:   Drewe...</td>\n",
       "      <td>Student</td>\n",
       "    </tr>\n",
       "    <tr>\n",
       "      <th>2</th>\n",
       "      <td>In het kader van kernfusie op aarde...</td>\n",
       "      <td>Student</td>\n",
       "    </tr>\n",
       "    <tr>\n",
       "      <th>3</th>\n",
       "      <td>testing!!!  testing!!!</td>\n",
       "      <td>Student</td>\n",
       "    </tr>\n",
       "    <tr>\n",
       "      <th>4</th>\n",
       "      <td>Thanks to Yahoo!'s Toolbar I can ...</td>\n",
       "      <td>InvestmentBanking</td>\n",
       "    </tr>\n",
       "  </tbody>\n",
       "</table>\n",
       "</div>\n",
       "      <button class=\"colab-df-convert\" onclick=\"convertToInteractive('df-2e95c07e-ac6b-4197-9054-aef6e0f5ac5d')\"\n",
       "              title=\"Convert this dataframe to an interactive table.\"\n",
       "              style=\"display:none;\">\n",
       "        \n",
       "  <svg xmlns=\"http://www.w3.org/2000/svg\" height=\"24px\"viewBox=\"0 0 24 24\"\n",
       "       width=\"24px\">\n",
       "    <path d=\"M0 0h24v24H0V0z\" fill=\"none\"/>\n",
       "    <path d=\"M18.56 5.44l.94 2.06.94-2.06 2.06-.94-2.06-.94-.94-2.06-.94 2.06-2.06.94zm-11 1L8.5 8.5l.94-2.06 2.06-.94-2.06-.94L8.5 2.5l-.94 2.06-2.06.94zm10 10l.94 2.06.94-2.06 2.06-.94-2.06-.94-.94-2.06-.94 2.06-2.06.94z\"/><path d=\"M17.41 7.96l-1.37-1.37c-.4-.4-.92-.59-1.43-.59-.52 0-1.04.2-1.43.59L10.3 9.45l-7.72 7.72c-.78.78-.78 2.05 0 2.83L4 21.41c.39.39.9.59 1.41.59.51 0 1.02-.2 1.41-.59l7.78-7.78 2.81-2.81c.8-.78.8-2.07 0-2.86zM5.41 20L4 18.59l7.72-7.72 1.47 1.35L5.41 20z\"/>\n",
       "  </svg>\n",
       "      </button>\n",
       "      \n",
       "  <style>\n",
       "    .colab-df-container {\n",
       "      display:flex;\n",
       "      flex-wrap:wrap;\n",
       "      gap: 12px;\n",
       "    }\n",
       "\n",
       "    .colab-df-convert {\n",
       "      background-color: #E8F0FE;\n",
       "      border: none;\n",
       "      border-radius: 50%;\n",
       "      cursor: pointer;\n",
       "      display: none;\n",
       "      fill: #1967D2;\n",
       "      height: 32px;\n",
       "      padding: 0 0 0 0;\n",
       "      width: 32px;\n",
       "    }\n",
       "\n",
       "    .colab-df-convert:hover {\n",
       "      background-color: #E2EBFA;\n",
       "      box-shadow: 0px 1px 2px rgba(60, 64, 67, 0.3), 0px 1px 3px 1px rgba(60, 64, 67, 0.15);\n",
       "      fill: #174EA6;\n",
       "    }\n",
       "\n",
       "    [theme=dark] .colab-df-convert {\n",
       "      background-color: #3B4455;\n",
       "      fill: #D2E3FC;\n",
       "    }\n",
       "\n",
       "    [theme=dark] .colab-df-convert:hover {\n",
       "      background-color: #434B5C;\n",
       "      box-shadow: 0px 1px 3px 1px rgba(0, 0, 0, 0.15);\n",
       "      filter: drop-shadow(0px 1px 2px rgba(0, 0, 0, 0.3));\n",
       "      fill: #FFFFFF;\n",
       "    }\n",
       "  </style>\n",
       "\n",
       "      <script>\n",
       "        const buttonEl =\n",
       "          document.querySelector('#df-2e95c07e-ac6b-4197-9054-aef6e0f5ac5d button.colab-df-convert');\n",
       "        buttonEl.style.display =\n",
       "          google.colab.kernel.accessAllowed ? 'block' : 'none';\n",
       "\n",
       "        async function convertToInteractive(key) {\n",
       "          const element = document.querySelector('#df-2e95c07e-ac6b-4197-9054-aef6e0f5ac5d');\n",
       "          const dataTable =\n",
       "            await google.colab.kernel.invokeFunction('convertToInteractive',\n",
       "                                                     [key], {});\n",
       "          if (!dataTable) return;\n",
       "\n",
       "          const docLinkHtml = 'Like what you see? Visit the ' +\n",
       "            '<a target=\"_blank\" href=https://colab.research.google.com/notebooks/data_table.ipynb>data table notebook</a>'\n",
       "            + ' to learn more about interactive tables.';\n",
       "          element.innerHTML = '';\n",
       "          dataTable['output_type'] = 'display_data';\n",
       "          await google.colab.output.renderOutput(dataTable, element);\n",
       "          const docLink = document.createElement('div');\n",
       "          docLink.innerHTML = docLinkHtml;\n",
       "          element.appendChild(docLink);\n",
       "        }\n",
       "      </script>\n",
       "    </div>\n",
       "  </div>\n",
       "  "
      ],
      "text/plain": [
       "                                                text              topic\n",
       "0             Info has been found (+/- 100 pages,...            Student\n",
       "1             These are the team members:   Drewe...            Student\n",
       "2             In het kader van kernfusie op aarde...            Student\n",
       "3                   testing!!!  testing!!!                      Student\n",
       "4               Thanks to Yahoo!'s Toolbar I can ...  InvestmentBanking"
      ]
     },
     "execution_count": 35,
     "metadata": {},
     "output_type": "execute_result"
    }
   ],
   "source": [
    "new_df[:5]"
   ]
  },
  {
   "cell_type": "markdown",
   "metadata": {
    "id": "Ak5NVhqOUjwy"
   },
   "source": [
    "###**ii. Eliminate Non-English textual data. Hint: Refer ‘langdetect’ library to detect language of the input text.**###"
   ]
  },
  {
   "cell_type": "code",
   "execution_count": 36,
   "metadata": {
    "colab": {
     "base_uri": "https://localhost:8080/"
    },
    "id": "98_3mRpjUWFn",
    "outputId": "d16a48b2-c832-40bb-9819-47e231f98596"
   },
   "outputs": [
    {
     "name": "stdout",
     "output_type": "stream",
     "text": [
      "Collecting langdetect\n",
      "  Downloading langdetect-1.0.9.tar.gz (981 kB)\n",
      "\u001b[?25l\r\u001b[K     |▍                               | 10 kB 20.0 MB/s eta 0:00:01\r\u001b[K     |▊                               | 20 kB 27.2 MB/s eta 0:00:01\r\u001b[K     |█                               | 30 kB 15.4 MB/s eta 0:00:01\r\u001b[K     |█▍                              | 40 kB 10.9 MB/s eta 0:00:01\r\u001b[K     |█▊                              | 51 kB 7.0 MB/s eta 0:00:01\r\u001b[K     |██                              | 61 kB 7.0 MB/s eta 0:00:01\r\u001b[K     |██▍                             | 71 kB 7.3 MB/s eta 0:00:01\r\u001b[K     |██▊                             | 81 kB 8.2 MB/s eta 0:00:01\r\u001b[K     |███                             | 92 kB 7.7 MB/s eta 0:00:01\r\u001b[K     |███▍                            | 102 kB 6.6 MB/s eta 0:00:01\r\u001b[K     |███▊                            | 112 kB 6.6 MB/s eta 0:00:01\r\u001b[K     |████                            | 122 kB 6.6 MB/s eta 0:00:01\r\u001b[K     |████▍                           | 133 kB 6.6 MB/s eta 0:00:01\r\u001b[K     |████▊                           | 143 kB 6.6 MB/s eta 0:00:01\r\u001b[K     |█████                           | 153 kB 6.6 MB/s eta 0:00:01\r\u001b[K     |█████▍                          | 163 kB 6.6 MB/s eta 0:00:01\r\u001b[K     |█████▊                          | 174 kB 6.6 MB/s eta 0:00:01\r\u001b[K     |██████                          | 184 kB 6.6 MB/s eta 0:00:01\r\u001b[K     |██████▍                         | 194 kB 6.6 MB/s eta 0:00:01\r\u001b[K     |██████▊                         | 204 kB 6.6 MB/s eta 0:00:01\r\u001b[K     |███████                         | 215 kB 6.6 MB/s eta 0:00:01\r\u001b[K     |███████▍                        | 225 kB 6.6 MB/s eta 0:00:01\r\u001b[K     |███████▊                        | 235 kB 6.6 MB/s eta 0:00:01\r\u001b[K     |████████                        | 245 kB 6.6 MB/s eta 0:00:01\r\u001b[K     |████████▍                       | 256 kB 6.6 MB/s eta 0:00:01\r\u001b[K     |████████▊                       | 266 kB 6.6 MB/s eta 0:00:01\r\u001b[K     |█████████                       | 276 kB 6.6 MB/s eta 0:00:01\r\u001b[K     |█████████▍                      | 286 kB 6.6 MB/s eta 0:00:01\r\u001b[K     |█████████▊                      | 296 kB 6.6 MB/s eta 0:00:01\r\u001b[K     |██████████                      | 307 kB 6.6 MB/s eta 0:00:01\r\u001b[K     |██████████▍                     | 317 kB 6.6 MB/s eta 0:00:01\r\u001b[K     |██████████▊                     | 327 kB 6.6 MB/s eta 0:00:01\r\u001b[K     |███████████                     | 337 kB 6.6 MB/s eta 0:00:01\r\u001b[K     |███████████▍                    | 348 kB 6.6 MB/s eta 0:00:01\r\u001b[K     |███████████▊                    | 358 kB 6.6 MB/s eta 0:00:01\r\u001b[K     |████████████                    | 368 kB 6.6 MB/s eta 0:00:01\r\u001b[K     |████████████▍                   | 378 kB 6.6 MB/s eta 0:00:01\r\u001b[K     |████████████▊                   | 389 kB 6.6 MB/s eta 0:00:01\r\u001b[K     |█████████████                   | 399 kB 6.6 MB/s eta 0:00:01\r\u001b[K     |█████████████▍                  | 409 kB 6.6 MB/s eta 0:00:01\r\u001b[K     |█████████████▊                  | 419 kB 6.6 MB/s eta 0:00:01\r\u001b[K     |██████████████                  | 430 kB 6.6 MB/s eta 0:00:01\r\u001b[K     |██████████████▍                 | 440 kB 6.6 MB/s eta 0:00:01\r\u001b[K     |██████████████▊                 | 450 kB 6.6 MB/s eta 0:00:01\r\u001b[K     |███████████████                 | 460 kB 6.6 MB/s eta 0:00:01\r\u001b[K     |███████████████▍                | 471 kB 6.6 MB/s eta 0:00:01\r\u001b[K     |███████████████▊                | 481 kB 6.6 MB/s eta 0:00:01\r\u001b[K     |████████████████                | 491 kB 6.6 MB/s eta 0:00:01\r\u001b[K     |████████████████▍               | 501 kB 6.6 MB/s eta 0:00:01\r\u001b[K     |████████████████▊               | 512 kB 6.6 MB/s eta 0:00:01\r\u001b[K     |█████████████████               | 522 kB 6.6 MB/s eta 0:00:01\r\u001b[K     |█████████████████▍              | 532 kB 6.6 MB/s eta 0:00:01\r\u001b[K     |█████████████████▊              | 542 kB 6.6 MB/s eta 0:00:01\r\u001b[K     |██████████████████              | 552 kB 6.6 MB/s eta 0:00:01\r\u001b[K     |██████████████████▍             | 563 kB 6.6 MB/s eta 0:00:01\r\u001b[K     |██████████████████▊             | 573 kB 6.6 MB/s eta 0:00:01\r\u001b[K     |███████████████████             | 583 kB 6.6 MB/s eta 0:00:01\r\u001b[K     |███████████████████▍            | 593 kB 6.6 MB/s eta 0:00:01\r\u001b[K     |███████████████████▊            | 604 kB 6.6 MB/s eta 0:00:01\r\u001b[K     |████████████████████            | 614 kB 6.6 MB/s eta 0:00:01\r\u001b[K     |████████████████████▍           | 624 kB 6.6 MB/s eta 0:00:01\r\u001b[K     |████████████████████▊           | 634 kB 6.6 MB/s eta 0:00:01\r\u001b[K     |█████████████████████           | 645 kB 6.6 MB/s eta 0:00:01\r\u001b[K     |█████████████████████▍          | 655 kB 6.6 MB/s eta 0:00:01\r\u001b[K     |█████████████████████▊          | 665 kB 6.6 MB/s eta 0:00:01\r\u001b[K     |██████████████████████          | 675 kB 6.6 MB/s eta 0:00:01\r\u001b[K     |██████████████████████▍         | 686 kB 6.6 MB/s eta 0:00:01\r\u001b[K     |██████████████████████▊         | 696 kB 6.6 MB/s eta 0:00:01\r\u001b[K     |███████████████████████         | 706 kB 6.6 MB/s eta 0:00:01\r\u001b[K     |███████████████████████▍        | 716 kB 6.6 MB/s eta 0:00:01\r\u001b[K     |███████████████████████▊        | 727 kB 6.6 MB/s eta 0:00:01\r\u001b[K     |████████████████████████        | 737 kB 6.6 MB/s eta 0:00:01\r\u001b[K     |████████████████████████▍       | 747 kB 6.6 MB/s eta 0:00:01\r\u001b[K     |████████████████████████▊       | 757 kB 6.6 MB/s eta 0:00:01\r\u001b[K     |█████████████████████████       | 768 kB 6.6 MB/s eta 0:00:01\r\u001b[K     |█████████████████████████▍      | 778 kB 6.6 MB/s eta 0:00:01\r\u001b[K     |█████████████████████████▊      | 788 kB 6.6 MB/s eta 0:00:01\r\u001b[K     |██████████████████████████      | 798 kB 6.6 MB/s eta 0:00:01\r\u001b[K     |██████████████████████████▍     | 808 kB 6.6 MB/s eta 0:00:01\r\u001b[K     |██████████████████████████▊     | 819 kB 6.6 MB/s eta 0:00:01\r\u001b[K     |███████████████████████████     | 829 kB 6.6 MB/s eta 0:00:01\r\u001b[K     |███████████████████████████▍    | 839 kB 6.6 MB/s eta 0:00:01\r\u001b[K     |███████████████████████████▊    | 849 kB 6.6 MB/s eta 0:00:01\r\u001b[K     |████████████████████████████    | 860 kB 6.6 MB/s eta 0:00:01\r\u001b[K     |████████████████████████████▍   | 870 kB 6.6 MB/s eta 0:00:01\r\u001b[K     |████████████████████████████▊   | 880 kB 6.6 MB/s eta 0:00:01\r\u001b[K     |█████████████████████████████   | 890 kB 6.6 MB/s eta 0:00:01\r\u001b[K     |█████████████████████████████▍  | 901 kB 6.6 MB/s eta 0:00:01\r\u001b[K     |█████████████████████████████▊  | 911 kB 6.6 MB/s eta 0:00:01\r\u001b[K     |██████████████████████████████  | 921 kB 6.6 MB/s eta 0:00:01\r\u001b[K     |██████████████████████████████▍ | 931 kB 6.6 MB/s eta 0:00:01\r\u001b[K     |██████████████████████████████▊ | 942 kB 6.6 MB/s eta 0:00:01\r\u001b[K     |███████████████████████████████ | 952 kB 6.6 MB/s eta 0:00:01\r\u001b[K     |███████████████████████████████▍| 962 kB 6.6 MB/s eta 0:00:01\r\u001b[K     |███████████████████████████████▊| 972 kB 6.6 MB/s eta 0:00:01\r\u001b[K     |████████████████████████████████| 981 kB 6.6 MB/s \n",
      "\u001b[?25hRequirement already satisfied: six in /usr/local/lib/python3.7/dist-packages (from langdetect) (1.15.0)\n",
      "Building wheels for collected packages: langdetect\n",
      "  Building wheel for langdetect (setup.py) ... \u001b[?25l\u001b[?25hdone\n",
      "  Created wheel for langdetect: filename=langdetect-1.0.9-py3-none-any.whl size=993242 sha256=f9860e552aa5685ea19afdbf08d75ef9b02198412d712179fe50ddeb69661b60\n",
      "  Stored in directory: /root/.cache/pip/wheels/c5/96/8a/f90c59ed25d75e50a8c10a1b1c2d4c402e4dacfa87f3aff36a\n",
      "Successfully built langdetect\n",
      "Installing collected packages: langdetect\n",
      "Successfully installed langdetect-1.0.9\n"
     ]
    }
   ],
   "source": [
    "pip install langdetect"
   ]
  },
  {
   "cell_type": "code",
   "execution_count": 37,
   "metadata": {
    "colab": {
     "base_uri": "https://localhost:8080/",
     "height": 206
    },
    "id": "NOENnuBlUWIL",
    "outputId": "8f9cc18d-4aa7-42c3-ea37-24d0336119b6"
   },
   "outputs": [
    {
     "data": {
      "text/html": [
       "\n",
       "  <div id=\"df-f32d2768-1656-4334-a062-efffbd489991\">\n",
       "    <div class=\"colab-df-container\">\n",
       "      <div>\n",
       "<style scoped>\n",
       "    .dataframe tbody tr th:only-of-type {\n",
       "        vertical-align: middle;\n",
       "    }\n",
       "\n",
       "    .dataframe tbody tr th {\n",
       "        vertical-align: top;\n",
       "    }\n",
       "\n",
       "    .dataframe thead th {\n",
       "        text-align: right;\n",
       "    }\n",
       "</style>\n",
       "<table border=\"1\" class=\"dataframe\">\n",
       "  <thead>\n",
       "    <tr style=\"text-align: right;\">\n",
       "      <th></th>\n",
       "      <th>text</th>\n",
       "      <th>topic</th>\n",
       "      <th>language</th>\n",
       "    </tr>\n",
       "  </thead>\n",
       "  <tbody>\n",
       "    <tr>\n",
       "      <th>0</th>\n",
       "      <td>Info has been found (+/- 100 pages,...</td>\n",
       "      <td>Student</td>\n",
       "      <td>en</td>\n",
       "    </tr>\n",
       "    <tr>\n",
       "      <th>1</th>\n",
       "      <td>These are the team members:   Drewe...</td>\n",
       "      <td>Student</td>\n",
       "      <td>nl</td>\n",
       "    </tr>\n",
       "    <tr>\n",
       "      <th>2</th>\n",
       "      <td>In het kader van kernfusie op aarde...</td>\n",
       "      <td>Student</td>\n",
       "      <td>en</td>\n",
       "    </tr>\n",
       "    <tr>\n",
       "      <th>3</th>\n",
       "      <td>testing!!!  testing!!!</td>\n",
       "      <td>Student</td>\n",
       "      <td>en</td>\n",
       "    </tr>\n",
       "    <tr>\n",
       "      <th>4</th>\n",
       "      <td>Thanks to Yahoo!'s Toolbar I can ...</td>\n",
       "      <td>InvestmentBanking</td>\n",
       "      <td>en</td>\n",
       "    </tr>\n",
       "  </tbody>\n",
       "</table>\n",
       "</div>\n",
       "      <button class=\"colab-df-convert\" onclick=\"convertToInteractive('df-f32d2768-1656-4334-a062-efffbd489991')\"\n",
       "              title=\"Convert this dataframe to an interactive table.\"\n",
       "              style=\"display:none;\">\n",
       "        \n",
       "  <svg xmlns=\"http://www.w3.org/2000/svg\" height=\"24px\"viewBox=\"0 0 24 24\"\n",
       "       width=\"24px\">\n",
       "    <path d=\"M0 0h24v24H0V0z\" fill=\"none\"/>\n",
       "    <path d=\"M18.56 5.44l.94 2.06.94-2.06 2.06-.94-2.06-.94-.94-2.06-.94 2.06-2.06.94zm-11 1L8.5 8.5l.94-2.06 2.06-.94-2.06-.94L8.5 2.5l-.94 2.06-2.06.94zm10 10l.94 2.06.94-2.06 2.06-.94-2.06-.94-.94-2.06-.94 2.06-2.06.94z\"/><path d=\"M17.41 7.96l-1.37-1.37c-.4-.4-.92-.59-1.43-.59-.52 0-1.04.2-1.43.59L10.3 9.45l-7.72 7.72c-.78.78-.78 2.05 0 2.83L4 21.41c.39.39.9.59 1.41.59.51 0 1.02-.2 1.41-.59l7.78-7.78 2.81-2.81c.8-.78.8-2.07 0-2.86zM5.41 20L4 18.59l7.72-7.72 1.47 1.35L5.41 20z\"/>\n",
       "  </svg>\n",
       "      </button>\n",
       "      \n",
       "  <style>\n",
       "    .colab-df-container {\n",
       "      display:flex;\n",
       "      flex-wrap:wrap;\n",
       "      gap: 12px;\n",
       "    }\n",
       "\n",
       "    .colab-df-convert {\n",
       "      background-color: #E8F0FE;\n",
       "      border: none;\n",
       "      border-radius: 50%;\n",
       "      cursor: pointer;\n",
       "      display: none;\n",
       "      fill: #1967D2;\n",
       "      height: 32px;\n",
       "      padding: 0 0 0 0;\n",
       "      width: 32px;\n",
       "    }\n",
       "\n",
       "    .colab-df-convert:hover {\n",
       "      background-color: #E2EBFA;\n",
       "      box-shadow: 0px 1px 2px rgba(60, 64, 67, 0.3), 0px 1px 3px 1px rgba(60, 64, 67, 0.15);\n",
       "      fill: #174EA6;\n",
       "    }\n",
       "\n",
       "    [theme=dark] .colab-df-convert {\n",
       "      background-color: #3B4455;\n",
       "      fill: #D2E3FC;\n",
       "    }\n",
       "\n",
       "    [theme=dark] .colab-df-convert:hover {\n",
       "      background-color: #434B5C;\n",
       "      box-shadow: 0px 1px 3px 1px rgba(0, 0, 0, 0.15);\n",
       "      filter: drop-shadow(0px 1px 2px rgba(0, 0, 0, 0.3));\n",
       "      fill: #FFFFFF;\n",
       "    }\n",
       "  </style>\n",
       "\n",
       "      <script>\n",
       "        const buttonEl =\n",
       "          document.querySelector('#df-f32d2768-1656-4334-a062-efffbd489991 button.colab-df-convert');\n",
       "        buttonEl.style.display =\n",
       "          google.colab.kernel.accessAllowed ? 'block' : 'none';\n",
       "\n",
       "        async function convertToInteractive(key) {\n",
       "          const element = document.querySelector('#df-f32d2768-1656-4334-a062-efffbd489991');\n",
       "          const dataTable =\n",
       "            await google.colab.kernel.invokeFunction('convertToInteractive',\n",
       "                                                     [key], {});\n",
       "          if (!dataTable) return;\n",
       "\n",
       "          const docLinkHtml = 'Like what you see? Visit the ' +\n",
       "            '<a target=\"_blank\" href=https://colab.research.google.com/notebooks/data_table.ipynb>data table notebook</a>'\n",
       "            + ' to learn more about interactive tables.';\n",
       "          element.innerHTML = '';\n",
       "          dataTable['output_type'] = 'display_data';\n",
       "          await google.colab.output.renderOutput(dataTable, element);\n",
       "          const docLink = document.createElement('div');\n",
       "          docLink.innerHTML = docLinkHtml;\n",
       "          element.appendChild(docLink);\n",
       "        }\n",
       "      </script>\n",
       "    </div>\n",
       "  </div>\n",
       "  "
      ],
      "text/plain": [
       "                                                text  ... language\n",
       "0             Info has been found (+/- 100 pages,...  ...       en\n",
       "1             These are the team members:   Drewe...  ...       nl\n",
       "2             In het kader van kernfusie op aarde...  ...       en\n",
       "3                   testing!!!  testing!!!            ...       en\n",
       "4               Thanks to Yahoo!'s Toolbar I can ...  ...       en\n",
       "\n",
       "[5 rows x 3 columns]"
      ]
     },
     "execution_count": 37,
     "metadata": {},
     "output_type": "execute_result"
    }
   ],
   "source": [
    "from langdetect import detect\n",
    "def find_lang(text):\n",
    "    try:\n",
    "        lang=detect(text)\n",
    "    except:\n",
    "        lang='other'\n",
    "    return lang\n",
    "\n",
    "new_df['language']=new_df['text'].apply(find_lang)\n",
    "new_df.head()"
   ]
  },
  {
   "cell_type": "code",
   "execution_count": 38,
   "metadata": {
    "colab": {
     "base_uri": "https://localhost:8080/"
    },
    "id": "BNDWYSAcUWLj",
    "outputId": "1513db45-f5b1-4d71-afdd-97fece634ac2"
   },
   "outputs": [
    {
     "data": {
      "text/plain": [
       "nl    9552\n",
       "tl      80\n",
       "da      63\n",
       "en      60\n",
       "sv      54\n",
       "cy      31\n",
       "es      30\n",
       "ca      20\n",
       "fr      18\n",
       "sl      12\n",
       "id      11\n",
       "sk       9\n",
       "no       9\n",
       "cs       8\n",
       "ro       8\n",
       "hr       8\n",
       "vi       7\n",
       "lv       6\n",
       "pl       5\n",
       "sq       4\n",
       "hu       2\n",
       "tr       2\n",
       "fi       1\n",
       "Name: language, dtype: int64"
      ]
     },
     "execution_count": 38,
     "metadata": {},
     "output_type": "execute_result"
    }
   ],
   "source": [
    "new_df['language'].apply(find_lang).value_counts()"
   ]
  },
  {
   "cell_type": "code",
   "execution_count": 39,
   "metadata": {
    "colab": {
     "base_uri": "https://localhost:8080/",
     "height": 206
    },
    "id": "GhYUNTJDUWTM",
    "outputId": "ab58667b-23da-4ed8-f4e6-a68d283965d3"
   },
   "outputs": [
    {
     "data": {
      "text/html": [
       "\n",
       "  <div id=\"df-dd5cb7d9-6a34-48b6-8914-af967b2fef35\">\n",
       "    <div class=\"colab-df-container\">\n",
       "      <div>\n",
       "<style scoped>\n",
       "    .dataframe tbody tr th:only-of-type {\n",
       "        vertical-align: middle;\n",
       "    }\n",
       "\n",
       "    .dataframe tbody tr th {\n",
       "        vertical-align: top;\n",
       "    }\n",
       "\n",
       "    .dataframe thead th {\n",
       "        text-align: right;\n",
       "    }\n",
       "</style>\n",
       "<table border=\"1\" class=\"dataframe\">\n",
       "  <thead>\n",
       "    <tr style=\"text-align: right;\">\n",
       "      <th></th>\n",
       "      <th>text</th>\n",
       "      <th>topic</th>\n",
       "      <th>language</th>\n",
       "      <th>eng_lang</th>\n",
       "    </tr>\n",
       "  </thead>\n",
       "  <tbody>\n",
       "    <tr>\n",
       "      <th>0</th>\n",
       "      <td>Info has been found (+/- 100 pages,...</td>\n",
       "      <td>Student</td>\n",
       "      <td>en</td>\n",
       "      <td>True</td>\n",
       "    </tr>\n",
       "    <tr>\n",
       "      <th>1</th>\n",
       "      <td>These are the team members:   Drewe...</td>\n",
       "      <td>Student</td>\n",
       "      <td>nl</td>\n",
       "      <td>True</td>\n",
       "    </tr>\n",
       "    <tr>\n",
       "      <th>2</th>\n",
       "      <td>In het kader van kernfusie op aarde...</td>\n",
       "      <td>Student</td>\n",
       "      <td>en</td>\n",
       "      <td>False</td>\n",
       "    </tr>\n",
       "    <tr>\n",
       "      <th>3</th>\n",
       "      <td>testing!!!  testing!!!</td>\n",
       "      <td>Student</td>\n",
       "      <td>en</td>\n",
       "      <td>True</td>\n",
       "    </tr>\n",
       "    <tr>\n",
       "      <th>4</th>\n",
       "      <td>Thanks to Yahoo!'s Toolbar I can ...</td>\n",
       "      <td>InvestmentBanking</td>\n",
       "      <td>en</td>\n",
       "      <td>True</td>\n",
       "    </tr>\n",
       "  </tbody>\n",
       "</table>\n",
       "</div>\n",
       "      <button class=\"colab-df-convert\" onclick=\"convertToInteractive('df-dd5cb7d9-6a34-48b6-8914-af967b2fef35')\"\n",
       "              title=\"Convert this dataframe to an interactive table.\"\n",
       "              style=\"display:none;\">\n",
       "        \n",
       "  <svg xmlns=\"http://www.w3.org/2000/svg\" height=\"24px\"viewBox=\"0 0 24 24\"\n",
       "       width=\"24px\">\n",
       "    <path d=\"M0 0h24v24H0V0z\" fill=\"none\"/>\n",
       "    <path d=\"M18.56 5.44l.94 2.06.94-2.06 2.06-.94-2.06-.94-.94-2.06-.94 2.06-2.06.94zm-11 1L8.5 8.5l.94-2.06 2.06-.94-2.06-.94L8.5 2.5l-.94 2.06-2.06.94zm10 10l.94 2.06.94-2.06 2.06-.94-2.06-.94-.94-2.06-.94 2.06-2.06.94z\"/><path d=\"M17.41 7.96l-1.37-1.37c-.4-.4-.92-.59-1.43-.59-.52 0-1.04.2-1.43.59L10.3 9.45l-7.72 7.72c-.78.78-.78 2.05 0 2.83L4 21.41c.39.39.9.59 1.41.59.51 0 1.02-.2 1.41-.59l7.78-7.78 2.81-2.81c.8-.78.8-2.07 0-2.86zM5.41 20L4 18.59l7.72-7.72 1.47 1.35L5.41 20z\"/>\n",
       "  </svg>\n",
       "      </button>\n",
       "      \n",
       "  <style>\n",
       "    .colab-df-container {\n",
       "      display:flex;\n",
       "      flex-wrap:wrap;\n",
       "      gap: 12px;\n",
       "    }\n",
       "\n",
       "    .colab-df-convert {\n",
       "      background-color: #E8F0FE;\n",
       "      border: none;\n",
       "      border-radius: 50%;\n",
       "      cursor: pointer;\n",
       "      display: none;\n",
       "      fill: #1967D2;\n",
       "      height: 32px;\n",
       "      padding: 0 0 0 0;\n",
       "      width: 32px;\n",
       "    }\n",
       "\n",
       "    .colab-df-convert:hover {\n",
       "      background-color: #E2EBFA;\n",
       "      box-shadow: 0px 1px 2px rgba(60, 64, 67, 0.3), 0px 1px 3px 1px rgba(60, 64, 67, 0.15);\n",
       "      fill: #174EA6;\n",
       "    }\n",
       "\n",
       "    [theme=dark] .colab-df-convert {\n",
       "      background-color: #3B4455;\n",
       "      fill: #D2E3FC;\n",
       "    }\n",
       "\n",
       "    [theme=dark] .colab-df-convert:hover {\n",
       "      background-color: #434B5C;\n",
       "      box-shadow: 0px 1px 3px 1px rgba(0, 0, 0, 0.15);\n",
       "      filter: drop-shadow(0px 1px 2px rgba(0, 0, 0, 0.3));\n",
       "      fill: #FFFFFF;\n",
       "    }\n",
       "  </style>\n",
       "\n",
       "      <script>\n",
       "        const buttonEl =\n",
       "          document.querySelector('#df-dd5cb7d9-6a34-48b6-8914-af967b2fef35 button.colab-df-convert');\n",
       "        buttonEl.style.display =\n",
       "          google.colab.kernel.accessAllowed ? 'block' : 'none';\n",
       "\n",
       "        async function convertToInteractive(key) {\n",
       "          const element = document.querySelector('#df-dd5cb7d9-6a34-48b6-8914-af967b2fef35');\n",
       "          const dataTable =\n",
       "            await google.colab.kernel.invokeFunction('convertToInteractive',\n",
       "                                                     [key], {});\n",
       "          if (!dataTable) return;\n",
       "\n",
       "          const docLinkHtml = 'Like what you see? Visit the ' +\n",
       "            '<a target=\"_blank\" href=https://colab.research.google.com/notebooks/data_table.ipynb>data table notebook</a>'\n",
       "            + ' to learn more about interactive tables.';\n",
       "          element.innerHTML = '';\n",
       "          dataTable['output_type'] = 'display_data';\n",
       "          await google.colab.output.renderOutput(dataTable, element);\n",
       "          const docLink = document.createElement('div');\n",
       "          docLink.innerHTML = docLinkHtml;\n",
       "          element.appendChild(docLink);\n",
       "        }\n",
       "      </script>\n",
       "    </div>\n",
       "  </div>\n",
       "  "
      ],
      "text/plain": [
       "                                                text  ... eng_lang\n",
       "0             Info has been found (+/- 100 pages,...  ...     True\n",
       "1             These are the team members:   Drewe...  ...     True\n",
       "2             In het kader van kernfusie op aarde...  ...    False\n",
       "3                   testing!!!  testing!!!            ...     True\n",
       "4               Thanks to Yahoo!'s Toolbar I can ...  ...     True\n",
       "\n",
       "[5 rows x 4 columns]"
      ]
     },
     "execution_count": 39,
     "metadata": {},
     "output_type": "execute_result"
    }
   ],
   "source": [
    "new_df['eng_lang']=new_df['text'].apply(lambda x: x.isascii())\n",
    "new_df.head()"
   ]
  },
  {
   "cell_type": "code",
   "execution_count": 40,
   "metadata": {
    "colab": {
     "base_uri": "https://localhost:8080/"
    },
    "id": "wILZcK5jUuKH",
    "outputId": "5845666f-4f2e-4a99-a8d5-635a5111ebae"
   },
   "outputs": [
    {
     "data": {
      "text/plain": [
       "True     9666\n",
       "False     334\n",
       "Name: eng_lang, dtype: int64"
      ]
     },
     "execution_count": 40,
     "metadata": {},
     "output_type": "execute_result"
    }
   ],
   "source": [
    "new_df['eng_lang'].value_counts()"
   ]
  },
  {
   "cell_type": "markdown",
   "metadata": {
    "id": "cbtOu6FNU0LF"
   },
   "source": [
    "### **We have 9666 english text messages and 334 non-english text messages from total 1000 text messages.**"
   ]
  },
  {
   "cell_type": "code",
   "execution_count": 41,
   "metadata": {
    "id": "PuthafBAUuNp"
   },
   "outputs": [],
   "source": [
    "new_df.drop(new_df[new_df['eng_lang']!=True].index,inplace=True)"
   ]
  },
  {
   "cell_type": "markdown",
   "metadata": {
    "id": "9sZlWQzwVClG"
   },
   "source": [
    "### **We are removing all 334 non-english text messages from the dataset.**"
   ]
  },
  {
   "cell_type": "code",
   "execution_count": 42,
   "metadata": {
    "colab": {
     "base_uri": "https://localhost:8080/"
    },
    "id": "3bzpyMFFUucR",
    "outputId": "b6e92991-e3eb-4ec0-bc68-1e10fcb5a081"
   },
   "outputs": [
    {
     "data": {
      "text/plain": [
       "(9666, 4)"
      ]
     },
     "execution_count": 42,
     "metadata": {},
     "output_type": "execute_result"
    }
   ],
   "source": [
    "new_df.shape"
   ]
  },
  {
   "cell_type": "markdown",
   "metadata": {
    "id": "9iO9N9y6VQBk"
   },
   "source": [
    "### **The dataset contains only 9666 english text messages after removing non-english text messages.**"
   ]
  },
  {
   "cell_type": "markdown",
   "metadata": {
    "id": "HceLT0zMVbmT"
   },
   "source": [
    "###**2. Preprocess unstructured data to make it consumable for model training.** \n"
   ]
  },
  {
   "cell_type": "markdown",
   "metadata": {
    "id": "5WcZ_CEpVfk2"
   },
   "source": [
    "###**A. Eliminate All special Characters and Numbers**"
   ]
  },
  {
   "cell_type": "code",
   "execution_count": 43,
   "metadata": {
    "colab": {
     "base_uri": "https://localhost:8080/",
     "height": 206
    },
    "id": "8yrJwm-kUue9",
    "outputId": "1da838ca-3fe4-447f-8365-9a44f7a0140b"
   },
   "outputs": [
    {
     "data": {
      "text/html": [
       "\n",
       "  <div id=\"df-be08d7a6-8930-4f8f-b8ee-f699ebd729b2\">\n",
       "    <div class=\"colab-df-container\">\n",
       "      <div>\n",
       "<style scoped>\n",
       "    .dataframe tbody tr th:only-of-type {\n",
       "        vertical-align: middle;\n",
       "    }\n",
       "\n",
       "    .dataframe tbody tr th {\n",
       "        vertical-align: top;\n",
       "    }\n",
       "\n",
       "    .dataframe thead th {\n",
       "        text-align: right;\n",
       "    }\n",
       "</style>\n",
       "<table border=\"1\" class=\"dataframe\">\n",
       "  <thead>\n",
       "    <tr style=\"text-align: right;\">\n",
       "      <th></th>\n",
       "      <th>text</th>\n",
       "      <th>topic</th>\n",
       "      <th>language</th>\n",
       "      <th>eng_lang</th>\n",
       "      <th>text_without_symbol_num</th>\n",
       "      <th>clean_data</th>\n",
       "    </tr>\n",
       "  </thead>\n",
       "  <tbody>\n",
       "    <tr>\n",
       "      <th>0</th>\n",
       "      <td>Info has been found (+/- 100 pages,...</td>\n",
       "      <td>Student</td>\n",
       "      <td>en</td>\n",
       "      <td>True</td>\n",
       "      <td>Info has been found     pages  and ...</td>\n",
       "      <td>Info has been found     pages  and ...</td>\n",
       "    </tr>\n",
       "    <tr>\n",
       "      <th>1</th>\n",
       "      <td>These are the team members:   Drewe...</td>\n",
       "      <td>Student</td>\n",
       "      <td>nl</td>\n",
       "      <td>True</td>\n",
       "      <td>These are the team members    Drewe...</td>\n",
       "      <td>These are the team members    Drewe...</td>\n",
       "    </tr>\n",
       "    <tr>\n",
       "      <th>3</th>\n",
       "      <td>testing!!!  testing!!!</td>\n",
       "      <td>Student</td>\n",
       "      <td>en</td>\n",
       "      <td>True</td>\n",
       "      <td>testing   testing</td>\n",
       "      <td>testing   testing</td>\n",
       "    </tr>\n",
       "    <tr>\n",
       "      <th>4</th>\n",
       "      <td>Thanks to Yahoo!'s Toolbar I can ...</td>\n",
       "      <td>InvestmentBanking</td>\n",
       "      <td>en</td>\n",
       "      <td>True</td>\n",
       "      <td>Thanks to Yahoo 's Toolbar I can ...</td>\n",
       "      <td>Thanks to Yahoo 's Toolbar I can ...</td>\n",
       "    </tr>\n",
       "    <tr>\n",
       "      <th>5</th>\n",
       "      <td>I had an interesting conversation...</td>\n",
       "      <td>InvestmentBanking</td>\n",
       "      <td>en</td>\n",
       "      <td>True</td>\n",
       "      <td>I had an interesting conversation...</td>\n",
       "      <td>I had an interesting conversation...</td>\n",
       "    </tr>\n",
       "  </tbody>\n",
       "</table>\n",
       "</div>\n",
       "      <button class=\"colab-df-convert\" onclick=\"convertToInteractive('df-be08d7a6-8930-4f8f-b8ee-f699ebd729b2')\"\n",
       "              title=\"Convert this dataframe to an interactive table.\"\n",
       "              style=\"display:none;\">\n",
       "        \n",
       "  <svg xmlns=\"http://www.w3.org/2000/svg\" height=\"24px\"viewBox=\"0 0 24 24\"\n",
       "       width=\"24px\">\n",
       "    <path d=\"M0 0h24v24H0V0z\" fill=\"none\"/>\n",
       "    <path d=\"M18.56 5.44l.94 2.06.94-2.06 2.06-.94-2.06-.94-.94-2.06-.94 2.06-2.06.94zm-11 1L8.5 8.5l.94-2.06 2.06-.94-2.06-.94L8.5 2.5l-.94 2.06-2.06.94zm10 10l.94 2.06.94-2.06 2.06-.94-2.06-.94-.94-2.06-.94 2.06-2.06.94z\"/><path d=\"M17.41 7.96l-1.37-1.37c-.4-.4-.92-.59-1.43-.59-.52 0-1.04.2-1.43.59L10.3 9.45l-7.72 7.72c-.78.78-.78 2.05 0 2.83L4 21.41c.39.39.9.59 1.41.59.51 0 1.02-.2 1.41-.59l7.78-7.78 2.81-2.81c.8-.78.8-2.07 0-2.86zM5.41 20L4 18.59l7.72-7.72 1.47 1.35L5.41 20z\"/>\n",
       "  </svg>\n",
       "      </button>\n",
       "      \n",
       "  <style>\n",
       "    .colab-df-container {\n",
       "      display:flex;\n",
       "      flex-wrap:wrap;\n",
       "      gap: 12px;\n",
       "    }\n",
       "\n",
       "    .colab-df-convert {\n",
       "      background-color: #E8F0FE;\n",
       "      border: none;\n",
       "      border-radius: 50%;\n",
       "      cursor: pointer;\n",
       "      display: none;\n",
       "      fill: #1967D2;\n",
       "      height: 32px;\n",
       "      padding: 0 0 0 0;\n",
       "      width: 32px;\n",
       "    }\n",
       "\n",
       "    .colab-df-convert:hover {\n",
       "      background-color: #E2EBFA;\n",
       "      box-shadow: 0px 1px 2px rgba(60, 64, 67, 0.3), 0px 1px 3px 1px rgba(60, 64, 67, 0.15);\n",
       "      fill: #174EA6;\n",
       "    }\n",
       "\n",
       "    [theme=dark] .colab-df-convert {\n",
       "      background-color: #3B4455;\n",
       "      fill: #D2E3FC;\n",
       "    }\n",
       "\n",
       "    [theme=dark] .colab-df-convert:hover {\n",
       "      background-color: #434B5C;\n",
       "      box-shadow: 0px 1px 3px 1px rgba(0, 0, 0, 0.15);\n",
       "      filter: drop-shadow(0px 1px 2px rgba(0, 0, 0, 0.3));\n",
       "      fill: #FFFFFF;\n",
       "    }\n",
       "  </style>\n",
       "\n",
       "      <script>\n",
       "        const buttonEl =\n",
       "          document.querySelector('#df-be08d7a6-8930-4f8f-b8ee-f699ebd729b2 button.colab-df-convert');\n",
       "        buttonEl.style.display =\n",
       "          google.colab.kernel.accessAllowed ? 'block' : 'none';\n",
       "\n",
       "        async function convertToInteractive(key) {\n",
       "          const element = document.querySelector('#df-be08d7a6-8930-4f8f-b8ee-f699ebd729b2');\n",
       "          const dataTable =\n",
       "            await google.colab.kernel.invokeFunction('convertToInteractive',\n",
       "                                                     [key], {});\n",
       "          if (!dataTable) return;\n",
       "\n",
       "          const docLinkHtml = 'Like what you see? Visit the ' +\n",
       "            '<a target=\"_blank\" href=https://colab.research.google.com/notebooks/data_table.ipynb>data table notebook</a>'\n",
       "            + ' to learn more about interactive tables.';\n",
       "          element.innerHTML = '';\n",
       "          dataTable['output_type'] = 'display_data';\n",
       "          await google.colab.output.renderOutput(dataTable, element);\n",
       "          const docLink = document.createElement('div');\n",
       "          docLink.innerHTML = docLinkHtml;\n",
       "          element.appendChild(docLink);\n",
       "        }\n",
       "      </script>\n",
       "    </div>\n",
       "  </div>\n",
       "  "
      ],
      "text/plain": [
       "                                                text  ...                                         clean_data\n",
       "0             Info has been found (+/- 100 pages,...  ...             Info has been found     pages  and ...\n",
       "1             These are the team members:   Drewe...  ...             These are the team members    Drewe...\n",
       "3                   testing!!!  testing!!!            ...                       testing   testing           \n",
       "4               Thanks to Yahoo!'s Toolbar I can ...  ...               Thanks to Yahoo 's Toolbar I can ...\n",
       "5               I had an interesting conversation...  ...               I had an interesting conversation...\n",
       "\n",
       "[5 rows x 6 columns]"
      ]
     },
     "execution_count": 43,
     "metadata": {},
     "output_type": "execute_result"
    }
   ],
   "source": [
    "#Eliminating special characters and numbers \n",
    "import re\n",
    "new_df['text_without_symbol_num']=new_df['text'].apply(lambda x: re.sub(r'[!@#$(),\"%*?:;_~+-/`0-9]+',' ',x))\n",
    "new_df['clean_data']=new_df['text'].apply(lambda x: re.sub(r'[!@#$(),\"%*?:;_~+-/`0-9]+',' ',x))\n",
    "new_df.head()"
   ]
  },
  {
   "cell_type": "markdown",
   "metadata": {
    "id": "pfxIfr5IVqT8"
   },
   "source": [
    "###**B. Lowercase all textual data**"
   ]
  },
  {
   "cell_type": "code",
   "execution_count": 44,
   "metadata": {
    "colab": {
     "base_uri": "https://localhost:8080/",
     "height": 285
    },
    "id": "-E0Agce3Uuh7",
    "outputId": "ea03d9da-3f14-450e-9d26-5fae608deb35"
   },
   "outputs": [
    {
     "data": {
      "text/html": [
       "\n",
       "  <div id=\"df-1f1c113b-8fa8-4759-bfd3-d550eaac1b3c\">\n",
       "    <div class=\"colab-df-container\">\n",
       "      <div>\n",
       "<style scoped>\n",
       "    .dataframe tbody tr th:only-of-type {\n",
       "        vertical-align: middle;\n",
       "    }\n",
       "\n",
       "    .dataframe tbody tr th {\n",
       "        vertical-align: top;\n",
       "    }\n",
       "\n",
       "    .dataframe thead th {\n",
       "        text-align: right;\n",
       "    }\n",
       "</style>\n",
       "<table border=\"1\" class=\"dataframe\">\n",
       "  <thead>\n",
       "    <tr style=\"text-align: right;\">\n",
       "      <th></th>\n",
       "      <th>text</th>\n",
       "      <th>topic</th>\n",
       "      <th>language</th>\n",
       "      <th>eng_lang</th>\n",
       "      <th>text_without_symbol_num</th>\n",
       "      <th>clean_data</th>\n",
       "      <th>text_lower</th>\n",
       "    </tr>\n",
       "  </thead>\n",
       "  <tbody>\n",
       "    <tr>\n",
       "      <th>0</th>\n",
       "      <td>Info has been found (+/- 100 pages,...</td>\n",
       "      <td>Student</td>\n",
       "      <td>en</td>\n",
       "      <td>True</td>\n",
       "      <td>Info has been found     pages  and ...</td>\n",
       "      <td>info has been found     pages  and ...</td>\n",
       "      <td>info has been found (+/- 100 pages,...</td>\n",
       "    </tr>\n",
       "    <tr>\n",
       "      <th>1</th>\n",
       "      <td>These are the team members:   Drewe...</td>\n",
       "      <td>Student</td>\n",
       "      <td>nl</td>\n",
       "      <td>True</td>\n",
       "      <td>These are the team members    Drewe...</td>\n",
       "      <td>these are the team members    drewe...</td>\n",
       "      <td>these are the team members:   drewe...</td>\n",
       "    </tr>\n",
       "    <tr>\n",
       "      <th>3</th>\n",
       "      <td>testing!!!  testing!!!</td>\n",
       "      <td>Student</td>\n",
       "      <td>en</td>\n",
       "      <td>True</td>\n",
       "      <td>testing   testing</td>\n",
       "      <td>testing   testing</td>\n",
       "      <td>testing!!!  testing!!!</td>\n",
       "    </tr>\n",
       "    <tr>\n",
       "      <th>4</th>\n",
       "      <td>Thanks to Yahoo!'s Toolbar I can ...</td>\n",
       "      <td>InvestmentBanking</td>\n",
       "      <td>en</td>\n",
       "      <td>True</td>\n",
       "      <td>Thanks to Yahoo 's Toolbar I can ...</td>\n",
       "      <td>thanks to yahoo 's toolbar i can ...</td>\n",
       "      <td>thanks to yahoo!'s toolbar i can ...</td>\n",
       "    </tr>\n",
       "    <tr>\n",
       "      <th>5</th>\n",
       "      <td>I had an interesting conversation...</td>\n",
       "      <td>InvestmentBanking</td>\n",
       "      <td>en</td>\n",
       "      <td>True</td>\n",
       "      <td>I had an interesting conversation...</td>\n",
       "      <td>i had an interesting conversation...</td>\n",
       "      <td>i had an interesting conversation...</td>\n",
       "    </tr>\n",
       "  </tbody>\n",
       "</table>\n",
       "</div>\n",
       "      <button class=\"colab-df-convert\" onclick=\"convertToInteractive('df-1f1c113b-8fa8-4759-bfd3-d550eaac1b3c')\"\n",
       "              title=\"Convert this dataframe to an interactive table.\"\n",
       "              style=\"display:none;\">\n",
       "        \n",
       "  <svg xmlns=\"http://www.w3.org/2000/svg\" height=\"24px\"viewBox=\"0 0 24 24\"\n",
       "       width=\"24px\">\n",
       "    <path d=\"M0 0h24v24H0V0z\" fill=\"none\"/>\n",
       "    <path d=\"M18.56 5.44l.94 2.06.94-2.06 2.06-.94-2.06-.94-.94-2.06-.94 2.06-2.06.94zm-11 1L8.5 8.5l.94-2.06 2.06-.94-2.06-.94L8.5 2.5l-.94 2.06-2.06.94zm10 10l.94 2.06.94-2.06 2.06-.94-2.06-.94-.94-2.06-.94 2.06-2.06.94z\"/><path d=\"M17.41 7.96l-1.37-1.37c-.4-.4-.92-.59-1.43-.59-.52 0-1.04.2-1.43.59L10.3 9.45l-7.72 7.72c-.78.78-.78 2.05 0 2.83L4 21.41c.39.39.9.59 1.41.59.51 0 1.02-.2 1.41-.59l7.78-7.78 2.81-2.81c.8-.78.8-2.07 0-2.86zM5.41 20L4 18.59l7.72-7.72 1.47 1.35L5.41 20z\"/>\n",
       "  </svg>\n",
       "      </button>\n",
       "      \n",
       "  <style>\n",
       "    .colab-df-container {\n",
       "      display:flex;\n",
       "      flex-wrap:wrap;\n",
       "      gap: 12px;\n",
       "    }\n",
       "\n",
       "    .colab-df-convert {\n",
       "      background-color: #E8F0FE;\n",
       "      border: none;\n",
       "      border-radius: 50%;\n",
       "      cursor: pointer;\n",
       "      display: none;\n",
       "      fill: #1967D2;\n",
       "      height: 32px;\n",
       "      padding: 0 0 0 0;\n",
       "      width: 32px;\n",
       "    }\n",
       "\n",
       "    .colab-df-convert:hover {\n",
       "      background-color: #E2EBFA;\n",
       "      box-shadow: 0px 1px 2px rgba(60, 64, 67, 0.3), 0px 1px 3px 1px rgba(60, 64, 67, 0.15);\n",
       "      fill: #174EA6;\n",
       "    }\n",
       "\n",
       "    [theme=dark] .colab-df-convert {\n",
       "      background-color: #3B4455;\n",
       "      fill: #D2E3FC;\n",
       "    }\n",
       "\n",
       "    [theme=dark] .colab-df-convert:hover {\n",
       "      background-color: #434B5C;\n",
       "      box-shadow: 0px 1px 3px 1px rgba(0, 0, 0, 0.15);\n",
       "      filter: drop-shadow(0px 1px 2px rgba(0, 0, 0, 0.3));\n",
       "      fill: #FFFFFF;\n",
       "    }\n",
       "  </style>\n",
       "\n",
       "      <script>\n",
       "        const buttonEl =\n",
       "          document.querySelector('#df-1f1c113b-8fa8-4759-bfd3-d550eaac1b3c button.colab-df-convert');\n",
       "        buttonEl.style.display =\n",
       "          google.colab.kernel.accessAllowed ? 'block' : 'none';\n",
       "\n",
       "        async function convertToInteractive(key) {\n",
       "          const element = document.querySelector('#df-1f1c113b-8fa8-4759-bfd3-d550eaac1b3c');\n",
       "          const dataTable =\n",
       "            await google.colab.kernel.invokeFunction('convertToInteractive',\n",
       "                                                     [key], {});\n",
       "          if (!dataTable) return;\n",
       "\n",
       "          const docLinkHtml = 'Like what you see? Visit the ' +\n",
       "            '<a target=\"_blank\" href=https://colab.research.google.com/notebooks/data_table.ipynb>data table notebook</a>'\n",
       "            + ' to learn more about interactive tables.';\n",
       "          element.innerHTML = '';\n",
       "          dataTable['output_type'] = 'display_data';\n",
       "          await google.colab.output.renderOutput(dataTable, element);\n",
       "          const docLink = document.createElement('div');\n",
       "          docLink.innerHTML = docLinkHtml;\n",
       "          element.appendChild(docLink);\n",
       "        }\n",
       "      </script>\n",
       "    </div>\n",
       "  </div>\n",
       "  "
      ],
      "text/plain": [
       "                                                text  ...                                         text_lower\n",
       "0             Info has been found (+/- 100 pages,...  ...             info has been found (+/- 100 pages,...\n",
       "1             These are the team members:   Drewe...  ...             these are the team members:   drewe...\n",
       "3                   testing!!!  testing!!!            ...                   testing!!!  testing!!!          \n",
       "4               Thanks to Yahoo!'s Toolbar I can ...  ...               thanks to yahoo!'s toolbar i can ...\n",
       "5               I had an interesting conversation...  ...               i had an interesting conversation...\n",
       "\n",
       "[5 rows x 7 columns]"
      ]
     },
     "execution_count": 44,
     "metadata": {},
     "output_type": "execute_result"
    }
   ],
   "source": [
    "new_df['text_lower']=new_df['text'].apply(lambda x: x.lower())\n",
    "new_df['clean_data']=new_df['clean_data'].apply(lambda x: x.lower())\n",
    "new_df.head()"
   ]
  },
  {
   "cell_type": "markdown",
   "metadata": {
    "id": "wTZ97t9VVtGz"
   },
   "source": [
    "###**C. Remove all Stopwords**"
   ]
  },
  {
   "cell_type": "code",
   "execution_count": 45,
   "metadata": {
    "colab": {
     "base_uri": "https://localhost:8080/"
    },
    "id": "xW8rj0PqVlvV",
    "outputId": "d2fb0953-ca9d-4550-bf9c-22ea5189eeff"
   },
   "outputs": [
    {
     "name": "stdout",
     "output_type": "stream",
     "text": [
      "[nltk_data] Downloading package stopwords to /root/nltk_data...\n",
      "[nltk_data]   Unzipping corpora/stopwords.zip.\n"
     ]
    },
    {
     "data": {
      "text/plain": [
       "True"
      ]
     },
     "execution_count": 45,
     "metadata": {},
     "output_type": "execute_result"
    }
   ],
   "source": [
    "import nltk\n",
    "nltk.download('stopwords')"
   ]
  },
  {
   "cell_type": "code",
   "execution_count": 46,
   "metadata": {
    "id": "k7evjd14VlyX"
   },
   "outputs": [],
   "source": [
    "from nltk.corpus import stopwords # Import stop words\n",
    "stopwords=set(stopwords.words('english'))"
   ]
  },
  {
   "cell_type": "code",
   "execution_count": 47,
   "metadata": {
    "colab": {
     "base_uri": "https://localhost:8080/",
     "height": 319
    },
    "id": "dUFWHPjKVl1f",
    "outputId": "e5fbd7db-435b-40a7-8a9c-54a9f736b9ac"
   },
   "outputs": [
    {
     "data": {
      "text/html": [
       "\n",
       "  <div id=\"df-88c9b49b-0e84-4095-a748-8e70306a171b\">\n",
       "    <div class=\"colab-df-container\">\n",
       "      <div>\n",
       "<style scoped>\n",
       "    .dataframe tbody tr th:only-of-type {\n",
       "        vertical-align: middle;\n",
       "    }\n",
       "\n",
       "    .dataframe tbody tr th {\n",
       "        vertical-align: top;\n",
       "    }\n",
       "\n",
       "    .dataframe thead th {\n",
       "        text-align: right;\n",
       "    }\n",
       "</style>\n",
       "<table border=\"1\" class=\"dataframe\">\n",
       "  <thead>\n",
       "    <tr style=\"text-align: right;\">\n",
       "      <th></th>\n",
       "      <th>text</th>\n",
       "      <th>topic</th>\n",
       "      <th>language</th>\n",
       "      <th>eng_lang</th>\n",
       "      <th>text_without_symbol_num</th>\n",
       "      <th>clean_data</th>\n",
       "      <th>text_lower</th>\n",
       "      <th>remo_stop_words</th>\n",
       "    </tr>\n",
       "  </thead>\n",
       "  <tbody>\n",
       "    <tr>\n",
       "      <th>0</th>\n",
       "      <td>Info has been found (+/- 100 pages,...</td>\n",
       "      <td>Student</td>\n",
       "      <td>en</td>\n",
       "      <td>True</td>\n",
       "      <td>Info has been found     pages  and ...</td>\n",
       "      <td>info found pages mb pdf files wait untill team...</td>\n",
       "      <td>info has been found (+/- 100 pages,...</td>\n",
       "      <td>Info found (+/- 100 pages, 4.5 MB .pdf files) ...</td>\n",
       "    </tr>\n",
       "    <tr>\n",
       "      <th>1</th>\n",
       "      <td>These are the team members:   Drewe...</td>\n",
       "      <td>Student</td>\n",
       "      <td>nl</td>\n",
       "      <td>True</td>\n",
       "      <td>These are the team members    Drewe...</td>\n",
       "      <td>team members drewes van der laag urllink mail ...</td>\n",
       "      <td>these are the team members:   drewe...</td>\n",
       "      <td>These team members: Drewes van der Laag urlLin...</td>\n",
       "    </tr>\n",
       "    <tr>\n",
       "      <th>3</th>\n",
       "      <td>testing!!!  testing!!!</td>\n",
       "      <td>Student</td>\n",
       "      <td>en</td>\n",
       "      <td>True</td>\n",
       "      <td>testing   testing</td>\n",
       "      <td>testing testing</td>\n",
       "      <td>testing!!!  testing!!!</td>\n",
       "      <td>testing!!! testing!!!</td>\n",
       "    </tr>\n",
       "    <tr>\n",
       "      <th>4</th>\n",
       "      <td>Thanks to Yahoo!'s Toolbar I can ...</td>\n",
       "      <td>InvestmentBanking</td>\n",
       "      <td>en</td>\n",
       "      <td>True</td>\n",
       "      <td>Thanks to Yahoo 's Toolbar I can ...</td>\n",
       "      <td>thanks yahoo 's toolbar 'capture' urls popups ...</td>\n",
       "      <td>thanks to yahoo!'s toolbar i can ...</td>\n",
       "      <td>Thanks Yahoo!'s Toolbar I 'capture' URLs popup...</td>\n",
       "    </tr>\n",
       "    <tr>\n",
       "      <th>5</th>\n",
       "      <td>I had an interesting conversation...</td>\n",
       "      <td>InvestmentBanking</td>\n",
       "      <td>en</td>\n",
       "      <td>True</td>\n",
       "      <td>I had an interesting conversation...</td>\n",
       "      <td>interesting conversation dad morning talking k...</td>\n",
       "      <td>i had an interesting conversation...</td>\n",
       "      <td>I interesting conversation Dad morning. We tal...</td>\n",
       "    </tr>\n",
       "  </tbody>\n",
       "</table>\n",
       "</div>\n",
       "      <button class=\"colab-df-convert\" onclick=\"convertToInteractive('df-88c9b49b-0e84-4095-a748-8e70306a171b')\"\n",
       "              title=\"Convert this dataframe to an interactive table.\"\n",
       "              style=\"display:none;\">\n",
       "        \n",
       "  <svg xmlns=\"http://www.w3.org/2000/svg\" height=\"24px\"viewBox=\"0 0 24 24\"\n",
       "       width=\"24px\">\n",
       "    <path d=\"M0 0h24v24H0V0z\" fill=\"none\"/>\n",
       "    <path d=\"M18.56 5.44l.94 2.06.94-2.06 2.06-.94-2.06-.94-.94-2.06-.94 2.06-2.06.94zm-11 1L8.5 8.5l.94-2.06 2.06-.94-2.06-.94L8.5 2.5l-.94 2.06-2.06.94zm10 10l.94 2.06.94-2.06 2.06-.94-2.06-.94-.94-2.06-.94 2.06-2.06.94z\"/><path d=\"M17.41 7.96l-1.37-1.37c-.4-.4-.92-.59-1.43-.59-.52 0-1.04.2-1.43.59L10.3 9.45l-7.72 7.72c-.78.78-.78 2.05 0 2.83L4 21.41c.39.39.9.59 1.41.59.51 0 1.02-.2 1.41-.59l7.78-7.78 2.81-2.81c.8-.78.8-2.07 0-2.86zM5.41 20L4 18.59l7.72-7.72 1.47 1.35L5.41 20z\"/>\n",
       "  </svg>\n",
       "      </button>\n",
       "      \n",
       "  <style>\n",
       "    .colab-df-container {\n",
       "      display:flex;\n",
       "      flex-wrap:wrap;\n",
       "      gap: 12px;\n",
       "    }\n",
       "\n",
       "    .colab-df-convert {\n",
       "      background-color: #E8F0FE;\n",
       "      border: none;\n",
       "      border-radius: 50%;\n",
       "      cursor: pointer;\n",
       "      display: none;\n",
       "      fill: #1967D2;\n",
       "      height: 32px;\n",
       "      padding: 0 0 0 0;\n",
       "      width: 32px;\n",
       "    }\n",
       "\n",
       "    .colab-df-convert:hover {\n",
       "      background-color: #E2EBFA;\n",
       "      box-shadow: 0px 1px 2px rgba(60, 64, 67, 0.3), 0px 1px 3px 1px rgba(60, 64, 67, 0.15);\n",
       "      fill: #174EA6;\n",
       "    }\n",
       "\n",
       "    [theme=dark] .colab-df-convert {\n",
       "      background-color: #3B4455;\n",
       "      fill: #D2E3FC;\n",
       "    }\n",
       "\n",
       "    [theme=dark] .colab-df-convert:hover {\n",
       "      background-color: #434B5C;\n",
       "      box-shadow: 0px 1px 3px 1px rgba(0, 0, 0, 0.15);\n",
       "      filter: drop-shadow(0px 1px 2px rgba(0, 0, 0, 0.3));\n",
       "      fill: #FFFFFF;\n",
       "    }\n",
       "  </style>\n",
       "\n",
       "      <script>\n",
       "        const buttonEl =\n",
       "          document.querySelector('#df-88c9b49b-0e84-4095-a748-8e70306a171b button.colab-df-convert');\n",
       "        buttonEl.style.display =\n",
       "          google.colab.kernel.accessAllowed ? 'block' : 'none';\n",
       "\n",
       "        async function convertToInteractive(key) {\n",
       "          const element = document.querySelector('#df-88c9b49b-0e84-4095-a748-8e70306a171b');\n",
       "          const dataTable =\n",
       "            await google.colab.kernel.invokeFunction('convertToInteractive',\n",
       "                                                     [key], {});\n",
       "          if (!dataTable) return;\n",
       "\n",
       "          const docLinkHtml = 'Like what you see? Visit the ' +\n",
       "            '<a target=\"_blank\" href=https://colab.research.google.com/notebooks/data_table.ipynb>data table notebook</a>'\n",
       "            + ' to learn more about interactive tables.';\n",
       "          element.innerHTML = '';\n",
       "          dataTable['output_type'] = 'display_data';\n",
       "          await google.colab.output.renderOutput(dataTable, element);\n",
       "          const docLink = document.createElement('div');\n",
       "          docLink.innerHTML = docLinkHtml;\n",
       "          element.appendChild(docLink);\n",
       "        }\n",
       "      </script>\n",
       "    </div>\n",
       "  </div>\n",
       "  "
      ],
      "text/plain": [
       "                                                text  ...                                    remo_stop_words\n",
       "0             Info has been found (+/- 100 pages,...  ...  Info found (+/- 100 pages, 4.5 MB .pdf files) ...\n",
       "1             These are the team members:   Drewe...  ...  These team members: Drewes van der Laag urlLin...\n",
       "3                   testing!!!  testing!!!            ...                              testing!!! testing!!!\n",
       "4               Thanks to Yahoo!'s Toolbar I can ...  ...  Thanks Yahoo!'s Toolbar I 'capture' URLs popup...\n",
       "5               I had an interesting conversation...  ...  I interesting conversation Dad morning. We tal...\n",
       "\n",
       "[5 rows x 8 columns]"
      ]
     },
     "execution_count": 47,
     "metadata": {},
     "output_type": "execute_result"
    }
   ],
   "source": [
    "new_df['remo_stop_words']=new_df['text'].apply(lambda x: ' '.join([words for words in x.split() if words not in stopwords]))\n",
    "new_df['clean_data']=new_df['clean_data'].apply(lambda x: ' '.join([words for words in x.split() if words not in stopwords]))\n",
    "new_df.head()"
   ]
  },
  {
   "cell_type": "code",
   "execution_count": 48,
   "metadata": {
    "colab": {
     "base_uri": "https://localhost:8080/",
     "height": 389
    },
    "id": "Y7qV5FECVl4g",
    "outputId": "d1c3f7ca-0804-4df3-fb6d-72a827830701"
   },
   "outputs": [
    {
     "data": {
      "text/html": [
       "\n",
       "  <div id=\"df-2a923e20-134a-4907-acd7-651d4666a34a\">\n",
       "    <div class=\"colab-df-container\">\n",
       "      <div>\n",
       "<style scoped>\n",
       "    .dataframe tbody tr th:only-of-type {\n",
       "        vertical-align: middle;\n",
       "    }\n",
       "\n",
       "    .dataframe tbody tr th {\n",
       "        vertical-align: top;\n",
       "    }\n",
       "\n",
       "    .dataframe thead th {\n",
       "        text-align: right;\n",
       "    }\n",
       "</style>\n",
       "<table border=\"1\" class=\"dataframe\">\n",
       "  <thead>\n",
       "    <tr style=\"text-align: right;\">\n",
       "      <th></th>\n",
       "      <th>text</th>\n",
       "      <th>topic</th>\n",
       "      <th>language</th>\n",
       "      <th>eng_lang</th>\n",
       "      <th>text_without_symbol_num</th>\n",
       "      <th>clean_data</th>\n",
       "      <th>text_lower</th>\n",
       "      <th>remo_stop_words</th>\n",
       "      <th>remo_space</th>\n",
       "    </tr>\n",
       "  </thead>\n",
       "  <tbody>\n",
       "    <tr>\n",
       "      <th>0</th>\n",
       "      <td>Info has been found (+/- 100 pages,...</td>\n",
       "      <td>Student</td>\n",
       "      <td>en</td>\n",
       "      <td>True</td>\n",
       "      <td>Info has been found     pages  and ...</td>\n",
       "      <td>info found pages mb pdf files wait untill team...</td>\n",
       "      <td>info has been found (+/- 100 pages,...</td>\n",
       "      <td>Info found (+/- 100 pages, 4.5 MB .pdf files) ...</td>\n",
       "      <td>Info has been found (+/- 100 pages, and 4.5 MB...</td>\n",
       "    </tr>\n",
       "    <tr>\n",
       "      <th>1</th>\n",
       "      <td>These are the team members:   Drewe...</td>\n",
       "      <td>Student</td>\n",
       "      <td>nl</td>\n",
       "      <td>True</td>\n",
       "      <td>These are the team members    Drewe...</td>\n",
       "      <td>team members drewes van der laag urllink mail ...</td>\n",
       "      <td>these are the team members:   drewe...</td>\n",
       "      <td>These team members: Drewes van der Laag urlLin...</td>\n",
       "      <td>These are the team members:   Drewes van der L...</td>\n",
       "    </tr>\n",
       "    <tr>\n",
       "      <th>3</th>\n",
       "      <td>testing!!!  testing!!!</td>\n",
       "      <td>Student</td>\n",
       "      <td>en</td>\n",
       "      <td>True</td>\n",
       "      <td>testing   testing</td>\n",
       "      <td>testing testing</td>\n",
       "      <td>testing!!!  testing!!!</td>\n",
       "      <td>testing!!! testing!!!</td>\n",
       "      <td>testing!!!  testing!!!</td>\n",
       "    </tr>\n",
       "    <tr>\n",
       "      <th>4</th>\n",
       "      <td>Thanks to Yahoo!'s Toolbar I can ...</td>\n",
       "      <td>InvestmentBanking</td>\n",
       "      <td>en</td>\n",
       "      <td>True</td>\n",
       "      <td>Thanks to Yahoo 's Toolbar I can ...</td>\n",
       "      <td>thanks yahoo 's toolbar 'capture' urls popups ...</td>\n",
       "      <td>thanks to yahoo!'s toolbar i can ...</td>\n",
       "      <td>Thanks Yahoo!'s Toolbar I 'capture' URLs popup...</td>\n",
       "      <td>Thanks to Yahoo!'s Toolbar I can now 'capture'...</td>\n",
       "    </tr>\n",
       "    <tr>\n",
       "      <th>5</th>\n",
       "      <td>I had an interesting conversation...</td>\n",
       "      <td>InvestmentBanking</td>\n",
       "      <td>en</td>\n",
       "      <td>True</td>\n",
       "      <td>I had an interesting conversation...</td>\n",
       "      <td>interesting conversation dad morning talking k...</td>\n",
       "      <td>i had an interesting conversation...</td>\n",
       "      <td>I interesting conversation Dad morning. We tal...</td>\n",
       "      <td>I had an interesting conversation with my Dad ...</td>\n",
       "    </tr>\n",
       "  </tbody>\n",
       "</table>\n",
       "</div>\n",
       "      <button class=\"colab-df-convert\" onclick=\"convertToInteractive('df-2a923e20-134a-4907-acd7-651d4666a34a')\"\n",
       "              title=\"Convert this dataframe to an interactive table.\"\n",
       "              style=\"display:none;\">\n",
       "        \n",
       "  <svg xmlns=\"http://www.w3.org/2000/svg\" height=\"24px\"viewBox=\"0 0 24 24\"\n",
       "       width=\"24px\">\n",
       "    <path d=\"M0 0h24v24H0V0z\" fill=\"none\"/>\n",
       "    <path d=\"M18.56 5.44l.94 2.06.94-2.06 2.06-.94-2.06-.94-.94-2.06-.94 2.06-2.06.94zm-11 1L8.5 8.5l.94-2.06 2.06-.94-2.06-.94L8.5 2.5l-.94 2.06-2.06.94zm10 10l.94 2.06.94-2.06 2.06-.94-2.06-.94-.94-2.06-.94 2.06-2.06.94z\"/><path d=\"M17.41 7.96l-1.37-1.37c-.4-.4-.92-.59-1.43-.59-.52 0-1.04.2-1.43.59L10.3 9.45l-7.72 7.72c-.78.78-.78 2.05 0 2.83L4 21.41c.39.39.9.59 1.41.59.51 0 1.02-.2 1.41-.59l7.78-7.78 2.81-2.81c.8-.78.8-2.07 0-2.86zM5.41 20L4 18.59l7.72-7.72 1.47 1.35L5.41 20z\"/>\n",
       "  </svg>\n",
       "      </button>\n",
       "      \n",
       "  <style>\n",
       "    .colab-df-container {\n",
       "      display:flex;\n",
       "      flex-wrap:wrap;\n",
       "      gap: 12px;\n",
       "    }\n",
       "\n",
       "    .colab-df-convert {\n",
       "      background-color: #E8F0FE;\n",
       "      border: none;\n",
       "      border-radius: 50%;\n",
       "      cursor: pointer;\n",
       "      display: none;\n",
       "      fill: #1967D2;\n",
       "      height: 32px;\n",
       "      padding: 0 0 0 0;\n",
       "      width: 32px;\n",
       "    }\n",
       "\n",
       "    .colab-df-convert:hover {\n",
       "      background-color: #E2EBFA;\n",
       "      box-shadow: 0px 1px 2px rgba(60, 64, 67, 0.3), 0px 1px 3px 1px rgba(60, 64, 67, 0.15);\n",
       "      fill: #174EA6;\n",
       "    }\n",
       "\n",
       "    [theme=dark] .colab-df-convert {\n",
       "      background-color: #3B4455;\n",
       "      fill: #D2E3FC;\n",
       "    }\n",
       "\n",
       "    [theme=dark] .colab-df-convert:hover {\n",
       "      background-color: #434B5C;\n",
       "      box-shadow: 0px 1px 3px 1px rgba(0, 0, 0, 0.15);\n",
       "      filter: drop-shadow(0px 1px 2px rgba(0, 0, 0, 0.3));\n",
       "      fill: #FFFFFF;\n",
       "    }\n",
       "  </style>\n",
       "\n",
       "      <script>\n",
       "        const buttonEl =\n",
       "          document.querySelector('#df-2a923e20-134a-4907-acd7-651d4666a34a button.colab-df-convert');\n",
       "        buttonEl.style.display =\n",
       "          google.colab.kernel.accessAllowed ? 'block' : 'none';\n",
       "\n",
       "        async function convertToInteractive(key) {\n",
       "          const element = document.querySelector('#df-2a923e20-134a-4907-acd7-651d4666a34a');\n",
       "          const dataTable =\n",
       "            await google.colab.kernel.invokeFunction('convertToInteractive',\n",
       "                                                     [key], {});\n",
       "          if (!dataTable) return;\n",
       "\n",
       "          const docLinkHtml = 'Like what you see? Visit the ' +\n",
       "            '<a target=\"_blank\" href=https://colab.research.google.com/notebooks/data_table.ipynb>data table notebook</a>'\n",
       "            + ' to learn more about interactive tables.';\n",
       "          element.innerHTML = '';\n",
       "          dataTable['output_type'] = 'display_data';\n",
       "          await google.colab.output.renderOutput(dataTable, element);\n",
       "          const docLink = document.createElement('div');\n",
       "          docLink.innerHTML = docLinkHtml;\n",
       "          element.appendChild(docLink);\n",
       "        }\n",
       "      </script>\n",
       "    </div>\n",
       "  </div>\n",
       "  "
      ],
      "text/plain": [
       "                                                text  ...                                         remo_space\n",
       "0             Info has been found (+/- 100 pages,...  ...  Info has been found (+/- 100 pages, and 4.5 MB...\n",
       "1             These are the team members:   Drewe...  ...  These are the team members:   Drewes van der L...\n",
       "3                   testing!!!  testing!!!            ...                             testing!!!  testing!!!\n",
       "4               Thanks to Yahoo!'s Toolbar I can ...  ...  Thanks to Yahoo!'s Toolbar I can now 'capture'...\n",
       "5               I had an interesting conversation...  ...  I had an interesting conversation with my Dad ...\n",
       "\n",
       "[5 rows x 9 columns]"
      ]
     },
     "execution_count": 48,
     "metadata": {},
     "output_type": "execute_result"
    }
   ],
   "source": [
    "# strip() is used to remove all the leading and trailing spaces from a string\n",
    "new_df['remo_space']=new_df['text'].apply(lambda x: x.strip())\n",
    "new_df['clean_data']=new_df['clean_data'].apply(lambda x: x.strip())\n",
    "new_df.head()"
   ]
  },
  {
   "cell_type": "code",
   "execution_count": 49,
   "metadata": {
    "colab": {
     "base_uri": "https://localhost:8080/"
    },
    "id": "kI9qHDc7Vl7P",
    "outputId": "86ec4e1d-4d8f-45c2-ab82-75664e44cbcd"
   },
   "outputs": [
    {
     "name": "stdout",
     "output_type": "stream",
     "text": [
      "Actual Data :           Info has been found (+/- 100 pages, and 4.5 MB of .pdf files) Now i have to wait untill our team leader has processed it and learns html.         \n"
     ]
    }
   ],
   "source": [
    "#Actual data before cleaning\n",
    "print('Actual Data :{}'.format(new_df['text'][0]))"
   ]
  },
  {
   "cell_type": "code",
   "execution_count": 50,
   "metadata": {
    "colab": {
     "base_uri": "https://localhost:8080/"
    },
    "id": "ZZah6HrbVl-g",
    "outputId": "fda5c988-c2f3-4254-9dc4-2aef5e6c87c7"
   },
   "outputs": [
    {
     "name": "stdout",
     "output_type": "stream",
     "text": [
      "Cleaned Data :info found pages mb pdf files wait untill team leader processed learns html\n"
     ]
    }
   ],
   "source": [
    "# Data after cleaning\n",
    "print('Cleaned Data :{}'.format(new_df['clean_data'][0]))"
   ]
  },
  {
   "cell_type": "code",
   "execution_count": 51,
   "metadata": {
    "colab": {
     "base_uri": "https://localhost:8080/",
     "height": 389
    },
    "id": "NgBMfoFwUulX",
    "outputId": "6f8bfc01-5076-4c9e-aedf-13d0c60ea4f0"
   },
   "outputs": [
    {
     "data": {
      "text/html": [
       "\n",
       "  <div id=\"df-c360fb7c-75a8-43dc-9ae8-893c91ae0263\">\n",
       "    <div class=\"colab-df-container\">\n",
       "      <div>\n",
       "<style scoped>\n",
       "    .dataframe tbody tr th:only-of-type {\n",
       "        vertical-align: middle;\n",
       "    }\n",
       "\n",
       "    .dataframe tbody tr th {\n",
       "        vertical-align: top;\n",
       "    }\n",
       "\n",
       "    .dataframe thead th {\n",
       "        text-align: right;\n",
       "    }\n",
       "</style>\n",
       "<table border=\"1\" class=\"dataframe\">\n",
       "  <thead>\n",
       "    <tr style=\"text-align: right;\">\n",
       "      <th></th>\n",
       "      <th>text</th>\n",
       "      <th>topic</th>\n",
       "      <th>language</th>\n",
       "      <th>eng_lang</th>\n",
       "      <th>text_without_symbol_num</th>\n",
       "      <th>clean_data</th>\n",
       "      <th>text_lower</th>\n",
       "      <th>remo_stop_words</th>\n",
       "      <th>remo_space</th>\n",
       "    </tr>\n",
       "  </thead>\n",
       "  <tbody>\n",
       "    <tr>\n",
       "      <th>0</th>\n",
       "      <td>Info has been found (+/- 100 pages,...</td>\n",
       "      <td>Student</td>\n",
       "      <td>en</td>\n",
       "      <td>True</td>\n",
       "      <td>Info has been found     pages  and ...</td>\n",
       "      <td>info found pages mb pdf files wait untill team...</td>\n",
       "      <td>info has been found (+/- 100 pages,...</td>\n",
       "      <td>Info found (+/- 100 pages, 4.5 MB .pdf files) ...</td>\n",
       "      <td>Info has been found (+/- 100 pages, and 4.5 MB...</td>\n",
       "    </tr>\n",
       "    <tr>\n",
       "      <th>1</th>\n",
       "      <td>These are the team members:   Drewe...</td>\n",
       "      <td>Student</td>\n",
       "      <td>nl</td>\n",
       "      <td>True</td>\n",
       "      <td>These are the team members    Drewe...</td>\n",
       "      <td>team members drewes van der laag urllink mail ...</td>\n",
       "      <td>these are the team members:   drewe...</td>\n",
       "      <td>These team members: Drewes van der Laag urlLin...</td>\n",
       "      <td>These are the team members:   Drewes van der L...</td>\n",
       "    </tr>\n",
       "    <tr>\n",
       "      <th>3</th>\n",
       "      <td>testing!!!  testing!!!</td>\n",
       "      <td>Student</td>\n",
       "      <td>en</td>\n",
       "      <td>True</td>\n",
       "      <td>testing   testing</td>\n",
       "      <td>testing testing</td>\n",
       "      <td>testing!!!  testing!!!</td>\n",
       "      <td>testing!!! testing!!!</td>\n",
       "      <td>testing!!!  testing!!!</td>\n",
       "    </tr>\n",
       "    <tr>\n",
       "      <th>4</th>\n",
       "      <td>Thanks to Yahoo!'s Toolbar I can ...</td>\n",
       "      <td>InvestmentBanking</td>\n",
       "      <td>en</td>\n",
       "      <td>True</td>\n",
       "      <td>Thanks to Yahoo 's Toolbar I can ...</td>\n",
       "      <td>thanks yahoo 's toolbar 'capture' urls popups ...</td>\n",
       "      <td>thanks to yahoo!'s toolbar i can ...</td>\n",
       "      <td>Thanks Yahoo!'s Toolbar I 'capture' URLs popup...</td>\n",
       "      <td>Thanks to Yahoo!'s Toolbar I can now 'capture'...</td>\n",
       "    </tr>\n",
       "    <tr>\n",
       "      <th>5</th>\n",
       "      <td>I had an interesting conversation...</td>\n",
       "      <td>InvestmentBanking</td>\n",
       "      <td>en</td>\n",
       "      <td>True</td>\n",
       "      <td>I had an interesting conversation...</td>\n",
       "      <td>interesting conversation dad morning talking k...</td>\n",
       "      <td>i had an interesting conversation...</td>\n",
       "      <td>I interesting conversation Dad morning. We tal...</td>\n",
       "      <td>I had an interesting conversation with my Dad ...</td>\n",
       "    </tr>\n",
       "  </tbody>\n",
       "</table>\n",
       "</div>\n",
       "      <button class=\"colab-df-convert\" onclick=\"convertToInteractive('df-c360fb7c-75a8-43dc-9ae8-893c91ae0263')\"\n",
       "              title=\"Convert this dataframe to an interactive table.\"\n",
       "              style=\"display:none;\">\n",
       "        \n",
       "  <svg xmlns=\"http://www.w3.org/2000/svg\" height=\"24px\"viewBox=\"0 0 24 24\"\n",
       "       width=\"24px\">\n",
       "    <path d=\"M0 0h24v24H0V0z\" fill=\"none\"/>\n",
       "    <path d=\"M18.56 5.44l.94 2.06.94-2.06 2.06-.94-2.06-.94-.94-2.06-.94 2.06-2.06.94zm-11 1L8.5 8.5l.94-2.06 2.06-.94-2.06-.94L8.5 2.5l-.94 2.06-2.06.94zm10 10l.94 2.06.94-2.06 2.06-.94-2.06-.94-.94-2.06-.94 2.06-2.06.94z\"/><path d=\"M17.41 7.96l-1.37-1.37c-.4-.4-.92-.59-1.43-.59-.52 0-1.04.2-1.43.59L10.3 9.45l-7.72 7.72c-.78.78-.78 2.05 0 2.83L4 21.41c.39.39.9.59 1.41.59.51 0 1.02-.2 1.41-.59l7.78-7.78 2.81-2.81c.8-.78.8-2.07 0-2.86zM5.41 20L4 18.59l7.72-7.72 1.47 1.35L5.41 20z\"/>\n",
       "  </svg>\n",
       "      </button>\n",
       "      \n",
       "  <style>\n",
       "    .colab-df-container {\n",
       "      display:flex;\n",
       "      flex-wrap:wrap;\n",
       "      gap: 12px;\n",
       "    }\n",
       "\n",
       "    .colab-df-convert {\n",
       "      background-color: #E8F0FE;\n",
       "      border: none;\n",
       "      border-radius: 50%;\n",
       "      cursor: pointer;\n",
       "      display: none;\n",
       "      fill: #1967D2;\n",
       "      height: 32px;\n",
       "      padding: 0 0 0 0;\n",
       "      width: 32px;\n",
       "    }\n",
       "\n",
       "    .colab-df-convert:hover {\n",
       "      background-color: #E2EBFA;\n",
       "      box-shadow: 0px 1px 2px rgba(60, 64, 67, 0.3), 0px 1px 3px 1px rgba(60, 64, 67, 0.15);\n",
       "      fill: #174EA6;\n",
       "    }\n",
       "\n",
       "    [theme=dark] .colab-df-convert {\n",
       "      background-color: #3B4455;\n",
       "      fill: #D2E3FC;\n",
       "    }\n",
       "\n",
       "    [theme=dark] .colab-df-convert:hover {\n",
       "      background-color: #434B5C;\n",
       "      box-shadow: 0px 1px 3px 1px rgba(0, 0, 0, 0.15);\n",
       "      filter: drop-shadow(0px 1px 2px rgba(0, 0, 0, 0.3));\n",
       "      fill: #FFFFFF;\n",
       "    }\n",
       "  </style>\n",
       "\n",
       "      <script>\n",
       "        const buttonEl =\n",
       "          document.querySelector('#df-c360fb7c-75a8-43dc-9ae8-893c91ae0263 button.colab-df-convert');\n",
       "        buttonEl.style.display =\n",
       "          google.colab.kernel.accessAllowed ? 'block' : 'none';\n",
       "\n",
       "        async function convertToInteractive(key) {\n",
       "          const element = document.querySelector('#df-c360fb7c-75a8-43dc-9ae8-893c91ae0263');\n",
       "          const dataTable =\n",
       "            await google.colab.kernel.invokeFunction('convertToInteractive',\n",
       "                                                     [key], {});\n",
       "          if (!dataTable) return;\n",
       "\n",
       "          const docLinkHtml = 'Like what you see? Visit the ' +\n",
       "            '<a target=\"_blank\" href=https://colab.research.google.com/notebooks/data_table.ipynb>data table notebook</a>'\n",
       "            + ' to learn more about interactive tables.';\n",
       "          element.innerHTML = '';\n",
       "          dataTable['output_type'] = 'display_data';\n",
       "          await google.colab.output.renderOutput(dataTable, element);\n",
       "          const docLink = document.createElement('div');\n",
       "          docLink.innerHTML = docLinkHtml;\n",
       "          element.appendChild(docLink);\n",
       "        }\n",
       "      </script>\n",
       "    </div>\n",
       "  </div>\n",
       "  "
      ],
      "text/plain": [
       "                                                text  ...                                         remo_space\n",
       "0             Info has been found (+/- 100 pages,...  ...  Info has been found (+/- 100 pages, and 4.5 MB...\n",
       "1             These are the team members:   Drewe...  ...  These are the team members:   Drewes van der L...\n",
       "3                   testing!!!  testing!!!            ...                             testing!!!  testing!!!\n",
       "4               Thanks to Yahoo!'s Toolbar I can ...  ...  Thanks to Yahoo!'s Toolbar I can now 'capture'...\n",
       "5               I had an interesting conversation...  ...  I had an interesting conversation with my Dad ...\n",
       "\n",
       "[5 rows x 9 columns]"
      ]
     },
     "execution_count": 51,
     "metadata": {},
     "output_type": "execute_result"
    }
   ],
   "source": [
    "new_df.head()"
   ]
  },
  {
   "cell_type": "code",
   "execution_count": 52,
   "metadata": {
    "colab": {
     "base_uri": "https://localhost:8080/",
     "height": 206
    },
    "id": "t3VSTR5bWL7L",
    "outputId": "d7fa332d-2d3a-43a1-e014-c3eaa9fef29b"
   },
   "outputs": [
    {
     "data": {
      "text/html": [
       "\n",
       "  <div id=\"df-5992323a-e017-4ee5-9063-73c364e6ba62\">\n",
       "    <div class=\"colab-df-container\">\n",
       "      <div>\n",
       "<style scoped>\n",
       "    .dataframe tbody tr th:only-of-type {\n",
       "        vertical-align: middle;\n",
       "    }\n",
       "\n",
       "    .dataframe tbody tr th {\n",
       "        vertical-align: top;\n",
       "    }\n",
       "\n",
       "    .dataframe thead th {\n",
       "        text-align: right;\n",
       "    }\n",
       "</style>\n",
       "<table border=\"1\" class=\"dataframe\">\n",
       "  <thead>\n",
       "    <tr style=\"text-align: right;\">\n",
       "      <th></th>\n",
       "      <th>text</th>\n",
       "      <th>topic</th>\n",
       "      <th>clean_data</th>\n",
       "    </tr>\n",
       "  </thead>\n",
       "  <tbody>\n",
       "    <tr>\n",
       "      <th>0</th>\n",
       "      <td>Info has been found (+/- 100 pages,...</td>\n",
       "      <td>Student</td>\n",
       "      <td>info found pages mb pdf files wait untill team...</td>\n",
       "    </tr>\n",
       "    <tr>\n",
       "      <th>1</th>\n",
       "      <td>These are the team members:   Drewe...</td>\n",
       "      <td>Student</td>\n",
       "      <td>team members drewes van der laag urllink mail ...</td>\n",
       "    </tr>\n",
       "    <tr>\n",
       "      <th>3</th>\n",
       "      <td>testing!!!  testing!!!</td>\n",
       "      <td>Student</td>\n",
       "      <td>testing testing</td>\n",
       "    </tr>\n",
       "    <tr>\n",
       "      <th>4</th>\n",
       "      <td>Thanks to Yahoo!'s Toolbar I can ...</td>\n",
       "      <td>InvestmentBanking</td>\n",
       "      <td>thanks yahoo 's toolbar 'capture' urls popups ...</td>\n",
       "    </tr>\n",
       "    <tr>\n",
       "      <th>5</th>\n",
       "      <td>I had an interesting conversation...</td>\n",
       "      <td>InvestmentBanking</td>\n",
       "      <td>interesting conversation dad morning talking k...</td>\n",
       "    </tr>\n",
       "  </tbody>\n",
       "</table>\n",
       "</div>\n",
       "      <button class=\"colab-df-convert\" onclick=\"convertToInteractive('df-5992323a-e017-4ee5-9063-73c364e6ba62')\"\n",
       "              title=\"Convert this dataframe to an interactive table.\"\n",
       "              style=\"display:none;\">\n",
       "        \n",
       "  <svg xmlns=\"http://www.w3.org/2000/svg\" height=\"24px\"viewBox=\"0 0 24 24\"\n",
       "       width=\"24px\">\n",
       "    <path d=\"M0 0h24v24H0V0z\" fill=\"none\"/>\n",
       "    <path d=\"M18.56 5.44l.94 2.06.94-2.06 2.06-.94-2.06-.94-.94-2.06-.94 2.06-2.06.94zm-11 1L8.5 8.5l.94-2.06 2.06-.94-2.06-.94L8.5 2.5l-.94 2.06-2.06.94zm10 10l.94 2.06.94-2.06 2.06-.94-2.06-.94-.94-2.06-.94 2.06-2.06.94z\"/><path d=\"M17.41 7.96l-1.37-1.37c-.4-.4-.92-.59-1.43-.59-.52 0-1.04.2-1.43.59L10.3 9.45l-7.72 7.72c-.78.78-.78 2.05 0 2.83L4 21.41c.39.39.9.59 1.41.59.51 0 1.02-.2 1.41-.59l7.78-7.78 2.81-2.81c.8-.78.8-2.07 0-2.86zM5.41 20L4 18.59l7.72-7.72 1.47 1.35L5.41 20z\"/>\n",
       "  </svg>\n",
       "      </button>\n",
       "      \n",
       "  <style>\n",
       "    .colab-df-container {\n",
       "      display:flex;\n",
       "      flex-wrap:wrap;\n",
       "      gap: 12px;\n",
       "    }\n",
       "\n",
       "    .colab-df-convert {\n",
       "      background-color: #E8F0FE;\n",
       "      border: none;\n",
       "      border-radius: 50%;\n",
       "      cursor: pointer;\n",
       "      display: none;\n",
       "      fill: #1967D2;\n",
       "      height: 32px;\n",
       "      padding: 0 0 0 0;\n",
       "      width: 32px;\n",
       "    }\n",
       "\n",
       "    .colab-df-convert:hover {\n",
       "      background-color: #E2EBFA;\n",
       "      box-shadow: 0px 1px 2px rgba(60, 64, 67, 0.3), 0px 1px 3px 1px rgba(60, 64, 67, 0.15);\n",
       "      fill: #174EA6;\n",
       "    }\n",
       "\n",
       "    [theme=dark] .colab-df-convert {\n",
       "      background-color: #3B4455;\n",
       "      fill: #D2E3FC;\n",
       "    }\n",
       "\n",
       "    [theme=dark] .colab-df-convert:hover {\n",
       "      background-color: #434B5C;\n",
       "      box-shadow: 0px 1px 3px 1px rgba(0, 0, 0, 0.15);\n",
       "      filter: drop-shadow(0px 1px 2px rgba(0, 0, 0, 0.3));\n",
       "      fill: #FFFFFF;\n",
       "    }\n",
       "  </style>\n",
       "\n",
       "      <script>\n",
       "        const buttonEl =\n",
       "          document.querySelector('#df-5992323a-e017-4ee5-9063-73c364e6ba62 button.colab-df-convert');\n",
       "        buttonEl.style.display =\n",
       "          google.colab.kernel.accessAllowed ? 'block' : 'none';\n",
       "\n",
       "        async function convertToInteractive(key) {\n",
       "          const element = document.querySelector('#df-5992323a-e017-4ee5-9063-73c364e6ba62');\n",
       "          const dataTable =\n",
       "            await google.colab.kernel.invokeFunction('convertToInteractive',\n",
       "                                                     [key], {});\n",
       "          if (!dataTable) return;\n",
       "\n",
       "          const docLinkHtml = 'Like what you see? Visit the ' +\n",
       "            '<a target=\"_blank\" href=https://colab.research.google.com/notebooks/data_table.ipynb>data table notebook</a>'\n",
       "            + ' to learn more about interactive tables.';\n",
       "          element.innerHTML = '';\n",
       "          dataTable['output_type'] = 'display_data';\n",
       "          await google.colab.output.renderOutput(dataTable, element);\n",
       "          const docLink = document.createElement('div');\n",
       "          docLink.innerHTML = docLinkHtml;\n",
       "          element.appendChild(docLink);\n",
       "        }\n",
       "      </script>\n",
       "    </div>\n",
       "  </div>\n",
       "  "
      ],
      "text/plain": [
       "                                                text  ...                                         clean_data\n",
       "0             Info has been found (+/- 100 pages,...  ...  info found pages mb pdf files wait untill team...\n",
       "1             These are the team members:   Drewe...  ...  team members drewes van der laag urllink mail ...\n",
       "3                   testing!!!  testing!!!            ...                                    testing testing\n",
       "4               Thanks to Yahoo!'s Toolbar I can ...  ...  thanks yahoo 's toolbar 'capture' urls popups ...\n",
       "5               I had an interesting conversation...  ...  interesting conversation dad morning talking k...\n",
       "\n",
       "[5 rows x 3 columns]"
      ]
     },
     "execution_count": 52,
     "metadata": {},
     "output_type": "execute_result"
    }
   ],
   "source": [
    "final_df=new_df[['text','topic','clean_data']]\n",
    "final_df.head()"
   ]
  },
  {
   "cell_type": "markdown",
   "metadata": {
    "id": "Et1mFCYiWYce"
   },
   "source": [
    "###**3. Build a base Classification model**"
   ]
  },
  {
   "cell_type": "code",
   "execution_count": 53,
   "metadata": {
    "colab": {
     "base_uri": "https://localhost:8080/"
    },
    "id": "79VhcMjCWL9s",
    "outputId": "3d8b6034-3a91-4546-9e00-748404828e03"
   },
   "outputs": [
    {
     "name": "stdout",
     "output_type": "stream",
     "text": [
      "indUnk                     3208\n",
      "Technology                 2618\n",
      "Fashion                    1622\n",
      "Student                    1060\n",
      "Education                   211\n",
      "Marketing                   141\n",
      "Engineering                 123\n",
      "Internet                    113\n",
      "Communications-Media         97\n",
      "BusinessServices             81\n",
      "Sports-Recreation            79\n",
      "Non-Profit                   69\n",
      "InvestmentBanking            52\n",
      "Science                      51\n",
      "Arts                         41\n",
      "Consulting                   20\n",
      "Museums-Libraries            15\n",
      "Automotive                   13\n",
      "Banking                      13\n",
      "Law                          11\n",
      "LawEnforcement-Security       9\n",
      "Religion                      8\n",
      "Publishing                    4\n",
      "Accounting                    3\n",
      "HumanResources                2\n",
      "Telecommunications            2\n",
      "Name: topic, dtype: int64\n"
     ]
    }
   ],
   "source": [
    "topic_counts=final_df['topic'].value_counts()\n",
    "print(topic_counts)"
   ]
  },
  {
   "cell_type": "code",
   "execution_count": 54,
   "metadata": {
    "colab": {
     "base_uri": "https://localhost:8080/"
    },
    "id": "onZnWo5oWMBF",
    "outputId": "fdd083e4-7c38-40f0-9406-f40b2218f7b0"
   },
   "outputs": [
    {
     "name": "stdout",
     "output_type": "stream",
     "text": [
      "No of categories(unique values) in target column(topic) : 26\n"
     ]
    }
   ],
   "source": [
    "n=final_df.topic.nunique()\n",
    "print('No of categories(unique values) in target column(topic) :',n)"
   ]
  },
  {
   "cell_type": "markdown",
   "metadata": {
    "id": "FfjWbyUjul32"
   },
   "source": [
    "### **There are 26 multiple class in target column.**"
   ]
  },
  {
   "cell_type": "code",
   "execution_count": 55,
   "metadata": {
    "colab": {
     "base_uri": "https://localhost:8080/"
    },
    "id": "0Pcfkbe_WMP8",
    "outputId": "9818ac3f-87fb-4a4c-8eb9-698a28d904ca"
   },
   "outputs": [
    {
     "name": "stdout",
     "output_type": "stream",
     "text": [
      "['Student' 'InvestmentBanking' 'indUnk' 'Non-Profit' 'Banking' 'Education'\n",
      " 'Engineering' 'Science' 'Communications-Media' 'BusinessServices'\n",
      " 'Sports-Recreation' 'Arts' 'Internet' 'Museums-Libraries' 'Accounting'\n",
      " 'Technology' 'Law' 'Consulting' 'Automotive' 'Religion' 'Fashion'\n",
      " 'Publishing' 'Marketing' 'LawEnforcement-Security' 'HumanResources'\n",
      " 'Telecommunications']\n"
     ]
    }
   ],
   "source": [
    "target_category=final_df['topic'].unique()\n",
    "print(target_category)"
   ]
  },
  {
   "cell_type": "markdown",
   "metadata": {
    "id": "nSzDpfZAWxHK"
   },
   "source": [
    "### **Converting target column category name into numerical index.Showing topic's name with respect to topic ID.**"
   ]
  },
  {
   "cell_type": "code",
   "execution_count": 56,
   "metadata": {
    "colab": {
     "base_uri": "https://localhost:8080/",
     "height": 206
    },
    "id": "ykS4jL9jWMSk",
    "outputId": "d8ae04f8-76c7-4e12-e2ab-19df0180d20b"
   },
   "outputs": [
    {
     "data": {
      "text/html": [
       "\n",
       "  <div id=\"df-cdcedeec-10d8-4bb9-9655-ebd904a9a048\">\n",
       "    <div class=\"colab-df-container\">\n",
       "      <div>\n",
       "<style scoped>\n",
       "    .dataframe tbody tr th:only-of-type {\n",
       "        vertical-align: middle;\n",
       "    }\n",
       "\n",
       "    .dataframe tbody tr th {\n",
       "        vertical-align: top;\n",
       "    }\n",
       "\n",
       "    .dataframe thead th {\n",
       "        text-align: right;\n",
       "    }\n",
       "</style>\n",
       "<table border=\"1\" class=\"dataframe\">\n",
       "  <thead>\n",
       "    <tr style=\"text-align: right;\">\n",
       "      <th></th>\n",
       "      <th>text</th>\n",
       "      <th>topic</th>\n",
       "      <th>clean_data</th>\n",
       "      <th>topicID</th>\n",
       "    </tr>\n",
       "  </thead>\n",
       "  <tbody>\n",
       "    <tr>\n",
       "      <th>0</th>\n",
       "      <td>Info has been found (+/- 100 pages,...</td>\n",
       "      <td>Student</td>\n",
       "      <td>info found pages mb pdf files wait untill team...</td>\n",
       "      <td>0</td>\n",
       "    </tr>\n",
       "    <tr>\n",
       "      <th>1</th>\n",
       "      <td>These are the team members:   Drewe...</td>\n",
       "      <td>Student</td>\n",
       "      <td>team members drewes van der laag urllink mail ...</td>\n",
       "      <td>0</td>\n",
       "    </tr>\n",
       "    <tr>\n",
       "      <th>3</th>\n",
       "      <td>testing!!!  testing!!!</td>\n",
       "      <td>Student</td>\n",
       "      <td>testing testing</td>\n",
       "      <td>0</td>\n",
       "    </tr>\n",
       "    <tr>\n",
       "      <th>4</th>\n",
       "      <td>Thanks to Yahoo!'s Toolbar I can ...</td>\n",
       "      <td>InvestmentBanking</td>\n",
       "      <td>thanks yahoo 's toolbar 'capture' urls popups ...</td>\n",
       "      <td>1</td>\n",
       "    </tr>\n",
       "    <tr>\n",
       "      <th>5</th>\n",
       "      <td>I had an interesting conversation...</td>\n",
       "      <td>InvestmentBanking</td>\n",
       "      <td>interesting conversation dad morning talking k...</td>\n",
       "      <td>1</td>\n",
       "    </tr>\n",
       "  </tbody>\n",
       "</table>\n",
       "</div>\n",
       "      <button class=\"colab-df-convert\" onclick=\"convertToInteractive('df-cdcedeec-10d8-4bb9-9655-ebd904a9a048')\"\n",
       "              title=\"Convert this dataframe to an interactive table.\"\n",
       "              style=\"display:none;\">\n",
       "        \n",
       "  <svg xmlns=\"http://www.w3.org/2000/svg\" height=\"24px\"viewBox=\"0 0 24 24\"\n",
       "       width=\"24px\">\n",
       "    <path d=\"M0 0h24v24H0V0z\" fill=\"none\"/>\n",
       "    <path d=\"M18.56 5.44l.94 2.06.94-2.06 2.06-.94-2.06-.94-.94-2.06-.94 2.06-2.06.94zm-11 1L8.5 8.5l.94-2.06 2.06-.94-2.06-.94L8.5 2.5l-.94 2.06-2.06.94zm10 10l.94 2.06.94-2.06 2.06-.94-2.06-.94-.94-2.06-.94 2.06-2.06.94z\"/><path d=\"M17.41 7.96l-1.37-1.37c-.4-.4-.92-.59-1.43-.59-.52 0-1.04.2-1.43.59L10.3 9.45l-7.72 7.72c-.78.78-.78 2.05 0 2.83L4 21.41c.39.39.9.59 1.41.59.51 0 1.02-.2 1.41-.59l7.78-7.78 2.81-2.81c.8-.78.8-2.07 0-2.86zM5.41 20L4 18.59l7.72-7.72 1.47 1.35L5.41 20z\"/>\n",
       "  </svg>\n",
       "      </button>\n",
       "      \n",
       "  <style>\n",
       "    .colab-df-container {\n",
       "      display:flex;\n",
       "      flex-wrap:wrap;\n",
       "      gap: 12px;\n",
       "    }\n",
       "\n",
       "    .colab-df-convert {\n",
       "      background-color: #E8F0FE;\n",
       "      border: none;\n",
       "      border-radius: 50%;\n",
       "      cursor: pointer;\n",
       "      display: none;\n",
       "      fill: #1967D2;\n",
       "      height: 32px;\n",
       "      padding: 0 0 0 0;\n",
       "      width: 32px;\n",
       "    }\n",
       "\n",
       "    .colab-df-convert:hover {\n",
       "      background-color: #E2EBFA;\n",
       "      box-shadow: 0px 1px 2px rgba(60, 64, 67, 0.3), 0px 1px 3px 1px rgba(60, 64, 67, 0.15);\n",
       "      fill: #174EA6;\n",
       "    }\n",
       "\n",
       "    [theme=dark] .colab-df-convert {\n",
       "      background-color: #3B4455;\n",
       "      fill: #D2E3FC;\n",
       "    }\n",
       "\n",
       "    [theme=dark] .colab-df-convert:hover {\n",
       "      background-color: #434B5C;\n",
       "      box-shadow: 0px 1px 3px 1px rgba(0, 0, 0, 0.15);\n",
       "      filter: drop-shadow(0px 1px 2px rgba(0, 0, 0, 0.3));\n",
       "      fill: #FFFFFF;\n",
       "    }\n",
       "  </style>\n",
       "\n",
       "      <script>\n",
       "        const buttonEl =\n",
       "          document.querySelector('#df-cdcedeec-10d8-4bb9-9655-ebd904a9a048 button.colab-df-convert');\n",
       "        buttonEl.style.display =\n",
       "          google.colab.kernel.accessAllowed ? 'block' : 'none';\n",
       "\n",
       "        async function convertToInteractive(key) {\n",
       "          const element = document.querySelector('#df-cdcedeec-10d8-4bb9-9655-ebd904a9a048');\n",
       "          const dataTable =\n",
       "            await google.colab.kernel.invokeFunction('convertToInteractive',\n",
       "                                                     [key], {});\n",
       "          if (!dataTable) return;\n",
       "\n",
       "          const docLinkHtml = 'Like what you see? Visit the ' +\n",
       "            '<a target=\"_blank\" href=https://colab.research.google.com/notebooks/data_table.ipynb>data table notebook</a>'\n",
       "            + ' to learn more about interactive tables.';\n",
       "          element.innerHTML = '';\n",
       "          dataTable['output_type'] = 'display_data';\n",
       "          await google.colab.output.renderOutput(dataTable, element);\n",
       "          const docLink = document.createElement('div');\n",
       "          docLink.innerHTML = docLinkHtml;\n",
       "          element.appendChild(docLink);\n",
       "        }\n",
       "      </script>\n",
       "    </div>\n",
       "  </div>\n",
       "  "
      ],
      "text/plain": [
       "                                                text  ... topicID\n",
       "0             Info has been found (+/- 100 pages,...  ...       0\n",
       "1             These are the team members:   Drewe...  ...       0\n",
       "3                   testing!!!  testing!!!            ...       0\n",
       "4               Thanks to Yahoo!'s Toolbar I can ...  ...       1\n",
       "5               I had an interesting conversation...  ...       1\n",
       "\n",
       "[5 rows x 4 columns]"
      ]
     },
     "execution_count": 56,
     "metadata": {},
     "output_type": "execute_result"
    }
   ],
   "source": [
    "final_df['topicID']=final_df['topic'].factorize()[0]\n",
    "final_df.head()"
   ]
  },
  {
   "cell_type": "markdown",
   "metadata": {
    "id": "wOZwkP84XCan"
   },
   "source": [
    "### **Visualizing Data: The below graph shows the topic count for each category from the dataset.**"
   ]
  },
  {
   "cell_type": "code",
   "execution_count": 57,
   "metadata": {
    "colab": {
     "base_uri": "https://localhost:8080/",
     "height": 494
    },
    "id": "hmVW08PhWMVs",
    "outputId": "4b0f2066-65fa-428c-b7c0-984368d02444"
   },
   "outputs": [
    {
     "data": {
      "image/png": "[encoded data removed]",
      "text/plain": [
       "<Figure size 1080x360 with 1 Axes>"
      ]
     },
     "metadata": {
      "needs_background": "light"
     },
     "output_type": "display_data"
    }
   ],
   "source": [
    "fig=plt.figure(figsize=(15,5))\n",
    "final_df.groupby('topic').topicID.value_counts().plot(kind='bar')\n",
    "plt.xlabel(\"Topic category of data\")\n",
    "plt.title(\"Visualise number of topic of data\")\n",
    "plt.show()"
   ]
  },
  {
   "cell_type": "markdown",
   "metadata": {
    "id": "noYw0l22XN-z"
   },
   "source": [
    "###**A. Create dependent and independent variables. Hint: Treat ‘topic’ as a Target variable**"
   ]
  },
  {
   "cell_type": "code",
   "execution_count": 58,
   "metadata": {
    "id": "X4rVvOJkW-yA"
   },
   "outputs": [],
   "source": [
    "#Independent variable X\n",
    "X=final_df['clean_data']\n",
    "\n",
    "#Dependent variable(target variable) y\n",
    "y=final_df['topicID']"
   ]
  },
  {
   "cell_type": "markdown",
   "metadata": {
    "id": "hBi4zb65XUMa"
   },
   "source": [
    "### **Whenever we apply any algorithm in NLP, it works on numbers. We cannot directly feed our text into that algorithm. Hence, the Bag of Words model is used to preprocess the text by converting it into a bag of words, which keeps a count of the total occurrences of the most frequently used words.**"
   ]
  },
  {
   "cell_type": "code",
   "execution_count": 59,
   "metadata": {
    "id": "7YSaRoWSXPx5"
   },
   "outputs": [],
   "source": [
    "X=np.array(final_df.iloc[:,0].values)\n",
    "y=np.array(final_df.topicID.values)"
   ]
  },
  {
   "cell_type": "markdown",
   "metadata": {
    "id": "_mlFI9jrXfJD"
   },
   "source": [
    "###**B. Vectorize data using any one vectorizer.**"
   ]
  },
  {
   "cell_type": "code",
   "execution_count": 60,
   "metadata": {
    "colab": {
     "base_uri": "https://localhost:8080/"
    },
    "id": "tXbuH09aXP0d",
    "outputId": "83efc5e7-7886-4b05-88b4-3d6d7e121bcb"
   },
   "outputs": [
    {
     "name": "stdout",
     "output_type": "stream",
     "text": [
      "X.shape : (9666, 5000)\n",
      "y.shape : (9666,)\n"
     ]
    }
   ],
   "source": [
    "cv=CountVectorizer(ngram_range=(1,2),max_features=5000,stop_words='english',analyzer='word')\n",
    "X=cv.fit_transform(final_df.clean_data).toarray()\n",
    "\n",
    "print(\"X.shape :\",X.shape)\n",
    "print(\"y.shape :\",y.shape)"
   ]
  },
  {
   "cell_type": "markdown",
   "metadata": {
    "id": "KRzpV7gcXlU1"
   },
   "source": [
    "###**C. Split data into train and test.**"
   ]
  },
  {
   "cell_type": "code",
   "execution_count": 61,
   "metadata": {
    "colab": {
     "base_uri": "https://localhost:8080/"
    },
    "id": "HiR9OhioXP3_",
    "outputId": "f33e9ed8-7f76-4f81-c6af-dc5d544dc8e9"
   },
   "outputs": [
    {
     "name": "stdout",
     "output_type": "stream",
     "text": [
      "Training set : 6766\n",
      "Testing set : 2900\n"
     ]
    }
   ],
   "source": [
    "from sklearn.model_selection import train_test_split\n",
    "X_train,X_test,y_train,y_test=train_test_split(X,y,random_state=0,test_size=0.3,shuffle=True)\n",
    "print(\"Training set :\",len(X_train))\n",
    "print(\"Testing set :\",len(X_test))"
   ]
  },
  {
   "cell_type": "markdown",
   "metadata": {
    "id": "QiwqQXwQXzEg"
   },
   "source": [
    "###**D. Build a base model for Supervised Learning - Classification.**"
   ]
  },
  {
   "cell_type": "code",
   "execution_count": 62,
   "metadata": {
    "id": "GMW2vw7FW-04"
   },
   "outputs": [],
   "source": [
    "LoR1=LogisticRegression(solver=\"liblinear\")\n",
    "LoR1.fit(X_train,y_train) #fit the model\n",
    "y_pred1=LoR1.predict(X_test) #predict on test"
   ]
  },
  {
   "cell_type": "code",
   "execution_count": 63,
   "metadata": {
    "colab": {
     "base_uri": "https://localhost:8080/"
    },
    "id": "gPzenfRHW-3v",
    "outputId": "1fc4382d-73e7-416f-953c-b1070347f55f"
   },
   "outputs": [
    {
     "name": "stdout",
     "output_type": "stream",
     "text": [
      "Test Accuracy Score of Basic: %  : 63.72\n",
      "Precision Score : 0.6372413793103449\n",
      "f1 Score : 0.6372413793103449\n",
      "Recall Score : 0.6372413793103449\n"
     ]
    }
   ],
   "source": [
    "acc_score_LR=round(accuracy_score(y_test,y_pred1)*100,2)\n",
    "print(f'Test Accuracy Score of Basic: %  :',acc_score_LR)\n",
    "precLR=precision_score(y_test,y_pred1,average='micro')\n",
    "print('Precision Score :',precLR)\n",
    "f1LR=f1_score(y_test,y_pred1,average='micro')\n",
    "print('f1 Score :',f1LR)\n",
    "recallLR=recall_score(y_test,y_pred1,average='micro')\n",
    "print('Recall Score :',recallLR)"
   ]
  },
  {
   "cell_type": "markdown",
   "metadata": {
    "id": "uN3PXMRdYBM8"
   },
   "source": [
    "###**4. Improve Performance of model.** "
   ]
  },
  {
   "cell_type": "markdown",
   "metadata": {
    "id": "bKkQwH7bYFC6"
   },
   "source": [
    "###**A. Experiment with other vectorisers.**"
   ]
  },
  {
   "cell_type": "code",
   "execution_count": 64,
   "metadata": {
    "id": "XLPcx6s0W-6T"
   },
   "outputs": [],
   "source": [
    "tfiv=TfidfVectorizer(ngram_range=(1,2),max_features=5000,stop_words='english',analyzer='word')\n",
    "X=cv.fit_transform(final_df.clean_data).toarray()"
   ]
  },
  {
   "cell_type": "markdown",
   "metadata": {
    "id": "6ThqOAoHYVW9"
   },
   "source": [
    "###**B. Build classifier Models using other algorithms than base model.**"
   ]
  },
  {
   "cell_type": "code",
   "execution_count": 67,
   "metadata": {
    "id": "--02UHfFW-95"
   },
   "outputs": [],
   "source": [
    "from sklearn.ensemble import RandomForestClassifier\n",
    "RF_model=RandomForestClassifier()\n",
    "RF_model.fit(X_train,y_train)\n",
    "RF_pred=RF_model.predict(X_test)"
   ]
  },
  {
   "cell_type": "code",
   "execution_count": 68,
   "metadata": {
    "colab": {
     "base_uri": "https://localhost:8080/"
    },
    "id": "YlrpECgMWMZM",
    "outputId": "dc394d00-3075-4e5c-d98a-3e71d9bfe6e1"
   },
   "outputs": [
    {
     "name": "stdout",
     "output_type": "stream",
     "text": [
      "Test Accuracy Score of Basic: %  : 58.48\n",
      "Precision Score : 0.5848275862068966\n",
      "f1 Score : 0.5848275862068966\n",
      "Recall Score : 0.5848275862068966\n"
     ]
    }
   ],
   "source": [
    "RFacc=round(accuracy_score(y_test,RF_pred)*100,2)\n",
    "print(f'Test Accuracy Score of Basic: %  :',RFacc)\n",
    "precRF=precision_score(y_test,RF_pred,average='micro')\n",
    "print('Precision Score :',precRF)\n",
    "f1RF=f1_score(y_test,RF_pred,average='micro')\n",
    "print('f1 Score :',f1RF)\n",
    "recallRF=recall_score(y_test,RF_pred,average='micro')\n",
    "print('Recall Score :',recallRF)"
   ]
  },
  {
   "cell_type": "markdown",
   "metadata": {
    "id": "rCnCu0QnYegH"
   },
   "source": [
    "###**C. Tune Parameters/Hyperparameters of the model/s.**"
   ]
  },
  {
   "cell_type": "code",
   "execution_count": 69,
   "metadata": {
    "id": "WJMwimQAYZWT"
   },
   "outputs": [],
   "source": [
    "ms=MinMaxScaler(feature_range=(0, 1))\n",
    "X_train_scaler=ms.fit_transform(X_train)\n",
    "X_test_scaler=ms.transform(X_test)"
   ]
  },
  {
   "cell_type": "code",
   "execution_count": 70,
   "metadata": {
    "id": "AOcL6nzsYZZK"
   },
   "outputs": [],
   "source": [
    "LoR2_scaler=LogisticRegression(solver=\"liblinear\")\n",
    "LoR2_scaler.fit(X_train_scaler,y_train) #fit the model\n",
    "y_pred2=LoR2_scaler.predict(X_test_scaler) #predict on test"
   ]
  },
  {
   "cell_type": "code",
   "execution_count": 71,
   "metadata": {
    "colab": {
     "base_uri": "https://localhost:8080/"
    },
    "id": "LGZkaRJcYZcH",
    "outputId": "92724d43-1ec2-4489-ff33-4125b7b7e094"
   },
   "outputs": [
    {
     "name": "stdout",
     "output_type": "stream",
     "text": [
      "Test Accuracy Score of Basic: %  : 59.59\n",
      "Precision Score : 0.5958620689655172\n",
      "f1 Score : 0.5958620689655172\n",
      "Recall Score : 0.5958620689655172\n"
     ]
    }
   ],
   "source": [
    "acc_LR2_scaler=round(accuracy_score(y_test,y_pred2)*100,2)\n",
    "print(f'Test Accuracy Score of Basic: %  :',acc_LR2_scaler)\n",
    "prec_LR2_scaler=precision_score(y_test,y_pred2,average='micro')\n",
    "print('Precision Score :',prec_LR2_scaler)\n",
    "f1_LR2_scaler=f1_score(y_test,y_pred2,average='micro')\n",
    "print('f1 Score :',f1_LR2_scaler)\n",
    "recall_LR2_scaler=recall_score(y_test,y_pred2,average='micro')\n",
    "print('Recall Score :',recall_LR2_scaler)"
   ]
  },
  {
   "cell_type": "code",
   "execution_count": 72,
   "metadata": {
    "id": "3pcIO199YZed"
   },
   "outputs": [],
   "source": [
    "RF_model_scaler=RandomForestClassifier()\n",
    "RF_model_scaler.fit(X_train_scaler,y_train)\n",
    "RF_pred_scaler=RF_model_scaler.predict(X_test_scaler)"
   ]
  },
  {
   "cell_type": "code",
   "execution_count": 73,
   "metadata": {
    "colab": {
     "base_uri": "https://localhost:8080/"
    },
    "id": "caW_nLjcYZh5",
    "outputId": "31d9435b-a358-4a24-a83d-12d2dae6ca79"
   },
   "outputs": [
    {
     "name": "stdout",
     "output_type": "stream",
     "text": [
      "Test Accuracy Score of Basic: %  : 58.07\n",
      "Precision Score : 0.5806896551724138\n",
      "f1 Score : 0.5806896551724138\n",
      "Recall Score : 0.5806896551724138\n"
     ]
    }
   ],
   "source": [
    "acc_score_RF_scaler=round(accuracy_score(y_test,RF_pred_scaler)*100,2)\n",
    "print(f'Test Accuracy Score of Basic: %  :',acc_score_RF_scaler)\n",
    "prec_score_RF_scaler=precision_score(y_test,RF_pred_scaler,average='micro')\n",
    "print('Precision Score :',prec_score_RF_scaler)\n",
    "f1_score_RF_scaler=f1_score(y_test,RF_pred_scaler,average='micro')\n",
    "print('f1 Score :',f1_score_RF_scaler)\n",
    "recall_score_RF_scaler=recall_score(y_test,RF_pred_scaler,average='micro')\n",
    "print('Recall Score :',recall_score_RF_scaler)"
   ]
  },
  {
   "cell_type": "code",
   "execution_count": 74,
   "metadata": {
    "id": "oXsoE6mpYZkU"
   },
   "outputs": [],
   "source": [
    "from sklearn.model_selection import GridSearchCV\n",
    "grid={\"C\":np.logspace(-3,3,7),\"penalty\":[\"l1\",\"l2\"]}\n",
    "LoR3_GS=LogisticRegression()\n",
    "gs1=GridSearchCV(LoR3_GS,grid,cv=10)\n",
    "gs1.fit(X_train,y_train)\n",
    "y_predLR3_GS=gs1.predict(X_test)"
   ]
  },
  {
   "cell_type": "code",
   "execution_count": 76,
   "metadata": {
    "colab": {
     "base_uri": "https://localhost:8080/"
    },
    "id": "T489qddWURbg",
    "outputId": "4a1a5240-0a59-4019-9cd0-40e238d3ef2a"
   },
   "outputs": [
    {
     "name": "stdout",
     "output_type": "stream",
     "text": [
      "Test Accuracy Score of Basic: %  : 63.72\n",
      "Precision Score : 0.6324137931034483\n",
      "f1 Score : 0.6324137931034483\n",
      "Recall Score : 0.6324137931034483\n"
     ]
    }
   ],
   "source": [
    "acc_LR3_GS=round(accuracy_score(y_test,y_predLR3_GS)*100,2)\n",
    "print(f'Test Accuracy Score of Basic: %  :',acc_score_LR)\n",
    "prec_LR3_GS=precision_score(y_test,y_predLR3_GS,average='micro')\n",
    "print('Precision Score :',prec_LR3_GS)\n",
    "f1_LR3_GS=f1_score(y_test,y_predLR3_GS,average='micro')\n",
    "print('f1 Score :',f1_LR3_GS)\n",
    "recall_LR3_GS=recall_score(y_test,y_predLR3_GS,average='micro')\n",
    "print('Recall Score :',recall_LR3_GS)"
   ]
  },
  {
   "cell_type": "markdown",
   "metadata": {
    "id": "xCO6eV16Y_1V"
   },
   "source": [
    "###**D. Clearly print Performance Metrics.**"
   ]
  },
  {
   "cell_type": "code",
   "execution_count": 77,
   "metadata": {
    "colab": {
     "base_uri": "https://localhost:8080/",
     "height": 206
    },
    "id": "5OkFH-4cY8hR",
    "outputId": "b4c8bb95-3142-43cd-92b7-bd4dfd76f0b7"
   },
   "outputs": [
    {
     "data": {
      "text/html": [
       "\n",
       "  <div id=\"df-c94fc4a7-9486-455d-b415-c97113c1090c\">\n",
       "    <div class=\"colab-df-container\">\n",
       "      <div>\n",
       "<style scoped>\n",
       "    .dataframe tbody tr th:only-of-type {\n",
       "        vertical-align: middle;\n",
       "    }\n",
       "\n",
       "    .dataframe tbody tr th {\n",
       "        vertical-align: top;\n",
       "    }\n",
       "\n",
       "    .dataframe thead th {\n",
       "        text-align: right;\n",
       "    }\n",
       "</style>\n",
       "<table border=\"1\" class=\"dataframe\">\n",
       "  <thead>\n",
       "    <tr style=\"text-align: right;\">\n",
       "      <th></th>\n",
       "      <th>Model</th>\n",
       "      <th>Accuracy Score</th>\n",
       "      <th>Precision Score</th>\n",
       "      <th>F1 Score</th>\n",
       "      <th>Recall Score</th>\n",
       "    </tr>\n",
       "  </thead>\n",
       "  <tbody>\n",
       "    <tr>\n",
       "      <th>0</th>\n",
       "      <td>Logistic Regression</td>\n",
       "      <td>63.72</td>\n",
       "      <td>0.637241</td>\n",
       "      <td>0.637241</td>\n",
       "      <td>0.637241</td>\n",
       "    </tr>\n",
       "    <tr>\n",
       "      <th>1</th>\n",
       "      <td>RandomForestClassifier</td>\n",
       "      <td>58.48</td>\n",
       "      <td>0.584828</td>\n",
       "      <td>0.584828</td>\n",
       "      <td>0.584828</td>\n",
       "    </tr>\n",
       "    <tr>\n",
       "      <th>2</th>\n",
       "      <td>Logistic Regression with MinMaxScaler</td>\n",
       "      <td>59.59</td>\n",
       "      <td>0.595862</td>\n",
       "      <td>0.595862</td>\n",
       "      <td>0.595862</td>\n",
       "    </tr>\n",
       "    <tr>\n",
       "      <th>3</th>\n",
       "      <td>RandomForestClassifier with MinMaxScaler</td>\n",
       "      <td>58.07</td>\n",
       "      <td>0.580690</td>\n",
       "      <td>0.580690</td>\n",
       "      <td>0.580690</td>\n",
       "    </tr>\n",
       "    <tr>\n",
       "      <th>4</th>\n",
       "      <td>Logistic Regression with GridSearch</td>\n",
       "      <td>63.24</td>\n",
       "      <td>0.632414</td>\n",
       "      <td>0.632414</td>\n",
       "      <td>0.632414</td>\n",
       "    </tr>\n",
       "  </tbody>\n",
       "</table>\n",
       "</div>\n",
       "      <button class=\"colab-df-convert\" onclick=\"convertToInteractive('df-c94fc4a7-9486-455d-b415-c97113c1090c')\"\n",
       "              title=\"Convert this dataframe to an interactive table.\"\n",
       "              style=\"display:none;\">\n",
       "        \n",
       "  <svg xmlns=\"http://www.w3.org/2000/svg\" height=\"24px\"viewBox=\"0 0 24 24\"\n",
       "       width=\"24px\">\n",
       "    <path d=\"M0 0h24v24H0V0z\" fill=\"none\"/>\n",
       "    <path d=\"M18.56 5.44l.94 2.06.94-2.06 2.06-.94-2.06-.94-.94-2.06-.94 2.06-2.06.94zm-11 1L8.5 8.5l.94-2.06 2.06-.94-2.06-.94L8.5 2.5l-.94 2.06-2.06.94zm10 10l.94 2.06.94-2.06 2.06-.94-2.06-.94-.94-2.06-.94 2.06-2.06.94z\"/><path d=\"M17.41 7.96l-1.37-1.37c-.4-.4-.92-.59-1.43-.59-.52 0-1.04.2-1.43.59L10.3 9.45l-7.72 7.72c-.78.78-.78 2.05 0 2.83L4 21.41c.39.39.9.59 1.41.59.51 0 1.02-.2 1.41-.59l7.78-7.78 2.81-2.81c.8-.78.8-2.07 0-2.86zM5.41 20L4 18.59l7.72-7.72 1.47 1.35L5.41 20z\"/>\n",
       "  </svg>\n",
       "      </button>\n",
       "      \n",
       "  <style>\n",
       "    .colab-df-container {\n",
       "      display:flex;\n",
       "      flex-wrap:wrap;\n",
       "      gap: 12px;\n",
       "    }\n",
       "\n",
       "    .colab-df-convert {\n",
       "      background-color: #E8F0FE;\n",
       "      border: none;\n",
       "      border-radius: 50%;\n",
       "      cursor: pointer;\n",
       "      display: none;\n",
       "      fill: #1967D2;\n",
       "      height: 32px;\n",
       "      padding: 0 0 0 0;\n",
       "      width: 32px;\n",
       "    }\n",
       "\n",
       "    .colab-df-convert:hover {\n",
       "      background-color: #E2EBFA;\n",
       "      box-shadow: 0px 1px 2px rgba(60, 64, 67, 0.3), 0px 1px 3px 1px rgba(60, 64, 67, 0.15);\n",
       "      fill: #174EA6;\n",
       "    }\n",
       "\n",
       "    [theme=dark] .colab-df-convert {\n",
       "      background-color: #3B4455;\n",
       "      fill: #D2E3FC;\n",
       "    }\n",
       "\n",
       "    [theme=dark] .colab-df-convert:hover {\n",
       "      background-color: #434B5C;\n",
       "      box-shadow: 0px 1px 3px 1px rgba(0, 0, 0, 0.15);\n",
       "      filter: drop-shadow(0px 1px 2px rgba(0, 0, 0, 0.3));\n",
       "      fill: #FFFFFF;\n",
       "    }\n",
       "  </style>\n",
       "\n",
       "      <script>\n",
       "        const buttonEl =\n",
       "          document.querySelector('#df-c94fc4a7-9486-455d-b415-c97113c1090c button.colab-df-convert');\n",
       "        buttonEl.style.display =\n",
       "          google.colab.kernel.accessAllowed ? 'block' : 'none';\n",
       "\n",
       "        async function convertToInteractive(key) {\n",
       "          const element = document.querySelector('#df-c94fc4a7-9486-455d-b415-c97113c1090c');\n",
       "          const dataTable =\n",
       "            await google.colab.kernel.invokeFunction('convertToInteractive',\n",
       "                                                     [key], {});\n",
       "          if (!dataTable) return;\n",
       "\n",
       "          const docLinkHtml = 'Like what you see? Visit the ' +\n",
       "            '<a target=\"_blank\" href=https://colab.research.google.com/notebooks/data_table.ipynb>data table notebook</a>'\n",
       "            + ' to learn more about interactive tables.';\n",
       "          element.innerHTML = '';\n",
       "          dataTable['output_type'] = 'display_data';\n",
       "          await google.colab.output.renderOutput(dataTable, element);\n",
       "          const docLink = document.createElement('div');\n",
       "          docLink.innerHTML = docLinkHtml;\n",
       "          element.appendChild(docLink);\n",
       "        }\n",
       "      </script>\n",
       "    </div>\n",
       "  </div>\n",
       "  "
      ],
      "text/plain": [
       "                                      Model  ...  Recall Score\n",
       "0                       Logistic Regression  ...      0.637241\n",
       "1                    RandomForestClassifier  ...      0.584828\n",
       "2     Logistic Regression with MinMaxScaler  ...      0.595862\n",
       "3  RandomForestClassifier with MinMaxScaler  ...      0.580690\n",
       "4       Logistic Regression with GridSearch  ...      0.632414\n",
       "\n",
       "[5 rows x 5 columns]"
      ]
     },
     "execution_count": 77,
     "metadata": {},
     "output_type": "execute_result"
    }
   ],
   "source": [
    "models=pd.DataFrame({'Model':['Logistic Regression','RandomForestClassifier','Logistic Regression with MinMaxScaler','RandomForestClassifier with MinMaxScaler','Logistic Regression with GridSearch'],\n",
    "                    'Accuracy Score':[acc_score_LR,RFacc,acc_LR2_scaler,acc_score_RF_scaler,acc_LR3_GS],\n",
    "                    'Precision Score':[precLR,precRF,prec_LR2_scaler,prec_score_RF_scaler,prec_LR3_GS],\n",
    "                    'F1 Score':[f1LR,f1RF,f1_LR2_scaler,f1_score_RF_scaler,f1_LR3_GS],\n",
    "                    'Recall Score':[recallLR,recallRF,recall_LR2_scaler,recall_score_RF_scaler,recall_LR3_GS]})\n",
    "models.sort_index()"
   ]
  },
  {
   "cell_type": "markdown",
   "metadata": {
    "id": "VxZs1NZcZIU0"
   },
   "source": [
    "### **5. Share insights on relative performance comparison**"
   ]
  },
  {
   "cell_type": "markdown",
   "metadata": {
    "id": "WE13O1JaZIXt"
   },
   "source": [
    "1. We analysed the data and preprocess it accordingly.\n",
    "2. We used Bag of Words model(vectorization) for representing our data which is used for text extraction.\n",
    "3. Logistic Regression proves to be a better model in given text classification problem, hence more accurate results we get.\n",
    "4. We achieve an accuracy score of approximately 64% using Logistic Regression which is 4% higher than RandomForest Classifier.\n",
    "5. We set the labels with \"micro\" averaging in Multiclass. Hence producing **equal** precision, recall and f1 score. (In Micro-average method, you sum up the individual true positives, false positives, and \n",
    "false negatives of the system for different sets and then apply them to get the statistics.)"
   ]
  },
  {
   "cell_type": "markdown",
   "metadata": {
    "id": "aGfz-M4tZIaH"
   },
   "source": [
    "### **A. Which vectorizer performed better? Probable reason?**"
   ]
  },
  {
   "cell_type": "markdown",
   "metadata": {
    "id": "jLJd2GyWZIdY"
   },
   "source": [
    "1. Bag of Words(CountVectorizer) just creates a set of vectors containing the count of word occurrences in the document (reviews), while the TF-IDF model contains information on the more important words and the less important ones as well. \n",
    "2. We can then remove the words that are less important for analysis using TfidfVectorizer hence making the model building less complex by reducing the input dimensions.\n"
   ]
  },
  {
   "cell_type": "markdown",
   "metadata": {
    "id": "b0IwIX5TZY2x"
   },
   "source": [
    "###**B. Which model outperformed? Probable reason?**"
   ]
  },
  {
   "cell_type": "markdown",
   "metadata": {
    "id": "bc6MZeBxZY5M"
   },
   "source": [
    "1. Logistic Regression(LR) proves to be a better model.\n",
    "2. We know that LR aims to tell you the probability of your data belonging to one class or the other.  \n",
    "2. LR is always succesful in classification problem. That's the reason Logistic Regression outperformed RandomForestClassifier."
   ]
  },
  {
   "cell_type": "markdown",
   "metadata": {
    "id": "QHtLPIWlZhNi"
   },
   "source": [
    "### **C. Which parameter/hyperparameter significantly helped to improve performance?Probable reason?.** ###"
   ]
  },
  {
   "cell_type": "markdown",
   "metadata": {
    "id": "r-PN1iIYZhQG"
   },
   "source": [
    "1. We used Grid search to find the optimal hyperparameter of a model which results in the most 'accurate' predictions.\n",
    "2. It helped to improve the performance.\n",
    "\n",
    "With anothe hyperparameter MinMaxScaler,\n",
    "1. We applied the MinMaxScaler to normalise the input variable.\n",
    "2. We prefered MinMaxScaler over StandardScaler Because it preserves the shape of the original distribution and doesnt reduce the importantce if the outliers.\n",
    "3. We have scaled the data to improve deep learning model's stability and performance.\n",
    "4. But, we are getting lower performance with MinMaxScaler.\n",
    "5. Logistic Regression and RandomForest with MinMaxScaler both are not giving expected good result."
   ]
  },
  {
   "cell_type": "markdown",
   "metadata": {
    "id": "IoyRJXaYZhTp"
   },
   "source": [
    "### **D. According to you, which performance metric should be given most importance, why?.** ###"
   ]
  },
  {
   "cell_type": "markdown",
   "metadata": {
    "id": "PrpOVyI_ZY8r"
   },
   "source": [
    "1. According to me, 'F1 score' performance metric should be given most importance.\n",
    "2. Accuracy is equally important. But,Accuracy is used when the True Positives and True Negatives are more important while F1-score is used when the False Negatives and False Positives are crucial. In most real-life classification problems, imbalanced class distribution exists and thus F1-score is a better metric to evaluate our model on."
   ]
  },
  {
   "cell_type": "markdown",
   "metadata": {
    "id": "rIaXgg8V6ZeD"
   },
   "source": [
    "#**• DOMAIN: Customer support**"
   ]
  },
  {
   "cell_type": "markdown",
   "metadata": {
    "id": "5453ESpV6avL"
   },
   "source": [
    "##**• PROJECT OBJECTIVE: Design a python based interactive semi - rule based chatbot which can do the following:**\n"
   ]
  },
  {
   "cell_type": "markdown",
   "metadata": {
    "id": "7SZBF2Y76eu_"
   },
   "source": [
    "###**1. Start chat session with greetings and ask what the user is looking for.** "
   ]
  },
  {
   "cell_type": "code",
   "execution_count": 78,
   "metadata": {
    "id": "npykIxEfY8kC"
   },
   "outputs": [],
   "source": [
    "import numpy as np\n",
    "import pandas as pd\n",
    "import matplotlib.pyplot as plot\n",
    "%matplotlib inline\n",
    "import seaborn as sns\n",
    "\n",
    "import nltk\n",
    "\n",
    "from tensorflow.keras.preprocessing.text import Tokenizer\n",
    "from tensorflow.keras.preprocessing.sequence import pad_sequences\n",
    "\n",
    "from tensorflow.keras.models import Sequential\n",
    "from tensorflow.keras.layers import Dense, Embedding, GlobalAveragePooling1D\n",
    "\n",
    "from sklearn.preprocessing import LabelEncoder\n",
    "from sklearn.feature_extraction.text import CountVectorizer \n",
    "\n",
    "import warnings\n",
    "warnings.filterwarnings('ignore')\n",
    "\n",
    "#importing corpus\n",
    "import json\n",
    "#import corpus file\n",
    "with open('/content/drive/My Drive/AIML/NLP/Part1_ProjectData/Bot.json') as json_file:\n",
    "     data=json.load(json_file) "
   ]
  },
  {
   "cell_type": "code",
   "execution_count": 79,
   "metadata": {
    "colab": {
     "base_uri": "https://localhost:8080/"
    },
    "id": "0ryQh23wY8m7",
    "outputId": "dcc3eeef-5c31-4e22-ffa8-5408e73dcedc"
   },
   "outputs": [
    {
     "name": "stdout",
     "output_type": "stream",
     "text": [
      "{'intents': [{'tag': 'Intro', 'patterns': ['hi', 'how are you', 'is anyone there', 'hello', 'whats up', 'hey', 'yo', 'listen', 'please help me', 'i am learner from', 'i belong to', 'aiml batch', 'aifl batch', 'i am from', 'my pm is', 'blended', 'online', 'i am from', 'hey ya', 'talking to you for first time'], 'responses': ['Hello! how can i help you ?'], 'context_set': ''}, {'tag': 'Exit', 'patterns': ['thank you', 'thanks', 'cya', 'see you', 'later', 'see you later', 'goodbye', 'i am leaving', 'have a Good day', 'you helped me', 'thanks a lot', 'thanks a ton', 'you are the best', 'great help', 'too good', 'you are a good learning buddy'], 'responses': ['I hope I was able to assist you, Good Bye'], 'context_set': ''}, {'tag': 'Olympus', 'patterns': ['olympus', 'explain me how olympus works', 'I am not able to understand olympus', 'olympus window not working', 'no access to olympus', 'unable to see link in olympus', 'no link visible on olympus', 'whom to contact for olympus', 'lot of problem with olympus', 'olypus is not a good tool', 'lot of problems with olympus', 'how to use olympus', 'teach me olympus'], 'responses': ['Link: Olympus wiki'], 'context_set': ''}, {'tag': 'SL', 'patterns': ['i am not able to understand svm', 'explain me how machine learning works', 'i am not able to understand naive bayes', 'i am not able to understand logistic regression', 'i am not able to understand ensemble techb=niques', 'i am not able to understand knn', 'i am not able to understand knn imputer', 'i am not able to understand cross validation', 'i am not able to understand boosting', 'i am not able to understand random forest', 'i am not able to understand ada boosting', 'i am not able to understand gradient boosting', 'machine learning', 'ML', 'SL', 'supervised learning', 'knn', 'logistic regression', 'regression', 'classification', 'naive bayes', 'nb', 'ensemble techniques', 'bagging', 'boosting', 'ada boosting', 'ada', 'gradient boosting', 'hyper parameters'], 'responses': ['Link: Machine Learning wiki '], 'context_set': ''}, {'tag': 'NN', 'patterns': ['what is deep learning', 'unable to understand deep learning', 'explain me how deep learning works', 'i am not able to understand deep learning', 'not able to understand neural nets', 'very diffult to understand neural nets', 'unable to understand neural nets', 'ann', 'artificial intelligence', 'artificial neural networks', 'weights', 'activation function', 'hidden layers', 'softmax', 'sigmoid', 'relu', 'otimizer', 'forward propagation', 'backward propagation', 'epochs', 'epoch', 'what is an epoch', 'adam', 'sgd'], 'responses': ['Link: Neural Nets wiki'], 'context_set': ''}, {'tag': 'Bot', 'patterns': ['what is your name', 'who are you', 'name please', 'when are your hours of opertions', 'what are your working hours', 'hours of operation', 'working hours', 'hours'], 'responses': ['I am your virtual learning assistant'], 'context_set': ''}, {'tag': 'Profane', 'patterns': ['what the hell', 'bloody stupid bot', 'do you think you are very smart', 'screw you', 'i hate you', 'you are stupid', 'jerk', 'you are a joke', 'useless piece of shit'], 'responses': ['Please use respectful words'], 'context_set': ''}, {'tag': 'Ticket', 'patterns': ['my problem is not solved', 'you did not help me', 'not a good solution', 'bad solution', 'not good solution', 'no help', 'wasted my time', 'useless bot', 'create a ticket'], 'responses': ['Tarnsferring the request to your PM'], 'context_set': ''}]}\n"
     ]
    }
   ],
   "source": [
    "#Display corpus file\n",
    "print(data)"
   ]
  },
  {
   "cell_type": "code",
   "execution_count": 80,
   "metadata": {
    "colab": {
     "base_uri": "https://localhost:8080/",
     "height": 300
    },
    "id": "8AVZxxEZY8ph",
    "outputId": "3a547f6c-f1df-47cb-ce33-bb68df9958e1"
   },
   "outputs": [
    {
     "data": {
      "text/html": [
       "\n",
       "  <div id=\"df-2f9b915d-5b70-4670-935f-72d96c38951d\">\n",
       "    <div class=\"colab-df-container\">\n",
       "      <div>\n",
       "<style scoped>\n",
       "    .dataframe tbody tr th:only-of-type {\n",
       "        vertical-align: middle;\n",
       "    }\n",
       "\n",
       "    .dataframe tbody tr th {\n",
       "        vertical-align: top;\n",
       "    }\n",
       "\n",
       "    .dataframe thead th {\n",
       "        text-align: right;\n",
       "    }\n",
       "</style>\n",
       "<table border=\"1\" class=\"dataframe\">\n",
       "  <thead>\n",
       "    <tr style=\"text-align: right;\">\n",
       "      <th></th>\n",
       "      <th>tag</th>\n",
       "      <th>patterns</th>\n",
       "      <th>responses</th>\n",
       "    </tr>\n",
       "  </thead>\n",
       "  <tbody>\n",
       "    <tr>\n",
       "      <th>0</th>\n",
       "      <td>I</td>\n",
       "      <td>hi</td>\n",
       "      <td>Hello! how can i help you ?</td>\n",
       "    </tr>\n",
       "    <tr>\n",
       "      <th>1</th>\n",
       "      <td>E</td>\n",
       "      <td>thank you</td>\n",
       "      <td>I hope I was able to assist you, Good Bye</td>\n",
       "    </tr>\n",
       "    <tr>\n",
       "      <th>2</th>\n",
       "      <td>O</td>\n",
       "      <td>olympus</td>\n",
       "      <td>Link: Olympus wiki</td>\n",
       "    </tr>\n",
       "    <tr>\n",
       "      <th>3</th>\n",
       "      <td>S</td>\n",
       "      <td>i am not able to understand svm</td>\n",
       "      <td>Link: Machine Learning wiki</td>\n",
       "    </tr>\n",
       "    <tr>\n",
       "      <th>4</th>\n",
       "      <td>N</td>\n",
       "      <td>what is deep learning</td>\n",
       "      <td>Link: Neural Nets wiki</td>\n",
       "    </tr>\n",
       "    <tr>\n",
       "      <th>5</th>\n",
       "      <td>B</td>\n",
       "      <td>what is your name</td>\n",
       "      <td>I am your virtual learning assistant</td>\n",
       "    </tr>\n",
       "    <tr>\n",
       "      <th>6</th>\n",
       "      <td>P</td>\n",
       "      <td>what the hell</td>\n",
       "      <td>Please use respectful words</td>\n",
       "    </tr>\n",
       "    <tr>\n",
       "      <th>7</th>\n",
       "      <td>T</td>\n",
       "      <td>my problem is not solved</td>\n",
       "      <td>Tarnsferring the request to your PM</td>\n",
       "    </tr>\n",
       "  </tbody>\n",
       "</table>\n",
       "</div>\n",
       "      <button class=\"colab-df-convert\" onclick=\"convertToInteractive('df-2f9b915d-5b70-4670-935f-72d96c38951d')\"\n",
       "              title=\"Convert this dataframe to an interactive table.\"\n",
       "              style=\"display:none;\">\n",
       "        \n",
       "  <svg xmlns=\"http://www.w3.org/2000/svg\" height=\"24px\"viewBox=\"0 0 24 24\"\n",
       "       width=\"24px\">\n",
       "    <path d=\"M0 0h24v24H0V0z\" fill=\"none\"/>\n",
       "    <path d=\"M18.56 5.44l.94 2.06.94-2.06 2.06-.94-2.06-.94-.94-2.06-.94 2.06-2.06.94zm-11 1L8.5 8.5l.94-2.06 2.06-.94-2.06-.94L8.5 2.5l-.94 2.06-2.06.94zm10 10l.94 2.06.94-2.06 2.06-.94-2.06-.94-.94-2.06-.94 2.06-2.06.94z\"/><path d=\"M17.41 7.96l-1.37-1.37c-.4-.4-.92-.59-1.43-.59-.52 0-1.04.2-1.43.59L10.3 9.45l-7.72 7.72c-.78.78-.78 2.05 0 2.83L4 21.41c.39.39.9.59 1.41.59.51 0 1.02-.2 1.41-.59l7.78-7.78 2.81-2.81c.8-.78.8-2.07 0-2.86zM5.41 20L4 18.59l7.72-7.72 1.47 1.35L5.41 20z\"/>\n",
       "  </svg>\n",
       "      </button>\n",
       "      \n",
       "  <style>\n",
       "    .colab-df-container {\n",
       "      display:flex;\n",
       "      flex-wrap:wrap;\n",
       "      gap: 12px;\n",
       "    }\n",
       "\n",
       "    .colab-df-convert {\n",
       "      background-color: #E8F0FE;\n",
       "      border: none;\n",
       "      border-radius: 50%;\n",
       "      cursor: pointer;\n",
       "      display: none;\n",
       "      fill: #1967D2;\n",
       "      height: 32px;\n",
       "      padding: 0 0 0 0;\n",
       "      width: 32px;\n",
       "    }\n",
       "\n",
       "    .colab-df-convert:hover {\n",
       "      background-color: #E2EBFA;\n",
       "      box-shadow: 0px 1px 2px rgba(60, 64, 67, 0.3), 0px 1px 3px 1px rgba(60, 64, 67, 0.15);\n",
       "      fill: #174EA6;\n",
       "    }\n",
       "\n",
       "    [theme=dark] .colab-df-convert {\n",
       "      background-color: #3B4455;\n",
       "      fill: #D2E3FC;\n",
       "    }\n",
       "\n",
       "    [theme=dark] .colab-df-convert:hover {\n",
       "      background-color: #434B5C;\n",
       "      box-shadow: 0px 1px 3px 1px rgba(0, 0, 0, 0.15);\n",
       "      filter: drop-shadow(0px 1px 2px rgba(0, 0, 0, 0.3));\n",
       "      fill: #FFFFFF;\n",
       "    }\n",
       "  </style>\n",
       "\n",
       "      <script>\n",
       "        const buttonEl =\n",
       "          document.querySelector('#df-2f9b915d-5b70-4670-935f-72d96c38951d button.colab-df-convert');\n",
       "        buttonEl.style.display =\n",
       "          google.colab.kernel.accessAllowed ? 'block' : 'none';\n",
       "\n",
       "        async function convertToInteractive(key) {\n",
       "          const element = document.querySelector('#df-2f9b915d-5b70-4670-935f-72d96c38951d');\n",
       "          const dataTable =\n",
       "            await google.colab.kernel.invokeFunction('convertToInteractive',\n",
       "                                                     [key], {});\n",
       "          if (!dataTable) return;\n",
       "\n",
       "          const docLinkHtml = 'Like what you see? Visit the ' +\n",
       "            '<a target=\"_blank\" href=https://colab.research.google.com/notebooks/data_table.ipynb>data table notebook</a>'\n",
       "            + ' to learn more about interactive tables.';\n",
       "          element.innerHTML = '';\n",
       "          dataTable['output_type'] = 'display_data';\n",
       "          await google.colab.output.renderOutput(dataTable, element);\n",
       "          const docLink = document.createElement('div');\n",
       "          docLink.innerHTML = docLinkHtml;\n",
       "          element.appendChild(docLink);\n",
       "        }\n",
       "      </script>\n",
       "    </div>\n",
       "  </div>\n",
       "  "
      ],
      "text/plain": [
       "  tag  ...                                  responses\n",
       "0   I  ...                Hello! how can i help you ?\n",
       "1   E  ...  I hope I was able to assist you, Good Bye\n",
       "2   O  ...                         Link: Olympus wiki\n",
       "3   S  ...               Link: Machine Learning wiki \n",
       "4   N  ...                     Link: Neural Nets wiki\n",
       "5   B  ...       I am your virtual learning assistant\n",
       "6   P  ...                Please use respectful words\n",
       "7   T  ...        Tarnsferring the request to your PM\n",
       "\n",
       "[8 rows x 3 columns]"
      ]
     },
     "execution_count": 80,
     "metadata": {},
     "output_type": "execute_result"
    }
   ],
   "source": [
    "df_bot=pd.DataFrame(columns=['tag','patterns','responses'])\n",
    "for i in data['intents']:\n",
    "    tag=i['tag']\n",
    "    for t,p,r in zip(i['tag'],i['patterns'],i['responses']):\n",
    "        row={'tag':t,'patterns':p,'responses':r}\n",
    "        df_bot=df_bot.append(row,ignore_index=True)\n",
    "df_bot"
   ]
  },
  {
   "cell_type": "code",
   "execution_count": 81,
   "metadata": {
    "id": "ISuigqOFY8s7"
   },
   "outputs": [],
   "source": [
    "from sklearn.feature_extraction.text import CountVectorizer\n",
    "from scipy.spatial import distance\n",
    "def cosine_dist_countvect(s1,s2):\n",
    "    #sentences to list\n",
    "    allsentences=[s1,s2]   \n",
    "\n",
    "    #text to vector\n",
    "    vectorizer=CountVectorizer()\n",
    "    all_sentences_to_vector=vectorizer.fit_transform(allsentences)\n",
    "    text_to_vectorV1=all_sentences_to_vector.toarray()[0].tolist()\n",
    "    text_to_vectorV2=all_sentences_to_vector.toarray()[1].tolist()\n",
    "\n",
    "    #distance of similarity\n",
    "    cosine=distance.cosine(text_to_vectorV1,text_to_vectorV2)\n",
    "    return round((1-cosine),2)"
   ]
  },
  {
   "cell_type": "code",
   "execution_count": 82,
   "metadata": {
    "id": "mAcXMWc-Y8wC"
   },
   "outputs": [],
   "source": [
    "def respond(patterns):\n",
    "    maximum=float('-inf')\n",
    "    response=\"\"\n",
    "    closest=\"\"\n",
    "    for i in df_bot.iterrows():\n",
    "        sim=cosine_dist_countvect(patterns,i[1]['patterns'])\n",
    "        if sim>maximum:\n",
    "           maximum=sim\n",
    "           response=i[1]['responses']\n",
    "           closest=i[1]['patterns']\n",
    "    return response"
   ]
  },
  {
   "cell_type": "code",
   "execution_count": 83,
   "metadata": {
    "colab": {
     "base_uri": "https://localhost:8080/"
    },
    "id": "_oxV5Nvt9YY8",
    "outputId": "63b3b610-3b93-439b-9644-d9697e1639a7"
   },
   "outputs": [
    {
     "name": "stdout",
     "output_type": "stream",
     "text": [
      "Input: Hi\n",
      "Response: Hello! how can i help you ?\n",
      "Input: What is your name?\n",
      "Response: I am your virtual learning assistant\n",
      "Input: How to use Olympus?\n",
      "Response: Link: Olympus wiki\n",
      "Input: What is AI?\n",
      "Response: Link: Neural Nets wiki\n",
      "Input: What is deep learning?\n",
      "Response: Link: Neural Nets wiki\n",
      "Input: I am unable to understand softmax function\n",
      "Response: Link: Machine Learning wiki \n",
      "Input: What is Logistic Regression?\n",
      "Response: Link: Neural Nets wiki\n",
      "Input: very difficult to understand neural net\n",
      "Response: Link: Machine Learning wiki \n",
      "Input: my problem is not solved\n",
      "Response: Tarnsferring the request to your PM\n",
      "Input: thank you! have a good day!\n",
      "Response: I hope I was able to assist you, Good Bye\n",
      "Input: exit\n",
      "Response: Bye! It was nice chating with you! Take Care!\n"
     ]
    }
   ],
   "source": [
    "while True:\n",
    "    text=str(input(\"Input: \"))\n",
    "    if text.lower()==\"exit\":\n",
    "       print(\"Response: Bye! It was nice chating with you! Take Care!\")\n",
    "       break\n",
    "    print(\"Response:\",respond(text))"
   ]
  },
  {
   "cell_type": "code",
   "execution_count": 84,
   "metadata": {
    "colab": {
     "base_uri": "https://localhost:8080/"
    },
    "id": "N0KjGRtX9Yb0",
    "outputId": "c8227168-dff8-4ba3-a5af-071489f72351"
   },
   "outputs": [
    {
     "name": "stdout",
     "output_type": "stream",
     "text": [
      "Requirement already satisfied: nltk in /usr/local/lib/python3.7/dist-packages (3.2.5)\n",
      "Requirement already satisfied: six in /usr/local/lib/python3.7/dist-packages (from nltk) (1.15.0)\n"
     ]
    }
   ],
   "source": [
    "pip install nltk"
   ]
  },
  {
   "cell_type": "code",
   "execution_count": 88,
   "metadata": {
    "id": "FmBs0po-9Yd8"
   },
   "outputs": [],
   "source": [
    "mycorpus_pairs=[\n",
    "              [\n",
    "               r\"hi|hey|hello\",\n",
    "               [\"Hello! Please help me with your location, how can i help you?\",]\n",
    "              ],\n",
    "              [\n",
    "               r\"I sit at banglore office\",\n",
    "               [\"I understand you are at Banglore office,India\",]\n",
    "              ],  \n",
    "              [\n",
    "              r\"I am not able to login my email\",\n",
    "              [\"Please use this LINK [www.emailhelp.com] to get step by step solution. Thank You!\",]\n",
    "              ],\n",
    "              [\n",
    "              r\"unable to login my email\",\n",
    "              [\"Please use this LINK [www.emailhelp.com] to get step by step solution. Thank You!\"]\n",
    "              ],\n",
    "              [\n",
    "              r\"can you give helpline number?\",\n",
    "              [\"Please rephrase your question and try again. I hope I was able to assist you, Good Bye\",]\n",
    "              ],\n",
    "              [\n",
    "              r\"sorry (.*)\",\n",
    "              [\"Its alright\",\"Its OK, never mind\",]\n",
    "              ],\n",
    "              [\n",
    "              r\"quit\",\n",
    "              [\"Bye, Take Care! See you soon..\"]\n",
    "              ],\n",
    "]"
   ]
  },
  {
   "cell_type": "code",
   "execution_count": 90,
   "metadata": {
    "colab": {
     "base_uri": "https://localhost:8080/"
    },
    "id": "DfBKnAH69k1d",
    "outputId": "b925fcb7-daab-4c37-f3d8-7318219e1f77"
   },
   "outputs": [
    {
     "name": "stdout",
     "output_type": "stream",
     "text": [
      "Hello, My name is DIPTI \n",
      "I am your Virtual Assistant. \n",
      "Note:Please type lowercase English language to start a conversation. Type quit to leave \n",
      ">hello\n",
      "Hello! Please help me with your location, how can i help you?\n",
      ">I sit at banglore office\n",
      "I understand you are at Banglore office,India\n",
      ">How are you?\n",
      "None\n",
      ">I am not able to login my email\n",
      "Please use this LINK [www.emailhelp.com] to get step by step solution. Thank You!\n",
      ">unable to login my email\n",
      "Please use this LINK [www.emailhelp.com] to get step by step solution. Thank You!\n",
      ">can you give helpline number?\n",
      "Please rephrase your question and try again. I hope I was able to assist you, Good Bye\n",
      ">sorry for the trouble\n",
      "Its alright\n",
      ">quit\n",
      "Bye, Take Care! See you soon..\n"
     ]
    }
   ],
   "source": [
    "from nltk.chat.util import Chat,reflections\n",
    "def chatbot():\n",
    "    print(\"Hello, My name is DIPTI \\nI am your Virtual Assistant. \\nNote:Please type lowercase English language to start a conversation. Type quit to leave \")\n",
    "    mychat=Chat(mycorpus_pairs,reflections)\n",
    "    mychat.converse()\n",
    "\n",
    "if __name__==\"__main__\":\n",
    "    chatbot()"
   ]
  },
  {
   "cell_type": "markdown",
   "metadata": {
    "id": "mWazUAKfhMcC"
   },
   "source": [
    "Note: \"How are you?\" is not in my corpus so, its giving reply as \"None\"."
   ]
  },
  {
   "cell_type": "code",
   "execution_count": 91,
   "metadata": {
    "colab": {
     "base_uri": "https://localhost:8080/"
    },
    "id": "Qm8ZvGn-9k4A",
    "outputId": "138625c8-455c-4b0d-9e9d-635c3d335d55"
   },
   "outputs": [
    {
     "name": "stdout",
     "output_type": "stream",
     "text": [
      "[nltk_data] Downloading package punkt to /root/nltk_data...\n",
      "[nltk_data]   Unzipping tokenizers/punkt.zip.\n"
     ]
    },
    {
     "data": {
      "text/plain": [
       "True"
      ]
     },
     "execution_count": 91,
     "metadata": {},
     "output_type": "execute_result"
    }
   ],
   "source": [
    "#Download \"punkt\"\n",
    "nltk.download(\"punkt\")"
   ]
  },
  {
   "cell_type": "code",
   "execution_count": 92,
   "metadata": {
    "id": "bqxt7b4J9k7A"
   },
   "outputs": [],
   "source": [
    "training_sentences = []\n",
    "training_labels = []\n",
    "labels = []\n",
    "responses = []\n",
    "\n",
    "for intent in data['intents']:\n",
    "    for pattern in intent['patterns']:\n",
    "        training_sentences.append(pattern)\n",
    "        training_labels.append(intent['tag'])\n",
    "    responses.append(intent['responses'])\n",
    "    \n",
    "    if intent['tag'] not in labels:\n",
    "        labels.append(intent['tag'])\n",
    "        \n",
    "num_classes = len(labels)"
   ]
  },
  {
   "cell_type": "markdown",
   "metadata": {
    "id": "epzD29rgAfJV"
   },
   "source": [
    "###**Stemming : It is a process to find similarities between words with the same root words. This will help us to reduce the bag of words by associating similar words with their corresponding root words.Eg: original word:[jump,jumed,jumps,jumping] Root word:[Jump,Jump,Jump,Jump]**"
   ]
  },
  {
   "cell_type": "code",
   "execution_count": 93,
   "metadata": {
    "colab": {
     "base_uri": "https://localhost:8080/"
    },
    "id": "OfU9JsFQAV4U",
    "outputId": "07016d0d-d2ad-4c33-9fde-6caa5bf80044"
   },
   "outputs": [
    {
     "name": "stdout",
     "output_type": "stream",
     "text": [
      "[nltk_data] Downloading package stopwords to /root/nltk_data...\n",
      "[nltk_data]   Package stopwords is already up-to-date!\n"
     ]
    },
    {
     "data": {
      "text/plain": [
       "True"
      ]
     },
     "execution_count": 93,
     "metadata": {},
     "output_type": "execute_result"
    }
   ],
   "source": [
    "nltk.download('stopwords')"
   ]
  },
  {
   "cell_type": "code",
   "execution_count": 94,
   "metadata": {
    "colab": {
     "base_uri": "https://localhost:8080/"
    },
    "id": "-IOFZ4I8AV7v",
    "outputId": "db3877fa-0209-46d8-eabf-28eed837955b"
   },
   "outputs": [
    {
     "name": "stdout",
     "output_type": "stream",
     "text": [
      "['i', 'me', 'my', 'myself', 'we', 'our', 'ours', 'ourselves', 'you', \"you're\", \"you've\", \"you'll\", \"you'd\", 'your', 'yours', 'yourself', 'yourselves', 'he', 'him', 'his', 'himself', 'she', \"she's\", 'her', 'hers', 'herself', 'it', \"it's\", 'its', 'itself', 'they', 'them', 'their', 'theirs', 'themselves', 'what', 'which', 'who', 'whom', 'this', 'that', \"that'll\", 'these', 'those', 'am', 'is', 'are', 'was', 'were', 'be', 'been', 'being', 'have', 'has', 'had', 'having', 'do', 'does', 'did', 'doing', 'a', 'an', 'the', 'and', 'but', 'if', 'or', 'because', 'as', 'until', 'while', 'of', 'at', 'by', 'for', 'with', 'about', 'against', 'between', 'into', 'through', 'during', 'before', 'after', 'above', 'below', 'to', 'from', 'up', 'down', 'in', 'out', 'on', 'off', 'over', 'under', 'again', 'further', 'then', 'once', 'here', 'there', 'when', 'where', 'why', 'how', 'all', 'any', 'both', 'each', 'few', 'more', 'most', 'other', 'some', 'such', 'no', 'nor', 'not', 'only', 'own', 'same', 'so', 'than', 'too', 'very', 's', 't', 'can', 'will', 'just', 'don', \"don't\", 'should', \"should've\", 'now', 'd', 'll', 'm', 'o', 're', 've', 'y', 'ain', 'aren', \"aren't\", 'couldn', \"couldn't\", 'didn', \"didn't\", 'doesn', \"doesn't\", 'hadn', \"hadn't\", 'hasn', \"hasn't\", 'haven', \"haven't\", 'isn', \"isn't\", 'ma', 'mightn', \"mightn't\", 'mustn', \"mustn't\", 'needn', \"needn't\", 'shan', \"shan't\", 'shouldn', \"shouldn't\", 'wasn', \"wasn't\", 'weren', \"weren't\", 'won', \"won't\", 'wouldn', \"wouldn't\"]\n"
     ]
    }
   ],
   "source": [
    "import nltk\n",
    "from nltk.corpus import stopwords\n",
    "print(stopwords.words('english'))"
   ]
  },
  {
   "cell_type": "code",
   "execution_count": 95,
   "metadata": {
    "colab": {
     "base_uri": "https://localhost:8080/"
    },
    "id": "3jyJ0LwA9k-a",
    "outputId": "83932b8e-8e34-48df-e60c-5774890a44b9"
   },
   "outputs": [
    {
     "name": "stdout",
     "output_type": "stream",
     "text": [
      "8\n",
      "8\n",
      "8 labels ['Bot', 'Exit', 'Intro', 'NN', 'Olympus', 'Profane', 'SL', 'Ticket']\n",
      "126 unique stemmed words ['activation funct', 'ada', 'ada boost', 'adam', 'aifl batch', 'aiml batch', 'ann', 'artificial intellig', 'artificial neural network', 'backward propag', 'bad solut', 'bag', 'blend', 'bloody stupid bot', 'boost', 'classif', 'create a ticket', 'cya', 'do you think you are very smart', 'ensemble techniqu', 'epoch', 'explain me how deep learning work', 'explain me how machine learning work', 'explain me how olympus work', 'forward propag', 'goodbi', 'gradient boost', 'great help', 'have a good day', 'hello', 'hey', 'hey ya', 'hi', 'hidden lay', 'hour', 'hours of op', 'how are i', 'how to use olympu', 'hyper paramet', 'i am from', 'i am learner from', 'i am leav', 'i am not able to understand ada boost', 'i am not able to understand boost', 'i am not able to understand cross valid', 'i am not able to understand deep learn', 'i am not able to understand ensemble techb=niqu', 'i am not able to understand gradient boost', 'i am not able to understand knn', 'i am not able to understand knn imput', 'i am not able to understand logistic regress', 'i am not able to understand naive bay', 'i am not able to understand olympu', 'i am not able to understand random forest', 'i am not able to understand svm', 'i belong to', 'i hate i', 'is anyone th', 'jerk', 'knn', 'later', 'listen', 'logistic regress', 'lot of problem with olympu', 'lot of problems with olympu', 'machine learn', 'ml', 'my pm i', 'my problem is not solv', 'naive bay', 'name plea', 'nb', 'no access to olympu', 'no help', 'no link visible on olympu', 'not a good solut', 'not able to understand neural net', 'not good solut', 'olympu', 'olympus window not work', 'olypus is not a good tool', 'onlin', 'otim', 'please help m', 'regress', 'relu', 'screw you', 'see you', 'see you lat', 'sgd', 'sigmoid', 'sl', 'softmax', 'supervised learn', 'talking to you for first tim', 'teach me olympu', 'thank', 'thank you', 'thanks a lot', 'thanks a ton', 'too good', 'unable to see link in olympu', 'unable to understand deep learn', 'unable to understand neural net', 'useless bot', 'useless piece of shit', 'very diffult to understand neural net', 'wasted my tim', 'weight', 'what are your working hour', 'what is an epoch', 'what is deep learn', 'what is your nam', 'what the hel', 'whats up', 'when are your hours of opert', 'who are i', 'whom to contact for olympu', 'working hour', 'yo', 'you are a good learning buddi', 'you are a jok', 'you are stupid', 'you are the best', 'you did not help m', 'you helped m']\n"
     ]
    }
   ],
   "source": [
    "from nltk.stem import PorterStemmer\n",
    "import string\n",
    "stemmer=PorterStemmer()\n",
    "training_sentences=[stemmer.stem(w.lower()) for w in training_sentences if w not in string.punctuation]\n",
    "training_sentences=[stemmer.stem(w.lower()) for w in training_sentences if w not in stopwords.words('english')]\n",
    "training_sentences=sorted(list(set(training_sentences)))\n",
    "training_labels=sorted(list(set(training_labels)))\n",
    "print(len(labels))\n",
    "print(len(responses))\n",
    "print(len(training_labels),\"labels\",training_labels)\n",
    "print(len(training_sentences),\"unique stemmed words\",training_sentences)"
   ]
  },
  {
   "cell_type": "markdown",
   "metadata": {
    "id": "WzKcVSQXAxvJ"
   },
   "source": [
    "###**Generate BOW[Bag of Words] : Process of converting words into numbers by generating vector embeddings from the tokens generated above. This is given as an input to the neural network model for understanding the written text.**"
   ]
  },
  {
   "cell_type": "code",
   "execution_count": 96,
   "metadata": {
    "colab": {
     "base_uri": "https://localhost:8080/"
    },
    "id": "XeV_L0f89Yhb",
    "outputId": "5a50407c-b6ca-4bf7-bdd9-2ee8d04d81f2"
   },
   "outputs": [
    {
     "name": "stdout",
     "output_type": "stream",
     "text": [
      "  (0, 1)\t1\n"
     ]
    }
   ],
   "source": [
    "# Here we use the CountVectorizer from sklearn to create bag of words\n",
    "count_vect = CountVectorizer(max_features=1000)\n",
    "training_labels = count_vect.fit_transform(training_labels)\n",
    "print(training_labels[1])"
   ]
  },
  {
   "cell_type": "markdown",
   "metadata": {
    "id": "mT2ZBXV4A5q5"
   },
   "source": [
    "We can also use LabelEncoder for converting words into numbers"
   ]
  },
  {
   "cell_type": "code",
   "execution_count": 98,
   "metadata": {
    "id": "1zAX9lwMAtMT"
   },
   "outputs": [],
   "source": [
    "#lbl_encoder=LabelEncoder()\n",
    "#lbl_encoder.fit(training_labels)\n",
    "#training_labels=lbl_encoder.transform(training_labels)\n",
    "#print(training_labels[1])"
   ]
  },
  {
   "cell_type": "markdown",
   "metadata": {
    "id": "IypokxckBBpQ"
   },
   "source": [
    "Tokenisation"
   ]
  },
  {
   "cell_type": "code",
   "execution_count": 99,
   "metadata": {
    "id": "-Uz5HHuqAtP0"
   },
   "outputs": [],
   "source": [
    "vocab_size = 1000\n",
    "embedding_dim = 16\n",
    "max_len = 20\n",
    "oov_token = \"<OOV>\"\n",
    "\n",
    "tokenizer = Tokenizer(num_words=vocab_size, oov_token=oov_token)\n",
    "tokenizer.fit_on_texts(training_sentences)\n",
    "word_index = tokenizer.word_index\n",
    "sequences = tokenizer.texts_to_sequences(training_sentences)\n",
    "padded_sequences = pad_sequences(sequences, truncating='post', maxlen=max_len)"
   ]
  },
  {
   "cell_type": "code",
   "execution_count": 100,
   "metadata": {
    "colab": {
     "base_uri": "https://localhost:8080/"
    },
    "id": "Wwk1ri9LBHzf",
    "outputId": "3dc18e0f-ffd7-478a-f11f-4aea58b77953"
   },
   "outputs": [
    {
     "name": "stdout",
     "output_type": "stream",
     "text": [
      "Model: \"sequential\"\n",
      "_________________________________________________________________\n",
      " Layer (type)                Output Shape              Param #   \n",
      "=================================================================\n",
      " embedding (Embedding)       (None, 20, 16)            16000     \n",
      "                                                                 \n",
      " global_average_pooling1d (G  (None, 16)               0         \n",
      " lobalAveragePooling1D)                                          \n",
      "                                                                 \n",
      " dense (Dense)               (None, 16)                272       \n",
      "                                                                 \n",
      " dense_1 (Dense)             (None, 16)                272       \n",
      "                                                                 \n",
      " dense_2 (Dense)             (None, 8)                 136       \n",
      "                                                                 \n",
      "=================================================================\n",
      "Total params: 16,680\n",
      "Trainable params: 16,680\n",
      "Non-trainable params: 0\n",
      "_________________________________________________________________\n"
     ]
    }
   ],
   "source": [
    "model = Sequential()\n",
    "model.add(Embedding(vocab_size, embedding_dim, input_length=max_len))\n",
    "model.add(GlobalAveragePooling1D())\n",
    "model.add(Dense(16, activation='relu'))\n",
    "model.add(Dense(16, activation='relu'))\n",
    "model.add(Dense(num_classes, activation='softmax'))\n",
    "\n",
    "model.compile(loss='sparse_categorical_crossentropy', \n",
    "              optimizer='adam', metrics=['accuracy'])\n",
    "\n",
    "model.summary()\n",
    "epochs = 500"
   ]
  },
  {
   "cell_type": "code",
   "execution_count": 100,
   "metadata": {
    "id": "V80xnq3BBIA6"
   },
   "outputs": [],
   "source": [
    ""
   ]
  }
 ],
 "metadata": {
  "colab": {
   "collapsed_sections": [],
   "name": "GL_Project9_NLP_Part1_DiptiParmar.ipynb",
   "provenance": []
  },
  "kernelspec": {
   "display_name": "Python 3",
   "name": "python3"
  },
  "language_info": {
   "name": "python"
  }
 },
 "nbformat": 4,
 "nbformat_minor": 0
}
