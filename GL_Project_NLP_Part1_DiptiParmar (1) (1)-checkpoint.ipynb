{
 "cells": [
  {
   "cell_type": "markdown",
   "metadata": {
    "id": "FXVjC0p99DlX"
   },
   "source": [
    " DOMAIN: Digital content management"
   ]
  },
  {
   "cell_type": "markdown",
   "metadata": {
    "id": "4hLoQBBy9VT8"
   },
   "source": [
    "• PROJECT OBJECTIVE: To build a NLP classifier which can use input text parameters to determine the label/s of the blog. Specific to this case\n",
    "study, you can consider the text of the blog: ‘text’ feature as independent variable and ‘topic’ as dependent variable."
   ]
  },
  {
   "cell_type": "markdown",
   "metadata": {
    "id": "7ZB7ooSD9WuT"
   },
   "source": [
    "1. Read and Analyse Dataset. "
   ]
  },
  {
   "cell_type": "markdown",
   "metadata": {
    "id": "T6gvdvGP9cEo"
   },
   "source": [
    "A. Clearly write outcome of data analysis(Minimum 2 points) [2 Marks]"
   ]
  },
  {
   "cell_type": "code",
   "execution_count": 79,
   "metadata": {
    "colab": {
     "base_uri": "https://localhost:8080/"
    },
    "id": "CRifoiQI9EFV",
    "outputId": "7bdfaf8b-b12d-4f1b-a47e-ed21e2c21198"
   },
   "outputs": [
    {
     "name": "stdout",
     "output_type": "stream",
     "text": [
      "Drive already mounted at /content/drive; to attempt to forcibly remount, call drive.mount(\"/content/drive\", force_remount=True).\n"
     ]
    }
   ],
   "source": [
    "from google.colab import drive\n",
    "drive.mount('/content/drive')"
   ]
  },
  {
   "cell_type": "code",
   "execution_count": 80,
   "metadata": {
    "id": "t-YQE0YTDIsW"
   },
   "outputs": [],
   "source": [
    "import numpy as np                                  #for large and multi-dimensional arrays\n",
    "import pandas as pd                                 #for data manipulation and analysis\n",
    "import nltk                                         #Natural language processing tool-kit\n",
    "\n",
    "from nltk.corpus import stopwords                   #Stopwords corpus\n",
    "from nltk.stem import PorterStemmer                 # Stemmer\n",
    "\n",
    "from sklearn.feature_extraction.text import CountVectorizer          #For Bag of words\n",
    "from sklearn.feature_extraction.text import TfidfVectorizer          #For TF-IDF\n",
    "\n",
    "#surpress display of warning\n",
    "import warnings\n",
    "warnings.filterwarnings('ignore')"
   ]
  },
  {
   "cell_type": "code",
   "execution_count": 300,
   "metadata": {
    "id": "mfEmhW31Ekih"
   },
   "outputs": [],
   "source": [
    "# Solution\n",
    "import pandas as pd\n",
    "df_digi = pd.read_csv('/content/drive/My Drive/AIML/NLP/Part1_ProjectData/blogtext.csv')"
   ]
  },
  {
   "cell_type": "code",
   "execution_count": 301,
   "metadata": {
    "colab": {
     "base_uri": "https://localhost:8080/",
     "height": 206
    },
    "id": "I8Csq6n1Em4U",
    "outputId": "74903ef6-b1c4-4ddd-b51b-ea4afc5b297b"
   },
   "outputs": [
    {
     "data": {
      "text/html": [
       "\n",
       "  <div id=\"df-8ae7bf5b-7031-4f0a-93ec-5becacb508de\">\n",
       "    <div class=\"colab-df-container\">\n",
       "      <div>\n",
       "<style scoped>\n",
       "    .dataframe tbody tr th:only-of-type {\n",
       "        vertical-align: middle;\n",
       "    }\n",
       "\n",
       "    .dataframe tbody tr th {\n",
       "        vertical-align: top;\n",
       "    }\n",
       "\n",
       "    .dataframe thead th {\n",
       "        text-align: right;\n",
       "    }\n",
       "</style>\n",
       "<table border=\"1\" class=\"dataframe\">\n",
       "  <thead>\n",
       "    <tr style=\"text-align: right;\">\n",
       "      <th></th>\n",
       "      <th>id</th>\n",
       "      <th>gender</th>\n",
       "      <th>age</th>\n",
       "      <th>topic</th>\n",
       "      <th>sign</th>\n",
       "      <th>date</th>\n",
       "      <th>text</th>\n",
       "    </tr>\n",
       "  </thead>\n",
       "  <tbody>\n",
       "    <tr>\n",
       "      <th>0</th>\n",
       "      <td>2059027</td>\n",
       "      <td>male</td>\n",
       "      <td>15</td>\n",
       "      <td>Student</td>\n",
       "      <td>Leo</td>\n",
       "      <td>14,May,2004</td>\n",
       "      <td>Info has been found (+/- 100 pages,...</td>\n",
       "    </tr>\n",
       "    <tr>\n",
       "      <th>1</th>\n",
       "      <td>2059027</td>\n",
       "      <td>male</td>\n",
       "      <td>15</td>\n",
       "      <td>Student</td>\n",
       "      <td>Leo</td>\n",
       "      <td>13,May,2004</td>\n",
       "      <td>These are the team members:   Drewe...</td>\n",
       "    </tr>\n",
       "    <tr>\n",
       "      <th>2</th>\n",
       "      <td>2059027</td>\n",
       "      <td>male</td>\n",
       "      <td>15</td>\n",
       "      <td>Student</td>\n",
       "      <td>Leo</td>\n",
       "      <td>12,May,2004</td>\n",
       "      <td>In het kader van kernfusie op aarde...</td>\n",
       "    </tr>\n",
       "    <tr>\n",
       "      <th>3</th>\n",
       "      <td>2059027</td>\n",
       "      <td>male</td>\n",
       "      <td>15</td>\n",
       "      <td>Student</td>\n",
       "      <td>Leo</td>\n",
       "      <td>12,May,2004</td>\n",
       "      <td>testing!!!  testing!!!</td>\n",
       "    </tr>\n",
       "    <tr>\n",
       "      <th>4</th>\n",
       "      <td>3581210</td>\n",
       "      <td>male</td>\n",
       "      <td>33</td>\n",
       "      <td>InvestmentBanking</td>\n",
       "      <td>Aquarius</td>\n",
       "      <td>11,June,2004</td>\n",
       "      <td>Thanks to Yahoo!'s Toolbar I can ...</td>\n",
       "    </tr>\n",
       "  </tbody>\n",
       "</table>\n",
       "</div>\n",
       "      <button class=\"colab-df-convert\" onclick=\"convertToInteractive('df-8ae7bf5b-7031-4f0a-93ec-5becacb508de')\"\n",
       "              title=\"Convert this dataframe to an interactive table.\"\n",
       "              style=\"display:none;\">\n",
       "        \n",
       "  <svg xmlns=\"http://www.w3.org/2000/svg\" height=\"24px\"viewBox=\"0 0 24 24\"\n",
       "       width=\"24px\">\n",
       "    <path d=\"M0 0h24v24H0V0z\" fill=\"none\"/>\n",
       "    <path d=\"M18.56 5.44l.94 2.06.94-2.06 2.06-.94-2.06-.94-.94-2.06-.94 2.06-2.06.94zm-11 1L8.5 8.5l.94-2.06 2.06-.94-2.06-.94L8.5 2.5l-.94 2.06-2.06.94zm10 10l.94 2.06.94-2.06 2.06-.94-2.06-.94-.94-2.06-.94 2.06-2.06.94z\"/><path d=\"M17.41 7.96l-1.37-1.37c-.4-.4-.92-.59-1.43-.59-.52 0-1.04.2-1.43.59L10.3 9.45l-7.72 7.72c-.78.78-.78 2.05 0 2.83L4 21.41c.39.39.9.59 1.41.59.51 0 1.02-.2 1.41-.59l7.78-7.78 2.81-2.81c.8-.78.8-2.07 0-2.86zM5.41 20L4 18.59l7.72-7.72 1.47 1.35L5.41 20z\"/>\n",
       "  </svg>\n",
       "      </button>\n",
       "      \n",
       "  <style>\n",
       "    .colab-df-container {\n",
       "      display:flex;\n",
       "      flex-wrap:wrap;\n",
       "      gap: 12px;\n",
       "    }\n",
       "\n",
       "    .colab-df-convert {\n",
       "      background-color: #E8F0FE;\n",
       "      border: none;\n",
       "      border-radius: 50%;\n",
       "      cursor: pointer;\n",
       "      display: none;\n",
       "      fill: #1967D2;\n",
       "      height: 32px;\n",
       "      padding: 0 0 0 0;\n",
       "      width: 32px;\n",
       "    }\n",
       "\n",
       "    .colab-df-convert:hover {\n",
       "      background-color: #E2EBFA;\n",
       "      box-shadow: 0px 1px 2px rgba(60, 64, 67, 0.3), 0px 1px 3px 1px rgba(60, 64, 67, 0.15);\n",
       "      fill: #174EA6;\n",
       "    }\n",
       "\n",
       "    [theme=dark] .colab-df-convert {\n",
       "      background-color: #3B4455;\n",
       "      fill: #D2E3FC;\n",
       "    }\n",
       "\n",
       "    [theme=dark] .colab-df-convert:hover {\n",
       "      background-color: #434B5C;\n",
       "      box-shadow: 0px 1px 3px 1px rgba(0, 0, 0, 0.15);\n",
       "      filter: drop-shadow(0px 1px 2px rgba(0, 0, 0, 0.3));\n",
       "      fill: #FFFFFF;\n",
       "    }\n",
       "  </style>\n",
       "\n",
       "      <script>\n",
       "        const buttonEl =\n",
       "          document.querySelector('#df-8ae7bf5b-7031-4f0a-93ec-5becacb508de button.colab-df-convert');\n",
       "        buttonEl.style.display =\n",
       "          google.colab.kernel.accessAllowed ? 'block' : 'none';\n",
       "\n",
       "        async function convertToInteractive(key) {\n",
       "          const element = document.querySelector('#df-8ae7bf5b-7031-4f0a-93ec-5becacb508de');\n",
       "          const dataTable =\n",
       "            await google.colab.kernel.invokeFunction('convertToInteractive',\n",
       "                                                     [key], {});\n",
       "          if (!dataTable) return;\n",
       "\n",
       "          const docLinkHtml = 'Like what you see? Visit the ' +\n",
       "            '<a target=\"_blank\" href=https://colab.research.google.com/notebooks/data_table.ipynb>data table notebook</a>'\n",
       "            + ' to learn more about interactive tables.';\n",
       "          element.innerHTML = '';\n",
       "          dataTable['output_type'] = 'display_data';\n",
       "          await google.colab.output.renderOutput(dataTable, element);\n",
       "          const docLink = document.createElement('div');\n",
       "          docLink.innerHTML = docLinkHtml;\n",
       "          element.appendChild(docLink);\n",
       "        }\n",
       "      </script>\n",
       "    </div>\n",
       "  </div>\n",
       "  "
      ],
      "text/plain": [
       "        id  ...                                               text\n",
       "0  2059027  ...             Info has been found (+/- 100 pages,...\n",
       "1  2059027  ...             These are the team members:   Drewe...\n",
       "2  2059027  ...             In het kader van kernfusie op aarde...\n",
       "3  2059027  ...                   testing!!!  testing!!!          \n",
       "4  3581210  ...               Thanks to Yahoo!'s Toolbar I can ...\n",
       "\n",
       "[5 rows x 7 columns]"
      ]
     },
     "execution_count": 301,
     "metadata": {},
     "output_type": "execute_result"
    }
   ],
   "source": [
    "# Sanity check: Your output should look like the below\n",
    "df_digi.head()"
   ]
  },
  {
   "cell_type": "code",
   "execution_count": 302,
   "metadata": {
    "colab": {
     "base_uri": "https://localhost:8080/"
    },
    "id": "515brbVrCzyU",
    "outputId": "ad67652c-675e-4250-bdca-7a91262200ef"
   },
   "outputs": [
    {
     "data": {
      "text/plain": [
       "Index(['id', 'gender', 'age', 'topic', 'sign', 'date', 'text'], dtype='object')"
      ]
     },
     "execution_count": 302,
     "metadata": {},
     "output_type": "execute_result"
    }
   ],
   "source": [
    "# Columns of dataset\n",
    "df_digi.columns"
   ]
  },
  {
   "cell_type": "code",
   "execution_count": 303,
   "metadata": {
    "colab": {
     "base_uri": "https://localhost:8080/"
    },
    "id": "Xn4fgGHYC8_6",
    "outputId": "cb798654-ccc8-4df2-8553-ca901986ea14"
   },
   "outputs": [
    {
     "name": "stdout",
     "output_type": "stream",
     "text": [
      "<class 'pandas.core.frame.DataFrame'>\n",
      "RangeIndex: 681284 entries, 0 to 681283\n",
      "Data columns (total 7 columns):\n",
      " #   Column  Non-Null Count   Dtype \n",
      "---  ------  --------------   ----- \n",
      " 0   id      681284 non-null  int64 \n",
      " 1   gender  681284 non-null  object\n",
      " 2   age     681284 non-null  int64 \n",
      " 3   topic   681284 non-null  object\n",
      " 4   sign    681284 non-null  object\n",
      " 5   date    681284 non-null  object\n",
      " 6   text    681284 non-null  object\n",
      "dtypes: int64(2), object(5)\n",
      "memory usage: 36.4+ MB\n"
     ]
    }
   ],
   "source": [
    "#Shows the summary of a DataFrame. \n",
    "#This shows the index dtype,column dtypes, non-null values and emory usage\n",
    "df_digi.info()"
   ]
  },
  {
   "cell_type": "code",
   "execution_count": 304,
   "metadata": {
    "colab": {
     "base_uri": "https://localhost:8080/"
    },
    "id": "Rnp1xw5g89K-",
    "outputId": "7b591372-3960-401b-8bd3-06c684b31103"
   },
   "outputs": [
    {
     "data": {
      "text/plain": [
       "(681284, 7)"
      ]
     },
     "execution_count": 304,
     "metadata": {},
     "output_type": "execute_result"
    }
   ],
   "source": [
    "# Shape of our data(Total no. of rows and columns)\n",
    "df_digi.shape"
   ]
  },
  {
   "cell_type": "markdown",
   "metadata": {
    "id": "AYt4z3vHCSnK"
   },
   "source": [
    "There are 681284 records and 7 columns in the dataset. This dataset is huge to perform analysis and computation. Hence, we are going to take a subset and return with the entire dataset once all errors are fixed and optimization is done."
   ]
  },
  {
   "cell_type": "code",
   "execution_count": 305,
   "metadata": {
    "id": "bZURfByKDOAQ"
   },
   "outputs": [],
   "source": [
    "df_digi=df_digi.head(10000)"
   ]
  },
  {
   "cell_type": "code",
   "execution_count": 306,
   "metadata": {
    "colab": {
     "base_uri": "https://localhost:8080/"
    },
    "id": "YYzu4emlDuEn",
    "outputId": "04762e31-38bd-4375-e8e5-ad3b8783d646"
   },
   "outputs": [
    {
     "name": "stdout",
     "output_type": "stream",
     "text": [
      "<class 'pandas.core.frame.DataFrame'>\n",
      "RangeIndex: 10000 entries, 0 to 9999\n",
      "Data columns (total 7 columns):\n",
      " #   Column  Non-Null Count  Dtype \n",
      "---  ------  --------------  ----- \n",
      " 0   id      10000 non-null  int64 \n",
      " 1   gender  10000 non-null  object\n",
      " 2   age     10000 non-null  int64 \n",
      " 3   topic   10000 non-null  object\n",
      " 4   sign    10000 non-null  object\n",
      " 5   date    10000 non-null  object\n",
      " 6   text    10000 non-null  object\n",
      "dtypes: int64(2), object(5)\n",
      "memory usage: 547.0+ KB\n"
     ]
    }
   ],
   "source": [
    "df_digi.info()"
   ]
  },
  {
   "cell_type": "code",
   "execution_count": 307,
   "metadata": {
    "colab": {
     "base_uri": "https://localhost:8080/"
    },
    "id": "JtRz5_1Imh3e",
    "outputId": "cc85ab74-f7c6-495e-94fa-4fec47382e99"
   },
   "outputs": [
    {
     "data": {
      "text/plain": [
       "male      5916\n",
       "female    4084\n",
       "Name: gender, dtype: int64"
      ]
     },
     "execution_count": 307,
     "metadata": {},
     "output_type": "execute_result"
    }
   ],
   "source": [
    "df_digi.gender.value_counts()"
   ]
  },
  {
   "cell_type": "code",
   "execution_count": 308,
   "metadata": {
    "colab": {
     "base_uri": "https://localhost:8080/",
     "height": 296
    },
    "id": "pesQJMpemh6X",
    "outputId": "b46364a9-0bdb-487b-816d-37f86b20db61"
   },
   "outputs": [
    {
     "data": {
      "text/plain": [
       "<matplotlib.axes._subplots.AxesSubplot at 0x7f6a22bd16d0>"
      ]
     },
     "execution_count": 308,
     "metadata": {},
     "output_type": "execute_result"
    },
    {
     "data": {
      "image/png": "[encoded data removed]",
      "text/plain": [
       "<Figure size 432x288 with 1 Axes>"
      ]
     },
     "metadata": {
      "needs_background": "light"
     },
     "output_type": "display_data"
    }
   ],
   "source": [
    "import seaborn as sns\n",
    "sns.countplot(x='age',data=df_digi,hue='gender')"
   ]
  },
  {
   "cell_type": "code",
   "execution_count": 309,
   "metadata": {
    "colab": {
     "base_uri": "https://localhost:8080/",
     "height": 296
    },
    "id": "Xx1TI4Wgmh96",
    "outputId": "01f7a324-8fb9-4b43-8178-280fce739ed9"
   },
   "outputs": [
    {
     "data": {
      "text/plain": [
       "<matplotlib.axes._subplots.AxesSubplot at 0x7f6a21601290>"
      ]
     },
     "execution_count": 309,
     "metadata": {},
     "output_type": "execute_result"
    },
    {
     "data": {
      "image/png": "[encoded data removed]",
      "text/plain": [
       "<Figure size 432x288 with 1 Axes>"
      ]
     },
     "metadata": {
      "needs_background": "light"
     },
     "output_type": "display_data"
    }
   ],
   "source": [
    "sns.countplot(x='topic',data=df_digi,hue='gender')"
   ]
  },
  {
   "cell_type": "code",
   "execution_count": 310,
   "metadata": {
    "colab": {
     "base_uri": "https://localhost:8080/"
    },
    "id": "56u2hn1Gg0KC",
    "outputId": "86c25e96-4bbd-4a9b-d835-8b2701613d0b"
   },
   "outputs": [
    {
     "data": {
      "text/plain": [
       "Index          128\n",
       "id           80000\n",
       "gender      850840\n",
       "age          80000\n",
       "topic      1011485\n",
       "sign        632415\n",
       "date        704036\n",
       "text      10799209\n",
       "dtype: int64"
      ]
     },
     "execution_count": 310,
     "metadata": {},
     "output_type": "execute_result"
    }
   ],
   "source": [
    "#Memory analysis for data analysis for dataframe and try reducing whenever is possible\n",
    "original_memory=df_digi.memory_usage(deep=True)\n",
    "original_memory"
   ]
  },
  {
   "cell_type": "code",
   "execution_count": 311,
   "metadata": {
    "colab": {
     "base_uri": "https://localhost:8080/"
    },
    "id": "nJ4xX56uDODp",
    "outputId": "2553ffdd-d067-4bec-92cb-a509a7d7bd8e"
   },
   "outputs": [
    {
     "data": {
      "text/plain": [
       "id        False\n",
       "gender    False\n",
       "age       False\n",
       "topic     False\n",
       "sign      False\n",
       "date      False\n",
       "text      False\n",
       "dtype: bool"
      ]
     },
     "execution_count": 311,
     "metadata": {},
     "output_type": "execute_result"
    }
   ],
   "source": [
    "df_digi.isna().any()"
   ]
  },
  {
   "cell_type": "markdown",
   "metadata": {
    "id": "eB9NKt24D5CE"
   },
   "source": [
    "No null values present in the dataset"
   ]
  },
  {
   "cell_type": "code",
   "execution_count": 312,
   "metadata": {
    "id": "gzPW2ofLD1Hd"
   },
   "outputs": [],
   "source": [
    "df_digi.drop(['id','date'],axis=1,inplace=True)"
   ]
  },
  {
   "cell_type": "markdown",
   "metadata": {
    "id": "VttBLMnPEjmK"
   },
   "source": [
    "Columns like 'id' and 'date' are removed from the dataset as they do not provide much value."
   ]
  },
  {
   "cell_type": "code",
   "execution_count": 313,
   "metadata": {
    "colab": {
     "base_uri": "https://localhost:8080/",
     "height": 206
    },
    "id": "y4ugAAe_Ehej",
    "outputId": "ff231736-1032-42ec-994a-a1453073c8a6"
   },
   "outputs": [
    {
     "data": {
      "text/html": [
       "\n",
       "  <div id=\"df-baad5b0c-1aee-4e7b-a9bb-570a6fc9a0ec\">\n",
       "    <div class=\"colab-df-container\">\n",
       "      <div>\n",
       "<style scoped>\n",
       "    .dataframe tbody tr th:only-of-type {\n",
       "        vertical-align: middle;\n",
       "    }\n",
       "\n",
       "    .dataframe tbody tr th {\n",
       "        vertical-align: top;\n",
       "    }\n",
       "\n",
       "    .dataframe thead th {\n",
       "        text-align: right;\n",
       "    }\n",
       "</style>\n",
       "<table border=\"1\" class=\"dataframe\">\n",
       "  <thead>\n",
       "    <tr style=\"text-align: right;\">\n",
       "      <th></th>\n",
       "      <th>gender</th>\n",
       "      <th>age</th>\n",
       "      <th>topic</th>\n",
       "      <th>sign</th>\n",
       "      <th>text</th>\n",
       "    </tr>\n",
       "  </thead>\n",
       "  <tbody>\n",
       "    <tr>\n",
       "      <th>0</th>\n",
       "      <td>male</td>\n",
       "      <td>15</td>\n",
       "      <td>Student</td>\n",
       "      <td>Leo</td>\n",
       "      <td>Info has been found (+/- 100 pages,...</td>\n",
       "    </tr>\n",
       "    <tr>\n",
       "      <th>1</th>\n",
       "      <td>male</td>\n",
       "      <td>15</td>\n",
       "      <td>Student</td>\n",
       "      <td>Leo</td>\n",
       "      <td>These are the team members:   Drewe...</td>\n",
       "    </tr>\n",
       "    <tr>\n",
       "      <th>2</th>\n",
       "      <td>male</td>\n",
       "      <td>15</td>\n",
       "      <td>Student</td>\n",
       "      <td>Leo</td>\n",
       "      <td>In het kader van kernfusie op aarde...</td>\n",
       "    </tr>\n",
       "    <tr>\n",
       "      <th>3</th>\n",
       "      <td>male</td>\n",
       "      <td>15</td>\n",
       "      <td>Student</td>\n",
       "      <td>Leo</td>\n",
       "      <td>testing!!!  testing!!!</td>\n",
       "    </tr>\n",
       "    <tr>\n",
       "      <th>4</th>\n",
       "      <td>male</td>\n",
       "      <td>33</td>\n",
       "      <td>InvestmentBanking</td>\n",
       "      <td>Aquarius</td>\n",
       "      <td>Thanks to Yahoo!'s Toolbar I can ...</td>\n",
       "    </tr>\n",
       "  </tbody>\n",
       "</table>\n",
       "</div>\n",
       "      <button class=\"colab-df-convert\" onclick=\"convertToInteractive('df-baad5b0c-1aee-4e7b-a9bb-570a6fc9a0ec')\"\n",
       "              title=\"Convert this dataframe to an interactive table.\"\n",
       "              style=\"display:none;\">\n",
       "        \n",
       "  <svg xmlns=\"http://www.w3.org/2000/svg\" height=\"24px\"viewBox=\"0 0 24 24\"\n",
       "       width=\"24px\">\n",
       "    <path d=\"M0 0h24v24H0V0z\" fill=\"none\"/>\n",
       "    <path d=\"M18.56 5.44l.94 2.06.94-2.06 2.06-.94-2.06-.94-.94-2.06-.94 2.06-2.06.94zm-11 1L8.5 8.5l.94-2.06 2.06-.94-2.06-.94L8.5 2.5l-.94 2.06-2.06.94zm10 10l.94 2.06.94-2.06 2.06-.94-2.06-.94-.94-2.06-.94 2.06-2.06.94z\"/><path d=\"M17.41 7.96l-1.37-1.37c-.4-.4-.92-.59-1.43-.59-.52 0-1.04.2-1.43.59L10.3 9.45l-7.72 7.72c-.78.78-.78 2.05 0 2.83L4 21.41c.39.39.9.59 1.41.59.51 0 1.02-.2 1.41-.59l7.78-7.78 2.81-2.81c.8-.78.8-2.07 0-2.86zM5.41 20L4 18.59l7.72-7.72 1.47 1.35L5.41 20z\"/>\n",
       "  </svg>\n",
       "      </button>\n",
       "      \n",
       "  <style>\n",
       "    .colab-df-container {\n",
       "      display:flex;\n",
       "      flex-wrap:wrap;\n",
       "      gap: 12px;\n",
       "    }\n",
       "\n",
       "    .colab-df-convert {\n",
       "      background-color: #E8F0FE;\n",
       "      border: none;\n",
       "      border-radius: 50%;\n",
       "      cursor: pointer;\n",
       "      display: none;\n",
       "      fill: #1967D2;\n",
       "      height: 32px;\n",
       "      padding: 0 0 0 0;\n",
       "      width: 32px;\n",
       "    }\n",
       "\n",
       "    .colab-df-convert:hover {\n",
       "      background-color: #E2EBFA;\n",
       "      box-shadow: 0px 1px 2px rgba(60, 64, 67, 0.3), 0px 1px 3px 1px rgba(60, 64, 67, 0.15);\n",
       "      fill: #174EA6;\n",
       "    }\n",
       "\n",
       "    [theme=dark] .colab-df-convert {\n",
       "      background-color: #3B4455;\n",
       "      fill: #D2E3FC;\n",
       "    }\n",
       "\n",
       "    [theme=dark] .colab-df-convert:hover {\n",
       "      background-color: #434B5C;\n",
       "      box-shadow: 0px 1px 3px 1px rgba(0, 0, 0, 0.15);\n",
       "      filter: drop-shadow(0px 1px 2px rgba(0, 0, 0, 0.3));\n",
       "      fill: #FFFFFF;\n",
       "    }\n",
       "  </style>\n",
       "\n",
       "      <script>\n",
       "        const buttonEl =\n",
       "          document.querySelector('#df-baad5b0c-1aee-4e7b-a9bb-570a6fc9a0ec button.colab-df-convert');\n",
       "        buttonEl.style.display =\n",
       "          google.colab.kernel.accessAllowed ? 'block' : 'none';\n",
       "\n",
       "        async function convertToInteractive(key) {\n",
       "          const element = document.querySelector('#df-baad5b0c-1aee-4e7b-a9bb-570a6fc9a0ec');\n",
       "          const dataTable =\n",
       "            await google.colab.kernel.invokeFunction('convertToInteractive',\n",
       "                                                     [key], {});\n",
       "          if (!dataTable) return;\n",
       "\n",
       "          const docLinkHtml = 'Like what you see? Visit the ' +\n",
       "            '<a target=\"_blank\" href=https://colab.research.google.com/notebooks/data_table.ipynb>data table notebook</a>'\n",
       "            + ' to learn more about interactive tables.';\n",
       "          element.innerHTML = '';\n",
       "          dataTable['output_type'] = 'display_data';\n",
       "          await google.colab.output.renderOutput(dataTable, element);\n",
       "          const docLink = document.createElement('div');\n",
       "          docLink.innerHTML = docLinkHtml;\n",
       "          element.appendChild(docLink);\n",
       "        }\n",
       "      </script>\n",
       "    </div>\n",
       "  </div>\n",
       "  "
      ],
      "text/plain": [
       "  gender  age  ...      sign                                               text\n",
       "0   male   15  ...       Leo             Info has been found (+/- 100 pages,...\n",
       "1   male   15  ...       Leo             These are the team members:   Drewe...\n",
       "2   male   15  ...       Leo             In het kader van kernfusie op aarde...\n",
       "3   male   15  ...       Leo                   testing!!!  testing!!!          \n",
       "4   male   33  ...  Aquarius               Thanks to Yahoo!'s Toolbar I can ...\n",
       "\n",
       "[5 rows x 5 columns]"
      ]
     },
     "execution_count": 313,
     "metadata": {},
     "output_type": "execute_result"
    }
   ],
   "source": [
    "#Dataset after removing 'id' and 'date' columns\n",
    "df_digi.head()"
   ]
  },
  {
   "cell_type": "code",
   "execution_count": 314,
   "metadata": {
    "id": "CR3CeBgAKBHL"
   },
   "outputs": [],
   "source": [
    "df_digi['text']=df_digi['text'].astype(str)"
   ]
  },
  {
   "cell_type": "code",
   "execution_count": 315,
   "metadata": {
    "id": "vUGhYcxcE1Wu"
   },
   "outputs": [],
   "source": [
    "#We can convert 'age' column from 'int' datatype to 'object' datatype\n",
    "#df_digi['age']=df_digi['age'].astype('object')"
   ]
  },
  {
   "cell_type": "code",
   "execution_count": 316,
   "metadata": {
    "id": "VKsTyBCpFaf7"
   },
   "outputs": [],
   "source": [
    "#checking the datatype of each column after converting int to object datatype of age column\n",
    "#df_digi.info()"
   ]
  },
  {
   "cell_type": "code",
   "execution_count": 317,
   "metadata": {
    "colab": {
     "base_uri": "https://localhost:8080/",
     "height": 285
    },
    "id": "wrirT08UKvi2",
    "outputId": "80dac3d0-0e46-4754-b92a-ab9cf31df07e"
   },
   "outputs": [
    {
     "data": {
      "text/html": [
       "\n",
       "  <div id=\"df-297b63e7-4b11-4dd6-a540-d8271f20e161\">\n",
       "    <div class=\"colab-df-container\">\n",
       "      <div>\n",
       "<style scoped>\n",
       "    .dataframe tbody tr th:only-of-type {\n",
       "        vertical-align: middle;\n",
       "    }\n",
       "\n",
       "    .dataframe tbody tr th {\n",
       "        vertical-align: top;\n",
       "    }\n",
       "\n",
       "    .dataframe thead th {\n",
       "        text-align: right;\n",
       "    }\n",
       "</style>\n",
       "<table border=\"1\" class=\"dataframe\">\n",
       "  <thead>\n",
       "    <tr style=\"text-align: right;\">\n",
       "      <th></th>\n",
       "      <th>0</th>\n",
       "      <th>1</th>\n",
       "      <th>2</th>\n",
       "      <th>3</th>\n",
       "      <th>4</th>\n",
       "      <th>5</th>\n",
       "      <th>6</th>\n",
       "      <th>7</th>\n",
       "      <th>8</th>\n",
       "      <th>9</th>\n",
       "    </tr>\n",
       "  </thead>\n",
       "  <tbody>\n",
       "    <tr>\n",
       "      <th>gender</th>\n",
       "      <td>male</td>\n",
       "      <td>male</td>\n",
       "      <td>male</td>\n",
       "      <td>male</td>\n",
       "      <td>male</td>\n",
       "      <td>male</td>\n",
       "      <td>male</td>\n",
       "      <td>male</td>\n",
       "      <td>male</td>\n",
       "      <td>male</td>\n",
       "    </tr>\n",
       "    <tr>\n",
       "      <th>age</th>\n",
       "      <td>15</td>\n",
       "      <td>15</td>\n",
       "      <td>15</td>\n",
       "      <td>15</td>\n",
       "      <td>33</td>\n",
       "      <td>33</td>\n",
       "      <td>33</td>\n",
       "      <td>33</td>\n",
       "      <td>33</td>\n",
       "      <td>33</td>\n",
       "    </tr>\n",
       "    <tr>\n",
       "      <th>topic</th>\n",
       "      <td>Student</td>\n",
       "      <td>Student</td>\n",
       "      <td>Student</td>\n",
       "      <td>Student</td>\n",
       "      <td>InvestmentBanking</td>\n",
       "      <td>InvestmentBanking</td>\n",
       "      <td>InvestmentBanking</td>\n",
       "      <td>InvestmentBanking</td>\n",
       "      <td>InvestmentBanking</td>\n",
       "      <td>InvestmentBanking</td>\n",
       "    </tr>\n",
       "    <tr>\n",
       "      <th>sign</th>\n",
       "      <td>Leo</td>\n",
       "      <td>Leo</td>\n",
       "      <td>Leo</td>\n",
       "      <td>Leo</td>\n",
       "      <td>Aquarius</td>\n",
       "      <td>Aquarius</td>\n",
       "      <td>Aquarius</td>\n",
       "      <td>Aquarius</td>\n",
       "      <td>Aquarius</td>\n",
       "      <td>Aquarius</td>\n",
       "    </tr>\n",
       "    <tr>\n",
       "      <th>text</th>\n",
       "      <td>Info has been found (+/- 100 pages,...</td>\n",
       "      <td>These are the team members:   Drewe...</td>\n",
       "      <td>In het kader van kernfusie op aarde...</td>\n",
       "      <td>testing!!!  testing!!!</td>\n",
       "      <td>Thanks to Yahoo!'s Toolbar I can ...</td>\n",
       "      <td>I had an interesting conversation...</td>\n",
       "      <td>Somehow Coca-Cola has a way of su...</td>\n",
       "      <td>If anything, Korea is a country o...</td>\n",
       "      <td>Take a read of this news article ...</td>\n",
       "      <td>I surf the English news sites a l...</td>\n",
       "    </tr>\n",
       "  </tbody>\n",
       "</table>\n",
       "</div>\n",
       "      <button class=\"colab-df-convert\" onclick=\"convertToInteractive('df-297b63e7-4b11-4dd6-a540-d8271f20e161')\"\n",
       "              title=\"Convert this dataframe to an interactive table.\"\n",
       "              style=\"display:none;\">\n",
       "        \n",
       "  <svg xmlns=\"http://www.w3.org/2000/svg\" height=\"24px\"viewBox=\"0 0 24 24\"\n",
       "       width=\"24px\">\n",
       "    <path d=\"M0 0h24v24H0V0z\" fill=\"none\"/>\n",
       "    <path d=\"M18.56 5.44l.94 2.06.94-2.06 2.06-.94-2.06-.94-.94-2.06-.94 2.06-2.06.94zm-11 1L8.5 8.5l.94-2.06 2.06-.94-2.06-.94L8.5 2.5l-.94 2.06-2.06.94zm10 10l.94 2.06.94-2.06 2.06-.94-2.06-.94-.94-2.06-.94 2.06-2.06.94z\"/><path d=\"M17.41 7.96l-1.37-1.37c-.4-.4-.92-.59-1.43-.59-.52 0-1.04.2-1.43.59L10.3 9.45l-7.72 7.72c-.78.78-.78 2.05 0 2.83L4 21.41c.39.39.9.59 1.41.59.51 0 1.02-.2 1.41-.59l7.78-7.78 2.81-2.81c.8-.78.8-2.07 0-2.86zM5.41 20L4 18.59l7.72-7.72 1.47 1.35L5.41 20z\"/>\n",
       "  </svg>\n",
       "      </button>\n",
       "      \n",
       "  <style>\n",
       "    .colab-df-container {\n",
       "      display:flex;\n",
       "      flex-wrap:wrap;\n",
       "      gap: 12px;\n",
       "    }\n",
       "\n",
       "    .colab-df-convert {\n",
       "      background-color: #E8F0FE;\n",
       "      border: none;\n",
       "      border-radius: 50%;\n",
       "      cursor: pointer;\n",
       "      display: none;\n",
       "      fill: #1967D2;\n",
       "      height: 32px;\n",
       "      padding: 0 0 0 0;\n",
       "      width: 32px;\n",
       "    }\n",
       "\n",
       "    .colab-df-convert:hover {\n",
       "      background-color: #E2EBFA;\n",
       "      box-shadow: 0px 1px 2px rgba(60, 64, 67, 0.3), 0px 1px 3px 1px rgba(60, 64, 67, 0.15);\n",
       "      fill: #174EA6;\n",
       "    }\n",
       "\n",
       "    [theme=dark] .colab-df-convert {\n",
       "      background-color: #3B4455;\n",
       "      fill: #D2E3FC;\n",
       "    }\n",
       "\n",
       "    [theme=dark] .colab-df-convert:hover {\n",
       "      background-color: #434B5C;\n",
       "      box-shadow: 0px 1px 3px 1px rgba(0, 0, 0, 0.15);\n",
       "      filter: drop-shadow(0px 1px 2px rgba(0, 0, 0, 0.3));\n",
       "      fill: #FFFFFF;\n",
       "    }\n",
       "  </style>\n",
       "\n",
       "      <script>\n",
       "        const buttonEl =\n",
       "          document.querySelector('#df-297b63e7-4b11-4dd6-a540-d8271f20e161 button.colab-df-convert');\n",
       "        buttonEl.style.display =\n",
       "          google.colab.kernel.accessAllowed ? 'block' : 'none';\n",
       "\n",
       "        async function convertToInteractive(key) {\n",
       "          const element = document.querySelector('#df-297b63e7-4b11-4dd6-a540-d8271f20e161');\n",
       "          const dataTable =\n",
       "            await google.colab.kernel.invokeFunction('convertToInteractive',\n",
       "                                                     [key], {});\n",
       "          if (!dataTable) return;\n",
       "\n",
       "          const docLinkHtml = 'Like what you see? Visit the ' +\n",
       "            '<a target=\"_blank\" href=https://colab.research.google.com/notebooks/data_table.ipynb>data table notebook</a>'\n",
       "            + ' to learn more about interactive tables.';\n",
       "          element.innerHTML = '';\n",
       "          dataTable['output_type'] = 'display_data';\n",
       "          await google.colab.output.renderOutput(dataTable, element);\n",
       "          const docLink = document.createElement('div');\n",
       "          docLink.innerHTML = docLinkHtml;\n",
       "          element.appendChild(docLink);\n",
       "        }\n",
       "      </script>\n",
       "    </div>\n",
       "  </div>\n",
       "  "
      ],
      "text/plain": [
       "                                                        0  ...                                                  9\n",
       "gender                                               male  ...                                               male\n",
       "age                                                    15  ...                                                 33\n",
       "topic                                             Student  ...                                  InvestmentBanking\n",
       "sign                                                  Leo  ...                                           Aquarius\n",
       "text               Info has been found (+/- 100 pages,...  ...               I surf the English news sites a l...\n",
       "\n",
       "[5 rows x 10 columns]"
      ]
     },
     "execution_count": 317,
     "metadata": {},
     "output_type": "execute_result"
    }
   ],
   "source": [
    "pd.set_option('display.max_colwidth',50)\n",
    "df_digi.head(10).T"
   ]
  },
  {
   "cell_type": "code",
   "execution_count": 318,
   "metadata": {
    "colab": {
     "base_uri": "https://localhost:8080/",
     "height": 81
    },
    "id": "t-bqLb9Vgqdv",
    "outputId": "21f2486f-c38b-40c2-8854-35316c1d8624"
   },
   "outputs": [
    {
     "data": {
      "text/html": [
       "\n",
       "  <div id=\"df-8aa50695-699e-4c1e-b64a-e268d800e1c0\">\n",
       "    <div class=\"colab-df-container\">\n",
       "      <div>\n",
       "<style scoped>\n",
       "    .dataframe tbody tr th:only-of-type {\n",
       "        vertical-align: middle;\n",
       "    }\n",
       "\n",
       "    .dataframe tbody tr th {\n",
       "        vertical-align: top;\n",
       "    }\n",
       "\n",
       "    .dataframe thead th {\n",
       "        text-align: right;\n",
       "    }\n",
       "</style>\n",
       "<table border=\"1\" class=\"dataframe\">\n",
       "  <thead>\n",
       "    <tr style=\"text-align: right;\">\n",
       "      <th></th>\n",
       "      <th>count</th>\n",
       "      <th>mean</th>\n",
       "      <th>std</th>\n",
       "      <th>min</th>\n",
       "      <th>25%</th>\n",
       "      <th>50%</th>\n",
       "      <th>75%</th>\n",
       "      <th>max</th>\n",
       "    </tr>\n",
       "  </thead>\n",
       "  <tbody>\n",
       "    <tr>\n",
       "      <th>age</th>\n",
       "      <td>10000.0</td>\n",
       "      <td>28.0193</td>\n",
       "      <td>8.123923</td>\n",
       "      <td>13.0</td>\n",
       "      <td>23.0</td>\n",
       "      <td>27.0</td>\n",
       "      <td>35.0</td>\n",
       "      <td>46.0</td>\n",
       "    </tr>\n",
       "  </tbody>\n",
       "</table>\n",
       "</div>\n",
       "      <button class=\"colab-df-convert\" onclick=\"convertToInteractive('df-8aa50695-699e-4c1e-b64a-e268d800e1c0')\"\n",
       "              title=\"Convert this dataframe to an interactive table.\"\n",
       "              style=\"display:none;\">\n",
       "        \n",
       "  <svg xmlns=\"http://www.w3.org/2000/svg\" height=\"24px\"viewBox=\"0 0 24 24\"\n",
       "       width=\"24px\">\n",
       "    <path d=\"M0 0h24v24H0V0z\" fill=\"none\"/>\n",
       "    <path d=\"M18.56 5.44l.94 2.06.94-2.06 2.06-.94-2.06-.94-.94-2.06-.94 2.06-2.06.94zm-11 1L8.5 8.5l.94-2.06 2.06-.94-2.06-.94L8.5 2.5l-.94 2.06-2.06.94zm10 10l.94 2.06.94-2.06 2.06-.94-2.06-.94-.94-2.06-.94 2.06-2.06.94z\"/><path d=\"M17.41 7.96l-1.37-1.37c-.4-.4-.92-.59-1.43-.59-.52 0-1.04.2-1.43.59L10.3 9.45l-7.72 7.72c-.78.78-.78 2.05 0 2.83L4 21.41c.39.39.9.59 1.41.59.51 0 1.02-.2 1.41-.59l7.78-7.78 2.81-2.81c.8-.78.8-2.07 0-2.86zM5.41 20L4 18.59l7.72-7.72 1.47 1.35L5.41 20z\"/>\n",
       "  </svg>\n",
       "      </button>\n",
       "      \n",
       "  <style>\n",
       "    .colab-df-container {\n",
       "      display:flex;\n",
       "      flex-wrap:wrap;\n",
       "      gap: 12px;\n",
       "    }\n",
       "\n",
       "    .colab-df-convert {\n",
       "      background-color: #E8F0FE;\n",
       "      border: none;\n",
       "      border-radius: 50%;\n",
       "      cursor: pointer;\n",
       "      display: none;\n",
       "      fill: #1967D2;\n",
       "      height: 32px;\n",
       "      padding: 0 0 0 0;\n",
       "      width: 32px;\n",
       "    }\n",
       "\n",
       "    .colab-df-convert:hover {\n",
       "      background-color: #E2EBFA;\n",
       "      box-shadow: 0px 1px 2px rgba(60, 64, 67, 0.3), 0px 1px 3px 1px rgba(60, 64, 67, 0.15);\n",
       "      fill: #174EA6;\n",
       "    }\n",
       "\n",
       "    [theme=dark] .colab-df-convert {\n",
       "      background-color: #3B4455;\n",
       "      fill: #D2E3FC;\n",
       "    }\n",
       "\n",
       "    [theme=dark] .colab-df-convert:hover {\n",
       "      background-color: #434B5C;\n",
       "      box-shadow: 0px 1px 3px 1px rgba(0, 0, 0, 0.15);\n",
       "      filter: drop-shadow(0px 1px 2px rgba(0, 0, 0, 0.3));\n",
       "      fill: #FFFFFF;\n",
       "    }\n",
       "  </style>\n",
       "\n",
       "      <script>\n",
       "        const buttonEl =\n",
       "          document.querySelector('#df-8aa50695-699e-4c1e-b64a-e268d800e1c0 button.colab-df-convert');\n",
       "        buttonEl.style.display =\n",
       "          google.colab.kernel.accessAllowed ? 'block' : 'none';\n",
       "\n",
       "        async function convertToInteractive(key) {\n",
       "          const element = document.querySelector('#df-8aa50695-699e-4c1e-b64a-e268d800e1c0');\n",
       "          const dataTable =\n",
       "            await google.colab.kernel.invokeFunction('convertToInteractive',\n",
       "                                                     [key], {});\n",
       "          if (!dataTable) return;\n",
       "\n",
       "          const docLinkHtml = 'Like what you see? Visit the ' +\n",
       "            '<a target=\"_blank\" href=https://colab.research.google.com/notebooks/data_table.ipynb>data table notebook</a>'\n",
       "            + ' to learn more about interactive tables.';\n",
       "          element.innerHTML = '';\n",
       "          dataTable['output_type'] = 'display_data';\n",
       "          await google.colab.output.renderOutput(dataTable, element);\n",
       "          const docLink = document.createElement('div');\n",
       "          docLink.innerHTML = docLinkHtml;\n",
       "          element.appendChild(docLink);\n",
       "        }\n",
       "      </script>\n",
       "    </div>\n",
       "  </div>\n",
       "  "
      ],
      "text/plain": [
       "       count     mean       std   min   25%   50%   75%   max\n",
       "age  10000.0  28.0193  8.123923  13.0  23.0  27.0  35.0  46.0"
      ]
     },
     "execution_count": 318,
     "metadata": {},
     "output_type": "execute_result"
    }
   ],
   "source": [
    "df_digi.describe(include=[np.number]).T"
   ]
  },
  {
   "cell_type": "code",
   "execution_count": 319,
   "metadata": {
    "colab": {
     "base_uri": "https://localhost:8080/"
    },
    "id": "PArO4-uFLNGs",
    "outputId": "a6cbac24-09d4-4237-c6e2-028a90d712c7"
   },
   "outputs": [
    {
     "name": "stdout",
     "output_type": "stream",
     "text": [
      "35    2315\n",
      "36    1708\n",
      "17    1185\n",
      "27    1054\n",
      "24     655\n",
      "15     602\n",
      "34     553\n",
      "16     440\n",
      "25     386\n",
      "23     253\n",
      "26     234\n",
      "14     212\n",
      "33     136\n",
      "39      79\n",
      "38      46\n",
      "13      42\n",
      "37      33\n",
      "41      20\n",
      "45      16\n",
      "42      14\n",
      "46       7\n",
      "43       6\n",
      "44       3\n",
      "40       1\n",
      "Name: age, dtype: int64\n"
     ]
    }
   ],
   "source": [
    "print(df_digi.age.value_counts())"
   ]
  },
  {
   "cell_type": "code",
   "execution_count": 320,
   "metadata": {
    "colab": {
     "base_uri": "https://localhost:8080/",
     "height": 174
    },
    "id": "KTJAmGZULXuJ",
    "outputId": "fa1e6cda-d077-4b6e-f7c7-d2e50244c079"
   },
   "outputs": [
    {
     "data": {
      "text/html": [
       "\n",
       "  <div id=\"df-f6feb1a4-3d4a-40f1-954c-e823936287ab\">\n",
       "    <div class=\"colab-df-container\">\n",
       "      <div>\n",
       "<style scoped>\n",
       "    .dataframe tbody tr th:only-of-type {\n",
       "        vertical-align: middle;\n",
       "    }\n",
       "\n",
       "    .dataframe tbody tr th {\n",
       "        vertical-align: top;\n",
       "    }\n",
       "\n",
       "    .dataframe thead th {\n",
       "        text-align: right;\n",
       "    }\n",
       "</style>\n",
       "<table border=\"1\" class=\"dataframe\">\n",
       "  <thead>\n",
       "    <tr style=\"text-align: right;\">\n",
       "      <th></th>\n",
       "      <th>count</th>\n",
       "      <th>unique</th>\n",
       "      <th>top</th>\n",
       "      <th>freq</th>\n",
       "    </tr>\n",
       "  </thead>\n",
       "  <tbody>\n",
       "    <tr>\n",
       "      <th>gender</th>\n",
       "      <td>10000</td>\n",
       "      <td>2</td>\n",
       "      <td>male</td>\n",
       "      <td>5916</td>\n",
       "    </tr>\n",
       "    <tr>\n",
       "      <th>topic</th>\n",
       "      <td>10000</td>\n",
       "      <td>26</td>\n",
       "      <td>indUnk</td>\n",
       "      <td>3287</td>\n",
       "    </tr>\n",
       "    <tr>\n",
       "      <th>sign</th>\n",
       "      <td>10000</td>\n",
       "      <td>12</td>\n",
       "      <td>Aries</td>\n",
       "      <td>4198</td>\n",
       "    </tr>\n",
       "    <tr>\n",
       "      <th>text</th>\n",
       "      <td>10000</td>\n",
       "      <td>9949</td>\n",
       "      <td></td>\n",
       "      <td>13</td>\n",
       "    </tr>\n",
       "  </tbody>\n",
       "</table>\n",
       "</div>\n",
       "      <button class=\"colab-df-convert\" onclick=\"convertToInteractive('df-f6feb1a4-3d4a-40f1-954c-e823936287ab')\"\n",
       "              title=\"Convert this dataframe to an interactive table.\"\n",
       "              style=\"display:none;\">\n",
       "        \n",
       "  <svg xmlns=\"http://www.w3.org/2000/svg\" height=\"24px\"viewBox=\"0 0 24 24\"\n",
       "       width=\"24px\">\n",
       "    <path d=\"M0 0h24v24H0V0z\" fill=\"none\"/>\n",
       "    <path d=\"M18.56 5.44l.94 2.06.94-2.06 2.06-.94-2.06-.94-.94-2.06-.94 2.06-2.06.94zm-11 1L8.5 8.5l.94-2.06 2.06-.94-2.06-.94L8.5 2.5l-.94 2.06-2.06.94zm10 10l.94 2.06.94-2.06 2.06-.94-2.06-.94-.94-2.06-.94 2.06-2.06.94z\"/><path d=\"M17.41 7.96l-1.37-1.37c-.4-.4-.92-.59-1.43-.59-.52 0-1.04.2-1.43.59L10.3 9.45l-7.72 7.72c-.78.78-.78 2.05 0 2.83L4 21.41c.39.39.9.59 1.41.59.51 0 1.02-.2 1.41-.59l7.78-7.78 2.81-2.81c.8-.78.8-2.07 0-2.86zM5.41 20L4 18.59l7.72-7.72 1.47 1.35L5.41 20z\"/>\n",
       "  </svg>\n",
       "      </button>\n",
       "      \n",
       "  <style>\n",
       "    .colab-df-container {\n",
       "      display:flex;\n",
       "      flex-wrap:wrap;\n",
       "      gap: 12px;\n",
       "    }\n",
       "\n",
       "    .colab-df-convert {\n",
       "      background-color: #E8F0FE;\n",
       "      border: none;\n",
       "      border-radius: 50%;\n",
       "      cursor: pointer;\n",
       "      display: none;\n",
       "      fill: #1967D2;\n",
       "      height: 32px;\n",
       "      padding: 0 0 0 0;\n",
       "      width: 32px;\n",
       "    }\n",
       "\n",
       "    .colab-df-convert:hover {\n",
       "      background-color: #E2EBFA;\n",
       "      box-shadow: 0px 1px 2px rgba(60, 64, 67, 0.3), 0px 1px 3px 1px rgba(60, 64, 67, 0.15);\n",
       "      fill: #174EA6;\n",
       "    }\n",
       "\n",
       "    [theme=dark] .colab-df-convert {\n",
       "      background-color: #3B4455;\n",
       "      fill: #D2E3FC;\n",
       "    }\n",
       "\n",
       "    [theme=dark] .colab-df-convert:hover {\n",
       "      background-color: #434B5C;\n",
       "      box-shadow: 0px 1px 3px 1px rgba(0, 0, 0, 0.15);\n",
       "      filter: drop-shadow(0px 1px 2px rgba(0, 0, 0, 0.3));\n",
       "      fill: #FFFFFF;\n",
       "    }\n",
       "  </style>\n",
       "\n",
       "      <script>\n",
       "        const buttonEl =\n",
       "          document.querySelector('#df-f6feb1a4-3d4a-40f1-954c-e823936287ab button.colab-df-convert');\n",
       "        buttonEl.style.display =\n",
       "          google.colab.kernel.accessAllowed ? 'block' : 'none';\n",
       "\n",
       "        async function convertToInteractive(key) {\n",
       "          const element = document.querySelector('#df-f6feb1a4-3d4a-40f1-954c-e823936287ab');\n",
       "          const dataTable =\n",
       "            await google.colab.kernel.invokeFunction('convertToInteractive',\n",
       "                                                     [key], {});\n",
       "          if (!dataTable) return;\n",
       "\n",
       "          const docLinkHtml = 'Like what you see? Visit the ' +\n",
       "            '<a target=\"_blank\" href=https://colab.research.google.com/notebooks/data_table.ipynb>data table notebook</a>'\n",
       "            + ' to learn more about interactive tables.';\n",
       "          element.innerHTML = '';\n",
       "          dataTable['output_type'] = 'display_data';\n",
       "          await google.colab.output.renderOutput(dataTable, element);\n",
       "          const docLink = document.createElement('div');\n",
       "          docLink.innerHTML = docLinkHtml;\n",
       "          element.appendChild(docLink);\n",
       "        }\n",
       "      </script>\n",
       "    </div>\n",
       "  </div>\n",
       "  "
      ],
      "text/plain": [
       "        count unique           top  freq\n",
       "gender  10000      2          male  5916\n",
       "topic   10000     26        indUnk  3287\n",
       "sign    10000     12         Aries  4198\n",
       "text    10000   9949                  13"
      ]
     },
     "execution_count": 320,
     "metadata": {},
     "output_type": "execute_result"
    }
   ],
   "source": [
    "df_digi.describe(include=[np.object]).T"
   ]
  },
  {
   "cell_type": "code",
   "execution_count": 321,
   "metadata": {
    "colab": {
     "base_uri": "https://localhost:8080/"
    },
    "id": "Ik6cbFPpLsxd",
    "outputId": "ff45e5d7-87ee-40b6-d615-5fe2c1c83e1b"
   },
   "outputs": [
    {
     "data": {
      "text/plain": [
       "False"
      ]
     },
     "execution_count": 321,
     "metadata": {},
     "output_type": "execute_result"
    }
   ],
   "source": [
    "df_digi.isna().values.any()"
   ]
  },
  {
   "cell_type": "code",
   "execution_count": 322,
   "metadata": {
    "id": "hXYKwB2LcYhF"
   },
   "outputs": [],
   "source": [
    "new_df=df_digi[['text','topic']]"
   ]
  },
  {
   "cell_type": "code",
   "execution_count": 323,
   "metadata": {
    "colab": {
     "base_uri": "https://localhost:8080/",
     "height": 206
    },
    "id": "LUEqc5Tbcev0",
    "outputId": "bee1ad3e-4e56-4826-e0c1-99ed7413a235"
   },
   "outputs": [
    {
     "data": {
      "text/html": [
       "\n",
       "  <div id=\"df-e420a24d-21f7-45a6-b0c2-8983bdf6aad4\">\n",
       "    <div class=\"colab-df-container\">\n",
       "      <div>\n",
       "<style scoped>\n",
       "    .dataframe tbody tr th:only-of-type {\n",
       "        vertical-align: middle;\n",
       "    }\n",
       "\n",
       "    .dataframe tbody tr th {\n",
       "        vertical-align: top;\n",
       "    }\n",
       "\n",
       "    .dataframe thead th {\n",
       "        text-align: right;\n",
       "    }\n",
       "</style>\n",
       "<table border=\"1\" class=\"dataframe\">\n",
       "  <thead>\n",
       "    <tr style=\"text-align: right;\">\n",
       "      <th></th>\n",
       "      <th>text</th>\n",
       "      <th>topic</th>\n",
       "    </tr>\n",
       "  </thead>\n",
       "  <tbody>\n",
       "    <tr>\n",
       "      <th>0</th>\n",
       "      <td>Info has been found (+/- 100 pages,...</td>\n",
       "      <td>Student</td>\n",
       "    </tr>\n",
       "    <tr>\n",
       "      <th>1</th>\n",
       "      <td>These are the team members:   Drewe...</td>\n",
       "      <td>Student</td>\n",
       "    </tr>\n",
       "    <tr>\n",
       "      <th>2</th>\n",
       "      <td>In het kader van kernfusie op aarde...</td>\n",
       "      <td>Student</td>\n",
       "    </tr>\n",
       "    <tr>\n",
       "      <th>3</th>\n",
       "      <td>testing!!!  testing!!!</td>\n",
       "      <td>Student</td>\n",
       "    </tr>\n",
       "    <tr>\n",
       "      <th>4</th>\n",
       "      <td>Thanks to Yahoo!'s Toolbar I can ...</td>\n",
       "      <td>InvestmentBanking</td>\n",
       "    </tr>\n",
       "  </tbody>\n",
       "</table>\n",
       "</div>\n",
       "      <button class=\"colab-df-convert\" onclick=\"convertToInteractive('df-e420a24d-21f7-45a6-b0c2-8983bdf6aad4')\"\n",
       "              title=\"Convert this dataframe to an interactive table.\"\n",
       "              style=\"display:none;\">\n",
       "        \n",
       "  <svg xmlns=\"http://www.w3.org/2000/svg\" height=\"24px\"viewBox=\"0 0 24 24\"\n",
       "       width=\"24px\">\n",
       "    <path d=\"M0 0h24v24H0V0z\" fill=\"none\"/>\n",
       "    <path d=\"M18.56 5.44l.94 2.06.94-2.06 2.06-.94-2.06-.94-.94-2.06-.94 2.06-2.06.94zm-11 1L8.5 8.5l.94-2.06 2.06-.94-2.06-.94L8.5 2.5l-.94 2.06-2.06.94zm10 10l.94 2.06.94-2.06 2.06-.94-2.06-.94-.94-2.06-.94 2.06-2.06.94z\"/><path d=\"M17.41 7.96l-1.37-1.37c-.4-.4-.92-.59-1.43-.59-.52 0-1.04.2-1.43.59L10.3 9.45l-7.72 7.72c-.78.78-.78 2.05 0 2.83L4 21.41c.39.39.9.59 1.41.59.51 0 1.02-.2 1.41-.59l7.78-7.78 2.81-2.81c.8-.78.8-2.07 0-2.86zM5.41 20L4 18.59l7.72-7.72 1.47 1.35L5.41 20z\"/>\n",
       "  </svg>\n",
       "      </button>\n",
       "      \n",
       "  <style>\n",
       "    .colab-df-container {\n",
       "      display:flex;\n",
       "      flex-wrap:wrap;\n",
       "      gap: 12px;\n",
       "    }\n",
       "\n",
       "    .colab-df-convert {\n",
       "      background-color: #E8F0FE;\n",
       "      border: none;\n",
       "      border-radius: 50%;\n",
       "      cursor: pointer;\n",
       "      display: none;\n",
       "      fill: #1967D2;\n",
       "      height: 32px;\n",
       "      padding: 0 0 0 0;\n",
       "      width: 32px;\n",
       "    }\n",
       "\n",
       "    .colab-df-convert:hover {\n",
       "      background-color: #E2EBFA;\n",
       "      box-shadow: 0px 1px 2px rgba(60, 64, 67, 0.3), 0px 1px 3px 1px rgba(60, 64, 67, 0.15);\n",
       "      fill: #174EA6;\n",
       "    }\n",
       "\n",
       "    [theme=dark] .colab-df-convert {\n",
       "      background-color: #3B4455;\n",
       "      fill: #D2E3FC;\n",
       "    }\n",
       "\n",
       "    [theme=dark] .colab-df-convert:hover {\n",
       "      background-color: #434B5C;\n",
       "      box-shadow: 0px 1px 3px 1px rgba(0, 0, 0, 0.15);\n",
       "      filter: drop-shadow(0px 1px 2px rgba(0, 0, 0, 0.3));\n",
       "      fill: #FFFFFF;\n",
       "    }\n",
       "  </style>\n",
       "\n",
       "      <script>\n",
       "        const buttonEl =\n",
       "          document.querySelector('#df-e420a24d-21f7-45a6-b0c2-8983bdf6aad4 button.colab-df-convert');\n",
       "        buttonEl.style.display =\n",
       "          google.colab.kernel.accessAllowed ? 'block' : 'none';\n",
       "\n",
       "        async function convertToInteractive(key) {\n",
       "          const element = document.querySelector('#df-e420a24d-21f7-45a6-b0c2-8983bdf6aad4');\n",
       "          const dataTable =\n",
       "            await google.colab.kernel.invokeFunction('convertToInteractive',\n",
       "                                                     [key], {});\n",
       "          if (!dataTable) return;\n",
       "\n",
       "          const docLinkHtml = 'Like what you see? Visit the ' +\n",
       "            '<a target=\"_blank\" href=https://colab.research.google.com/notebooks/data_table.ipynb>data table notebook</a>'\n",
       "            + ' to learn more about interactive tables.';\n",
       "          element.innerHTML = '';\n",
       "          dataTable['output_type'] = 'display_data';\n",
       "          await google.colab.output.renderOutput(dataTable, element);\n",
       "          const docLink = document.createElement('div');\n",
       "          docLink.innerHTML = docLinkHtml;\n",
       "          element.appendChild(docLink);\n",
       "        }\n",
       "      </script>\n",
       "    </div>\n",
       "  </div>\n",
       "  "
      ],
      "text/plain": [
       "                                                text              topic\n",
       "0             Info has been found (+/- 100 pages,...            Student\n",
       "1             These are the team members:   Drewe...            Student\n",
       "2             In het kader van kernfusie op aarde...            Student\n",
       "3                   testing!!!  testing!!!                      Student\n",
       "4               Thanks to Yahoo!'s Toolbar I can ...  InvestmentBanking"
      ]
     },
     "execution_count": 323,
     "metadata": {},
     "output_type": "execute_result"
    }
   ],
   "source": [
    "new_df[:5]"
   ]
  },
  {
   "cell_type": "code",
   "execution_count": 324,
   "metadata": {
    "id": "A2Qz--YHcjVi"
   },
   "outputs": [],
   "source": [
    "#pd.options.mode.chained_assignment=None\n",
    "#new_df['text']=new_df[['text']]\n",
    "#new_df['text']=new_df['text'].astype(str)"
   ]
  },
  {
   "cell_type": "markdown",
   "metadata": {
    "id": "VlpiJUrlfCUn"
   },
   "source": [
    "ii. Eliminate Non-English textual data.\n",
    "Hint: Refer ‘langdetect’ library to detect language of the input text."
   ]
  },
  {
   "cell_type": "code",
   "execution_count": 325,
   "metadata": {
    "colab": {
     "base_uri": "https://localhost:8080/"
    },
    "id": "dQzqjATQLUKJ",
    "outputId": "c0826534-e5b5-4b0d-c54e-f8cc94ba2005"
   },
   "outputs": [
    {
     "name": "stdout",
     "output_type": "stream",
     "text": [
      "Requirement already satisfied: langdetect in /usr/local/lib/python3.7/dist-packages (1.0.9)\n",
      "Requirement already satisfied: six in /usr/local/lib/python3.7/dist-packages (from langdetect) (1.15.0)\n"
     ]
    }
   ],
   "source": [
    "!pip install langdetect"
   ]
  },
  {
   "cell_type": "code",
   "execution_count": 326,
   "metadata": {
    "colab": {
     "base_uri": "https://localhost:8080/"
    },
    "id": "2FFERuJVLh9C",
    "outputId": "2b38683c-ed59-4458-cfe0-9a8f4b17155e"
   },
   "outputs": [
    {
     "data": {
      "text/plain": [
       "0        True\n",
       "1       False\n",
       "2        True\n",
       "3        True\n",
       "4        True\n",
       "        ...  \n",
       "9995     True\n",
       "9996     True\n",
       "9997     True\n",
       "9998     True\n",
       "9999     True\n",
       "Name: text, Length: 10000, dtype: bool"
      ]
     },
     "execution_count": 326,
     "metadata": {},
     "output_type": "execute_result"
    }
   ],
   "source": [
    "from langdetect import detect_langs,detect\n",
    "\n",
    "def detect_lang(text):\n",
    "    return detect_en(text)\n",
    "  \n",
    "new_df['text'].apply(detect_lang)"
   ]
  },
  {
   "cell_type": "code",
   "execution_count": 327,
   "metadata": {
    "colab": {
     "base_uri": "https://localhost:8080/"
    },
    "id": "nwPq5a6Yx9NV",
    "outputId": "37e016c6-7c61-41b6-8455-39aad72df831"
   },
   "outputs": [
    {
     "data": {
      "text/plain": [
       "True     9542\n",
       "False     458\n",
       "Name: text, dtype: int64"
      ]
     },
     "execution_count": 327,
     "metadata": {},
     "output_type": "execute_result"
    }
   ],
   "source": [
    "new_df['text'].apply(detect_lang).value_counts()"
   ]
  },
  {
   "cell_type": "markdown",
   "metadata": {
    "id": "o0Y-R3cpykvF"
   },
   "source": [
    "We have 9542(rows) english text messages and 458(rows) non english text messages from total 1000 text messages because we have restricted the dataset to 1000(rows) text messages."
   ]
  },
  {
   "cell_type": "code",
   "execution_count": 328,
   "metadata": {
    "colab": {
     "base_uri": "https://localhost:8080/",
     "height": 206
    },
    "id": "u1u5UwlLsoTF",
    "outputId": "5663ef26-3331-4f14-ee9a-72d1d8ad2a5a"
   },
   "outputs": [
    {
     "data": {
      "text/html": [
       "\n",
       "  <div id=\"df-8cc7746e-ca2b-410b-ba13-e70698bf2710\">\n",
       "    <div class=\"colab-df-container\">\n",
       "      <div>\n",
       "<style scoped>\n",
       "    .dataframe tbody tr th:only-of-type {\n",
       "        vertical-align: middle;\n",
       "    }\n",
       "\n",
       "    .dataframe tbody tr th {\n",
       "        vertical-align: top;\n",
       "    }\n",
       "\n",
       "    .dataframe thead th {\n",
       "        text-align: right;\n",
       "    }\n",
       "</style>\n",
       "<table border=\"1\" class=\"dataframe\">\n",
       "  <thead>\n",
       "    <tr style=\"text-align: right;\">\n",
       "      <th></th>\n",
       "      <th>text</th>\n",
       "      <th>topic</th>\n",
       "      <th>lang_detect</th>\n",
       "    </tr>\n",
       "  </thead>\n",
       "  <tbody>\n",
       "    <tr>\n",
       "      <th>0</th>\n",
       "      <td>Info has been found (+/- 100 pages,...</td>\n",
       "      <td>Student</td>\n",
       "      <td>en</td>\n",
       "    </tr>\n",
       "    <tr>\n",
       "      <th>1</th>\n",
       "      <td>These are the team members:   Drewe...</td>\n",
       "      <td>Student</td>\n",
       "      <td>nl</td>\n",
       "    </tr>\n",
       "    <tr>\n",
       "      <th>2</th>\n",
       "      <td>In het kader van kernfusie op aarde...</td>\n",
       "      <td>Student</td>\n",
       "      <td>en</td>\n",
       "    </tr>\n",
       "    <tr>\n",
       "      <th>3</th>\n",
       "      <td>testing!!!  testing!!!</td>\n",
       "      <td>Student</td>\n",
       "      <td>en</td>\n",
       "    </tr>\n",
       "    <tr>\n",
       "      <th>4</th>\n",
       "      <td>Thanks to Yahoo!'s Toolbar I can ...</td>\n",
       "      <td>InvestmentBanking</td>\n",
       "      <td>en</td>\n",
       "    </tr>\n",
       "  </tbody>\n",
       "</table>\n",
       "</div>\n",
       "      <button class=\"colab-df-convert\" onclick=\"convertToInteractive('df-8cc7746e-ca2b-410b-ba13-e70698bf2710')\"\n",
       "              title=\"Convert this dataframe to an interactive table.\"\n",
       "              style=\"display:none;\">\n",
       "        \n",
       "  <svg xmlns=\"http://www.w3.org/2000/svg\" height=\"24px\"viewBox=\"0 0 24 24\"\n",
       "       width=\"24px\">\n",
       "    <path d=\"M0 0h24v24H0V0z\" fill=\"none\"/>\n",
       "    <path d=\"M18.56 5.44l.94 2.06.94-2.06 2.06-.94-2.06-.94-.94-2.06-.94 2.06-2.06.94zm-11 1L8.5 8.5l.94-2.06 2.06-.94-2.06-.94L8.5 2.5l-.94 2.06-2.06.94zm10 10l.94 2.06.94-2.06 2.06-.94-2.06-.94-.94-2.06-.94 2.06-2.06.94z\"/><path d=\"M17.41 7.96l-1.37-1.37c-.4-.4-.92-.59-1.43-.59-.52 0-1.04.2-1.43.59L10.3 9.45l-7.72 7.72c-.78.78-.78 2.05 0 2.83L4 21.41c.39.39.9.59 1.41.59.51 0 1.02-.2 1.41-.59l7.78-7.78 2.81-2.81c.8-.78.8-2.07 0-2.86zM5.41 20L4 18.59l7.72-7.72 1.47 1.35L5.41 20z\"/>\n",
       "  </svg>\n",
       "      </button>\n",
       "      \n",
       "  <style>\n",
       "    .colab-df-container {\n",
       "      display:flex;\n",
       "      flex-wrap:wrap;\n",
       "      gap: 12px;\n",
       "    }\n",
       "\n",
       "    .colab-df-convert {\n",
       "      background-color: #E8F0FE;\n",
       "      border: none;\n",
       "      border-radius: 50%;\n",
       "      cursor: pointer;\n",
       "      display: none;\n",
       "      fill: #1967D2;\n",
       "      height: 32px;\n",
       "      padding: 0 0 0 0;\n",
       "      width: 32px;\n",
       "    }\n",
       "\n",
       "    .colab-df-convert:hover {\n",
       "      background-color: #E2EBFA;\n",
       "      box-shadow: 0px 1px 2px rgba(60, 64, 67, 0.3), 0px 1px 3px 1px rgba(60, 64, 67, 0.15);\n",
       "      fill: #174EA6;\n",
       "    }\n",
       "\n",
       "    [theme=dark] .colab-df-convert {\n",
       "      background-color: #3B4455;\n",
       "      fill: #D2E3FC;\n",
       "    }\n",
       "\n",
       "    [theme=dark] .colab-df-convert:hover {\n",
       "      background-color: #434B5C;\n",
       "      box-shadow: 0px 1px 3px 1px rgba(0, 0, 0, 0.15);\n",
       "      filter: drop-shadow(0px 1px 2px rgba(0, 0, 0, 0.3));\n",
       "      fill: #FFFFFF;\n",
       "    }\n",
       "  </style>\n",
       "\n",
       "      <script>\n",
       "        const buttonEl =\n",
       "          document.querySelector('#df-8cc7746e-ca2b-410b-ba13-e70698bf2710 button.colab-df-convert');\n",
       "        buttonEl.style.display =\n",
       "          google.colab.kernel.accessAllowed ? 'block' : 'none';\n",
       "\n",
       "        async function convertToInteractive(key) {\n",
       "          const element = document.querySelector('#df-8cc7746e-ca2b-410b-ba13-e70698bf2710');\n",
       "          const dataTable =\n",
       "            await google.colab.kernel.invokeFunction('convertToInteractive',\n",
       "                                                     [key], {});\n",
       "          if (!dataTable) return;\n",
       "\n",
       "          const docLinkHtml = 'Like what you see? Visit the ' +\n",
       "            '<a target=\"_blank\" href=https://colab.research.google.com/notebooks/data_table.ipynb>data table notebook</a>'\n",
       "            + ' to learn more about interactive tables.';\n",
       "          element.innerHTML = '';\n",
       "          dataTable['output_type'] = 'display_data';\n",
       "          await google.colab.output.renderOutput(dataTable, element);\n",
       "          const docLink = document.createElement('div');\n",
       "          docLink.innerHTML = docLinkHtml;\n",
       "          element.appendChild(docLink);\n",
       "        }\n",
       "      </script>\n",
       "    </div>\n",
       "  </div>\n",
       "  "
      ],
      "text/plain": [
       "                                                text  ... lang_detect\n",
       "0             Info has been found (+/- 100 pages,...  ...          en\n",
       "1             These are the team members:   Drewe...  ...          nl\n",
       "2             In het kader van kernfusie op aarde...  ...          en\n",
       "3                   testing!!!  testing!!!            ...          en\n",
       "4               Thanks to Yahoo!'s Toolbar I can ...  ...          en\n",
       "\n",
       "[5 rows x 3 columns]"
      ]
     },
     "execution_count": 328,
     "metadata": {},
     "output_type": "execute_result"
    }
   ],
   "source": [
    "def lang_detect(x):\n",
    "    try:\n",
    "        lang=detect(x)\n",
    "    except:\n",
    "        lang='Other'\n",
    "    return lang\n",
    "\n",
    "new_df['lang_detect']=new_df['text'].apply(lang_detect)\n",
    "new_df.head()"
   ]
  },
  {
   "cell_type": "code",
   "execution_count": 329,
   "metadata": {
    "colab": {
     "base_uri": "https://localhost:8080/",
     "height": 206
    },
    "id": "jg9jypoIzqMd",
    "outputId": "d91431ae-14de-479f-9e8e-4c029b20b78f"
   },
   "outputs": [
    {
     "data": {
      "text/html": [
       "\n",
       "  <div id=\"df-f0be81aa-a71d-4743-a0f3-6ceb7533c22b\">\n",
       "    <div class=\"colab-df-container\">\n",
       "      <div>\n",
       "<style scoped>\n",
       "    .dataframe tbody tr th:only-of-type {\n",
       "        vertical-align: middle;\n",
       "    }\n",
       "\n",
       "    .dataframe tbody tr th {\n",
       "        vertical-align: top;\n",
       "    }\n",
       "\n",
       "    .dataframe thead th {\n",
       "        text-align: right;\n",
       "    }\n",
       "</style>\n",
       "<table border=\"1\" class=\"dataframe\">\n",
       "  <thead>\n",
       "    <tr style=\"text-align: right;\">\n",
       "      <th></th>\n",
       "      <th>text</th>\n",
       "      <th>topic</th>\n",
       "      <th>lang_detect</th>\n",
       "      <th>eng_lang</th>\n",
       "    </tr>\n",
       "  </thead>\n",
       "  <tbody>\n",
       "    <tr>\n",
       "      <th>0</th>\n",
       "      <td>Info has been found (+/- 100 pages,...</td>\n",
       "      <td>Student</td>\n",
       "      <td>en</td>\n",
       "      <td>True</td>\n",
       "    </tr>\n",
       "    <tr>\n",
       "      <th>1</th>\n",
       "      <td>These are the team members:   Drewe...</td>\n",
       "      <td>Student</td>\n",
       "      <td>nl</td>\n",
       "      <td>True</td>\n",
       "    </tr>\n",
       "    <tr>\n",
       "      <th>2</th>\n",
       "      <td>In het kader van kernfusie op aarde...</td>\n",
       "      <td>Student</td>\n",
       "      <td>en</td>\n",
       "      <td>False</td>\n",
       "    </tr>\n",
       "    <tr>\n",
       "      <th>3</th>\n",
       "      <td>testing!!!  testing!!!</td>\n",
       "      <td>Student</td>\n",
       "      <td>en</td>\n",
       "      <td>True</td>\n",
       "    </tr>\n",
       "    <tr>\n",
       "      <th>4</th>\n",
       "      <td>Thanks to Yahoo!'s Toolbar I can ...</td>\n",
       "      <td>InvestmentBanking</td>\n",
       "      <td>en</td>\n",
       "      <td>True</td>\n",
       "    </tr>\n",
       "  </tbody>\n",
       "</table>\n",
       "</div>\n",
       "      <button class=\"colab-df-convert\" onclick=\"convertToInteractive('df-f0be81aa-a71d-4743-a0f3-6ceb7533c22b')\"\n",
       "              title=\"Convert this dataframe to an interactive table.\"\n",
       "              style=\"display:none;\">\n",
       "        \n",
       "  <svg xmlns=\"http://www.w3.org/2000/svg\" height=\"24px\"viewBox=\"0 0 24 24\"\n",
       "       width=\"24px\">\n",
       "    <path d=\"M0 0h24v24H0V0z\" fill=\"none\"/>\n",
       "    <path d=\"M18.56 5.44l.94 2.06.94-2.06 2.06-.94-2.06-.94-.94-2.06-.94 2.06-2.06.94zm-11 1L8.5 8.5l.94-2.06 2.06-.94-2.06-.94L8.5 2.5l-.94 2.06-2.06.94zm10 10l.94 2.06.94-2.06 2.06-.94-2.06-.94-.94-2.06-.94 2.06-2.06.94z\"/><path d=\"M17.41 7.96l-1.37-1.37c-.4-.4-.92-.59-1.43-.59-.52 0-1.04.2-1.43.59L10.3 9.45l-7.72 7.72c-.78.78-.78 2.05 0 2.83L4 21.41c.39.39.9.59 1.41.59.51 0 1.02-.2 1.41-.59l7.78-7.78 2.81-2.81c.8-.78.8-2.07 0-2.86zM5.41 20L4 18.59l7.72-7.72 1.47 1.35L5.41 20z\"/>\n",
       "  </svg>\n",
       "      </button>\n",
       "      \n",
       "  <style>\n",
       "    .colab-df-container {\n",
       "      display:flex;\n",
       "      flex-wrap:wrap;\n",
       "      gap: 12px;\n",
       "    }\n",
       "\n",
       "    .colab-df-convert {\n",
       "      background-color: #E8F0FE;\n",
       "      border: none;\n",
       "      border-radius: 50%;\n",
       "      cursor: pointer;\n",
       "      display: none;\n",
       "      fill: #1967D2;\n",
       "      height: 32px;\n",
       "      padding: 0 0 0 0;\n",
       "      width: 32px;\n",
       "    }\n",
       "\n",
       "    .colab-df-convert:hover {\n",
       "      background-color: #E2EBFA;\n",
       "      box-shadow: 0px 1px 2px rgba(60, 64, 67, 0.3), 0px 1px 3px 1px rgba(60, 64, 67, 0.15);\n",
       "      fill: #174EA6;\n",
       "    }\n",
       "\n",
       "    [theme=dark] .colab-df-convert {\n",
       "      background-color: #3B4455;\n",
       "      fill: #D2E3FC;\n",
       "    }\n",
       "\n",
       "    [theme=dark] .colab-df-convert:hover {\n",
       "      background-color: #434B5C;\n",
       "      box-shadow: 0px 1px 3px 1px rgba(0, 0, 0, 0.15);\n",
       "      filter: drop-shadow(0px 1px 2px rgba(0, 0, 0, 0.3));\n",
       "      fill: #FFFFFF;\n",
       "    }\n",
       "  </style>\n",
       "\n",
       "      <script>\n",
       "        const buttonEl =\n",
       "          document.querySelector('#df-f0be81aa-a71d-4743-a0f3-6ceb7533c22b button.colab-df-convert');\n",
       "        buttonEl.style.display =\n",
       "          google.colab.kernel.accessAllowed ? 'block' : 'none';\n",
       "\n",
       "        async function convertToInteractive(key) {\n",
       "          const element = document.querySelector('#df-f0be81aa-a71d-4743-a0f3-6ceb7533c22b');\n",
       "          const dataTable =\n",
       "            await google.colab.kernel.invokeFunction('convertToInteractive',\n",
       "                                                     [key], {});\n",
       "          if (!dataTable) return;\n",
       "\n",
       "          const docLinkHtml = 'Like what you see? Visit the ' +\n",
       "            '<a target=\"_blank\" href=https://colab.research.google.com/notebooks/data_table.ipynb>data table notebook</a>'\n",
       "            + ' to learn more about interactive tables.';\n",
       "          element.innerHTML = '';\n",
       "          dataTable['output_type'] = 'display_data';\n",
       "          await google.colab.output.renderOutput(dataTable, element);\n",
       "          const docLink = document.createElement('div');\n",
       "          docLink.innerHTML = docLinkHtml;\n",
       "          element.appendChild(docLink);\n",
       "        }\n",
       "      </script>\n",
       "    </div>\n",
       "  </div>\n",
       "  "
      ],
      "text/plain": [
       "                                                text  ... eng_lang\n",
       "0             Info has been found (+/- 100 pages,...  ...     True\n",
       "1             These are the team members:   Drewe...  ...     True\n",
       "2             In het kader van kernfusie op aarde...  ...    False\n",
       "3                   testing!!!  testing!!!            ...     True\n",
       "4               Thanks to Yahoo!'s Toolbar I can ...  ...     True\n",
       "\n",
       "[5 rows x 4 columns]"
      ]
     },
     "execution_count": 329,
     "metadata": {},
     "output_type": "execute_result"
    }
   ],
   "source": [
    "new_df['eng_lang']=new_df['text'].apply(lambda x: x.isascii())\n",
    "new_df.head()"
   ]
  },
  {
   "cell_type": "code",
   "execution_count": 330,
   "metadata": {
    "colab": {
     "base_uri": "https://localhost:8080/"
    },
    "id": "9NiMpej91g3m",
    "outputId": "cb514550-9485-445b-a4fa-1fffb181a345"
   },
   "outputs": [
    {
     "data": {
      "text/plain": [
       "True     9666\n",
       "False     334\n",
       "Name: eng_lang, dtype: int64"
      ]
     },
     "execution_count": 330,
     "metadata": {},
     "output_type": "execute_result"
    }
   ],
   "source": [
    "#finaldata['Class'].value_counts()\n",
    "new_df['eng_lang'].value_counts()"
   ]
  },
  {
   "cell_type": "markdown",
   "metadata": {
    "id": "uYGsJoWO2Etb"
   },
   "source": [
    "We have 9666 english text messages and 334 non-english text messages from total 1000 text messages."
   ]
  },
  {
   "cell_type": "code",
   "execution_count": 331,
   "metadata": {
    "id": "4ojhhMO5v0Uu"
   },
   "outputs": [],
   "source": [
    "new_df.drop(new_df[new_df['eng_lang']!=True].index,inplace=True)"
   ]
  },
  {
   "cell_type": "markdown",
   "metadata": {
    "id": "9S2fXd7m2REz"
   },
   "source": [
    "WE are removing all 334 non-english text messages from the dataset. "
   ]
  },
  {
   "cell_type": "code",
   "execution_count": 332,
   "metadata": {
    "colab": {
     "base_uri": "https://localhost:8080/"
    },
    "id": "Trs5JtQB2ZSJ",
    "outputId": "144578c9-0bc1-446d-b6e7-c20e721e854a"
   },
   "outputs": [
    {
     "data": {
      "text/plain": [
       "(9666, 4)"
      ]
     },
     "execution_count": 332,
     "metadata": {},
     "output_type": "execute_result"
    }
   ],
   "source": [
    "new_df.shape"
   ]
  },
  {
   "cell_type": "markdown",
   "metadata": {
    "id": "b9jGq7vy2vzJ"
   },
   "source": [
    "The dataset contains only 9666 english text messages after removing non-english text messages."
   ]
  },
  {
   "cell_type": "markdown",
   "metadata": {
    "id": "g8sq6_ZCfPD8"
   },
   "source": [
    "2. Preprocess unstructured data to make it consumable for model training. "
   ]
  },
  {
   "cell_type": "markdown",
   "metadata": {
    "id": "qgBU5IhgfSAd"
   },
   "source": [
    "A. Eliminate All special Characters and Numbers "
   ]
  },
  {
   "cell_type": "code",
   "execution_count": 333,
   "metadata": {
    "colab": {
     "base_uri": "https://localhost:8080/",
     "height": 206
    },
    "id": "-myspvopfWmr",
    "outputId": "4443d8bd-7a64-4af2-bdf7-ebe06eaa5312"
   },
   "outputs": [
    {
     "data": {
      "text/html": [
       "\n",
       "  <div id=\"df-4bafdea8-e3c5-458a-b95b-6c8d30f78126\">\n",
       "    <div class=\"colab-df-container\">\n",
       "      <div>\n",
       "<style scoped>\n",
       "    .dataframe tbody tr th:only-of-type {\n",
       "        vertical-align: middle;\n",
       "    }\n",
       "\n",
       "    .dataframe tbody tr th {\n",
       "        vertical-align: top;\n",
       "    }\n",
       "\n",
       "    .dataframe thead th {\n",
       "        text-align: right;\n",
       "    }\n",
       "</style>\n",
       "<table border=\"1\" class=\"dataframe\">\n",
       "  <thead>\n",
       "    <tr style=\"text-align: right;\">\n",
       "      <th></th>\n",
       "      <th>text</th>\n",
       "      <th>topic</th>\n",
       "      <th>lang_detect</th>\n",
       "      <th>eng_lang</th>\n",
       "      <th>text_without_symbol_num</th>\n",
       "      <th>clean_data</th>\n",
       "    </tr>\n",
       "  </thead>\n",
       "  <tbody>\n",
       "    <tr>\n",
       "      <th>0</th>\n",
       "      <td>Info has been found (+/- 100 pages,...</td>\n",
       "      <td>Student</td>\n",
       "      <td>en</td>\n",
       "      <td>True</td>\n",
       "      <td>Info has been found     pages  and ...</td>\n",
       "      <td>Info has been found     pages  and ...</td>\n",
       "    </tr>\n",
       "    <tr>\n",
       "      <th>1</th>\n",
       "      <td>These are the team members:   Drewe...</td>\n",
       "      <td>Student</td>\n",
       "      <td>nl</td>\n",
       "      <td>True</td>\n",
       "      <td>These are the team members    Drewe...</td>\n",
       "      <td>These are the team members    Drewe...</td>\n",
       "    </tr>\n",
       "    <tr>\n",
       "      <th>3</th>\n",
       "      <td>testing!!!  testing!!!</td>\n",
       "      <td>Student</td>\n",
       "      <td>en</td>\n",
       "      <td>True</td>\n",
       "      <td>testing   testing</td>\n",
       "      <td>testing   testing</td>\n",
       "    </tr>\n",
       "    <tr>\n",
       "      <th>4</th>\n",
       "      <td>Thanks to Yahoo!'s Toolbar I can ...</td>\n",
       "      <td>InvestmentBanking</td>\n",
       "      <td>en</td>\n",
       "      <td>True</td>\n",
       "      <td>Thanks to Yahoo 's Toolbar I can ...</td>\n",
       "      <td>Thanks to Yahoo 's Toolbar I can ...</td>\n",
       "    </tr>\n",
       "    <tr>\n",
       "      <th>5</th>\n",
       "      <td>I had an interesting conversation...</td>\n",
       "      <td>InvestmentBanking</td>\n",
       "      <td>en</td>\n",
       "      <td>True</td>\n",
       "      <td>I had an interesting conversation...</td>\n",
       "      <td>I had an interesting conversation...</td>\n",
       "    </tr>\n",
       "  </tbody>\n",
       "</table>\n",
       "</div>\n",
       "      <button class=\"colab-df-convert\" onclick=\"convertToInteractive('df-4bafdea8-e3c5-458a-b95b-6c8d30f78126')\"\n",
       "              title=\"Convert this dataframe to an interactive table.\"\n",
       "              style=\"display:none;\">\n",
       "        \n",
       "  <svg xmlns=\"http://www.w3.org/2000/svg\" height=\"24px\"viewBox=\"0 0 24 24\"\n",
       "       width=\"24px\">\n",
       "    <path d=\"M0 0h24v24H0V0z\" fill=\"none\"/>\n",
       "    <path d=\"M18.56 5.44l.94 2.06.94-2.06 2.06-.94-2.06-.94-.94-2.06-.94 2.06-2.06.94zm-11 1L8.5 8.5l.94-2.06 2.06-.94-2.06-.94L8.5 2.5l-.94 2.06-2.06.94zm10 10l.94 2.06.94-2.06 2.06-.94-2.06-.94-.94-2.06-.94 2.06-2.06.94z\"/><path d=\"M17.41 7.96l-1.37-1.37c-.4-.4-.92-.59-1.43-.59-.52 0-1.04.2-1.43.59L10.3 9.45l-7.72 7.72c-.78.78-.78 2.05 0 2.83L4 21.41c.39.39.9.59 1.41.59.51 0 1.02-.2 1.41-.59l7.78-7.78 2.81-2.81c.8-.78.8-2.07 0-2.86zM5.41 20L4 18.59l7.72-7.72 1.47 1.35L5.41 20z\"/>\n",
       "  </svg>\n",
       "      </button>\n",
       "      \n",
       "  <style>\n",
       "    .colab-df-container {\n",
       "      display:flex;\n",
       "      flex-wrap:wrap;\n",
       "      gap: 12px;\n",
       "    }\n",
       "\n",
       "    .colab-df-convert {\n",
       "      background-color: #E8F0FE;\n",
       "      border: none;\n",
       "      border-radius: 50%;\n",
       "      cursor: pointer;\n",
       "      display: none;\n",
       "      fill: #1967D2;\n",
       "      height: 32px;\n",
       "      padding: 0 0 0 0;\n",
       "      width: 32px;\n",
       "    }\n",
       "\n",
       "    .colab-df-convert:hover {\n",
       "      background-color: #E2EBFA;\n",
       "      box-shadow: 0px 1px 2px rgba(60, 64, 67, 0.3), 0px 1px 3px 1px rgba(60, 64, 67, 0.15);\n",
       "      fill: #174EA6;\n",
       "    }\n",
       "\n",
       "    [theme=dark] .colab-df-convert {\n",
       "      background-color: #3B4455;\n",
       "      fill: #D2E3FC;\n",
       "    }\n",
       "\n",
       "    [theme=dark] .colab-df-convert:hover {\n",
       "      background-color: #434B5C;\n",
       "      box-shadow: 0px 1px 3px 1px rgba(0, 0, 0, 0.15);\n",
       "      filter: drop-shadow(0px 1px 2px rgba(0, 0, 0, 0.3));\n",
       "      fill: #FFFFFF;\n",
       "    }\n",
       "  </style>\n",
       "\n",
       "      <script>\n",
       "        const buttonEl =\n",
       "          document.querySelector('#df-4bafdea8-e3c5-458a-b95b-6c8d30f78126 button.colab-df-convert');\n",
       "        buttonEl.style.display =\n",
       "          google.colab.kernel.accessAllowed ? 'block' : 'none';\n",
       "\n",
       "        async function convertToInteractive(key) {\n",
       "          const element = document.querySelector('#df-4bafdea8-e3c5-458a-b95b-6c8d30f78126');\n",
       "          const dataTable =\n",
       "            await google.colab.kernel.invokeFunction('convertToInteractive',\n",
       "                                                     [key], {});\n",
       "          if (!dataTable) return;\n",
       "\n",
       "          const docLinkHtml = 'Like what you see? Visit the ' +\n",
       "            '<a target=\"_blank\" href=https://colab.research.google.com/notebooks/data_table.ipynb>data table notebook</a>'\n",
       "            + ' to learn more about interactive tables.';\n",
       "          element.innerHTML = '';\n",
       "          dataTable['output_type'] = 'display_data';\n",
       "          await google.colab.output.renderOutput(dataTable, element);\n",
       "          const docLink = document.createElement('div');\n",
       "          docLink.innerHTML = docLinkHtml;\n",
       "          element.appendChild(docLink);\n",
       "        }\n",
       "      </script>\n",
       "    </div>\n",
       "  </div>\n",
       "  "
      ],
      "text/plain": [
       "                                                text  ...                                         clean_data\n",
       "0             Info has been found (+/- 100 pages,...  ...             Info has been found     pages  and ...\n",
       "1             These are the team members:   Drewe...  ...             These are the team members    Drewe...\n",
       "3                   testing!!!  testing!!!            ...                       testing   testing           \n",
       "4               Thanks to Yahoo!'s Toolbar I can ...  ...               Thanks to Yahoo 's Toolbar I can ...\n",
       "5               I had an interesting conversation...  ...               I had an interesting conversation...\n",
       "\n",
       "[5 rows x 6 columns]"
      ]
     },
     "execution_count": 333,
     "metadata": {},
     "output_type": "execute_result"
    }
   ],
   "source": [
    "#Eliminating special characters and numbers \n",
    "import re\n",
    "new_df['text_without_symbol_num']=new_df['text'].apply(lambda x: re.sub(r'[!@#$(),\"%*?:;_~+-/`0-9]+',' ',x))\n",
    "new_df['clean_data']=new_df['text'].apply(lambda x: re.sub(r'[!@#$(),\"%*?:;_~+-/`0-9]+',' ',x))\n",
    "new_df.head()"
   ]
  },
  {
   "cell_type": "markdown",
   "metadata": {
    "id": "Zbxe7L1AgAYz"
   },
   "source": [
    "B. Lowercase all textual data"
   ]
  },
  {
   "cell_type": "code",
   "execution_count": 334,
   "metadata": {
    "colab": {
     "base_uri": "https://localhost:8080/",
     "height": 206
    },
    "id": "l2-9jtb-d0u0",
    "outputId": "97bcfb04-b29f-4cfa-99f3-7667cf228150"
   },
   "outputs": [
    {
     "data": {
      "text/html": [
       "\n",
       "  <div id=\"df-04304923-947c-4cff-b983-a577b5f91d60\">\n",
       "    <div class=\"colab-df-container\">\n",
       "      <div>\n",
       "<style scoped>\n",
       "    .dataframe tbody tr th:only-of-type {\n",
       "        vertical-align: middle;\n",
       "    }\n",
       "\n",
       "    .dataframe tbody tr th {\n",
       "        vertical-align: top;\n",
       "    }\n",
       "\n",
       "    .dataframe thead th {\n",
       "        text-align: right;\n",
       "    }\n",
       "</style>\n",
       "<table border=\"1\" class=\"dataframe\">\n",
       "  <thead>\n",
       "    <tr style=\"text-align: right;\">\n",
       "      <th></th>\n",
       "      <th>text</th>\n",
       "      <th>topic</th>\n",
       "      <th>lang_detect</th>\n",
       "      <th>eng_lang</th>\n",
       "      <th>text_without_symbol_num</th>\n",
       "      <th>clean_data</th>\n",
       "      <th>text_lower</th>\n",
       "    </tr>\n",
       "  </thead>\n",
       "  <tbody>\n",
       "    <tr>\n",
       "      <th>0</th>\n",
       "      <td>Info has been found (+/- 100 pages,...</td>\n",
       "      <td>Student</td>\n",
       "      <td>en</td>\n",
       "      <td>True</td>\n",
       "      <td>Info has been found     pages  and ...</td>\n",
       "      <td>info has been found     pages  and ...</td>\n",
       "      <td>info has been found (+/- 100 pages,...</td>\n",
       "    </tr>\n",
       "    <tr>\n",
       "      <th>1</th>\n",
       "      <td>These are the team members:   Drewe...</td>\n",
       "      <td>Student</td>\n",
       "      <td>nl</td>\n",
       "      <td>True</td>\n",
       "      <td>These are the team members    Drewe...</td>\n",
       "      <td>these are the team members    drewe...</td>\n",
       "      <td>these are the team members:   drewe...</td>\n",
       "    </tr>\n",
       "    <tr>\n",
       "      <th>3</th>\n",
       "      <td>testing!!!  testing!!!</td>\n",
       "      <td>Student</td>\n",
       "      <td>en</td>\n",
       "      <td>True</td>\n",
       "      <td>testing   testing</td>\n",
       "      <td>testing   testing</td>\n",
       "      <td>testing!!!  testing!!!</td>\n",
       "    </tr>\n",
       "    <tr>\n",
       "      <th>4</th>\n",
       "      <td>Thanks to Yahoo!'s Toolbar I can ...</td>\n",
       "      <td>InvestmentBanking</td>\n",
       "      <td>en</td>\n",
       "      <td>True</td>\n",
       "      <td>Thanks to Yahoo 's Toolbar I can ...</td>\n",
       "      <td>thanks to yahoo 's toolbar i can ...</td>\n",
       "      <td>thanks to yahoo!'s toolbar i can ...</td>\n",
       "    </tr>\n",
       "    <tr>\n",
       "      <th>5</th>\n",
       "      <td>I had an interesting conversation...</td>\n",
       "      <td>InvestmentBanking</td>\n",
       "      <td>en</td>\n",
       "      <td>True</td>\n",
       "      <td>I had an interesting conversation...</td>\n",
       "      <td>i had an interesting conversation...</td>\n",
       "      <td>i had an interesting conversation...</td>\n",
       "    </tr>\n",
       "  </tbody>\n",
       "</table>\n",
       "</div>\n",
       "      <button class=\"colab-df-convert\" onclick=\"convertToInteractive('df-04304923-947c-4cff-b983-a577b5f91d60')\"\n",
       "              title=\"Convert this dataframe to an interactive table.\"\n",
       "              style=\"display:none;\">\n",
       "        \n",
       "  <svg xmlns=\"http://www.w3.org/2000/svg\" height=\"24px\"viewBox=\"0 0 24 24\"\n",
       "       width=\"24px\">\n",
       "    <path d=\"M0 0h24v24H0V0z\" fill=\"none\"/>\n",
       "    <path d=\"M18.56 5.44l.94 2.06.94-2.06 2.06-.94-2.06-.94-.94-2.06-.94 2.06-2.06.94zm-11 1L8.5 8.5l.94-2.06 2.06-.94-2.06-.94L8.5 2.5l-.94 2.06-2.06.94zm10 10l.94 2.06.94-2.06 2.06-.94-2.06-.94-.94-2.06-.94 2.06-2.06.94z\"/><path d=\"M17.41 7.96l-1.37-1.37c-.4-.4-.92-.59-1.43-.59-.52 0-1.04.2-1.43.59L10.3 9.45l-7.72 7.72c-.78.78-.78 2.05 0 2.83L4 21.41c.39.39.9.59 1.41.59.51 0 1.02-.2 1.41-.59l7.78-7.78 2.81-2.81c.8-.78.8-2.07 0-2.86zM5.41 20L4 18.59l7.72-7.72 1.47 1.35L5.41 20z\"/>\n",
       "  </svg>\n",
       "      </button>\n",
       "      \n",
       "  <style>\n",
       "    .colab-df-container {\n",
       "      display:flex;\n",
       "      flex-wrap:wrap;\n",
       "      gap: 12px;\n",
       "    }\n",
       "\n",
       "    .colab-df-convert {\n",
       "      background-color: #E8F0FE;\n",
       "      border: none;\n",
       "      border-radius: 50%;\n",
       "      cursor: pointer;\n",
       "      display: none;\n",
       "      fill: #1967D2;\n",
       "      height: 32px;\n",
       "      padding: 0 0 0 0;\n",
       "      width: 32px;\n",
       "    }\n",
       "\n",
       "    .colab-df-convert:hover {\n",
       "      background-color: #E2EBFA;\n",
       "      box-shadow: 0px 1px 2px rgba(60, 64, 67, 0.3), 0px 1px 3px 1px rgba(60, 64, 67, 0.15);\n",
       "      fill: #174EA6;\n",
       "    }\n",
       "\n",
       "    [theme=dark] .colab-df-convert {\n",
       "      background-color: #3B4455;\n",
       "      fill: #D2E3FC;\n",
       "    }\n",
       "\n",
       "    [theme=dark] .colab-df-convert:hover {\n",
       "      background-color: #434B5C;\n",
       "      box-shadow: 0px 1px 3px 1px rgba(0, 0, 0, 0.15);\n",
       "      filter: drop-shadow(0px 1px 2px rgba(0, 0, 0, 0.3));\n",
       "      fill: #FFFFFF;\n",
       "    }\n",
       "  </style>\n",
       "\n",
       "      <script>\n",
       "        const buttonEl =\n",
       "          document.querySelector('#df-04304923-947c-4cff-b983-a577b5f91d60 button.colab-df-convert');\n",
       "        buttonEl.style.display =\n",
       "          google.colab.kernel.accessAllowed ? 'block' : 'none';\n",
       "\n",
       "        async function convertToInteractive(key) {\n",
       "          const element = document.querySelector('#df-04304923-947c-4cff-b983-a577b5f91d60');\n",
       "          const dataTable =\n",
       "            await google.colab.kernel.invokeFunction('convertToInteractive',\n",
       "                                                     [key], {});\n",
       "          if (!dataTable) return;\n",
       "\n",
       "          const docLinkHtml = 'Like what you see? Visit the ' +\n",
       "            '<a target=\"_blank\" href=https://colab.research.google.com/notebooks/data_table.ipynb>data table notebook</a>'\n",
       "            + ' to learn more about interactive tables.';\n",
       "          element.innerHTML = '';\n",
       "          dataTable['output_type'] = 'display_data';\n",
       "          await google.colab.output.renderOutput(dataTable, element);\n",
       "          const docLink = document.createElement('div');\n",
       "          docLink.innerHTML = docLinkHtml;\n",
       "          element.appendChild(docLink);\n",
       "        }\n",
       "      </script>\n",
       "    </div>\n",
       "  </div>\n",
       "  "
      ],
      "text/plain": [
       "                                                text  ...                                         text_lower\n",
       "0             Info has been found (+/- 100 pages,...  ...             info has been found (+/- 100 pages,...\n",
       "1             These are the team members:   Drewe...  ...             these are the team members:   drewe...\n",
       "3                   testing!!!  testing!!!            ...                   testing!!!  testing!!!          \n",
       "4               Thanks to Yahoo!'s Toolbar I can ...  ...               thanks to yahoo!'s toolbar i can ...\n",
       "5               I had an interesting conversation...  ...               i had an interesting conversation...\n",
       "\n",
       "[5 rows x 7 columns]"
      ]
     },
     "execution_count": 334,
     "metadata": {},
     "output_type": "execute_result"
    }
   ],
   "source": [
    "new_df['text_lower']=new_df['text'].apply(lambda x: x.lower())\n",
    "new_df['clean_data']=new_df['clean_data'].apply(lambda x: x.lower())\n",
    "new_df.head()"
   ]
  },
  {
   "cell_type": "markdown",
   "metadata": {
    "id": "Pkn3J5tagGG4"
   },
   "source": [
    "C. Remove all Stopwords"
   ]
  },
  {
   "cell_type": "code",
   "execution_count": 335,
   "metadata": {
    "colab": {
     "base_uri": "https://localhost:8080/"
    },
    "id": "Whh4Z2y_gHoP",
    "outputId": "f284ad90-f38f-4b2f-cd47-acc7e1decc6f"
   },
   "outputs": [
    {
     "name": "stdout",
     "output_type": "stream",
     "text": [
      "[nltk_data] Downloading package stopwords to /root/nltk_data...\n",
      "[nltk_data]   Package stopwords is already up-to-date!\n"
     ]
    },
    {
     "data": {
      "text/plain": [
       "True"
      ]
     },
     "execution_count": 335,
     "metadata": {},
     "output_type": "execute_result"
    }
   ],
   "source": [
    "import nltk\n",
    "nltk.download('stopwords')"
   ]
  },
  {
   "cell_type": "code",
   "execution_count": 336,
   "metadata": {
    "id": "0ud22iFfgYmh"
   },
   "outputs": [],
   "source": [
    "from nltk.corpus import stopwords # Import stop words\n",
    "stopwords=set(stopwords.words('english'))"
   ]
  },
  {
   "cell_type": "code",
   "execution_count": 337,
   "metadata": {
    "colab": {
     "base_uri": "https://localhost:8080/",
     "height": 319
    },
    "id": "5Jr4jlbUgYp3",
    "outputId": "2729fe17-0034-495b-8e4c-38195dc5a9d0"
   },
   "outputs": [
    {
     "data": {
      "text/html": [
       "\n",
       "  <div id=\"df-02186ea1-0e46-42c9-ae32-960440cdcfc1\">\n",
       "    <div class=\"colab-df-container\">\n",
       "      <div>\n",
       "<style scoped>\n",
       "    .dataframe tbody tr th:only-of-type {\n",
       "        vertical-align: middle;\n",
       "    }\n",
       "\n",
       "    .dataframe tbody tr th {\n",
       "        vertical-align: top;\n",
       "    }\n",
       "\n",
       "    .dataframe thead th {\n",
       "        text-align: right;\n",
       "    }\n",
       "</style>\n",
       "<table border=\"1\" class=\"dataframe\">\n",
       "  <thead>\n",
       "    <tr style=\"text-align: right;\">\n",
       "      <th></th>\n",
       "      <th>text</th>\n",
       "      <th>topic</th>\n",
       "      <th>lang_detect</th>\n",
       "      <th>eng_lang</th>\n",
       "      <th>text_without_symbol_num</th>\n",
       "      <th>clean_data</th>\n",
       "      <th>text_lower</th>\n",
       "      <th>remo_stop_words</th>\n",
       "    </tr>\n",
       "  </thead>\n",
       "  <tbody>\n",
       "    <tr>\n",
       "      <th>0</th>\n",
       "      <td>Info has been found (+/- 100 pages,...</td>\n",
       "      <td>Student</td>\n",
       "      <td>en</td>\n",
       "      <td>True</td>\n",
       "      <td>Info has been found     pages  and ...</td>\n",
       "      <td>info found pages mb pdf files wait untill team...</td>\n",
       "      <td>info has been found (+/- 100 pages,...</td>\n",
       "      <td>Info found (+/- 100 pages, 4.5 MB .pdf files) ...</td>\n",
       "    </tr>\n",
       "    <tr>\n",
       "      <th>1</th>\n",
       "      <td>These are the team members:   Drewe...</td>\n",
       "      <td>Student</td>\n",
       "      <td>nl</td>\n",
       "      <td>True</td>\n",
       "      <td>These are the team members    Drewe...</td>\n",
       "      <td>team members drewes van der laag urllink mail ...</td>\n",
       "      <td>these are the team members:   drewe...</td>\n",
       "      <td>These team members: Drewes van der Laag urlLin...</td>\n",
       "    </tr>\n",
       "    <tr>\n",
       "      <th>3</th>\n",
       "      <td>testing!!!  testing!!!</td>\n",
       "      <td>Student</td>\n",
       "      <td>en</td>\n",
       "      <td>True</td>\n",
       "      <td>testing   testing</td>\n",
       "      <td>testing testing</td>\n",
       "      <td>testing!!!  testing!!!</td>\n",
       "      <td>testing!!! testing!!!</td>\n",
       "    </tr>\n",
       "    <tr>\n",
       "      <th>4</th>\n",
       "      <td>Thanks to Yahoo!'s Toolbar I can ...</td>\n",
       "      <td>InvestmentBanking</td>\n",
       "      <td>en</td>\n",
       "      <td>True</td>\n",
       "      <td>Thanks to Yahoo 's Toolbar I can ...</td>\n",
       "      <td>thanks yahoo 's toolbar 'capture' urls popups ...</td>\n",
       "      <td>thanks to yahoo!'s toolbar i can ...</td>\n",
       "      <td>Thanks Yahoo!'s Toolbar I 'capture' URLs popup...</td>\n",
       "    </tr>\n",
       "    <tr>\n",
       "      <th>5</th>\n",
       "      <td>I had an interesting conversation...</td>\n",
       "      <td>InvestmentBanking</td>\n",
       "      <td>en</td>\n",
       "      <td>True</td>\n",
       "      <td>I had an interesting conversation...</td>\n",
       "      <td>interesting conversation dad morning talking k...</td>\n",
       "      <td>i had an interesting conversation...</td>\n",
       "      <td>I interesting conversation Dad morning. We tal...</td>\n",
       "    </tr>\n",
       "  </tbody>\n",
       "</table>\n",
       "</div>\n",
       "      <button class=\"colab-df-convert\" onclick=\"convertToInteractive('df-02186ea1-0e46-42c9-ae32-960440cdcfc1')\"\n",
       "              title=\"Convert this dataframe to an interactive table.\"\n",
       "              style=\"display:none;\">\n",
       "        \n",
       "  <svg xmlns=\"http://www.w3.org/2000/svg\" height=\"24px\"viewBox=\"0 0 24 24\"\n",
       "       width=\"24px\">\n",
       "    <path d=\"M0 0h24v24H0V0z\" fill=\"none\"/>\n",
       "    <path d=\"M18.56 5.44l.94 2.06.94-2.06 2.06-.94-2.06-.94-.94-2.06-.94 2.06-2.06.94zm-11 1L8.5 8.5l.94-2.06 2.06-.94-2.06-.94L8.5 2.5l-.94 2.06-2.06.94zm10 10l.94 2.06.94-2.06 2.06-.94-2.06-.94-.94-2.06-.94 2.06-2.06.94z\"/><path d=\"M17.41 7.96l-1.37-1.37c-.4-.4-.92-.59-1.43-.59-.52 0-1.04.2-1.43.59L10.3 9.45l-7.72 7.72c-.78.78-.78 2.05 0 2.83L4 21.41c.39.39.9.59 1.41.59.51 0 1.02-.2 1.41-.59l7.78-7.78 2.81-2.81c.8-.78.8-2.07 0-2.86zM5.41 20L4 18.59l7.72-7.72 1.47 1.35L5.41 20z\"/>\n",
       "  </svg>\n",
       "      </button>\n",
       "      \n",
       "  <style>\n",
       "    .colab-df-container {\n",
       "      display:flex;\n",
       "      flex-wrap:wrap;\n",
       "      gap: 12px;\n",
       "    }\n",
       "\n",
       "    .colab-df-convert {\n",
       "      background-color: #E8F0FE;\n",
       "      border: none;\n",
       "      border-radius: 50%;\n",
       "      cursor: pointer;\n",
       "      display: none;\n",
       "      fill: #1967D2;\n",
       "      height: 32px;\n",
       "      padding: 0 0 0 0;\n",
       "      width: 32px;\n",
       "    }\n",
       "\n",
       "    .colab-df-convert:hover {\n",
       "      background-color: #E2EBFA;\n",
       "      box-shadow: 0px 1px 2px rgba(60, 64, 67, 0.3), 0px 1px 3px 1px rgba(60, 64, 67, 0.15);\n",
       "      fill: #174EA6;\n",
       "    }\n",
       "\n",
       "    [theme=dark] .colab-df-convert {\n",
       "      background-color: #3B4455;\n",
       "      fill: #D2E3FC;\n",
       "    }\n",
       "\n",
       "    [theme=dark] .colab-df-convert:hover {\n",
       "      background-color: #434B5C;\n",
       "      box-shadow: 0px 1px 3px 1px rgba(0, 0, 0, 0.15);\n",
       "      filter: drop-shadow(0px 1px 2px rgba(0, 0, 0, 0.3));\n",
       "      fill: #FFFFFF;\n",
       "    }\n",
       "  </style>\n",
       "\n",
       "      <script>\n",
       "        const buttonEl =\n",
       "          document.querySelector('#df-02186ea1-0e46-42c9-ae32-960440cdcfc1 button.colab-df-convert');\n",
       "        buttonEl.style.display =\n",
       "          google.colab.kernel.accessAllowed ? 'block' : 'none';\n",
       "\n",
       "        async function convertToInteractive(key) {\n",
       "          const element = document.querySelector('#df-02186ea1-0e46-42c9-ae32-960440cdcfc1');\n",
       "          const dataTable =\n",
       "            await google.colab.kernel.invokeFunction('convertToInteractive',\n",
       "                                                     [key], {});\n",
       "          if (!dataTable) return;\n",
       "\n",
       "          const docLinkHtml = 'Like what you see? Visit the ' +\n",
       "            '<a target=\"_blank\" href=https://colab.research.google.com/notebooks/data_table.ipynb>data table notebook</a>'\n",
       "            + ' to learn more about interactive tables.';\n",
       "          element.innerHTML = '';\n",
       "          dataTable['output_type'] = 'display_data';\n",
       "          await google.colab.output.renderOutput(dataTable, element);\n",
       "          const docLink = document.createElement('div');\n",
       "          docLink.innerHTML = docLinkHtml;\n",
       "          element.appendChild(docLink);\n",
       "        }\n",
       "      </script>\n",
       "    </div>\n",
       "  </div>\n",
       "  "
      ],
      "text/plain": [
       "                                                text  ...                                    remo_stop_words\n",
       "0             Info has been found (+/- 100 pages,...  ...  Info found (+/- 100 pages, 4.5 MB .pdf files) ...\n",
       "1             These are the team members:   Drewe...  ...  These team members: Drewes van der Laag urlLin...\n",
       "3                   testing!!!  testing!!!            ...                              testing!!! testing!!!\n",
       "4               Thanks to Yahoo!'s Toolbar I can ...  ...  Thanks Yahoo!'s Toolbar I 'capture' URLs popup...\n",
       "5               I had an interesting conversation...  ...  I interesting conversation Dad morning. We tal...\n",
       "\n",
       "[5 rows x 8 columns]"
      ]
     },
     "execution_count": 337,
     "metadata": {},
     "output_type": "execute_result"
    }
   ],
   "source": [
    "new_df['remo_stop_words']=new_df['text'].apply(lambda x: ' '.join([words for words in x.split() if words not in stopwords]))\n",
    "new_df['clean_data']=new_df['clean_data'].apply(lambda x: ' '.join([words for words in x.split() if words not in stopwords]))\n",
    "new_df.head()"
   ]
  },
  {
   "cell_type": "code",
   "execution_count": 338,
   "metadata": {
    "colab": {
     "base_uri": "https://localhost:8080/",
     "height": 371
    },
    "id": "2B1ys5YvUPqK",
    "outputId": "dd106510-22eb-42fe-cbec-f5c148daa233"
   },
   "outputs": [
    {
     "data": {
      "text/html": [
       "\n",
       "  <div id=\"df-4db391eb-ffc9-4cfe-aeac-3a4bbbf1453e\">\n",
       "    <div class=\"colab-df-container\">\n",
       "      <div>\n",
       "<style scoped>\n",
       "    .dataframe tbody tr th:only-of-type {\n",
       "        vertical-align: middle;\n",
       "    }\n",
       "\n",
       "    .dataframe tbody tr th {\n",
       "        vertical-align: top;\n",
       "    }\n",
       "\n",
       "    .dataframe thead th {\n",
       "        text-align: right;\n",
       "    }\n",
       "</style>\n",
       "<table border=\"1\" class=\"dataframe\">\n",
       "  <thead>\n",
       "    <tr style=\"text-align: right;\">\n",
       "      <th></th>\n",
       "      <th>text</th>\n",
       "      <th>topic</th>\n",
       "      <th>lang_detect</th>\n",
       "      <th>eng_lang</th>\n",
       "      <th>text_without_symbol_num</th>\n",
       "      <th>clean_data</th>\n",
       "      <th>text_lower</th>\n",
       "      <th>remo_stop_words</th>\n",
       "      <th>remo_space</th>\n",
       "    </tr>\n",
       "  </thead>\n",
       "  <tbody>\n",
       "    <tr>\n",
       "      <th>0</th>\n",
       "      <td>Info has been found (+/- 100 pages,...</td>\n",
       "      <td>Student</td>\n",
       "      <td>en</td>\n",
       "      <td>True</td>\n",
       "      <td>Info has been found     pages  and ...</td>\n",
       "      <td>info found pages mb pdf files wait untill team...</td>\n",
       "      <td>info has been found (+/- 100 pages,...</td>\n",
       "      <td>Info found (+/- 100 pages, 4.5 MB .pdf files) ...</td>\n",
       "      <td>Info has been found (+/- 100 pages, and 4.5 MB...</td>\n",
       "    </tr>\n",
       "    <tr>\n",
       "      <th>1</th>\n",
       "      <td>These are the team members:   Drewe...</td>\n",
       "      <td>Student</td>\n",
       "      <td>nl</td>\n",
       "      <td>True</td>\n",
       "      <td>These are the team members    Drewe...</td>\n",
       "      <td>team members drewes van der laag urllink mail ...</td>\n",
       "      <td>these are the team members:   drewe...</td>\n",
       "      <td>These team members: Drewes van der Laag urlLin...</td>\n",
       "      <td>These are the team members:   Drewes van der L...</td>\n",
       "    </tr>\n",
       "    <tr>\n",
       "      <th>3</th>\n",
       "      <td>testing!!!  testing!!!</td>\n",
       "      <td>Student</td>\n",
       "      <td>en</td>\n",
       "      <td>True</td>\n",
       "      <td>testing   testing</td>\n",
       "      <td>testing testing</td>\n",
       "      <td>testing!!!  testing!!!</td>\n",
       "      <td>testing!!! testing!!!</td>\n",
       "      <td>testing!!!  testing!!!</td>\n",
       "    </tr>\n",
       "    <tr>\n",
       "      <th>4</th>\n",
       "      <td>Thanks to Yahoo!'s Toolbar I can ...</td>\n",
       "      <td>InvestmentBanking</td>\n",
       "      <td>en</td>\n",
       "      <td>True</td>\n",
       "      <td>Thanks to Yahoo 's Toolbar I can ...</td>\n",
       "      <td>thanks yahoo 's toolbar 'capture' urls popups ...</td>\n",
       "      <td>thanks to yahoo!'s toolbar i can ...</td>\n",
       "      <td>Thanks Yahoo!'s Toolbar I 'capture' URLs popup...</td>\n",
       "      <td>Thanks to Yahoo!'s Toolbar I can now 'capture'...</td>\n",
       "    </tr>\n",
       "    <tr>\n",
       "      <th>5</th>\n",
       "      <td>I had an interesting conversation...</td>\n",
       "      <td>InvestmentBanking</td>\n",
       "      <td>en</td>\n",
       "      <td>True</td>\n",
       "      <td>I had an interesting conversation...</td>\n",
       "      <td>interesting conversation dad morning talking k...</td>\n",
       "      <td>i had an interesting conversation...</td>\n",
       "      <td>I interesting conversation Dad morning. We tal...</td>\n",
       "      <td>I had an interesting conversation with my Dad ...</td>\n",
       "    </tr>\n",
       "  </tbody>\n",
       "</table>\n",
       "</div>\n",
       "      <button class=\"colab-df-convert\" onclick=\"convertToInteractive('df-4db391eb-ffc9-4cfe-aeac-3a4bbbf1453e')\"\n",
       "              title=\"Convert this dataframe to an interactive table.\"\n",
       "              style=\"display:none;\">\n",
       "        \n",
       "  <svg xmlns=\"http://www.w3.org/2000/svg\" height=\"24px\"viewBox=\"0 0 24 24\"\n",
       "       width=\"24px\">\n",
       "    <path d=\"M0 0h24v24H0V0z\" fill=\"none\"/>\n",
       "    <path d=\"M18.56 5.44l.94 2.06.94-2.06 2.06-.94-2.06-.94-.94-2.06-.94 2.06-2.06.94zm-11 1L8.5 8.5l.94-2.06 2.06-.94-2.06-.94L8.5 2.5l-.94 2.06-2.06.94zm10 10l.94 2.06.94-2.06 2.06-.94-2.06-.94-.94-2.06-.94 2.06-2.06.94z\"/><path d=\"M17.41 7.96l-1.37-1.37c-.4-.4-.92-.59-1.43-.59-.52 0-1.04.2-1.43.59L10.3 9.45l-7.72 7.72c-.78.78-.78 2.05 0 2.83L4 21.41c.39.39.9.59 1.41.59.51 0 1.02-.2 1.41-.59l7.78-7.78 2.81-2.81c.8-.78.8-2.07 0-2.86zM5.41 20L4 18.59l7.72-7.72 1.47 1.35L5.41 20z\"/>\n",
       "  </svg>\n",
       "      </button>\n",
       "      \n",
       "  <style>\n",
       "    .colab-df-container {\n",
       "      display:flex;\n",
       "      flex-wrap:wrap;\n",
       "      gap: 12px;\n",
       "    }\n",
       "\n",
       "    .colab-df-convert {\n",
       "      background-color: #E8F0FE;\n",
       "      border: none;\n",
       "      border-radius: 50%;\n",
       "      cursor: pointer;\n",
       "      display: none;\n",
       "      fill: #1967D2;\n",
       "      height: 32px;\n",
       "      padding: 0 0 0 0;\n",
       "      width: 32px;\n",
       "    }\n",
       "\n",
       "    .colab-df-convert:hover {\n",
       "      background-color: #E2EBFA;\n",
       "      box-shadow: 0px 1px 2px rgba(60, 64, 67, 0.3), 0px 1px 3px 1px rgba(60, 64, 67, 0.15);\n",
       "      fill: #174EA6;\n",
       "    }\n",
       "\n",
       "    [theme=dark] .colab-df-convert {\n",
       "      background-color: #3B4455;\n",
       "      fill: #D2E3FC;\n",
       "    }\n",
       "\n",
       "    [theme=dark] .colab-df-convert:hover {\n",
       "      background-color: #434B5C;\n",
       "      box-shadow: 0px 1px 3px 1px rgba(0, 0, 0, 0.15);\n",
       "      filter: drop-shadow(0px 1px 2px rgba(0, 0, 0, 0.3));\n",
       "      fill: #FFFFFF;\n",
       "    }\n",
       "  </style>\n",
       "\n",
       "      <script>\n",
       "        const buttonEl =\n",
       "          document.querySelector('#df-4db391eb-ffc9-4cfe-aeac-3a4bbbf1453e button.colab-df-convert');\n",
       "        buttonEl.style.display =\n",
       "          google.colab.kernel.accessAllowed ? 'block' : 'none';\n",
       "\n",
       "        async function convertToInteractive(key) {\n",
       "          const element = document.querySelector('#df-4db391eb-ffc9-4cfe-aeac-3a4bbbf1453e');\n",
       "          const dataTable =\n",
       "            await google.colab.kernel.invokeFunction('convertToInteractive',\n",
       "                                                     [key], {});\n",
       "          if (!dataTable) return;\n",
       "\n",
       "          const docLinkHtml = 'Like what you see? Visit the ' +\n",
       "            '<a target=\"_blank\" href=https://colab.research.google.com/notebooks/data_table.ipynb>data table notebook</a>'\n",
       "            + ' to learn more about interactive tables.';\n",
       "          element.innerHTML = '';\n",
       "          dataTable['output_type'] = 'display_data';\n",
       "          await google.colab.output.renderOutput(dataTable, element);\n",
       "          const docLink = document.createElement('div');\n",
       "          docLink.innerHTML = docLinkHtml;\n",
       "          element.appendChild(docLink);\n",
       "        }\n",
       "      </script>\n",
       "    </div>\n",
       "  </div>\n",
       "  "
      ],
      "text/plain": [
       "                                                text  ...                                         remo_space\n",
       "0             Info has been found (+/- 100 pages,...  ...  Info has been found (+/- 100 pages, and 4.5 MB...\n",
       "1             These are the team members:   Drewe...  ...  These are the team members:   Drewes van der L...\n",
       "3                   testing!!!  testing!!!            ...                             testing!!!  testing!!!\n",
       "4               Thanks to Yahoo!'s Toolbar I can ...  ...  Thanks to Yahoo!'s Toolbar I can now 'capture'...\n",
       "5               I had an interesting conversation...  ...  I had an interesting conversation with my Dad ...\n",
       "\n",
       "[5 rows x 9 columns]"
      ]
     },
     "execution_count": 338,
     "metadata": {},
     "output_type": "execute_result"
    }
   ],
   "source": [
    "# strip() is used to remove all the leading and trailing spaces from a string\n",
    "new_df['remo_space']=new_df['text'].apply(lambda x: x.strip())\n",
    "new_df['clean_data']=new_df['clean_data'].apply(lambda x: x.strip())\n",
    "new_df.head()\n"
   ]
  },
  {
   "cell_type": "code",
   "execution_count": 343,
   "metadata": {
    "colab": {
     "base_uri": "https://localhost:8080/"
    },
    "id": "Gut29FvyhHvK",
    "outputId": "7477ab6e-0a31-42e9-d5f8-43992cbd8e6d"
   },
   "outputs": [
    {
     "name": "stdout",
     "output_type": "stream",
     "text": [
      "Actual Data :           Info has been found (+/- 100 pages, and 4.5 MB of .pdf files) Now i have to wait untill our team leader has processed it and learns html.         \n"
     ]
    }
   ],
   "source": [
    "#Actual data before cleaning\n",
    "print('Actual Data :{}'.format(new_df['text'][0]))"
   ]
  },
  {
   "cell_type": "code",
   "execution_count": 344,
   "metadata": {
    "colab": {
     "base_uri": "https://localhost:8080/"
    },
    "id": "Lz1NpZlehZD4",
    "outputId": "807d45e4-2090-4af4-8555-f93ccac67c54"
   },
   "outputs": [
    {
     "name": "stdout",
     "output_type": "stream",
     "text": [
      "Cleaned Data :info found pages mb pdf files wait untill team leader processed learns html\n"
     ]
    }
   ],
   "source": [
    "# Data after cleaning\n",
    "print('Cleaned Data :{}'.format(new_df['clean_data'][0]))"
   ]
  },
  {
   "cell_type": "markdown",
   "metadata": {
    "id": "OhpHrp6VMNn-"
   },
   "source": [
    "Merge labels for multi-label classification problem"
   ]
  },
  {
   "cell_type": "code",
   "execution_count": 347,
   "metadata": {
    "colab": {
     "base_uri": "https://localhost:8080/",
     "height": 362
    },
    "id": "GBuMOlHaOum3",
    "outputId": "1f8a1601-1ed9-4ab4-d224-bc2eb9bd55a0"
   },
   "outputs": [
    {
     "ename": "KeyError",
     "evalue": "ignored",
     "output_type": "error",
     "traceback": [
      "\u001b[0;31m---------------------------------------------------------------------------\u001b[0m",
      "\u001b[0;31mKeyError\u001b[0m                                  Traceback (most recent call last)",
      "\u001b[0;32m<ipython-input-347-fef54c348e10>\u001b[0m in \u001b[0;36m<module>\u001b[0;34m()\u001b[0m\n\u001b[1;32m      1\u001b[0m \u001b[0;31m#df_digi.drop(columns=['gender','age','sign',],axis=1,inplace=True)\u001b[0m\u001b[0;34m\u001b[0m\u001b[0;34m\u001b[0m\u001b[0;34m\u001b[0m\u001b[0m\n\u001b[1;32m      2\u001b[0m \u001b[0;34m\u001b[0m\u001b[0m\n\u001b[0;32m----> 3\u001b[0;31m \u001b[0mnew_df\u001b[0m\u001b[0;34m.\u001b[0m\u001b[0mdrop\u001b[0m\u001b[0;34m(\u001b[0m\u001b[0mcolumns\u001b[0m\u001b[0;34m=\u001b[0m\u001b[0;34m[\u001b[0m\u001b[0;34m'lang_detect'\u001b[0m\u001b[0;34m,\u001b[0m\u001b[0;34m'eng_lang'\u001b[0m\u001b[0;34m,\u001b[0m\u001b[0;34m'text_without_symbol_num'\u001b[0m\u001b[0;34m,\u001b[0m\u001b[0;34m'text_lower'\u001b[0m\u001b[0;34m,\u001b[0m\u001b[0;34m'remo_stop_words'\u001b[0m\u001b[0;34m,\u001b[0m\u001b[0;34m'remo_space'\u001b[0m\u001b[0;34m]\u001b[0m\u001b[0;34m,\u001b[0m\u001b[0maxis\u001b[0m\u001b[0;34m=\u001b[0m\u001b[0;36m1\u001b[0m\u001b[0;34m,\u001b[0m\u001b[0minplace\u001b[0m\u001b[0;34m=\u001b[0m\u001b[0;32mTrue\u001b[0m\u001b[0;34m)\u001b[0m\u001b[0;34m\u001b[0m\u001b[0;34m\u001b[0m\u001b[0m\n\u001b[0m\u001b[1;32m      4\u001b[0m \u001b[0mnew_df\u001b[0m\u001b[0;34m.\u001b[0m\u001b[0mhead\u001b[0m\u001b[0;34m(\u001b[0m\u001b[0;34m)\u001b[0m\u001b[0;34m\u001b[0m\u001b[0;34m\u001b[0m\u001b[0m\n",
      "\u001b[0;32m/usr/local/lib/python3.7/dist-packages/pandas/core/frame.py\u001b[0m in \u001b[0;36mdrop\u001b[0;34m(self, labels, axis, index, columns, level, inplace, errors)\u001b[0m\n\u001b[1;32m   4172\u001b[0m             \u001b[0mlevel\u001b[0m\u001b[0;34m=\u001b[0m\u001b[0mlevel\u001b[0m\u001b[0;34m,\u001b[0m\u001b[0;34m\u001b[0m\u001b[0;34m\u001b[0m\u001b[0m\n\u001b[1;32m   4173\u001b[0m             \u001b[0minplace\u001b[0m\u001b[0;34m=\u001b[0m\u001b[0minplace\u001b[0m\u001b[0;34m,\u001b[0m\u001b[0;34m\u001b[0m\u001b[0;34m\u001b[0m\u001b[0m\n\u001b[0;32m-> 4174\u001b[0;31m             \u001b[0merrors\u001b[0m\u001b[0;34m=\u001b[0m\u001b[0merrors\u001b[0m\u001b[0;34m,\u001b[0m\u001b[0;34m\u001b[0m\u001b[0;34m\u001b[0m\u001b[0m\n\u001b[0m\u001b[1;32m   4175\u001b[0m         )\n\u001b[1;32m   4176\u001b[0m \u001b[0;34m\u001b[0m\u001b[0m\n",
      "\u001b[0;32m/usr/local/lib/python3.7/dist-packages/pandas/core/generic.py\u001b[0m in \u001b[0;36mdrop\u001b[0;34m(self, labels, axis, index, columns, level, inplace, errors)\u001b[0m\n\u001b[1;32m   3887\u001b[0m         \u001b[0;32mfor\u001b[0m \u001b[0maxis\u001b[0m\u001b[0;34m,\u001b[0m \u001b[0mlabels\u001b[0m \u001b[0;32min\u001b[0m \u001b[0maxes\u001b[0m\u001b[0;34m.\u001b[0m\u001b[0mitems\u001b[0m\u001b[0;34m(\u001b[0m\u001b[0;34m)\u001b[0m\u001b[0;34m:\u001b[0m\u001b[0;34m\u001b[0m\u001b[0;34m\u001b[0m\u001b[0m\n\u001b[1;32m   3888\u001b[0m             \u001b[0;32mif\u001b[0m \u001b[0mlabels\u001b[0m \u001b[0;32mis\u001b[0m \u001b[0;32mnot\u001b[0m \u001b[0;32mNone\u001b[0m\u001b[0;34m:\u001b[0m\u001b[0;34m\u001b[0m\u001b[0;34m\u001b[0m\u001b[0m\n\u001b[0;32m-> 3889\u001b[0;31m                 \u001b[0mobj\u001b[0m \u001b[0;34m=\u001b[0m \u001b[0mobj\u001b[0m\u001b[0;34m.\u001b[0m\u001b[0m_drop_axis\u001b[0m\u001b[0;34m(\u001b[0m\u001b[0mlabels\u001b[0m\u001b[0;34m,\u001b[0m \u001b[0maxis\u001b[0m\u001b[0;34m,\u001b[0m \u001b[0mlevel\u001b[0m\u001b[0;34m=\u001b[0m\u001b[0mlevel\u001b[0m\u001b[0;34m,\u001b[0m \u001b[0merrors\u001b[0m\u001b[0;34m=\u001b[0m\u001b[0merrors\u001b[0m\u001b[0;34m)\u001b[0m\u001b[0;34m\u001b[0m\u001b[0;34m\u001b[0m\u001b[0m\n\u001b[0m\u001b[1;32m   3890\u001b[0m \u001b[0;34m\u001b[0m\u001b[0m\n\u001b[1;32m   3891\u001b[0m         \u001b[0;32mif\u001b[0m \u001b[0minplace\u001b[0m\u001b[0;34m:\u001b[0m\u001b[0;34m\u001b[0m\u001b[0;34m\u001b[0m\u001b[0m\n",
      "\u001b[0;32m/usr/local/lib/python3.7/dist-packages/pandas/core/generic.py\u001b[0m in \u001b[0;36m_drop_axis\u001b[0;34m(self, labels, axis, level, errors)\u001b[0m\n\u001b[1;32m   3921\u001b[0m                 \u001b[0mnew_axis\u001b[0m \u001b[0;34m=\u001b[0m \u001b[0maxis\u001b[0m\u001b[0;34m.\u001b[0m\u001b[0mdrop\u001b[0m\u001b[0;34m(\u001b[0m\u001b[0mlabels\u001b[0m\u001b[0;34m,\u001b[0m \u001b[0mlevel\u001b[0m\u001b[0;34m=\u001b[0m\u001b[0mlevel\u001b[0m\u001b[0;34m,\u001b[0m \u001b[0merrors\u001b[0m\u001b[0;34m=\u001b[0m\u001b[0merrors\u001b[0m\u001b[0;34m)\u001b[0m\u001b[0;34m\u001b[0m\u001b[0;34m\u001b[0m\u001b[0m\n\u001b[1;32m   3922\u001b[0m             \u001b[0;32melse\u001b[0m\u001b[0;34m:\u001b[0m\u001b[0;34m\u001b[0m\u001b[0;34m\u001b[0m\u001b[0m\n\u001b[0;32m-> 3923\u001b[0;31m                 \u001b[0mnew_axis\u001b[0m \u001b[0;34m=\u001b[0m \u001b[0maxis\u001b[0m\u001b[0;34m.\u001b[0m\u001b[0mdrop\u001b[0m\u001b[0;34m(\u001b[0m\u001b[0mlabels\u001b[0m\u001b[0;34m,\u001b[0m \u001b[0merrors\u001b[0m\u001b[0;34m=\u001b[0m\u001b[0merrors\u001b[0m\u001b[0;34m)\u001b[0m\u001b[0;34m\u001b[0m\u001b[0;34m\u001b[0m\u001b[0m\n\u001b[0m\u001b[1;32m   3924\u001b[0m             \u001b[0mresult\u001b[0m \u001b[0;34m=\u001b[0m \u001b[0mself\u001b[0m\u001b[0;34m.\u001b[0m\u001b[0mreindex\u001b[0m\u001b[0;34m(\u001b[0m\u001b[0;34m**\u001b[0m\u001b[0;34m{\u001b[0m\u001b[0maxis_name\u001b[0m\u001b[0;34m:\u001b[0m \u001b[0mnew_axis\u001b[0m\u001b[0;34m}\u001b[0m\u001b[0;34m)\u001b[0m\u001b[0;34m\u001b[0m\u001b[0;34m\u001b[0m\u001b[0m\n\u001b[1;32m   3925\u001b[0m \u001b[0;34m\u001b[0m\u001b[0m\n",
      "\u001b[0;32m/usr/local/lib/python3.7/dist-packages/pandas/core/indexes/base.py\u001b[0m in \u001b[0;36mdrop\u001b[0;34m(self, labels, errors)\u001b[0m\n\u001b[1;32m   5285\u001b[0m         \u001b[0;32mif\u001b[0m \u001b[0mmask\u001b[0m\u001b[0;34m.\u001b[0m\u001b[0many\u001b[0m\u001b[0;34m(\u001b[0m\u001b[0;34m)\u001b[0m\u001b[0;34m:\u001b[0m\u001b[0;34m\u001b[0m\u001b[0;34m\u001b[0m\u001b[0m\n\u001b[1;32m   5286\u001b[0m             \u001b[0;32mif\u001b[0m \u001b[0merrors\u001b[0m \u001b[0;34m!=\u001b[0m \u001b[0;34m\"ignore\"\u001b[0m\u001b[0;34m:\u001b[0m\u001b[0;34m\u001b[0m\u001b[0;34m\u001b[0m\u001b[0m\n\u001b[0;32m-> 5287\u001b[0;31m                 \u001b[0;32mraise\u001b[0m \u001b[0mKeyError\u001b[0m\u001b[0;34m(\u001b[0m\u001b[0;34mf\"{labels[mask]} not found in axis\"\u001b[0m\u001b[0;34m)\u001b[0m\u001b[0;34m\u001b[0m\u001b[0;34m\u001b[0m\u001b[0m\n\u001b[0m\u001b[1;32m   5288\u001b[0m             \u001b[0mindexer\u001b[0m \u001b[0;34m=\u001b[0m \u001b[0mindexer\u001b[0m\u001b[0;34m[\u001b[0m\u001b[0;34m~\u001b[0m\u001b[0mmask\u001b[0m\u001b[0;34m]\u001b[0m\u001b[0;34m\u001b[0m\u001b[0;34m\u001b[0m\u001b[0m\n\u001b[1;32m   5289\u001b[0m         \u001b[0;32mreturn\u001b[0m \u001b[0mself\u001b[0m\u001b[0;34m.\u001b[0m\u001b[0mdelete\u001b[0m\u001b[0;34m(\u001b[0m\u001b[0mindexer\u001b[0m\u001b[0;34m)\u001b[0m\u001b[0;34m\u001b[0m\u001b[0;34m\u001b[0m\u001b[0m\n",
      "\u001b[0;31mKeyError\u001b[0m: \"['lang_detect' 'eng_lang' 'text_without_symbol_num' 'text_lower'\\n 'remo_stop_words' 'remo_space'] not found in axis\""
     ]
    }
   ],
   "source": [
    "#df_digi.drop(columns=['gender','age','sign',],axis=1,inplace=True)\n",
    "#iTs a#############################################################################################################\n",
    "\n",
    "\n",
    "new_df.drop(columns=['lang_detect','eng_lang','text_without_symbol_num','text_lower','remo_stop_words','remo_space'],axis=1,inplace=True)\n"
   ]
  },
  {
   "cell_type": "code",
   "execution_count": 348,
   "metadata": {
    "colab": {
     "base_uri": "https://localhost:8080/",
     "height": 206
    },
    "id": "qI7jGJSRCSKC",
    "outputId": "23b07841-a9ec-4d84-d099-9447b3aa80b5"
   },
   "outputs": [
    {
     "data": {
      "text/html": [
       "\n",
       "  <div id=\"df-40a3356e-9657-48fe-9684-b5eaa9da06f4\">\n",
       "    <div class=\"colab-df-container\">\n",
       "      <div>\n",
       "<style scoped>\n",
       "    .dataframe tbody tr th:only-of-type {\n",
       "        vertical-align: middle;\n",
       "    }\n",
       "\n",
       "    .dataframe tbody tr th {\n",
       "        vertical-align: top;\n",
       "    }\n",
       "\n",
       "    .dataframe thead th {\n",
       "        text-align: right;\n",
       "    }\n",
       "</style>\n",
       "<table border=\"1\" class=\"dataframe\">\n",
       "  <thead>\n",
       "    <tr style=\"text-align: right;\">\n",
       "      <th></th>\n",
       "      <th>text</th>\n",
       "      <th>topic</th>\n",
       "      <th>clean_data</th>\n",
       "    </tr>\n",
       "  </thead>\n",
       "  <tbody>\n",
       "    <tr>\n",
       "      <th>0</th>\n",
       "      <td>Info has been found (+/- 100 pages,...</td>\n",
       "      <td>Student</td>\n",
       "      <td>info found pages mb pdf files wait untill team...</td>\n",
       "    </tr>\n",
       "    <tr>\n",
       "      <th>1</th>\n",
       "      <td>These are the team members:   Drewe...</td>\n",
       "      <td>Student</td>\n",
       "      <td>team members drewes van der laag urllink mail ...</td>\n",
       "    </tr>\n",
       "    <tr>\n",
       "      <th>3</th>\n",
       "      <td>testing!!!  testing!!!</td>\n",
       "      <td>Student</td>\n",
       "      <td>testing testing</td>\n",
       "    </tr>\n",
       "    <tr>\n",
       "      <th>4</th>\n",
       "      <td>Thanks to Yahoo!'s Toolbar I can ...</td>\n",
       "      <td>InvestmentBanking</td>\n",
       "      <td>thanks yahoo 's toolbar 'capture' urls popups ...</td>\n",
       "    </tr>\n",
       "    <tr>\n",
       "      <th>5</th>\n",
       "      <td>I had an interesting conversation...</td>\n",
       "      <td>InvestmentBanking</td>\n",
       "      <td>interesting conversation dad morning talking k...</td>\n",
       "    </tr>\n",
       "  </tbody>\n",
       "</table>\n",
       "</div>\n",
       "      <button class=\"colab-df-convert\" onclick=\"convertToInteractive('df-40a3356e-9657-48fe-9684-b5eaa9da06f4')\"\n",
       "              title=\"Convert this dataframe to an interactive table.\"\n",
       "              style=\"display:none;\">\n",
       "        \n",
       "  <svg xmlns=\"http://www.w3.org/2000/svg\" height=\"24px\"viewBox=\"0 0 24 24\"\n",
       "       width=\"24px\">\n",
       "    <path d=\"M0 0h24v24H0V0z\" fill=\"none\"/>\n",
       "    <path d=\"M18.56 5.44l.94 2.06.94-2.06 2.06-.94-2.06-.94-.94-2.06-.94 2.06-2.06.94zm-11 1L8.5 8.5l.94-2.06 2.06-.94-2.06-.94L8.5 2.5l-.94 2.06-2.06.94zm10 10l.94 2.06.94-2.06 2.06-.94-2.06-.94-.94-2.06-.94 2.06-2.06.94z\"/><path d=\"M17.41 7.96l-1.37-1.37c-.4-.4-.92-.59-1.43-.59-.52 0-1.04.2-1.43.59L10.3 9.45l-7.72 7.72c-.78.78-.78 2.05 0 2.83L4 21.41c.39.39.9.59 1.41.59.51 0 1.02-.2 1.41-.59l7.78-7.78 2.81-2.81c.8-.78.8-2.07 0-2.86zM5.41 20L4 18.59l7.72-7.72 1.47 1.35L5.41 20z\"/>\n",
       "  </svg>\n",
       "      </button>\n",
       "      \n",
       "  <style>\n",
       "    .colab-df-container {\n",
       "      display:flex;\n",
       "      flex-wrap:wrap;\n",
       "      gap: 12px;\n",
       "    }\n",
       "\n",
       "    .colab-df-convert {\n",
       "      background-color: #E8F0FE;\n",
       "      border: none;\n",
       "      border-radius: 50%;\n",
       "      cursor: pointer;\n",
       "      display: none;\n",
       "      fill: #1967D2;\n",
       "      height: 32px;\n",
       "      padding: 0 0 0 0;\n",
       "      width: 32px;\n",
       "    }\n",
       "\n",
       "    .colab-df-convert:hover {\n",
       "      background-color: #E2EBFA;\n",
       "      box-shadow: 0px 1px 2px rgba(60, 64, 67, 0.3), 0px 1px 3px 1px rgba(60, 64, 67, 0.15);\n",
       "      fill: #174EA6;\n",
       "    }\n",
       "\n",
       "    [theme=dark] .colab-df-convert {\n",
       "      background-color: #3B4455;\n",
       "      fill: #D2E3FC;\n",
       "    }\n",
       "\n",
       "    [theme=dark] .colab-df-convert:hover {\n",
       "      background-color: #434B5C;\n",
       "      box-shadow: 0px 1px 3px 1px rgba(0, 0, 0, 0.15);\n",
       "      filter: drop-shadow(0px 1px 2px rgba(0, 0, 0, 0.3));\n",
       "      fill: #FFFFFF;\n",
       "    }\n",
       "  </style>\n",
       "\n",
       "      <script>\n",
       "        const buttonEl =\n",
       "          document.querySelector('#df-40a3356e-9657-48fe-9684-b5eaa9da06f4 button.colab-df-convert');\n",
       "        buttonEl.style.display =\n",
       "          google.colab.kernel.accessAllowed ? 'block' : 'none';\n",
       "\n",
       "        async function convertToInteractive(key) {\n",
       "          const element = document.querySelector('#df-40a3356e-9657-48fe-9684-b5eaa9da06f4');\n",
       "          const dataTable =\n",
       "            await google.colab.kernel.invokeFunction('convertToInteractive',\n",
       "                                                     [key], {});\n",
       "          if (!dataTable) return;\n",
       "\n",
       "          const docLinkHtml = 'Like what you see? Visit the ' +\n",
       "            '<a target=\"_blank\" href=https://colab.research.google.com/notebooks/data_table.ipynb>data table notebook</a>'\n",
       "            + ' to learn more about interactive tables.';\n",
       "          element.innerHTML = '';\n",
       "          dataTable['output_type'] = 'display_data';\n",
       "          await google.colab.output.renderOutput(dataTable, element);\n",
       "          const docLink = document.createElement('div');\n",
       "          docLink.innerHTML = docLinkHtml;\n",
       "          element.appendChild(docLink);\n",
       "        }\n",
       "      </script>\n",
       "    </div>\n",
       "  </div>\n",
       "  "
      ],
      "text/plain": [
       "                                                text  ...                                         clean_data\n",
       "0             Info has been found (+/- 100 pages,...  ...  info found pages mb pdf files wait untill team...\n",
       "1             These are the team members:   Drewe...  ...  team members drewes van der laag urllink mail ...\n",
       "3                   testing!!!  testing!!!            ...                                    testing testing\n",
       "4               Thanks to Yahoo!'s Toolbar I can ...  ...  thanks yahoo 's toolbar 'capture' urls popups ...\n",
       "5               I had an interesting conversation...  ...  interesting conversation dad morning talking k...\n",
       "\n",
       "[5 rows x 3 columns]"
      ]
     },
     "execution_count": 348,
     "metadata": {},
     "output_type": "execute_result"
    }
   ],
   "source": [
    "new_df.head()"
   ]
  },
  {
   "cell_type": "markdown",
   "metadata": {
    "id": "JKAuWFf1jl6g"
   },
   "source": [
    "3. Build a base Classification model"
   ]
  },
  {
   "cell_type": "markdown",
   "metadata": {
    "id": "c3tveQ0Uj1St"
   },
   "source": [
    "A. Create dependent and independent variables [2 Marks]\n",
    "Hint: Treat ‘topic’ as a Target variable."
   ]
  },
  {
   "cell_type": "code",
   "execution_count": 350,
   "metadata": {
    "id": "iLAmFqxflUl2"
   },
   "outputs": [],
   "source": [
    "#Independent variable X\n",
    "X=new_df['clean_data']\n",
    "\n",
    "#np.array(data_list)\n",
    "\n",
    "#X=np.array(df_digi['clean_data'])"
   ]
  },
  {
   "cell_type": "code",
   "execution_count": 351,
   "metadata": {
    "id": "kqZWmG5alUon"
   },
   "outputs": [],
   "source": [
    "#Dependent variable(target variable) y\n",
    "#df.Target.values\n",
    "\n",
    "y=new_df['topic']\n",
    "#y=np.array(y).astype(\"float32\")\n",
    "#y=df_digi.Target.values"
   ]
  },
  {
   "cell_type": "code",
   "execution_count": 351,
   "metadata": {
    "id": "E63hAWWL-pzE"
   },
   "outputs": [],
   "source": [
    ""
   ]
  },
  {
   "cell_type": "code",
   "execution_count": 352,
   "metadata": {
    "colab": {
     "base_uri": "https://localhost:8080/"
    },
    "id": "Hs3wlkAirPBB",
    "outputId": "98b105fb-60b7-4f29-d190-d8fee9b12b21"
   },
   "outputs": [
    {
     "name": "stdout",
     "output_type": "stream",
     "text": [
      "indUnk                     3287\n",
      "Technology                 2654\n",
      "Fashion                    1622\n",
      "Student                    1137\n",
      "Education                   270\n",
      "Marketing                   156\n",
      "Engineering                 127\n",
      "Internet                    118\n",
      "Communications-Media         99\n",
      "BusinessServices             91\n",
      "Sports-Recreation            80\n",
      "Non-Profit                   71\n",
      "InvestmentBanking            70\n",
      "Science                      63\n",
      "Arts                         45\n",
      "Consulting                   21\n",
      "Museums-Libraries            17\n",
      "Banking                      16\n",
      "Automotive                   14\n",
      "Law                          11\n",
      "LawEnforcement-Security      10\n",
      "Religion                      9\n",
      "Publishing                    4\n",
      "Accounting                    4\n",
      "HumanResources                2\n",
      "Telecommunications            2\n",
      "Name: topic, dtype: int64\n"
     ]
    }
   ],
   "source": [
    "topic_counts=df_digi['topic'].value_counts()\n",
    "print(topic_counts)"
   ]
  },
  {
   "cell_type": "markdown",
   "metadata": {
    "id": "YTgqFwc-r1lX"
   },
   "source": [
    "B. Split data into train and test. [1 Marks]"
   ]
  },
  {
   "cell_type": "code",
   "execution_count": 353,
   "metadata": {
    "id": "wfSzQiHYk6Rd"
   },
   "outputs": [],
   "source": [
    "from sklearn.model_selection import train_test_split\n",
    "X_train,X_test,y_train,y_test=train_test_split(X,y,random_state=2,test_size=0.2,shuffle=True)"
   ]
  },
  {
   "cell_type": "code",
   "execution_count": 354,
   "metadata": {
    "colab": {
     "base_uri": "https://localhost:8080/"
    },
    "id": "GQsZxbRKn7Ou",
    "outputId": "6657a8d6-32ee-4189-ad34-f017eeb54934"
   },
   "outputs": [
    {
     "name": "stdout",
     "output_type": "stream",
     "text": [
      "Shape of Training set : (7732,)\n",
      "Shape of Testing set : (1934,)\n"
     ]
    }
   ],
   "source": [
    "print(\"Shape of Training set :\",X_train.shape)\n",
    "print(\"Shape of Testing set :\",X_test.shape)"
   ]
  },
  {
   "cell_type": "code",
   "execution_count": 355,
   "metadata": {
    "colab": {
     "base_uri": "https://localhost:8080/"
    },
    "id": "HFQ1jcR8b2NC",
    "outputId": "d3c77e1a-4e77-461d-821e-87908b48fd1c"
   },
   "outputs": [
    {
     "name": "stdout",
     "output_type": "stream",
     "text": [
      "Shape of Training set : (7732,)\n",
      "Shape of Testing set : (1934,)\n"
     ]
    }
   ],
   "source": [
    "print(\"Shape of Training set :\",y_train.shape)\n",
    "print(\"Shape of Testing set :\",y_test.shape)"
   ]
  },
  {
   "cell_type": "code",
   "execution_count": 356,
   "metadata": {
    "colab": {
     "base_uri": "https://localhost:8080/",
     "height": 35
    },
    "id": "mb4s0joBEysE",
    "outputId": "518f35bd-0517-44aa-9ea6-9788306727c2"
   },
   "outputs": [
    {
     "data": {
      "application/vnd.google.colaboratory.intrinsic+json": {
       "type": "string"
      },
      "text/plain": [
       "'team members drewes van der laag urllink mail ruiyu xie urllink mail bryan aaldering urllink mail'"
      ]
     },
     "execution_count": 356,
     "metadata": {},
     "output_type": "execute_result"
    }
   ],
   "source": [
    "X_train[1]"
   ]
  },
  {
   "cell_type": "code",
   "execution_count": 358,
   "metadata": {
    "colab": {
     "base_uri": "https://localhost:8080/"
    },
    "id": "iqS--_lfEU07",
    "outputId": "78086b13-12dc-4e87-d592-a83ccdb6e08a"
   },
   "outputs": [
    {
     "data": {
      "text/plain": [
       "8799    eep posts today count picture sorry guys scrol...\n",
       "5912    thought might nice remember we're supposed url...\n",
       "9170    'dear sidewalk crevices beautiful eyes love b ...\n",
       "7611    urllink gwynie whore prospects fully exhausted...\n",
       "6913    hold morning heard muzak version jay z song in...\n",
       "                              ...                        \n",
       "7726    damn well thank hal totally sucking evening la...\n",
       "5356    think i'm going overflow feel gross disgusting...\n",
       "4862                                     yeah second post\n",
       "3453    hey sometimes gotta realize betted wrong horse...\n",
       "7498    link time people urllink year i'm handing bite...\n",
       "Name: clean_data, Length: 1934, dtype: object"
      ]
     },
     "execution_count": 358,
     "metadata": {},
     "output_type": "execute_result"
    }
   ],
   "source": [
    "X_test"
   ]
  },
  {
   "cell_type": "markdown",
   "metadata": {
    "id": "h_mSWxJ8lJ_z"
   },
   "source": [
    "C. Vectorize data using any one vectorizer"
   ]
  },
  {
   "cell_type": "markdown",
   "metadata": {
    "id": "pphIO1T5hVmT"
   },
   "source": [
    "a.Create a Bag of Words(BoW)-Vectorize on BoW\n",
    "1.Use ngram_range=(1,2)\n",
    "2.Vectorize training and testing features\n",
    "3.Print the term-document matrix \n"
   ]
  },
  {
   "cell_type": "code",
   "execution_count": 385,
   "metadata": {
    "colab": {
     "base_uri": "https://localhost:8080/"
    },
    "id": "O3wcmh_hl8G8",
    "outputId": "a9571824-3e45-4bc8-89b7-c50ab48ea732"
   },
   "outputs": [
    {
     "data": {
      "text/plain": [
       "CountVectorizer(ngram_range=(1, 2))"
      ]
     },
     "execution_count": 385,
     "metadata": {},
     "output_type": "execute_result"
    }
   ],
   "source": [
    "count_vect= CountVectorizer(ngram_range=(1,2))\n",
    "count_vect.fit(X_train)"
   ]
  },
  {
   "cell_type": "code",
   "execution_count": 386,
   "metadata": {
    "colab": {
     "base_uri": "https://localhost:8080/"
    },
    "id": "jdCDLYXSmQp7",
    "outputId": "2e608d7e-379a-42d4-a982-695d2674ef82"
   },
   "outputs": [
    {
     "data": {
      "text/plain": [
       "480759"
      ]
     },
     "execution_count": 386,
     "metadata": {},
     "output_type": "execute_result"
    }
   ],
   "source": [
    "#Check the vocablury size\n",
    "len(count_vect.vocabulary_)"
   ]
  },
  {
   "cell_type": "code",
   "execution_count": 387,
   "metadata": {
    "colab": {
     "base_uri": "https://localhost:8080/"
    },
    "id": "tXH9A6rhmlBA",
    "outputId": "68e5754d-4496-40ea-a5c5-7b90d30a84e5"
   },
   "outputs": [
    {
     "data": {
      "text/plain": [
       "['__',\n",
       " '__ ___',\n",
       " '__ also',\n",
       " '__ bit',\n",
       " '__ classes',\n",
       " '__ congrats',\n",
       " '__ english',\n",
       " '__ geo',\n",
       " '__ give',\n",
       " '__ ll',\n",
       " '__ looks',\n",
       " '__ maybe',\n",
       " '__ means',\n",
       " '__ pitiful',\n",
       " '__ pretty',\n",
       " '__ rest',\n",
       " '__ supposedly',\n",
       " '___',\n",
       " '___ ___',\n",
       " '___ betty',\n",
       " '___ currently',\n",
       " '___ feeling',\n",
       " '___ fools',\n",
       " '___ friendship',\n",
       " '___ like',\n",
       " '___ meaningful',\n",
       " '___ played',\n",
       " '___ really',\n",
       " '___ seriously',\n",
       " '___ slip',\n",
       " '___ talk',\n",
       " '___ urllink',\n",
       " '___ yes',\n",
       " '____',\n",
       " '____ anway',\n",
       " '____ err',\n",
       " '____ good',\n",
       " '____ im',\n",
       " '____ played',\n",
       " '_____',\n",
       " '_____ bored',\n",
       " '_____ insert',\n",
       " '_____ lose',\n",
       " '_____ main',\n",
       " '_____ rest',\n",
       " '_____ tired',\n",
       " '_______',\n",
       " '_______ please',\n",
       " '________',\n",
       " '________ get',\n",
       " '_________',\n",
       " '_________ services',\n",
       " '__________',\n",
       " '__________ loved',\n",
       " '__________ traditions',\n",
       " '____________',\n",
       " '____________ date',\n",
       " '_____________',\n",
       " '_____________ devout',\n",
       " '_alone',\n",
       " '_alone kyoto_',\n",
       " '_but',\n",
       " '_but they',\n",
       " '_flaubert',\n",
       " '_flaubert parrot_',\n",
       " '_flesh',\n",
       " '_flesh age',\n",
       " '_home',\n",
       " '_home fs',\n",
       " '_if',\n",
       " '_if winter',\n",
       " '_lost',\n",
       " '_lost translation_',\n",
       " '_pride',\n",
       " '_pride prejudice_',\n",
       " '_small',\n",
       " '_small end',\n",
       " '_tender',\n",
       " '_tender night_',\n",
       " '_the',\n",
       " '_the corrections_',\n",
       " '_the namesake_',\n",
       " '_topmystery',\n",
       " '_topmystery jpg',\n",
       " 'aa',\n",
       " 'aa amazing',\n",
       " 'aa compared',\n",
       " 'aa keeps',\n",
       " 'aa nice',\n",
       " 'aa sd',\n",
       " 'aaa',\n",
       " 'aaa discount',\n",
       " 'aaa travel',\n",
       " 'aaaaaaaaaaaah',\n",
       " 'aaaaaaaaaaahhhhhhhhhhhhhhhhhhh',\n",
       " 'aaaaaaaaaaahhhhhhhhhhhhhhhhhhh hw',\n",
       " 'aaaaaaaaah',\n",
       " 'aaaaaaah',\n",
       " 'aaaaaaah fade',\n",
       " 'aaaaaah',\n",
       " 'aaaah',\n",
       " 'aaaah wisdom',\n",
       " 'aaah',\n",
       " 'aaah eat',\n",
       " 'aaah hafta',\n",
       " 'aaahhh',\n",
       " 'aaahhh cryptic',\n",
       " 'aaahhhh',\n",
       " 'aaahhhh diva',\n",
       " 'aaarrggghhh',\n",
       " 'aaarrggghhh plus',\n",
       " 'aaarrggghhh thanks',\n",
       " 'aaarrrrggggghhhhh',\n",
       " 'aaarrrrggggghhhhh realized',\n",
       " 'aactually',\n",
       " 'aactually really',\n",
       " 'aahh',\n",
       " 'aahh gw',\n",
       " 'aal',\n",
       " 'aal eliminate',\n",
       " 'aal esseneth',\n",
       " 'aal lost',\n",
       " 'aal powerful',\n",
       " 'aal rather',\n",
       " 'aaldering',\n",
       " 'aaldering urllink',\n",
       " 'aamco',\n",
       " 'aamco kind',\n",
       " 'aand',\n",
       " 'aand jim',\n",
       " 'aar',\n",
       " 'aar toy',\n",
       " 'aaron',\n",
       " 'aaron aaron',\n",
       " 'aaron broke',\n",
       " 'aaron brown',\n",
       " 'aaron burr',\n",
       " 'aaron came',\n",
       " 'aaron club',\n",
       " 'aaron done',\n",
       " 'aaron elandt',\n",
       " 'aaron friend',\n",
       " 'aaron gf',\n",
       " 'aaron he',\n",
       " 'aaron heath',\n",
       " 'aaron hehe',\n",
       " 'aaron hi',\n",
       " 'aaron know',\n",
       " 'aaron like',\n",
       " 'aaron likes',\n",
       " 'aaron love',\n",
       " 'aaron oppsy',\n",
       " 'aaron pak',\n",
       " 'aaron pops',\n",
       " 'aaron pulled',\n",
       " 'aaron realized',\n",
       " 'aaron saying',\n",
       " 'aaron seeing',\n",
       " 'aaron sent',\n",
       " 'aaron stephen',\n",
       " 'aaron still',\n",
       " 'aaron talladega',\n",
       " 'aaron turned',\n",
       " 'aaron went',\n",
       " 'aarp',\n",
       " 'aarp considers',\n",
       " 'aarp got',\n",
       " 'aarrgghh',\n",
       " 'aarrgghh missed',\n",
       " 'ab',\n",
       " 'ab aethere',\n",
       " 'ab workouts',\n",
       " 'aba',\n",
       " 'aba lotto',\n",
       " 'aba teacher',\n",
       " 'abab',\n",
       " 'abab cdcd',\n",
       " 'aback',\n",
       " 'aback coz',\n",
       " 'aback sure',\n",
       " 'aback take',\n",
       " 'aballaby',\n",
       " 'aballaby nbsp',\n",
       " 'abandon',\n",
       " 'abandon days',\n",
       " 'abandon elijah',\n",
       " 'abandon every',\n",
       " 'abandon impotant',\n",
       " 'abandon program',\n",
       " 'abandon truth',\n",
       " 'abandoned',\n",
       " 'abandoned although',\n",
       " 'abandoned area',\n",
       " 'abandoned attacking',\n",
       " 'abandoned catholicism',\n",
       " 'abandoned drunk',\n",
       " 'abandoned pic',\n",
       " 'abandoned ticket',\n",
       " 'abandoned ve',\n",
       " 'abandoning',\n",
       " 'abandoning faith',\n",
       " 'abandoning isreal',\n",
       " 'abandons',\n",
       " 'abandons knowing',\n",
       " 'abate',\n",
       " 'abate baby',\n",
       " 'abated',\n",
       " 'abated came',\n",
       " 'abba',\n",
       " 'abba tune',\n",
       " 'abbey',\n",
       " 'abbey eat',\n",
       " 'abbey help',\n",
       " 'abbey jay',\n",
       " 'abbey trying',\n",
       " 'abbot',\n",
       " 'abbot alter',\n",
       " 'abbot blog',\n",
       " 'abbott',\n",
       " 'abbott go',\n",
       " 'abbott going',\n",
       " 'abbott makes',\n",
       " 'abbreviate',\n",
       " 'abbreviate fun',\n",
       " 'abbreviation',\n",
       " 'abbreviation next',\n",
       " 'abbreviations',\n",
       " 'abbreviations code',\n",
       " 'abby',\n",
       " 'abby around',\n",
       " 'abby hand',\n",
       " 'abby hey',\n",
       " 'abby house',\n",
       " 'abby sounds',\n",
       " 'abc',\n",
       " 'abc cbs',\n",
       " 'abc family',\n",
       " 'abc keeping',\n",
       " 'abc need',\n",
       " 'abc news',\n",
       " 'abc probably',\n",
       " 'abc think',\n",
       " 'abcd',\n",
       " 'abcd student',\n",
       " 'abcfamily',\n",
       " 'abcfamily tapes',\n",
       " 'abcnews',\n",
       " 'abcnews com',\n",
       " 'abcnews go',\n",
       " 'abdo',\n",
       " 'abdo identified',\n",
       " 'abdomen',\n",
       " 'abdomen thighs',\n",
       " 'abduction',\n",
       " 'abduction tape',\n",
       " 'abductor',\n",
       " 'abductor cooperative',\n",
       " 'abdul',\n",
       " 'abdul head',\n",
       " 'abdul medley',\n",
       " 'abdul rahman',\n",
       " 'abdul ve',\n",
       " 'abe',\n",
       " 'abe called',\n",
       " 'abe fuck',\n",
       " 'abe lincoln',\n",
       " 'abegeeeeee',\n",
       " 'abegeeeeee abiis',\n",
       " 'abercrombie',\n",
       " 'abercrombie beliefs',\n",
       " 'abercrombie boxers',\n",
       " 'abercrombie cologne',\n",
       " 'abercrombie fags',\n",
       " 'abercrombie shit',\n",
       " 'abercrombie underwear',\n",
       " 'abercrombie victoria',\n",
       " 'aberrant',\n",
       " 'aberrant really',\n",
       " 'abfab',\n",
       " 'abfab fame',\n",
       " 'abhor',\n",
       " 'abhor middle',\n",
       " 'abhor you',\n",
       " 'abhorred',\n",
       " 'abhorred avoided',\n",
       " 'abi',\n",
       " 'abi station',\n",
       " 'abide',\n",
       " 'abide add',\n",
       " 'abide geneva',\n",
       " 'abiding',\n",
       " 'abiding christian',\n",
       " 'abiding pedestrians',\n",
       " 'abiis',\n",
       " 'abiis deh',\n",
       " 'abilities',\n",
       " 'abilities along',\n",
       " 'abilities eminiem',\n",
       " 'abilities first',\n",
       " 'abilities increased',\n",
       " 'abilities limited',\n",
       " 'abilities rather',\n",
       " 'abilities staff',\n",
       " 'abilities trustworthy',\n",
       " 'ability',\n",
       " 'ability achieve',\n",
       " 'ability almost',\n",
       " 'ability believe',\n",
       " 'ability cast',\n",
       " 'ability charm',\n",
       " 'ability collect',\n",
       " 'ability control',\n",
       " 'ability create',\n",
       " 'ability edit',\n",
       " 'ability even',\n",
       " 'ability express',\n",
       " 'ability extract',\n",
       " 'ability fight',\n",
       " 'ability film',\n",
       " 'ability fortunate',\n",
       " 'ability function',\n",
       " 'ability generate',\n",
       " 'ability get',\n",
       " 'ability go',\n",
       " 'ability hold',\n",
       " 'ability intellect',\n",
       " 'ability jump',\n",
       " 'ability keep',\n",
       " 'ability make',\n",
       " 'ability nonconformist',\n",
       " 'ability outrun',\n",
       " 'ability pay',\n",
       " 'ability practice',\n",
       " 'ability program',\n",
       " 'ability put',\n",
       " 'ability raise',\n",
       " 'ability really',\n",
       " 'ability repeat',\n",
       " 'ability room',\n",
       " 'ability said',\n",
       " 'ability see',\n",
       " 'ability seemingly',\n",
       " 'ability set',\n",
       " 'ability shine',\n",
       " 'ability sit',\n",
       " 'ability stand',\n",
       " 'ability strive',\n",
       " 'ability take',\n",
       " 'ability think',\n",
       " 'ability to',\n",
       " 'ability toplace',\n",
       " 'ability touch',\n",
       " 'ability use',\n",
       " 'ability walk',\n",
       " 'ability without',\n",
       " 'abiss',\n",
       " 'abiss ituu',\n",
       " 'abit',\n",
       " 'abit nervous',\n",
       " 'abit passing',\n",
       " 'abject',\n",
       " 'abject horror',\n",
       " 'able',\n",
       " 'able access',\n",
       " 'able actually',\n",
       " 'able add',\n",
       " 'able afford',\n",
       " 'able anything',\n",
       " 'able anyway',\n",
       " 'able appoint',\n",
       " 'able ask',\n",
       " 'able assist',\n",
       " 'able assuage',\n",
       " 'able attend',\n",
       " 'able avail',\n",
       " 'able avoid',\n",
       " 'able battle',\n",
       " 'able best',\n",
       " 'able blog',\n",
       " 'able blow',\n",
       " 'able broaden',\n",
       " 'able buy',\n",
       " 'able caddy',\n",
       " 'able call',\n",
       " 'able carry',\n",
       " 'able catch',\n",
       " 'able change',\n",
       " 'able character',\n",
       " 'able charm',\n",
       " 'able check',\n",
       " 'able click',\n",
       " 'able close',\n",
       " 'able clover',\n",
       " 'able come',\n",
       " 'able comfortably',\n",
       " 'able communicate',\n",
       " 'able complete',\n",
       " 'able conduct',\n",
       " 'able confirm',\n",
       " 'able conjure',\n",
       " 'able consider',\n",
       " 'able contain',\n",
       " 'able continue',\n",
       " 'able control',\n",
       " 'able copy',\n",
       " 'able cos',\n",
       " 'able create',\n",
       " 'able deal',\n",
       " 'able decide',\n",
       " 'able deliver',\n",
       " 'able develop',\n",
       " 'able digest',\n",
       " 'able distinguish',\n",
       " 'able dont',\n",
       " 'able download',\n",
       " 'able drift',\n",
       " 'able drink',\n",
       " 'able drive',\n",
       " 'able drop',\n",
       " 'able duck',\n",
       " 'able dukakisize',\n",
       " 'able dunk',\n",
       " 'able eat',\n",
       " 'able elf',\n",
       " 'able empty',\n",
       " 'able end',\n",
       " 'able entertain',\n",
       " 'able establish',\n",
       " 'able every',\n",
       " 'able expose',\n",
       " 'able express',\n",
       " 'able extended',\n",
       " 'able face',\n",
       " 'able fall',\n",
       " 'able fast',\n",
       " 'able feel',\n",
       " 'able female',\n",
       " 'able figure',\n",
       " 'able find',\n",
       " 'able finish',\n",
       " 'able fit',\n",
       " 'able fly',\n",
       " 'able focus',\n",
       " 'able forget',\n",
       " 'able fully',\n",
       " 'able function',\n",
       " 'able gather',\n",
       " 'able generate',\n",
       " 'able get',\n",
       " 'able give',\n",
       " 'able glimpse',\n",
       " 'able go',\n",
       " 'able goof',\n",
       " 'able govern',\n",
       " 'able hammer',\n",
       " 'able handle',\n",
       " 'able hang',\n",
       " 'able hear',\n",
       " 'able help',\n",
       " 'able hit',\n",
       " 'able hold',\n",
       " 'able house',\n",
       " 'able impact',\n",
       " 'able influence',\n",
       " 'able inundate',\n",
       " 'able join',\n",
       " 'able keep',\n",
       " 'able kick',\n",
       " 'able large',\n",
       " 'able laugh',\n",
       " 'able leap',\n",
       " 'able learn',\n",
       " 'able let',\n",
       " 'able liberate',\n",
       " 'able lie',\n",
       " 'able lift',\n",
       " 'able little',\n",
       " 'able live',\n",
       " 'able locate',\n",
       " 'able look',\n",
       " 'able looking',\n",
       " 'able lug',\n",
       " 'able mail',\n",
       " 'able maintain',\n",
       " 'able make',\n",
       " 'able master',\n",
       " 'able meet',\n",
       " 'able mess',\n",
       " 'able mile',\n",
       " 'able mix',\n",
       " 'able move',\n",
       " 'able movie',\n",
       " 'able much',\n",
       " 'able muster',\n",
       " 'able negotiate',\n",
       " 'able occasionally',\n",
       " 'able offer',\n",
       " 'able oh',\n",
       " 'able operate',\n",
       " 'able overcome',\n",
       " 'able paint',\n",
       " 'able participate',\n",
       " 'able perhaps',\n",
       " 'able pick',\n",
       " 'able play',\n",
       " 'able post',\n",
       " 'able prove',\n",
       " 'able pull',\n",
       " 'able put',\n",
       " 'able quickly',\n",
       " 'able reach',\n",
       " 'able react',\n",
       " 'able read',\n",
       " 'able recognise',\n",
       " 'able rectify',\n",
       " 'able reduce',\n",
       " 'able relate',\n",
       " 'able relax',\n",
       " 'able release',\n",
       " 'able replace',\n",
       " 'able replaced',\n",
       " 'able report',\n",
       " 'able resist',\n",
       " 'able reveal',\n",
       " 'able ride',\n",
       " 'able run',\n",
       " 'able salvage',\n",
       " 'able say',\n",
       " 'able see',\n",
       " 'able sell',\n",
       " 'able share',\n",
       " 'able shim',\n",
       " 'able show',\n",
       " 'able shut',\n",
       " 'able sing',\n",
       " 'able sleep',\n",
       " 'able snatch',\n",
       " 'able sneak',\n",
       " 'able soak',\n",
       " 'able someone',\n",
       " 'able speak',\n",
       " 'able spend',\n",
       " 'able stand',\n",
       " 'able start',\n",
       " 'able stay',\n",
       " 'able stick',\n",
       " 'able still',\n",
       " 'able stop',\n",
       " 'able supposed',\n",
       " 'able sure',\n",
       " 'able take',\n",
       " 'able takes',\n",
       " 'able talk',\n",
       " 'able taste',\n",
       " 'able tell',\n",
       " 'able test',\n",
       " 'able things',\n",
       " 'able transfer',\n",
       " 'able travel',\n",
       " 'able turn',\n",
       " 'able type',\n",
       " 'able ugh',\n",
       " 'able update',\n",
       " 'able use',\n",
       " 'able utilize',\n",
       " 'able vote',\n",
       " 'able wake',\n",
       " 'able walk',\n",
       " 'able watch',\n",
       " 'able wax',\n",
       " 'able withstand',\n",
       " 'able work',\n",
       " 'able wrap',\n",
       " 'able write',\n",
       " 'able year',\n",
       " 'able yell',\n",
       " 'ableton',\n",
       " 'ableton live',\n",
       " 'ablity',\n",
       " 'ablity teleport',\n",
       " 'ablum',\n",
       " 'ablum reflection',\n",
       " 'abm',\n",
       " 'abm radars',\n",
       " 'abnormal',\n",
       " 'abnormal screwed',\n",
       " 'abnormal stress',\n",
       " 'abnormally',\n",
       " 'abnormally self',\n",
       " 'aboard',\n",
       " 'aboard another',\n",
       " 'aboard boat',\n",
       " 'aboard plane',\n",
       " 'aboard powerless',\n",
       " 'abodes',\n",
       " 'abodes favorite',\n",
       " 'abolition',\n",
       " 'abolition primary',\n",
       " 'abomination',\n",
       " 'abomination enemies',\n",
       " 'aboot',\n",
       " 'aboot nbsp',\n",
       " 'aboout',\n",
       " 'aboout clarinet',\n",
       " 'abort',\n",
       " 'abort abort',\n",
       " 'abort someone',\n",
       " 'aborted',\n",
       " 'aborted song',\n",
       " 'aborted whatever',\n",
       " 'abortion',\n",
       " 'abortion akin',\n",
       " 'abortion edwards',\n",
       " 'abortion euthanasia',\n",
       " 'abortion issue',\n",
       " 'abortion like',\n",
       " 'abortion matter',\n",
       " 'abortion sex',\n",
       " 'abortion shows',\n",
       " 'abortions',\n",
       " 'abortions we',\n",
       " 'aborts',\n",
       " 'aborts idea',\n",
       " 'abotu',\n",
       " 'abotu kids',\n",
       " 'abou',\n",
       " 'abound',\n",
       " 'abound like',\n",
       " 'abound sites',\n",
       " 'abounds',\n",
       " 'abounds sunshine',\n",
       " 'about',\n",
       " 'about maybe',\n",
       " 'about me',\n",
       " 'about nbsp',\n",
       " 'about third',\n",
       " 'about us',\n",
       " 'aboutinternational',\n",
       " 'aboutinternational relations',\n",
       " 'aboutyou',\n",
       " 'aboutyou whenever',\n",
       " 'above',\n",
       " 'above choice',\n",
       " 'above honest',\n",
       " 'above option',\n",
       " 'abovei',\n",
       " 'abovei close',\n",
       " 'abovementioned',\n",
       " 'abovementioned late',\n",
       " 'aboy',\n",
       " 'aboy blonde',\n",
       " 'abraham',\n",
       " 'abraham lincoln',\n",
       " 'abraham maslow',\n",
       " 'abrams',\n",
       " 'abrams created',\n",
       " 'abrasions',\n",
       " 'abrasions road',\n",
       " 'abrasive',\n",
       " 'abrasive complicated',\n",
       " 'abreast',\n",
       " 'abreast biscomerica',\n",
       " 'abreast current',\n",
       " 'abreast going',\n",
       " 'abridged',\n",
       " 'abridged script',\n",
       " 'abridgement',\n",
       " 'abridgement actual',\n",
       " 'abridgement finished',\n",
       " 'abridgement released',\n",
       " 'abridging',\n",
       " 'abridging freedom',\n",
       " 'abroad',\n",
       " 'abroad attorney',\n",
       " 'abroad falls',\n",
       " 'abroad friends',\n",
       " 'abroad however',\n",
       " 'abroad issue',\n",
       " 'abroad never',\n",
       " 'abroad one',\n",
       " 'abroad position',\n",
       " 'abroad sophomore',\n",
       " 'abroad yes',\n",
       " 'abrupt',\n",
       " 'abrupt lines',\n",
       " 'abruptly',\n",
       " 'abruptly asked',\n",
       " 'abruptly poison',\n",
       " 'abruptly want',\n",
       " 'abs',\n",
       " 'abs love',\n",
       " 'abscess',\n",
       " 'abscess bank',\n",
       " 'absence',\n",
       " 'absence also',\n",
       " 'absence always',\n",
       " 'absence benefit',\n",
       " 'absence defintely',\n",
       " 'absence early',\n",
       " 'absence football',\n",
       " 'absence linked',\n",
       " 'absence makes',\n",
       " 'absence matt',\n",
       " 'absence nbsp',\n",
       " 'absence pits',\n",
       " 'absence regarding',\n",
       " 'absence reproached',\n",
       " 'absence say',\n",
       " 'absence several',\n",
       " 'absence specific',\n",
       " 'absence we',\n",
       " 'absence yet',\n",
       " 'absent',\n",
       " 'absent better',\n",
       " 'absent character',\n",
       " 'absent could',\n",
       " 'absent however',\n",
       " 'absent parent',\n",
       " 'absent survey',\n",
       " 'absent today',\n",
       " 'absent two',\n",
       " 'absent vacuum',\n",
       " 'absented',\n",
       " 'absented sun',\n",
       " 'absentee',\n",
       " 'absentee ballots',\n",
       " 'absentee father',\n",
       " 'absentee votes',\n",
       " 'absentia',\n",
       " 'absentia new',\n",
       " 'absinthe',\n",
       " 'absinthe stay',\n",
       " 'abslolutely',\n",
       " 'abslolutely love',\n",
       " 'abso',\n",
       " 'abso fucking',\n",
       " 'absoluetley',\n",
       " 'absoluetley nothing',\n",
       " 'absolulty',\n",
       " 'absolulty clue',\n",
       " 'absolulty nothing',\n",
       " 'absolulty past',\n",
       " 'absolut',\n",
       " 'absolut ketel',\n",
       " 'absolute',\n",
       " 'absolute applies',\n",
       " 'absolute barrier',\n",
       " 'absolute best',\n",
       " 'absolute blast',\n",
       " 'absolute bliss',\n",
       " 'absolute blockbuster',\n",
       " 'absolute complete',\n",
       " 'absolute crap',\n",
       " 'absolute declarative',\n",
       " 'absolute fabulous',\n",
       " 'absolute fox',\n",
       " 'absolute hell',\n",
       " 'absolute hoot',\n",
       " 'absolute horror',\n",
       " 'absolute idiot',\n",
       " 'absolute last',\n",
       " 'absolute must',\n",
       " 'absolute nightmare',\n",
       " 'absolute pure',\n",
       " 'absolute shite',\n",
       " 'absolute truth',\n",
       " 'absolute whooped',\n",
       " 'absolutely',\n",
       " 'absolutely abhor',\n",
       " 'absolutely adorable',\n",
       " 'absolutely adore',\n",
       " 'absolutely adored',\n",
       " 'absolutely agree',\n",
       " 'absolutely amazing',\n",
       " 'absolutely appalled',\n",
       " 'absolutely attention',\n",
       " 'absolutely beautiful',\n",
       " 'absolutely believe',\n",
       " 'absolutely benefit',\n",
       " 'absolutely blown',\n",
       " 'absolutely breakage',\n",
       " 'absolutely bubbles',\n",
       " 'absolutely cannot',\n",
       " 'absolutely certain',\n",
       " 'absolutely chance',\n",
       " 'absolutely change',\n",
       " 'absolutely clue',\n",
       " 'absolutely common',\n",
       " 'absolutely complex',\n",
       " 'absolutely condescencion',\n",
       " 'absolutely confused',\n",
       " 'absolutely convinced',\n",
       " 'absolutely cool',\n",
       " 'absolutely crazy',\n",
       " 'absolutely delicious',\n",
       " 'absolutely desire',\n",
       " 'absolutely difference',\n",
       " 'absolutely disrespectful',\n",
       " 'absolutely dogged',\n",
       " 'absolutely enormous',\n",
       " 'absolutely everything',\n",
       " 'absolutely excoriated',\n",
       " 'absolutely fabulous',\n",
       " 'absolutely fantastic',\n",
       " 'absolutely feel',\n",
       " 'absolutely feeling',\n",
       " 'absolutely food',\n",
       " 'absolutely forbid',\n",
       " 'absolutely fucking',\n",
       " 'absolutely go',\n",
       " 'absolutely gorgeous',\n",
       " 'absolutely happy',\n",
       " 'absolutely hate',\n",
       " 'absolutely hated',\n",
       " 'absolutely hates',\n",
       " 'absolutely hating',\n",
       " 'absolutely hideous',\n",
       " 'absolutely highlighters',\n",
       " 'absolutely hilarious',\n",
       " 'absolutely horrible',\n",
       " 'absolutely horrifies',\n",
       " 'absolutely huge',\n",
       " 'absolutely idea',\n",
       " 'absolutely impossible',\n",
       " 'absolutely insane',\n",
       " 'absolutely knew',\n",
       " 'absolutely loathe',\n",
       " 'absolutely love',\n",
       " 'absolutely loveable',\n",
       " 'absolutely luck',\n",
       " 'absolutely moving',\n",
       " 'absolutely must',\n",
       " 'absolutely nice',\n",
       " 'absolutely night',\n",
       " 'absolutely non',\n",
       " 'absolutely note',\n",
       " 'absolutely nothing',\n",
       " 'absolutely nuts',\n",
       " 'absolutely obviously',\n",
       " 'absolutely offense',\n",
       " 'absolutely palast',\n",
       " 'absolutely perfect',\n",
       " 'absolutely perfectly',\n",
       " 'absolutely pissed',\n",
       " 'absolutely positive',\n",
       " 'absolutely positively',\n",
       " 'absolutely problem',\n",
       " 'absolutely queezy',\n",
       " 'absolutely radiant',\n",
       " 'absolutely random',\n",
       " 'absolutely reason',\n",
       " 'absolutely refreshing',\n",
       " 'absolutely refuse',\n",
       " 'absolutely refused',\n",
       " 'absolutely relaxing',\n",
       " 'absolutely ridiculous',\n",
       " 'absolutely right',\n",
       " 'absolutely ripped',\n",
       " 'absolutely salute',\n",
       " 'absolutely sense',\n",
       " 'absolutely service',\n",
       " 'absolutely smelly',\n",
       " 'absolutely soaked',\n",
       " 'absolutely soul',\n",
       " 'absolutely spark',\n",
       " 'absolutely splash',\n",
       " 'absolutely stopped',\n",
       " 'absolutely struck',\n",
       " 'absolutely stunning',\n",
       " 'absolutely stupid',\n",
       " 'absolutely sublime',\n",
       " 'absolutely taken',\n",
       " 'absolutely talent',\n",
       " 'absolutely terrified',\n",
       " 'absolutely time',\n",
       " 'absolutely tons',\n",
       " 'absolutely traumatized',\n",
       " 'absolutely true',\n",
       " 'absolutely use',\n",
       " 'absolutely want',\n",
       " 'absolutely women',\n",
       " 'absolutes',\n",
       " 'absolutes accepting',\n",
       " 'absolutes compare',\n",
       " 'absolutes else',\n",
       " 'absolutes entirely',\n",
       " 'absolutes life',\n",
       " 'absolutes none',\n",
       " 'absolutes objective',\n",
       " 'absolutes peace',\n",
       " 'absolutes realize',\n",
       " 'absolutes seems',\n",
       " 'absolutes think',\n",
       " 'absolutes thus',\n",
       " 'absolutes wary',\n",
       " 'absolutes whole',\n",
       " 'absolution',\n",
       " 'absolution couldnt',\n",
       " 'absolution key',\n",
       " 'absolution makes',\n",
       " 'absolution others',\n",
       " 'absolutist',\n",
       " 'absolutist taste',\n",
       " 'absolutistic',\n",
       " 'absolutistic though',\n",
       " 'absolutley',\n",
       " 'absolutley amazing',\n",
       " 'absolutley random',\n",
       " 'absolutly',\n",
       " 'absolutly courage',\n",
       " 'absolutly crazy',\n",
       " 'absolutly dont',\n",
       " 'absolutly love',\n",
       " 'absolutly nothing',\n",
       " 'absolutly pointless',\n",
       " 'absolved',\n",
       " 'absolved responsibility',\n",
       " 'absolving',\n",
       " 'absolving child',\n",
       " 'absolving parents',\n",
       " 'absorb',\n",
       " 'absorb atmosphere',\n",
       " 'absorb co',\n",
       " 'absorb costs',\n",
       " 'absorb could',\n",
       " 'absorb loss',\n",
       " 'absorb much',\n",
       " 'absorb shots',\n",
       " 'absorbed',\n",
       " 'absorbed give',\n",
       " 'absorbed others',\n",
       " 'absorbed personal',\n",
       " 'absorbed problems',\n",
       " 'absorbed self',\n",
       " 'absorbed socialising',\n",
       " 'absorbed spookiness',\n",
       " 'absorbed thoughts',\n",
       " 'absorbed three',\n",
       " 'absorbing',\n",
       " 'absorbing enchanting',\n",
       " 'absorbing fulfilling',\n",
       " 'absorbing panels',\n",
       " 'absorption',\n",
       " 'absorption problem',\n",
       " 'absorption want',\n",
       " 'absoultely',\n",
       " 'absoultely delish',\n",
       " 'absoultely numb',\n",
       " 'absoultly',\n",
       " 'absoultly love',\n",
       " 'absoulutely',\n",
       " 'absoulutely ludicrous',\n",
       " 'abstain',\n",
       " 'abstain go',\n",
       " 'abstain nbsp',\n",
       " 'abstained',\n",
       " 'abstained instead',\n",
       " 'abstinence',\n",
       " 'abstinence hehe',\n",
       " 'abstract',\n",
       " 'abstract art',\n",
       " 'abstract courage',\n",
       " 'abstract proposition',\n",
       " 'abstract thinker',\n",
       " 'abstract true',\n",
       " 'abstraction',\n",
       " 'abstraction wonderful',\n",
       " 'absurd',\n",
       " 'absurd course',\n",
       " 'absurd crushes',\n",
       " 'absurd even',\n",
       " 'absurd explanation',\n",
       " 'absurd think',\n",
       " 'absurdities',\n",
       " 'absurdities like',\n",
       " 'absurdity',\n",
       " 'absurdity hit',\n",
       " 'absurdity whole',\n",
       " 'absurdity world',\n",
       " 'absurdly',\n",
       " 'absurdly juxtaposed',\n",
       " 'abt',\n",
       " 'abt balance',\n",
       " 'abt chess',\n",
       " 'abt cleaniness',\n",
       " 'abt copying',\n",
       " 'abt even',\n",
       " 'abt feelings',\n",
       " 'abt friday',\n",
       " 'abt great',\n",
       " 'abt haiz',\n",
       " 'abt hour',\n",
       " 'abt mums',\n",
       " 'abt plus',\n",
       " 'abt presence',\n",
       " 'abt results',\n",
       " 'abt since',\n",
       " 'abt started',\n",
       " 'abt take',\n",
       " 'abt tear',\n",
       " ...]"
      ]
     },
     "execution_count": 387,
     "metadata": {},
     "output_type": "execute_result"
    }
   ],
   "source": [
    "#Let us see some feature names\n",
    "count_vect.get_feature_names()"
   ]
  },
  {
   "cell_type": "code",
   "execution_count": 388,
   "metadata": {
    "id": "ccBuazo5FotZ"
   },
   "outputs": [],
   "source": [
    "X_train_ctv=count_vect.transform(X_train)"
   ]
  },
  {
   "cell_type": "code",
   "execution_count": 389,
   "metadata": {
    "colab": {
     "base_uri": "https://localhost:8080/"
    },
    "id": "UXSBunURFowE",
    "outputId": "481b65df-7a58-41d2-8950-cf860d34d51a"
   },
   "outputs": [
    {
     "data": {
      "text/plain": [
       "scipy.sparse.csr.csr_matrix"
      ]
     },
     "execution_count": 389,
     "metadata": {},
     "output_type": "execute_result"
    }
   ],
   "source": [
    "type(X_train_ctv)"
   ]
  },
  {
   "cell_type": "code",
   "execution_count": 390,
   "metadata": {
    "colab": {
     "base_uri": "https://localhost:8080/"
    },
    "id": "jteIYjBTFoy3",
    "outputId": "28acaa34-d66d-4204-ebaa-b12d3d8705c1"
   },
   "outputs": [
    {
     "data": {
      "text/plain": [
       "<7732x480759 sparse matrix of type '<class 'numpy.int64'>'\n",
       "\twith 1044888 stored elements in Compressed Sparse Row format>"
      ]
     },
     "execution_count": 390,
     "metadata": {},
     "output_type": "execute_result"
    }
   ],
   "source": [
    "X_train_ctv"
   ]
  },
  {
   "cell_type": "code",
   "execution_count": 391,
   "metadata": {
    "colab": {
     "base_uri": "https://localhost:8080/"
    },
    "id": "ZLQ_8ScfFo2c",
    "outputId": "4d037899-8c05-4e17-ddbc-9bd58d9e8178"
   },
   "outputs": [
    {
     "data": {
      "text/plain": [
       "<1x480759 sparse matrix of type '<class 'numpy.int64'>'\n",
       "\twith 66 stored elements in Compressed Sparse Row format>"
      ]
     },
     "execution_count": 391,
     "metadata": {},
     "output_type": "execute_result"
    }
   ],
   "source": [
    "X_train_ctv[0]"
   ]
  },
  {
   "cell_type": "code",
   "execution_count": 392,
   "metadata": {
    "id": "ahhUTvsAGOeM"
   },
   "outputs": [],
   "source": [
    "X_test_ctv=count_vect.transform(X_test)"
   ]
  },
  {
   "cell_type": "code",
   "execution_count": 393,
   "metadata": {
    "colab": {
     "base_uri": "https://localhost:8080/"
    },
    "id": "dONpj6QXGOgt",
    "outputId": "1b92047e-38bd-4bb4-eaee-4aa12f4260c4"
   },
   "outputs": [
    {
     "data": {
      "text/plain": [
       "<1934x480759 sparse matrix of type '<class 'numpy.int64'>'\n",
       "\twith 162811 stored elements in Compressed Sparse Row format>"
      ]
     },
     "execution_count": 393,
     "metadata": {},
     "output_type": "execute_result"
    }
   ],
   "source": [
    "X_test_ctv"
   ]
  },
  {
   "cell_type": "code",
   "execution_count": 394,
   "metadata": {
    "colab": {
     "base_uri": "https://localhost:8080/"
    },
    "id": "3HXCGMP-GOjH",
    "outputId": "d5e6b0e4-2f3b-4fc2-bb0e-b8b435f999af"
   },
   "outputs": [
    {
     "data": {
      "text/plain": [
       "['__',\n",
       " '__ ___',\n",
       " '__ also',\n",
       " '__ bit',\n",
       " '__ classes',\n",
       " '__ congrats',\n",
       " '__ english',\n",
       " '__ geo',\n",
       " '__ give',\n",
       " '__ ll']"
      ]
     },
     "execution_count": 394,
     "metadata": {},
     "output_type": "execute_result"
    }
   ],
   "source": [
    "count_vect.get_feature_names()[:10]"
   ]
  },
  {
   "cell_type": "code",
   "execution_count": 395,
   "metadata": {
    "colab": {
     "base_uri": "https://localhost:8080/"
    },
    "id": "-L2h-6z4GOmg",
    "outputId": "3dca149a-58a5-4680-823c-7af6e7bed966"
   },
   "outputs": [
    {
     "name": "stdout",
     "output_type": "stream",
     "text": [
      "  (0, 27631)\t2\n",
      "  (0, 27680)\t1\n",
      "  (0, 27717)\t1\n",
      "  (0, 51318)\t1\n",
      "  (0, 51373)\t1\n",
      "  (0, 91489)\t1\n",
      "  (0, 91537)\t1\n",
      "  (0, 94374)\t1\n",
      "  (0, 94555)\t1\n",
      "  (0, 96125)\t1\n",
      "  (0, 96126)\t1\n",
      "  (0, 140470)\t1\n",
      "  (0, 140580)\t1\n",
      "  (0, 159211)\t1\n",
      "  (0, 160460)\t1\n",
      "  (0, 168200)\t1\n",
      "  (0, 168384)\t1\n",
      "  (0, 169672)\t1\n",
      "  (0, 170493)\t1\n",
      "  (0, 180311)\t1\n",
      "  (0, 180439)\t1\n",
      "  (0, 180593)\t1\n",
      "  (0, 180673)\t1\n",
      "  (0, 182659)\t1\n",
      "  (0, 182698)\t1\n",
      "  :\t:\n",
      "  (7731, 414119)\t1\n",
      "  (7731, 415508)\t1\n",
      "  (7731, 416162)\t1\n",
      "  (7731, 441208)\t1\n",
      "  (7731, 441210)\t1\n",
      "  (7731, 448055)\t4\n",
      "  (7731, 448058)\t1\n",
      "  (7731, 448062)\t1\n",
      "  (7731, 448073)\t1\n",
      "  (7731, 448082)\t1\n",
      "  (7731, 455428)\t1\n",
      "  (7731, 455573)\t1\n",
      "  (7731, 456166)\t2\n",
      "  (7731, 456173)\t1\n",
      "  (7731, 456178)\t1\n",
      "  (7731, 462413)\t1\n",
      "  (7731, 462414)\t1\n",
      "  (7731, 468762)\t1\n",
      "  (7731, 468763)\t1\n",
      "  (7731, 472247)\t1\n",
      "  (7731, 472248)\t1\n",
      "  (7731, 472302)\t1\n",
      "  (7731, 472560)\t1\n",
      "  (7731, 476312)\t1\n",
      "  (7731, 476590)\t1\n"
     ]
    }
   ],
   "source": [
    "print(X_train_ctv)"
   ]
  },
  {
   "cell_type": "code",
   "execution_count": 396,
   "metadata": {
    "colab": {
     "base_uri": "https://localhost:8080/"
    },
    "id": "vTcUQmRnGqM3",
    "outputId": "92aff1f6-e4f5-4215-dac9-54eb4e54b00d"
   },
   "outputs": [
    {
     "name": "stdout",
     "output_type": "stream",
     "text": [
      "  (0, 85159)\t1\n",
      "  (0, 116843)\t1\n",
      "  (0, 159211)\t1\n",
      "  (0, 159852)\t1\n",
      "  (0, 176395)\t1\n",
      "  (0, 202972)\t1\n",
      "  (0, 309257)\t1\n",
      "  (0, 318355)\t1\n",
      "  (0, 318432)\t1\n",
      "  (0, 359190)\t1\n",
      "  (0, 384321)\t1\n",
      "  (0, 384422)\t1\n",
      "  (0, 425249)\t1\n",
      "  (1, 28304)\t1\n",
      "  (1, 39209)\t1\n",
      "  (1, 39467)\t1\n",
      "  (1, 43233)\t1\n",
      "  (1, 51726)\t1\n",
      "  (1, 62267)\t1\n",
      "  (1, 126566)\t1\n",
      "  (1, 148486)\t1\n",
      "  (1, 154724)\t1\n",
      "  (1, 155106)\t1\n",
      "  (1, 159211)\t1\n",
      "  (1, 159300)\t1\n",
      "  :\t:\n",
      "  (1933, 358409)\t1\n",
      "  (1933, 360714)\t1\n",
      "  (1933, 361790)\t1\n",
      "  (1933, 375864)\t1\n",
      "  (1933, 385004)\t1\n",
      "  (1933, 392880)\t1\n",
      "  (1933, 414472)\t1\n",
      "  (1933, 422535)\t1\n",
      "  (1933, 423421)\t1\n",
      "  (1933, 442162)\t6\n",
      "  (1933, 442225)\t1\n",
      "  (1933, 442533)\t1\n",
      "  (1933, 443216)\t1\n",
      "  (1933, 443776)\t1\n",
      "  (1933, 443977)\t1\n",
      "  (1933, 451306)\t1\n",
      "  (1933, 451492)\t1\n",
      "  (1933, 464366)\t1\n",
      "  (1933, 468874)\t1\n",
      "  (1933, 470964)\t2\n",
      "  (1933, 471009)\t1\n",
      "  (1933, 471534)\t1\n",
      "  (1933, 472302)\t1\n",
      "  (1933, 473092)\t1\n",
      "  (1933, 476668)\t1\n"
     ]
    }
   ],
   "source": [
    "print(X_test_ctv)"
   ]
  },
  {
   "cell_type": "code",
   "execution_count": 397,
   "metadata": {
    "colab": {
     "base_uri": "https://localhost:8080/"
    },
    "id": "pepxepDeD77y",
    "outputId": "b956397e-31a7-478a-963d-6d6a3cfa5db1"
   },
   "outputs": [
    {
     "data": {
      "text/plain": [
       "{'-': 269,\n",
       " 'A': 57,\n",
       " 'B': 146,\n",
       " 'C': 117,\n",
       " 'E': 343,\n",
       " 'F': 1622,\n",
       " 'H': 2,\n",
       " 'I': 165,\n",
       " 'L': 35,\n",
       " 'M': 253,\n",
       " 'N': 69,\n",
       " 'P': 73,\n",
       " 'R': 89,\n",
       " 'S': 1280,\n",
       " 'T': 2620,\n",
       " 'U': 3208,\n",
       " 'a': 2351,\n",
       " 'b': 19,\n",
       " 'c': 3218,\n",
       " 'd': 4576,\n",
       " 'e': 5081,\n",
       " 'f': 78,\n",
       " 'g': 3105,\n",
       " 'h': 4244,\n",
       " 'i': 6248,\n",
       " 'k': 3414,\n",
       " 'l': 2652,\n",
       " 'm': 289,\n",
       " 'n': 13453,\n",
       " 'o': 7631,\n",
       " 'p': 79,\n",
       " 'r': 776,\n",
       " 's': 2290,\n",
       " 't': 3236,\n",
       " 'u': 1534,\n",
       " 'v': 146,\n",
       " 'w': 20,\n",
       " 'y': 2627}"
      ]
     },
     "execution_count": 397,
     "metadata": {},
     "output_type": "execute_result"
    }
   ],
   "source": [
    "label_counts=dict()\n",
    " \n",
    "for labels in new_df.topic.values:\n",
    "    for label in labels:\n",
    "        if label in label_counts:\n",
    "           label_counts[str(label)]+=1\n",
    "        else:\n",
    "           label_counts[str(label)]=1\n",
    "\n",
    "label_counts"
   ]
  },
  {
   "cell_type": "code",
   "execution_count": 398,
   "metadata": {
    "id": "L9fTtieSGqQU"
   },
   "outputs": [],
   "source": [
    "from sklearn.preprocessing import MultiLabelBinarizer\n",
    "binarizer=MultiLabelBinarizer(classes=sorted(label_counts.keys()))"
   ]
  },
  {
   "cell_type": "code",
   "execution_count": 399,
   "metadata": {
    "id": "Q59tu3ShG_Vw"
   },
   "outputs": [],
   "source": [
    "y_train=binarizer.fit_transform(y_train)\n",
    "#y_train=binarizer.fit_transform(df_digi.topic)"
   ]
  },
  {
   "cell_type": "code",
   "execution_count": 400,
   "metadata": {
    "id": "Vq97KZ_RG_YR"
   },
   "outputs": [],
   "source": [
    "y_test=binarizer.transform(y_test)"
   ]
  },
  {
   "cell_type": "code",
   "execution_count": 401,
   "metadata": {
    "colab": {
     "base_uri": "https://localhost:8080/"
    },
    "id": "emhcSO3DIDUj",
    "outputId": "2c9b141b-12f0-4aa8-c5ed-14a5d9e20812"
   },
   "outputs": [
    {
     "data": {
      "text/plain": [
       "array([[0, 0, 0, ..., 0, 0, 0],\n",
       "       [0, 0, 0, ..., 0, 0, 0],\n",
       "       [0, 0, 0, ..., 0, 0, 0],\n",
       "       ...,\n",
       "       [0, 0, 0, ..., 0, 0, 0],\n",
       "       [0, 0, 0, ..., 0, 0, 0],\n",
       "       [0, 0, 0, ..., 0, 0, 0]])"
      ]
     },
     "execution_count": 401,
     "metadata": {},
     "output_type": "execute_result"
    }
   ],
   "source": [
    "y_test"
   ]
  },
  {
   "cell_type": "code",
   "execution_count": 402,
   "metadata": {
    "colab": {
     "base_uri": "https://localhost:8080/"
    },
    "id": "VoV3ZJfCG_b2",
    "outputId": "5abbe8dd-32cc-4ccc-ad7e-a56182db7388"
   },
   "outputs": [
    {
     "data": {
      "text/plain": [
       "array([[0, 0, 0, ..., 0, 0, 0],\n",
       "       [0, 0, 0, ..., 0, 0, 0],\n",
       "       [0, 0, 0, ..., 0, 0, 0],\n",
       "       ...,\n",
       "       [0, 0, 0, ..., 0, 0, 0],\n",
       "       [0, 0, 0, ..., 0, 0, 0],\n",
       "       [0, 0, 0, ..., 0, 0, 0]])"
      ]
     },
     "execution_count": 402,
     "metadata": {},
     "output_type": "execute_result"
    }
   ],
   "source": [
    "y_train"
   ]
  },
  {
   "cell_type": "code",
   "execution_count": 404,
   "metadata": {
    "colab": {
     "base_uri": "https://localhost:8080/"
    },
    "id": "zblJcQfgHJqW",
    "outputId": "6f296dc2-3048-4c91-af71-fa1f1bfa985a"
   },
   "outputs": [
    {
     "data": {
      "text/plain": [
       "OneVsRestClassifier(estimator=LogisticRegression())"
      ]
     },
     "execution_count": 404,
     "metadata": {},
     "output_type": "execute_result"
    }
   ],
   "source": [
    "from sklearn.multiclass import OneVsRestClassifier\n",
    "from sklearn.linear_model import LogisticRegression\n",
    "model=LogisticRegression(solver='lbfgs',max_iter=100)\n",
    "model=OneVsRestClassifier(model)\n",
    "model.fit(X_train_ctv,y_train)"
   ]
  },
  {
   "cell_type": "code",
   "execution_count": 405,
   "metadata": {
    "id": "9OYvbWLZHxIC"
   },
   "outputs": [],
   "source": [
    "y_pred=model.predict(X_test_ctv)"
   ]
  },
  {
   "cell_type": "code",
   "execution_count": 406,
   "metadata": {
    "colab": {
     "base_uri": "https://localhost:8080/"
    },
    "id": "V-kw4iL7H3Ly",
    "outputId": "a8c46672-a519-4096-8443-43bdc27991e2"
   },
   "outputs": [
    {
     "data": {
      "text/plain": [
       "array([[0, 0, 0, ..., 0, 0, 0],\n",
       "       [0, 0, 0, ..., 0, 0, 0],\n",
       "       [0, 0, 0, ..., 0, 0, 0],\n",
       "       ...,\n",
       "       [0, 0, 0, ..., 0, 0, 0],\n",
       "       [0, 0, 0, ..., 0, 0, 0],\n",
       "       [0, 0, 0, ..., 0, 0, 0]])"
      ]
     },
     "execution_count": 406,
     "metadata": {},
     "output_type": "execute_result"
    }
   ],
   "source": [
    "y_pred"
   ]
  },
  {
   "cell_type": "code",
   "execution_count": 407,
   "metadata": {
    "colab": {
     "base_uri": "https://localhost:8080/"
    },
    "id": "z4QBjisGH3OD",
    "outputId": "81977979-78d4-4267-aab4-c672b8bf5b26"
   },
   "outputs": [
    {
     "data": {
      "text/plain": [
       "array([[0, 0, 0, ..., 0, 0, 0],\n",
       "       [0, 0, 0, ..., 0, 0, 0],\n",
       "       [0, 0, 0, ..., 0, 0, 0],\n",
       "       ...,\n",
       "       [0, 0, 0, ..., 0, 0, 0],\n",
       "       [0, 0, 0, ..., 0, 0, 0],\n",
       "       [0, 0, 0, ..., 0, 0, 0]])"
      ]
     },
     "execution_count": 407,
     "metadata": {},
     "output_type": "execute_result"
    }
   ],
   "source": [
    "y_test"
   ]
  },
  {
   "cell_type": "code",
   "execution_count": 413,
   "metadata": {
    "id": "Yf9S2zvfH3Rf"
   },
   "outputs": [],
   "source": [
    "from sklearn.metrics import accuracy_score,average_precision_score,f1_score,recall_score,roc_auc_score\n",
    "#from sklearn.metrics import roc_auc_score\n",
    "\n",
    "def print_perfo_metrics(y_test,y_pred):\n",
    "    acc_score_NB=accuracy_score(y_test,y_pred)\n",
    "    print('Accuracy Score :',acc_score_NB)\n",
    "    prec_score_NB=average_precision_score(y_test,y_pred,average='micro')\n",
    "    print('Precision Score :',prec_score_NB)\n",
    "    f1_score_NB=f1_score(y_test,y_pred,average='micro')\n",
    "    print('f1 Score :',f1_score_NB)\n",
    "    reca_score_NB=recall_score(y_test,y_pred,average='micro')\n",
    "    print('Recall Score :',reca_score_NB)\n",
    "    #ROC_AUC_score_NB=roc_auc_score(y_test,y_pred)\n",
    "    #print('ROC-AUC Score'.format(ROC_AUC_score_NB))"
   ]
  },
  {
   "cell_type": "code",
   "execution_count": 414,
   "metadata": {
    "colab": {
     "base_uri": "https://localhost:8080/"
    },
    "id": "YLmMxUEfIJZ2",
    "outputId": "3dded646-39a6-49ed-ac32-5b170c429f2a"
   },
   "outputs": [
    {
     "name": "stdout",
     "output_type": "stream",
     "text": [
      "Accuracy Score : 1.0\n",
      "Precision Score : nan\n",
      "f1 Score : 0.0\n",
      "Recall Score : 0.0\n"
     ]
    }
   ],
   "source": [
    "print_perfo_metrics(y_test,y_pred)"
   ]
  },
  {
   "cell_type": "code",
   "execution_count": null,
   "metadata": {
    "id": "9IXmPjNNIJco"
   },
   "outputs": [],
   "source": [
    ""
   ]
  },
  {
   "cell_type": "code",
   "execution_count": null,
   "metadata": {
    "id": "QG0bPJ10IJfR"
   },
   "outputs": [],
   "source": [
    ""
   ]
  },
  {
   "cell_type": "code",
   "execution_count": null,
   "metadata": {
    "id": "K7oSOWtwIJh3"
   },
   "outputs": [],
   "source": [
    ""
   ]
  },
  {
   "cell_type": "code",
   "execution_count": null,
   "metadata": {
    "id": "ypUJ2XL1IJlY"
   },
   "outputs": [],
   "source": [
    ""
   ]
  },
  {
   "cell_type": "markdown",
   "metadata": {
    "id": "tfhMi6mKIKd7"
   },
   "source": [
    "THe END##########################################################################"
   ]
  },
  {
   "cell_type": "code",
   "execution_count": null,
   "metadata": {
    "id": "8_VnlF4jH_0o"
   },
   "outputs": [],
   "source": [
    ""
   ]
  },
  {
   "cell_type": "code",
   "execution_count": null,
   "metadata": {
    "id": "ZIUIQtjOH_4A"
   },
   "outputs": [],
   "source": [
    ""
   ]
  },
  {
   "cell_type": "code",
   "execution_count": 377,
   "metadata": {
    "colab": {
     "base_uri": "https://localhost:8080/",
     "height": 380
    },
    "id": "5jAGIlig6ZN3",
    "outputId": "7937682f-b94a-4014-9486-504bac356073"
   },
   "outputs": [
    {
     "ename": "ValueError",
     "evalue": "ignored",
     "output_type": "error",
     "traceback": [
      "\u001b[0;31m---------------------------------------------------------------------------\u001b[0m",
      "\u001b[0;31mValueError\u001b[0m                                Traceback (most recent call last)",
      "\u001b[0;32m<ipython-input-377-0b1bde2134fd>\u001b[0m in \u001b[0;36m<module>\u001b[0;34m()\u001b[0m\n\u001b[1;32m      2\u001b[0m \u001b[0;32mfrom\u001b[0m \u001b[0msklearn\u001b[0m\u001b[0;34m.\u001b[0m\u001b[0mmetrics\u001b[0m \u001b[0;32mimport\u001b[0m \u001b[0maccuracy_score\u001b[0m\u001b[0;34m\u001b[0m\u001b[0;34m\u001b[0m\u001b[0m\n\u001b[1;32m      3\u001b[0m \u001b[0mclf\u001b[0m \u001b[0;34m=\u001b[0m \u001b[0mBernoulliNB\u001b[0m\u001b[0;34m(\u001b[0m\u001b[0;34m)\u001b[0m\u001b[0;34m\u001b[0m\u001b[0;34m\u001b[0m\u001b[0m\n\u001b[0;32m----> 4\u001b[0;31m \u001b[0mclf\u001b[0m\u001b[0;34m.\u001b[0m\u001b[0mfit\u001b[0m\u001b[0;34m(\u001b[0m\u001b[0mX_train_ctv\u001b[0m\u001b[0;34m,\u001b[0m \u001b[0my_train\u001b[0m\u001b[0;34m)\u001b[0m\u001b[0;34m\u001b[0m\u001b[0;34m\u001b[0m\u001b[0m\n\u001b[0m\u001b[1;32m      5\u001b[0m \u001b[0mpred\u001b[0m \u001b[0;34m=\u001b[0m \u001b[0mclf\u001b[0m\u001b[0;34m.\u001b[0m\u001b[0mpredict\u001b[0m\u001b[0;34m(\u001b[0m\u001b[0mX_test_ctv\u001b[0m\u001b[0;34m)\u001b[0m\u001b[0;34m\u001b[0m\u001b[0;34m\u001b[0m\u001b[0m\n\u001b[1;32m      6\u001b[0m \u001b[0mprint\u001b[0m\u001b[0;34m(\u001b[0m\u001b[0maccuracy_score\u001b[0m\u001b[0;34m(\u001b[0m\u001b[0my_test\u001b[0m\u001b[0;34m,\u001b[0m \u001b[0mpred\u001b[0m\u001b[0;34m)\u001b[0m\u001b[0;34m)\u001b[0m\u001b[0;34m\u001b[0m\u001b[0;34m\u001b[0m\u001b[0m\n",
      "\u001b[0;32m/usr/local/lib/python3.7/dist-packages/sklearn/naive_bayes.py\u001b[0m in \u001b[0;36mfit\u001b[0;34m(self, X, y, sample_weight)\u001b[0m\n\u001b[1;32m    661\u001b[0m             \u001b[0mReturns\u001b[0m \u001b[0mthe\u001b[0m \u001b[0minstance\u001b[0m \u001b[0mitself\u001b[0m\u001b[0;34m.\u001b[0m\u001b[0;34m\u001b[0m\u001b[0;34m\u001b[0m\u001b[0m\n\u001b[1;32m    662\u001b[0m         \"\"\"\n\u001b[0;32m--> 663\u001b[0;31m         \u001b[0mX\u001b[0m\u001b[0;34m,\u001b[0m \u001b[0my\u001b[0m \u001b[0;34m=\u001b[0m \u001b[0mself\u001b[0m\u001b[0;34m.\u001b[0m\u001b[0m_check_X_y\u001b[0m\u001b[0;34m(\u001b[0m\u001b[0mX\u001b[0m\u001b[0;34m,\u001b[0m \u001b[0my\u001b[0m\u001b[0;34m)\u001b[0m\u001b[0;34m\u001b[0m\u001b[0;34m\u001b[0m\u001b[0m\n\u001b[0m\u001b[1;32m    664\u001b[0m         \u001b[0m_\u001b[0m\u001b[0;34m,\u001b[0m \u001b[0mn_features\u001b[0m \u001b[0;34m=\u001b[0m \u001b[0mX\u001b[0m\u001b[0;34m.\u001b[0m\u001b[0mshape\u001b[0m\u001b[0;34m\u001b[0m\u001b[0;34m\u001b[0m\u001b[0m\n\u001b[1;32m    665\u001b[0m \u001b[0;34m\u001b[0m\u001b[0m\n",
      "\u001b[0;32m/usr/local/lib/python3.7/dist-packages/sklearn/naive_bayes.py\u001b[0m in \u001b[0;36m_check_X_y\u001b[0;34m(self, X, y, reset)\u001b[0m\n\u001b[1;32m   1151\u001b[0m \u001b[0;34m\u001b[0m\u001b[0m\n\u001b[1;32m   1152\u001b[0m     \u001b[0;32mdef\u001b[0m \u001b[0m_check_X_y\u001b[0m\u001b[0;34m(\u001b[0m\u001b[0mself\u001b[0m\u001b[0;34m,\u001b[0m \u001b[0mX\u001b[0m\u001b[0;34m,\u001b[0m \u001b[0my\u001b[0m\u001b[0;34m,\u001b[0m \u001b[0mreset\u001b[0m\u001b[0;34m=\u001b[0m\u001b[0;32mTrue\u001b[0m\u001b[0;34m)\u001b[0m\u001b[0;34m:\u001b[0m\u001b[0;34m\u001b[0m\u001b[0;34m\u001b[0m\u001b[0m\n\u001b[0;32m-> 1153\u001b[0;31m         \u001b[0mX\u001b[0m\u001b[0;34m,\u001b[0m \u001b[0my\u001b[0m \u001b[0;34m=\u001b[0m \u001b[0msuper\u001b[0m\u001b[0;34m(\u001b[0m\u001b[0;34m)\u001b[0m\u001b[0;34m.\u001b[0m\u001b[0m_check_X_y\u001b[0m\u001b[0;34m(\u001b[0m\u001b[0mX\u001b[0m\u001b[0;34m,\u001b[0m \u001b[0my\u001b[0m\u001b[0;34m,\u001b[0m \u001b[0mreset\u001b[0m\u001b[0;34m=\u001b[0m\u001b[0mreset\u001b[0m\u001b[0;34m)\u001b[0m\u001b[0;34m\u001b[0m\u001b[0;34m\u001b[0m\u001b[0m\n\u001b[0m\u001b[1;32m   1154\u001b[0m         \u001b[0;32mif\u001b[0m \u001b[0mself\u001b[0m\u001b[0;34m.\u001b[0m\u001b[0mbinarize\u001b[0m \u001b[0;32mis\u001b[0m \u001b[0;32mnot\u001b[0m \u001b[0;32mNone\u001b[0m\u001b[0;34m:\u001b[0m\u001b[0;34m\u001b[0m\u001b[0;34m\u001b[0m\u001b[0m\n\u001b[1;32m   1155\u001b[0m             \u001b[0mX\u001b[0m \u001b[0;34m=\u001b[0m \u001b[0mbinarize\u001b[0m\u001b[0;34m(\u001b[0m\u001b[0mX\u001b[0m\u001b[0;34m,\u001b[0m \u001b[0mthreshold\u001b[0m\u001b[0;34m=\u001b[0m\u001b[0mself\u001b[0m\u001b[0;34m.\u001b[0m\u001b[0mbinarize\u001b[0m\u001b[0;34m)\u001b[0m\u001b[0;34m\u001b[0m\u001b[0;34m\u001b[0m\u001b[0m\n",
      "\u001b[0;32m/usr/local/lib/python3.7/dist-packages/sklearn/naive_bayes.py\u001b[0m in \u001b[0;36m_check_X_y\u001b[0;34m(self, X, y, reset)\u001b[0m\n\u001b[1;32m    521\u001b[0m     \u001b[0;32mdef\u001b[0m \u001b[0m_check_X_y\u001b[0m\u001b[0;34m(\u001b[0m\u001b[0mself\u001b[0m\u001b[0;34m,\u001b[0m \u001b[0mX\u001b[0m\u001b[0;34m,\u001b[0m \u001b[0my\u001b[0m\u001b[0;34m,\u001b[0m \u001b[0mreset\u001b[0m\u001b[0;34m=\u001b[0m\u001b[0;32mTrue\u001b[0m\u001b[0;34m)\u001b[0m\u001b[0;34m:\u001b[0m\u001b[0;34m\u001b[0m\u001b[0;34m\u001b[0m\u001b[0m\n\u001b[1;32m    522\u001b[0m         \u001b[0;34m\"\"\"Validate X and y in fit methods.\"\"\"\u001b[0m\u001b[0;34m\u001b[0m\u001b[0;34m\u001b[0m\u001b[0m\n\u001b[0;32m--> 523\u001b[0;31m         \u001b[0;32mreturn\u001b[0m \u001b[0mself\u001b[0m\u001b[0;34m.\u001b[0m\u001b[0m_validate_data\u001b[0m\u001b[0;34m(\u001b[0m\u001b[0mX\u001b[0m\u001b[0;34m,\u001b[0m \u001b[0my\u001b[0m\u001b[0;34m,\u001b[0m \u001b[0maccept_sparse\u001b[0m\u001b[0;34m=\u001b[0m\u001b[0;34m\"csr\"\u001b[0m\u001b[0;34m,\u001b[0m \u001b[0mreset\u001b[0m\u001b[0;34m=\u001b[0m\u001b[0mreset\u001b[0m\u001b[0;34m)\u001b[0m\u001b[0;34m\u001b[0m\u001b[0;34m\u001b[0m\u001b[0m\n\u001b[0m\u001b[1;32m    524\u001b[0m \u001b[0;34m\u001b[0m\u001b[0m\n\u001b[1;32m    525\u001b[0m     \u001b[0;32mdef\u001b[0m \u001b[0m_update_class_log_prior\u001b[0m\u001b[0;34m(\u001b[0m\u001b[0mself\u001b[0m\u001b[0;34m,\u001b[0m \u001b[0mclass_prior\u001b[0m\u001b[0;34m=\u001b[0m\u001b[0;32mNone\u001b[0m\u001b[0;34m)\u001b[0m\u001b[0;34m:\u001b[0m\u001b[0;34m\u001b[0m\u001b[0;34m\u001b[0m\u001b[0m\n",
      "\u001b[0;32m/usr/local/lib/python3.7/dist-packages/sklearn/base.py\u001b[0m in \u001b[0;36m_validate_data\u001b[0;34m(self, X, y, reset, validate_separately, **check_params)\u001b[0m\n\u001b[1;32m    579\u001b[0m                 \u001b[0my\u001b[0m \u001b[0;34m=\u001b[0m \u001b[0mcheck_array\u001b[0m\u001b[0;34m(\u001b[0m\u001b[0my\u001b[0m\u001b[0;34m,\u001b[0m \u001b[0;34m**\u001b[0m\u001b[0mcheck_y_params\u001b[0m\u001b[0;34m)\u001b[0m\u001b[0;34m\u001b[0m\u001b[0;34m\u001b[0m\u001b[0m\n\u001b[1;32m    580\u001b[0m             \u001b[0;32melse\u001b[0m\u001b[0;34m:\u001b[0m\u001b[0;34m\u001b[0m\u001b[0;34m\u001b[0m\u001b[0m\n\u001b[0;32m--> 581\u001b[0;31m                 \u001b[0mX\u001b[0m\u001b[0;34m,\u001b[0m \u001b[0my\u001b[0m \u001b[0;34m=\u001b[0m \u001b[0mcheck_X_y\u001b[0m\u001b[0;34m(\u001b[0m\u001b[0mX\u001b[0m\u001b[0;34m,\u001b[0m \u001b[0my\u001b[0m\u001b[0;34m,\u001b[0m \u001b[0;34m**\u001b[0m\u001b[0mcheck_params\u001b[0m\u001b[0;34m)\u001b[0m\u001b[0;34m\u001b[0m\u001b[0;34m\u001b[0m\u001b[0m\n\u001b[0m\u001b[1;32m    582\u001b[0m             \u001b[0mout\u001b[0m \u001b[0;34m=\u001b[0m \u001b[0mX\u001b[0m\u001b[0;34m,\u001b[0m \u001b[0my\u001b[0m\u001b[0;34m\u001b[0m\u001b[0;34m\u001b[0m\u001b[0m\n\u001b[1;32m    583\u001b[0m \u001b[0;34m\u001b[0m\u001b[0m\n",
      "\u001b[0;32m/usr/local/lib/python3.7/dist-packages/sklearn/utils/validation.py\u001b[0m in \u001b[0;36mcheck_X_y\u001b[0;34m(X, y, accept_sparse, accept_large_sparse, dtype, order, copy, force_all_finite, ensure_2d, allow_nd, multi_output, ensure_min_samples, ensure_min_features, y_numeric, estimator)\u001b[0m\n\u001b[1;32m    977\u001b[0m     )\n\u001b[1;32m    978\u001b[0m \u001b[0;34m\u001b[0m\u001b[0m\n\u001b[0;32m--> 979\u001b[0;31m     \u001b[0my\u001b[0m \u001b[0;34m=\u001b[0m \u001b[0m_check_y\u001b[0m\u001b[0;34m(\u001b[0m\u001b[0my\u001b[0m\u001b[0;34m,\u001b[0m \u001b[0mmulti_output\u001b[0m\u001b[0;34m=\u001b[0m\u001b[0mmulti_output\u001b[0m\u001b[0;34m,\u001b[0m \u001b[0my_numeric\u001b[0m\u001b[0;34m=\u001b[0m\u001b[0my_numeric\u001b[0m\u001b[0;34m)\u001b[0m\u001b[0;34m\u001b[0m\u001b[0;34m\u001b[0m\u001b[0m\n\u001b[0m\u001b[1;32m    980\u001b[0m \u001b[0;34m\u001b[0m\u001b[0m\n\u001b[1;32m    981\u001b[0m     \u001b[0mcheck_consistent_length\u001b[0m\u001b[0;34m(\u001b[0m\u001b[0mX\u001b[0m\u001b[0;34m,\u001b[0m \u001b[0my\u001b[0m\u001b[0;34m)\u001b[0m\u001b[0;34m\u001b[0m\u001b[0;34m\u001b[0m\u001b[0m\n",
      "\u001b[0;32m/usr/local/lib/python3.7/dist-packages/sklearn/utils/validation.py\u001b[0m in \u001b[0;36m_check_y\u001b[0;34m(y, multi_output, y_numeric)\u001b[0m\n\u001b[1;32m    991\u001b[0m         )\n\u001b[1;32m    992\u001b[0m     \u001b[0;32melse\u001b[0m\u001b[0;34m:\u001b[0m\u001b[0;34m\u001b[0m\u001b[0;34m\u001b[0m\u001b[0m\n\u001b[0;32m--> 993\u001b[0;31m         \u001b[0my\u001b[0m \u001b[0;34m=\u001b[0m \u001b[0mcolumn_or_1d\u001b[0m\u001b[0;34m(\u001b[0m\u001b[0my\u001b[0m\u001b[0;34m,\u001b[0m \u001b[0mwarn\u001b[0m\u001b[0;34m=\u001b[0m\u001b[0;32mTrue\u001b[0m\u001b[0;34m)\u001b[0m\u001b[0;34m\u001b[0m\u001b[0;34m\u001b[0m\u001b[0m\n\u001b[0m\u001b[1;32m    994\u001b[0m         \u001b[0m_assert_all_finite\u001b[0m\u001b[0;34m(\u001b[0m\u001b[0my\u001b[0m\u001b[0;34m)\u001b[0m\u001b[0;34m\u001b[0m\u001b[0;34m\u001b[0m\u001b[0m\n\u001b[1;32m    995\u001b[0m         \u001b[0m_ensure_no_complex_data\u001b[0m\u001b[0;34m(\u001b[0m\u001b[0my\u001b[0m\u001b[0;34m)\u001b[0m\u001b[0;34m\u001b[0m\u001b[0;34m\u001b[0m\u001b[0m\n",
      "\u001b[0;32m/usr/local/lib/python3.7/dist-packages/sklearn/utils/validation.py\u001b[0m in \u001b[0;36mcolumn_or_1d\u001b[0;34m(y, warn)\u001b[0m\n\u001b[1;32m   1037\u001b[0m \u001b[0;34m\u001b[0m\u001b[0m\n\u001b[1;32m   1038\u001b[0m     raise ValueError(\n\u001b[0;32m-> 1039\u001b[0;31m         \u001b[0;34m\"y should be a 1d array, got an array of shape {} instead.\"\u001b[0m\u001b[0;34m.\u001b[0m\u001b[0mformat\u001b[0m\u001b[0;34m(\u001b[0m\u001b[0mshape\u001b[0m\u001b[0;34m)\u001b[0m\u001b[0;34m\u001b[0m\u001b[0;34m\u001b[0m\u001b[0m\n\u001b[0m\u001b[1;32m   1040\u001b[0m     )\n\u001b[1;32m   1041\u001b[0m \u001b[0;34m\u001b[0m\u001b[0m\n",
      "\u001b[0;31mValueError\u001b[0m: y should be a 1d array, got an array of shape (7732, 26) instead."
     ]
    }
   ],
   "source": [
    "from sklearn.naive_bayes import BernoulliNB\n",
    "from sklearn.metrics import accuracy_score\n",
    "clf = BernoulliNB()\n",
    "clf.fit(X_train_ctv, y_train)\n",
    "pred = clf.predict(X_test_ctv)\n",
    "print(accuracy_score(y_test, pred))"
   ]
  },
  {
   "cell_type": "code",
   "execution_count": null,
   "metadata": {
    "id": "QBl-FSC66Zbv"
   },
   "outputs": [],
   "source": [
    ""
   ]
  },
  {
   "cell_type": "code",
   "execution_count": null,
   "metadata": {
    "id": "Adl3uN986ZfO"
   },
   "outputs": [],
   "source": [
    ""
   ]
  },
  {
   "cell_type": "code",
   "execution_count": null,
   "metadata": {
    "colab": {
     "base_uri": "https://localhost:8080/"
    },
    "id": "DNerLSYjzpn6",
    "outputId": "3ef70500-0e85-458d-c851-6ff0d726c2ad"
   },
   "outputs": [
    {
     "name": "stderr",
     "output_type": "stream",
     "text": [
      "/usr/local/lib/python3.7/dist-packages/sklearn/multiclass.py:80: UserWarning: Label not 0 is present in all training examples.\n",
      "  \"Label %s is present in all training examples.\" % str(classes[c])\n",
      "/usr/local/lib/python3.7/dist-packages/sklearn/multiclass.py:80: UserWarning: Label not 1 is present in all training examples.\n",
      "  \"Label %s is present in all training examples.\" % str(classes[c])\n",
      "/usr/local/lib/python3.7/dist-packages/sklearn/multiclass.py:80: UserWarning: Label not 2 is present in all training examples.\n",
      "  \"Label %s is present in all training examples.\" % str(classes[c])\n",
      "/usr/local/lib/python3.7/dist-packages/sklearn/multiclass.py:80: UserWarning: Label not 3 is present in all training examples.\n",
      "  \"Label %s is present in all training examples.\" % str(classes[c])\n",
      "/usr/local/lib/python3.7/dist-packages/sklearn/multiclass.py:80: UserWarning: Label not 4 is present in all training examples.\n",
      "  \"Label %s is present in all training examples.\" % str(classes[c])\n",
      "/usr/local/lib/python3.7/dist-packages/sklearn/multiclass.py:80: UserWarning: Label not 5 is present in all training examples.\n",
      "  \"Label %s is present in all training examples.\" % str(classes[c])\n",
      "/usr/local/lib/python3.7/dist-packages/sklearn/multiclass.py:80: UserWarning: Label not 6 is present in all training examples.\n",
      "  \"Label %s is present in all training examples.\" % str(classes[c])\n",
      "/usr/local/lib/python3.7/dist-packages/sklearn/multiclass.py:80: UserWarning: Label not 7 is present in all training examples.\n",
      "  \"Label %s is present in all training examples.\" % str(classes[c])\n",
      "/usr/local/lib/python3.7/dist-packages/sklearn/multiclass.py:80: UserWarning: Label not 8 is present in all training examples.\n",
      "  \"Label %s is present in all training examples.\" % str(classes[c])\n",
      "/usr/local/lib/python3.7/dist-packages/sklearn/multiclass.py:80: UserWarning: Label not 9 is present in all training examples.\n",
      "  \"Label %s is present in all training examples.\" % str(classes[c])\n",
      "/usr/local/lib/python3.7/dist-packages/sklearn/multiclass.py:80: UserWarning: Label not 10 is present in all training examples.\n",
      "  \"Label %s is present in all training examples.\" % str(classes[c])\n",
      "/usr/local/lib/python3.7/dist-packages/sklearn/multiclass.py:80: UserWarning: Label not 11 is present in all training examples.\n",
      "  \"Label %s is present in all training examples.\" % str(classes[c])\n",
      "/usr/local/lib/python3.7/dist-packages/sklearn/multiclass.py:80: UserWarning: Label not 12 is present in all training examples.\n",
      "  \"Label %s is present in all training examples.\" % str(classes[c])\n",
      "/usr/local/lib/python3.7/dist-packages/sklearn/multiclass.py:80: UserWarning: Label not 13 is present in all training examples.\n",
      "  \"Label %s is present in all training examples.\" % str(classes[c])\n",
      "/usr/local/lib/python3.7/dist-packages/sklearn/multiclass.py:80: UserWarning: Label not 14 is present in all training examples.\n",
      "  \"Label %s is present in all training examples.\" % str(classes[c])\n",
      "/usr/local/lib/python3.7/dist-packages/sklearn/multiclass.py:80: UserWarning: Label not 15 is present in all training examples.\n",
      "  \"Label %s is present in all training examples.\" % str(classes[c])\n",
      "/usr/local/lib/python3.7/dist-packages/sklearn/multiclass.py:80: UserWarning: Label not 16 is present in all training examples.\n",
      "  \"Label %s is present in all training examples.\" % str(classes[c])\n",
      "/usr/local/lib/python3.7/dist-packages/sklearn/multiclass.py:80: UserWarning: Label not 17 is present in all training examples.\n",
      "  \"Label %s is present in all training examples.\" % str(classes[c])\n",
      "/usr/local/lib/python3.7/dist-packages/sklearn/multiclass.py:80: UserWarning: Label not 18 is present in all training examples.\n",
      "  \"Label %s is present in all training examples.\" % str(classes[c])\n",
      "/usr/local/lib/python3.7/dist-packages/sklearn/multiclass.py:80: UserWarning: Label not 19 is present in all training examples.\n",
      "  \"Label %s is present in all training examples.\" % str(classes[c])\n",
      "/usr/local/lib/python3.7/dist-packages/sklearn/multiclass.py:80: UserWarning: Label not 20 is present in all training examples.\n",
      "  \"Label %s is present in all training examples.\" % str(classes[c])\n",
      "/usr/local/lib/python3.7/dist-packages/sklearn/multiclass.py:80: UserWarning: Label not 21 is present in all training examples.\n",
      "  \"Label %s is present in all training examples.\" % str(classes[c])\n",
      "/usr/local/lib/python3.7/dist-packages/sklearn/multiclass.py:80: UserWarning: Label not 22 is present in all training examples.\n",
      "  \"Label %s is present in all training examples.\" % str(classes[c])\n",
      "/usr/local/lib/python3.7/dist-packages/sklearn/multiclass.py:80: UserWarning: Label not 23 is present in all training examples.\n",
      "  \"Label %s is present in all training examples.\" % str(classes[c])\n",
      "/usr/local/lib/python3.7/dist-packages/sklearn/multiclass.py:80: UserWarning: Label not 24 is present in all training examples.\n",
      "  \"Label %s is present in all training examples.\" % str(classes[c])\n",
      "/usr/local/lib/python3.7/dist-packages/sklearn/multiclass.py:80: UserWarning: Label not 25 is present in all training examples.\n",
      "  \"Label %s is present in all training examples.\" % str(classes[c])\n"
     ]
    },
    {
     "data": {
      "text/plain": [
       "OneVsRestClassifier(estimator=LogisticRegression())"
      ]
     },
     "execution_count": 259,
     "metadata": {},
     "output_type": "execute_result"
    }
   ],
   "source": [
    "from sklearn.multiclass import OneVsRestClassifier\n",
    "from sklearn.linear_model import LogisticRegression\n",
    "\n",
    "Log_model=LogisticRegression(solver='lbfgs')\n",
    "Log_model=OneVsRestClassifier(Log_model)\n",
    "Log_model.fit(X_train,y_train)\n"
   ]
  },
  {
   "cell_type": "code",
   "execution_count": null,
   "metadata": {
    "id": "OGB8vbq00yX-"
   },
   "outputs": [],
   "source": [
    "y_pred=Log_model.predict(X_test)"
   ]
  },
  {
   "cell_type": "code",
   "execution_count": null,
   "metadata": {
    "id": "Q3d11Fk805F3"
   },
   "outputs": [],
   "source": [
    "y_pred_inversed=binarizer.inverse_transform(y_pred)\n",
    "y_test_inversed=binarizer.inverse_transform(y_test)"
   ]
  },
  {
   "cell_type": "code",
   "execution_count": null,
   "metadata": {
    "colab": {
     "base_uri": "https://localhost:8080/",
     "height": 658
    },
    "id": "el0nMpER3llX",
    "outputId": "6b5eb1b8-897a-4cd2-b79d-6faa33612cf2"
   },
   "outputs": [
    {
     "name": "stdout",
     "output_type": "stream",
     "text": [
      "Text:\tinfohasbeenfoundpagesandmbofpdffilesnowihavetowaituntillourteamleaderhasprocesseditandlearnshtml\n",
      "True labels:\t\n",
      "Predicted labels:\t\n",
      "\n",
      "\n"
     ]
    },
    {
     "ename": "KeyError",
     "evalue": "ignored",
     "output_type": "error",
     "traceback": [
      "\u001b[0;31m---------------------------------------------------------------------------\u001b[0m",
      "\u001b[0;31mKeyError\u001b[0m                                  Traceback (most recent call last)",
      "\u001b[0;32m/usr/local/lib/python3.7/dist-packages/pandas/core/indexes/base.py\u001b[0m in \u001b[0;36mget_loc\u001b[0;34m(self, key, method, tolerance)\u001b[0m\n\u001b[1;32m   2897\u001b[0m             \u001b[0;32mtry\u001b[0m\u001b[0;34m:\u001b[0m\u001b[0;34m\u001b[0m\u001b[0;34m\u001b[0m\u001b[0m\n\u001b[0;32m-> 2898\u001b[0;31m                 \u001b[0;32mreturn\u001b[0m \u001b[0mself\u001b[0m\u001b[0;34m.\u001b[0m\u001b[0m_engine\u001b[0m\u001b[0;34m.\u001b[0m\u001b[0mget_loc\u001b[0m\u001b[0;34m(\u001b[0m\u001b[0mcasted_key\u001b[0m\u001b[0;34m)\u001b[0m\u001b[0;34m\u001b[0m\u001b[0;34m\u001b[0m\u001b[0m\n\u001b[0m\u001b[1;32m   2899\u001b[0m             \u001b[0;32mexcept\u001b[0m \u001b[0mKeyError\u001b[0m \u001b[0;32mas\u001b[0m \u001b[0merr\u001b[0m\u001b[0;34m:\u001b[0m\u001b[0;34m\u001b[0m\u001b[0;34m\u001b[0m\u001b[0m\n",
      "\u001b[0;32mpandas/_libs/index.pyx\u001b[0m in \u001b[0;36mpandas._libs.index.IndexEngine.get_loc\u001b[0;34m()\u001b[0m\n",
      "\u001b[0;32mpandas/_libs/index.pyx\u001b[0m in \u001b[0;36mpandas._libs.index.IndexEngine.get_loc\u001b[0;34m()\u001b[0m\n",
      "\u001b[0;32mpandas/_libs/hashtable_class_helper.pxi\u001b[0m in \u001b[0;36mpandas._libs.hashtable.Int64HashTable.get_item\u001b[0;34m()\u001b[0m\n",
      "\u001b[0;32mpandas/_libs/hashtable_class_helper.pxi\u001b[0m in \u001b[0;36mpandas._libs.hashtable.Int64HashTable.get_item\u001b[0;34m()\u001b[0m\n",
      "\u001b[0;31mKeyError\u001b[0m: 1",
      "\nThe above exception was the direct cause of the following exception:\n",
      "\u001b[0;31mKeyError\u001b[0m                                  Traceback (most recent call last)",
      "\u001b[0;32m<ipython-input-246-9df0687d4258>\u001b[0m in \u001b[0;36m<module>\u001b[0;34m()\u001b[0m\n\u001b[1;32m      1\u001b[0m \u001b[0;32mfor\u001b[0m \u001b[0mi\u001b[0m \u001b[0;32min\u001b[0m \u001b[0mrange\u001b[0m\u001b[0;34m(\u001b[0m\u001b[0;36m5\u001b[0m\u001b[0;34m)\u001b[0m\u001b[0;34m:\u001b[0m\u001b[0;34m\u001b[0m\u001b[0;34m\u001b[0m\u001b[0m\n\u001b[0;32m----> 2\u001b[0;31m     print('Text:\\t{}\\nTrue labels:\\t{}\\nPredicted labels:\\t{}\\n\\n'.format(X_test[i],\n\u001b[0m\u001b[1;32m      3\u001b[0m                                                                           \u001b[0;34m','\u001b[0m\u001b[0;34m.\u001b[0m\u001b[0mjoin\u001b[0m\u001b[0;34m(\u001b[0m\u001b[0my_test_inversed\u001b[0m\u001b[0;34m[\u001b[0m\u001b[0mi\u001b[0m\u001b[0;34m]\u001b[0m\u001b[0;34m)\u001b[0m\u001b[0;34m,\u001b[0m\u001b[0;34m\u001b[0m\u001b[0;34m\u001b[0m\u001b[0m\n\u001b[1;32m      4\u001b[0m                                                                           \u001b[0;34m','\u001b[0m\u001b[0;34m.\u001b[0m\u001b[0mjoin\u001b[0m\u001b[0;34m(\u001b[0m\u001b[0my_pred_inversed\u001b[0m\u001b[0;34m[\u001b[0m\u001b[0mi\u001b[0m\u001b[0;34m]\u001b[0m\u001b[0;34m)\u001b[0m\u001b[0;34m\u001b[0m\u001b[0;34m\u001b[0m\u001b[0m\n\u001b[1;32m      5\u001b[0m                                                                           ))\n",
      "\u001b[0;32m/usr/local/lib/python3.7/dist-packages/pandas/core/series.py\u001b[0m in \u001b[0;36m__getitem__\u001b[0;34m(self, key)\u001b[0m\n\u001b[1;32m    880\u001b[0m \u001b[0;34m\u001b[0m\u001b[0m\n\u001b[1;32m    881\u001b[0m         \u001b[0;32melif\u001b[0m \u001b[0mkey_is_scalar\u001b[0m\u001b[0;34m:\u001b[0m\u001b[0;34m\u001b[0m\u001b[0;34m\u001b[0m\u001b[0m\n\u001b[0;32m--> 882\u001b[0;31m             \u001b[0;32mreturn\u001b[0m \u001b[0mself\u001b[0m\u001b[0;34m.\u001b[0m\u001b[0m_get_value\u001b[0m\u001b[0;34m(\u001b[0m\u001b[0mkey\u001b[0m\u001b[0;34m)\u001b[0m\u001b[0;34m\u001b[0m\u001b[0;34m\u001b[0m\u001b[0m\n\u001b[0m\u001b[1;32m    883\u001b[0m \u001b[0;34m\u001b[0m\u001b[0m\n\u001b[1;32m    884\u001b[0m         \u001b[0;32mif\u001b[0m \u001b[0mis_hashable\u001b[0m\u001b[0;34m(\u001b[0m\u001b[0mkey\u001b[0m\u001b[0;34m)\u001b[0m\u001b[0;34m:\u001b[0m\u001b[0;34m\u001b[0m\u001b[0;34m\u001b[0m\u001b[0m\n",
      "\u001b[0;32m/usr/local/lib/python3.7/dist-packages/pandas/core/series.py\u001b[0m in \u001b[0;36m_get_value\u001b[0;34m(self, label, takeable)\u001b[0m\n\u001b[1;32m    988\u001b[0m \u001b[0;34m\u001b[0m\u001b[0m\n\u001b[1;32m    989\u001b[0m         \u001b[0;31m# Similar to Index.get_value, but we do not fall back to positional\u001b[0m\u001b[0;34m\u001b[0m\u001b[0;34m\u001b[0m\u001b[0;34m\u001b[0m\u001b[0m\n\u001b[0;32m--> 990\u001b[0;31m         \u001b[0mloc\u001b[0m \u001b[0;34m=\u001b[0m \u001b[0mself\u001b[0m\u001b[0;34m.\u001b[0m\u001b[0mindex\u001b[0m\u001b[0;34m.\u001b[0m\u001b[0mget_loc\u001b[0m\u001b[0;34m(\u001b[0m\u001b[0mlabel\u001b[0m\u001b[0;34m)\u001b[0m\u001b[0;34m\u001b[0m\u001b[0;34m\u001b[0m\u001b[0m\n\u001b[0m\u001b[1;32m    991\u001b[0m         \u001b[0;32mreturn\u001b[0m \u001b[0mself\u001b[0m\u001b[0;34m.\u001b[0m\u001b[0mindex\u001b[0m\u001b[0;34m.\u001b[0m\u001b[0m_get_values_for_loc\u001b[0m\u001b[0;34m(\u001b[0m\u001b[0mself\u001b[0m\u001b[0;34m,\u001b[0m \u001b[0mloc\u001b[0m\u001b[0;34m,\u001b[0m \u001b[0mlabel\u001b[0m\u001b[0;34m)\u001b[0m\u001b[0;34m\u001b[0m\u001b[0;34m\u001b[0m\u001b[0m\n\u001b[1;32m    992\u001b[0m \u001b[0;34m\u001b[0m\u001b[0m\n",
      "\u001b[0;32m/usr/local/lib/python3.7/dist-packages/pandas/core/indexes/base.py\u001b[0m in \u001b[0;36mget_loc\u001b[0;34m(self, key, method, tolerance)\u001b[0m\n\u001b[1;32m   2898\u001b[0m                 \u001b[0;32mreturn\u001b[0m \u001b[0mself\u001b[0m\u001b[0;34m.\u001b[0m\u001b[0m_engine\u001b[0m\u001b[0;34m.\u001b[0m\u001b[0mget_loc\u001b[0m\u001b[0;34m(\u001b[0m\u001b[0mcasted_key\u001b[0m\u001b[0;34m)\u001b[0m\u001b[0;34m\u001b[0m\u001b[0;34m\u001b[0m\u001b[0m\n\u001b[1;32m   2899\u001b[0m             \u001b[0;32mexcept\u001b[0m \u001b[0mKeyError\u001b[0m \u001b[0;32mas\u001b[0m \u001b[0merr\u001b[0m\u001b[0;34m:\u001b[0m\u001b[0;34m\u001b[0m\u001b[0;34m\u001b[0m\u001b[0m\n\u001b[0;32m-> 2900\u001b[0;31m                 \u001b[0;32mraise\u001b[0m \u001b[0mKeyError\u001b[0m\u001b[0;34m(\u001b[0m\u001b[0mkey\u001b[0m\u001b[0;34m)\u001b[0m \u001b[0;32mfrom\u001b[0m \u001b[0merr\u001b[0m\u001b[0;34m\u001b[0m\u001b[0;34m\u001b[0m\u001b[0m\n\u001b[0m\u001b[1;32m   2901\u001b[0m \u001b[0;34m\u001b[0m\u001b[0m\n\u001b[1;32m   2902\u001b[0m         \u001b[0;32mif\u001b[0m \u001b[0mtolerance\u001b[0m \u001b[0;32mis\u001b[0m \u001b[0;32mnot\u001b[0m \u001b[0;32mNone\u001b[0m\u001b[0;34m:\u001b[0m\u001b[0;34m\u001b[0m\u001b[0;34m\u001b[0m\u001b[0m\n",
      "\u001b[0;31mKeyError\u001b[0m: 1"
     ]
    }
   ],
   "source": [
    "for i in range(5):\n",
    "    print('Text:\\t{}\\nTrue labels:\\t{}\\nPredicted labels:\\t{}\\n\\n'.format(X_test[i],\n",
    "                                                                          ','.join(y_test_inversed[i]),\n",
    "                                                                          ','.join(y_pred_inversed[i])\n",
    "                                                                          ))"
   ]
  },
  {
   "cell_type": "code",
   "execution_count": null,
   "metadata": {
    "id": "YJcZau3l3ln9"
   },
   "outputs": [],
   "source": [
    ""
   ]
  },
  {
   "cell_type": "code",
   "execution_count": null,
   "metadata": {
    "id": "Xu_aUSlI3lrX"
   },
   "outputs": [],
   "source": [
    ""
   ]
  },
  {
   "cell_type": "code",
   "execution_count": null,
   "metadata": {
    "colab": {
     "base_uri": "https://localhost:8080/"
    },
    "id": "4TGdQXIwv8JJ",
    "outputId": "3e5b86e6-0004-4c41-e996-7d333482d9f9"
   },
   "outputs": [
    {
     "name": "stdout",
     "output_type": "stream",
     "text": [
      "indUnk                     3287\n",
      "Technology                 2654\n",
      "Fashion                    1622\n",
      "Student                    1137\n",
      "Education                   270\n",
      "Marketing                   156\n",
      "Engineering                 127\n",
      "Internet                    118\n",
      "Communications-Media         99\n",
      "BusinessServices             91\n",
      "Sports-Recreation            80\n",
      "Non-Profit                   71\n",
      "InvestmentBanking            70\n",
      "Science                      63\n",
      "Arts                         45\n",
      "Consulting                   21\n",
      "Museums-Libraries            17\n",
      "Banking                      16\n",
      "Automotive                   14\n",
      "Law                          11\n",
      "LawEnforcement-Security      10\n",
      "Religion                      9\n",
      "Publishing                    4\n",
      "Accounting                    4\n",
      "Telecommunications            2\n",
      "HumanResources                2\n",
      "Name: topic, dtype: int64\n"
     ]
    }
   ],
   "source": [
    "topic_counts=df_digi['topic'].value_counts()\n",
    "print(topic_counts)"
   ]
  },
  {
   "cell_type": "code",
   "execution_count": null,
   "metadata": {
    "id": "DhPa2egzmlEa"
   },
   "outputs": [],
   "source": [
    "from sklearn.preprocessing import MultiLabelBinarizer\n",
    "binarizer=MultiLabelBinarizer(classes=sorted(topic_counts.keys()))"
   ]
  },
  {
   "cell_type": "code",
   "execution_count": null,
   "metadata": {
    "colab": {
     "base_uri": "https://localhost:8080/"
    },
    "id": "ZwcPmwwXvgLA",
    "outputId": "0deed423-e373-41c6-a5fa-7c2f4f29a77a"
   },
   "outputs": [
    {
     "name": "stderr",
     "output_type": "stream",
     "text": [
      "/usr/local/lib/python3.7/dist-packages/sklearn/preprocessing/_label.py:876: UserWarning: unknown class(es) ['-', 'A', 'B', 'C', 'E', 'F', 'H', 'I', 'L', 'M', 'N', 'P', 'R', 'S', 'T', 'U', 'a', 'b', 'c', 'd', 'e', 'f', 'g', 'h', 'i', 'k', 'l', 'm', 'n', 'o', 'p', 'r', 's', 't', 'u', 'v', 'w', 'y'] will be ignored\n",
      "  \"unknown class(es) {0} will be ignored\".format(sorted(unknown, key=str))\n",
      "/usr/local/lib/python3.7/dist-packages/sklearn/preprocessing/_label.py:876: UserWarning: unknown class(es) ['-', 'A', 'B', 'C', 'E', 'F', 'I', 'L', 'M', 'N', 'P', 'R', 'S', 'T', 'U', 'a', 'b', 'c', 'd', 'e', 'f', 'g', 'h', 'i', 'k', 'l', 'm', 'n', 'o', 'p', 'r', 's', 't', 'u', 'v', 'y'] will be ignored\n",
      "  \"unknown class(es) {0} will be ignored\".format(sorted(unknown, key=str))\n"
     ]
    }
   ],
   "source": [
    "y=binarizer.fit_transform(y_train)\n",
    "#y_test=binarizer.fit_transform(y_test)"
   ]
  },
  {
   "cell_type": "code",
   "execution_count": null,
   "metadata": {
    "colab": {
     "base_uri": "https://localhost:8080/"
    },
    "id": "gFryaBErvgNZ",
    "outputId": "e978a716-6360-4c3e-d0f1-2270cea9232c"
   },
   "outputs": [
    {
     "data": {
      "text/plain": [
       "array([[0, 0, 0, ..., 0, 0, 0],\n",
       "       [0, 0, 0, ..., 0, 0, 0],\n",
       "       [0, 0, 0, ..., 0, 0, 0],\n",
       "       ...,\n",
       "       [0, 0, 0, ..., 0, 0, 0],\n",
       "       [0, 0, 0, ..., 0, 0, 0],\n",
       "       [0, 0, 0, ..., 0, 0, 0]])"
      ]
     },
     "execution_count": 213,
     "metadata": {},
     "output_type": "execute_result"
    }
   ],
   "source": [
    "y_train"
   ]
  },
  {
   "cell_type": "code",
   "execution_count": null,
   "metadata": {
    "id": "mesPUayrvgQ_"
   },
   "outputs": [],
   "source": [
    "X_train_ctv=vectorizer.transform(X_train)"
   ]
  },
  {
   "cell_type": "code",
   "execution_count": null,
   "metadata": {
    "id": "0kaLgso0mQ5Z"
   },
   "outputs": [],
   "source": [
    "X_test_ctv=vectorizer.transform(X_test)"
   ]
  },
  {
   "cell_type": "code",
   "execution_count": null,
   "metadata": {
    "colab": {
     "base_uri": "https://localhost:8080/",
     "height": 380
    },
    "id": "AcAnG1ZEsiQ7",
    "outputId": "3c7e4a3e-61ab-4e77-9a3a-344aac4ecca2"
   },
   "outputs": [
    {
     "ename": "ValueError",
     "evalue": "ignored",
     "output_type": "error",
     "traceback": [
      "\u001b[0;31m---------------------------------------------------------------------------\u001b[0m",
      "\u001b[0;31mValueError\u001b[0m                                Traceback (most recent call last)",
      "\u001b[0;32m<ipython-input-216-4235675ffb4c>\u001b[0m in \u001b[0;36m<module>\u001b[0;34m()\u001b[0m\n\u001b[1;32m      2\u001b[0m \u001b[0;32mfrom\u001b[0m \u001b[0msklearn\u001b[0m\u001b[0;34m.\u001b[0m\u001b[0mmetrics\u001b[0m \u001b[0;32mimport\u001b[0m \u001b[0maccuracy_score\u001b[0m\u001b[0;34m\u001b[0m\u001b[0;34m\u001b[0m\u001b[0m\n\u001b[1;32m      3\u001b[0m \u001b[0mclf\u001b[0m \u001b[0;34m=\u001b[0m \u001b[0mMultinomialNB\u001b[0m\u001b[0;34m(\u001b[0m\u001b[0;34m)\u001b[0m\u001b[0;34m\u001b[0m\u001b[0;34m\u001b[0m\u001b[0m\n\u001b[0;32m----> 4\u001b[0;31m \u001b[0mclf\u001b[0m\u001b[0;34m.\u001b[0m\u001b[0mfit\u001b[0m\u001b[0;34m(\u001b[0m\u001b[0mX_train_ctv\u001b[0m\u001b[0;34m,\u001b[0m\u001b[0my_train\u001b[0m\u001b[0;34m)\u001b[0m\u001b[0;34m\u001b[0m\u001b[0;34m\u001b[0m\u001b[0m\n\u001b[0m\u001b[1;32m      5\u001b[0m \u001b[0mpred\u001b[0m \u001b[0;34m=\u001b[0m \u001b[0mclf\u001b[0m\u001b[0;34m.\u001b[0m\u001b[0mpredict\u001b[0m\u001b[0;34m(\u001b[0m\u001b[0mX_test_ctv\u001b[0m\u001b[0;34m)\u001b[0m\u001b[0;34m\u001b[0m\u001b[0;34m\u001b[0m\u001b[0m\n\u001b[1;32m      6\u001b[0m \u001b[0mprint\u001b[0m\u001b[0;34m(\u001b[0m\u001b[0maccuracy_score\u001b[0m\u001b[0;34m(\u001b[0m\u001b[0my_test\u001b[0m\u001b[0;34m,\u001b[0m \u001b[0mpred\u001b[0m\u001b[0;34m)\u001b[0m\u001b[0;34m)\u001b[0m\u001b[0;34m\u001b[0m\u001b[0;34m\u001b[0m\u001b[0m\n",
      "\u001b[0;32m/usr/local/lib/python3.7/dist-packages/sklearn/naive_bayes.py\u001b[0m in \u001b[0;36mfit\u001b[0;34m(self, X, y, sample_weight)\u001b[0m\n\u001b[1;32m    661\u001b[0m             \u001b[0mReturns\u001b[0m \u001b[0mthe\u001b[0m \u001b[0minstance\u001b[0m \u001b[0mitself\u001b[0m\u001b[0;34m.\u001b[0m\u001b[0;34m\u001b[0m\u001b[0;34m\u001b[0m\u001b[0m\n\u001b[1;32m    662\u001b[0m         \"\"\"\n\u001b[0;32m--> 663\u001b[0;31m         \u001b[0mX\u001b[0m\u001b[0;34m,\u001b[0m \u001b[0my\u001b[0m \u001b[0;34m=\u001b[0m \u001b[0mself\u001b[0m\u001b[0;34m.\u001b[0m\u001b[0m_check_X_y\u001b[0m\u001b[0;34m(\u001b[0m\u001b[0mX\u001b[0m\u001b[0;34m,\u001b[0m \u001b[0my\u001b[0m\u001b[0;34m)\u001b[0m\u001b[0;34m\u001b[0m\u001b[0;34m\u001b[0m\u001b[0m\n\u001b[0m\u001b[1;32m    664\u001b[0m         \u001b[0m_\u001b[0m\u001b[0;34m,\u001b[0m \u001b[0mn_features\u001b[0m \u001b[0;34m=\u001b[0m \u001b[0mX\u001b[0m\u001b[0;34m.\u001b[0m\u001b[0mshape\u001b[0m\u001b[0;34m\u001b[0m\u001b[0;34m\u001b[0m\u001b[0m\n\u001b[1;32m    665\u001b[0m \u001b[0;34m\u001b[0m\u001b[0m\n",
      "\u001b[0;32m/usr/local/lib/python3.7/dist-packages/sklearn/naive_bayes.py\u001b[0m in \u001b[0;36m_check_X_y\u001b[0;34m(self, X, y, reset)\u001b[0m\n\u001b[1;32m    521\u001b[0m     \u001b[0;32mdef\u001b[0m \u001b[0m_check_X_y\u001b[0m\u001b[0;34m(\u001b[0m\u001b[0mself\u001b[0m\u001b[0;34m,\u001b[0m \u001b[0mX\u001b[0m\u001b[0;34m,\u001b[0m \u001b[0my\u001b[0m\u001b[0;34m,\u001b[0m \u001b[0mreset\u001b[0m\u001b[0;34m=\u001b[0m\u001b[0;32mTrue\u001b[0m\u001b[0;34m)\u001b[0m\u001b[0;34m:\u001b[0m\u001b[0;34m\u001b[0m\u001b[0;34m\u001b[0m\u001b[0m\n\u001b[1;32m    522\u001b[0m         \u001b[0;34m\"\"\"Validate X and y in fit methods.\"\"\"\u001b[0m\u001b[0;34m\u001b[0m\u001b[0;34m\u001b[0m\u001b[0m\n\u001b[0;32m--> 523\u001b[0;31m         \u001b[0;32mreturn\u001b[0m \u001b[0mself\u001b[0m\u001b[0;34m.\u001b[0m\u001b[0m_validate_data\u001b[0m\u001b[0;34m(\u001b[0m\u001b[0mX\u001b[0m\u001b[0;34m,\u001b[0m \u001b[0my\u001b[0m\u001b[0;34m,\u001b[0m \u001b[0maccept_sparse\u001b[0m\u001b[0;34m=\u001b[0m\u001b[0;34m\"csr\"\u001b[0m\u001b[0;34m,\u001b[0m \u001b[0mreset\u001b[0m\u001b[0;34m=\u001b[0m\u001b[0mreset\u001b[0m\u001b[0;34m)\u001b[0m\u001b[0;34m\u001b[0m\u001b[0;34m\u001b[0m\u001b[0m\n\u001b[0m\u001b[1;32m    524\u001b[0m \u001b[0;34m\u001b[0m\u001b[0m\n\u001b[1;32m    525\u001b[0m     \u001b[0;32mdef\u001b[0m \u001b[0m_update_class_log_prior\u001b[0m\u001b[0;34m(\u001b[0m\u001b[0mself\u001b[0m\u001b[0;34m,\u001b[0m \u001b[0mclass_prior\u001b[0m\u001b[0;34m=\u001b[0m\u001b[0;32mNone\u001b[0m\u001b[0;34m)\u001b[0m\u001b[0;34m:\u001b[0m\u001b[0;34m\u001b[0m\u001b[0;34m\u001b[0m\u001b[0m\n",
      "\u001b[0;32m/usr/local/lib/python3.7/dist-packages/sklearn/base.py\u001b[0m in \u001b[0;36m_validate_data\u001b[0;34m(self, X, y, reset, validate_separately, **check_params)\u001b[0m\n\u001b[1;32m    579\u001b[0m                 \u001b[0my\u001b[0m \u001b[0;34m=\u001b[0m \u001b[0mcheck_array\u001b[0m\u001b[0;34m(\u001b[0m\u001b[0my\u001b[0m\u001b[0;34m,\u001b[0m \u001b[0;34m**\u001b[0m\u001b[0mcheck_y_params\u001b[0m\u001b[0;34m)\u001b[0m\u001b[0;34m\u001b[0m\u001b[0;34m\u001b[0m\u001b[0m\n\u001b[1;32m    580\u001b[0m             \u001b[0;32melse\u001b[0m\u001b[0;34m:\u001b[0m\u001b[0;34m\u001b[0m\u001b[0;34m\u001b[0m\u001b[0m\n\u001b[0;32m--> 581\u001b[0;31m                 \u001b[0mX\u001b[0m\u001b[0;34m,\u001b[0m \u001b[0my\u001b[0m \u001b[0;34m=\u001b[0m \u001b[0mcheck_X_y\u001b[0m\u001b[0;34m(\u001b[0m\u001b[0mX\u001b[0m\u001b[0;34m,\u001b[0m \u001b[0my\u001b[0m\u001b[0;34m,\u001b[0m \u001b[0;34m**\u001b[0m\u001b[0mcheck_params\u001b[0m\u001b[0;34m)\u001b[0m\u001b[0;34m\u001b[0m\u001b[0;34m\u001b[0m\u001b[0m\n\u001b[0m\u001b[1;32m    582\u001b[0m             \u001b[0mout\u001b[0m \u001b[0;34m=\u001b[0m \u001b[0mX\u001b[0m\u001b[0;34m,\u001b[0m \u001b[0my\u001b[0m\u001b[0;34m\u001b[0m\u001b[0;34m\u001b[0m\u001b[0m\n\u001b[1;32m    583\u001b[0m \u001b[0;34m\u001b[0m\u001b[0m\n",
      "\u001b[0;32m/usr/local/lib/python3.7/dist-packages/sklearn/utils/validation.py\u001b[0m in \u001b[0;36mcheck_X_y\u001b[0;34m(X, y, accept_sparse, accept_large_sparse, dtype, order, copy, force_all_finite, ensure_2d, allow_nd, multi_output, ensure_min_samples, ensure_min_features, y_numeric, estimator)\u001b[0m\n\u001b[1;32m    977\u001b[0m     )\n\u001b[1;32m    978\u001b[0m \u001b[0;34m\u001b[0m\u001b[0m\n\u001b[0;32m--> 979\u001b[0;31m     \u001b[0my\u001b[0m \u001b[0;34m=\u001b[0m \u001b[0m_check_y\u001b[0m\u001b[0;34m(\u001b[0m\u001b[0my\u001b[0m\u001b[0;34m,\u001b[0m \u001b[0mmulti_output\u001b[0m\u001b[0;34m=\u001b[0m\u001b[0mmulti_output\u001b[0m\u001b[0;34m,\u001b[0m \u001b[0my_numeric\u001b[0m\u001b[0;34m=\u001b[0m\u001b[0my_numeric\u001b[0m\u001b[0;34m)\u001b[0m\u001b[0;34m\u001b[0m\u001b[0;34m\u001b[0m\u001b[0m\n\u001b[0m\u001b[1;32m    980\u001b[0m \u001b[0;34m\u001b[0m\u001b[0m\n\u001b[1;32m    981\u001b[0m     \u001b[0mcheck_consistent_length\u001b[0m\u001b[0;34m(\u001b[0m\u001b[0mX\u001b[0m\u001b[0;34m,\u001b[0m \u001b[0my\u001b[0m\u001b[0;34m)\u001b[0m\u001b[0;34m\u001b[0m\u001b[0;34m\u001b[0m\u001b[0m\n",
      "\u001b[0;32m/usr/local/lib/python3.7/dist-packages/sklearn/utils/validation.py\u001b[0m in \u001b[0;36m_check_y\u001b[0;34m(y, multi_output, y_numeric)\u001b[0m\n\u001b[1;32m    991\u001b[0m         )\n\u001b[1;32m    992\u001b[0m     \u001b[0;32melse\u001b[0m\u001b[0;34m:\u001b[0m\u001b[0;34m\u001b[0m\u001b[0;34m\u001b[0m\u001b[0m\n\u001b[0;32m--> 993\u001b[0;31m         \u001b[0my\u001b[0m \u001b[0;34m=\u001b[0m \u001b[0mcolumn_or_1d\u001b[0m\u001b[0;34m(\u001b[0m\u001b[0my\u001b[0m\u001b[0;34m,\u001b[0m \u001b[0mwarn\u001b[0m\u001b[0;34m=\u001b[0m\u001b[0;32mTrue\u001b[0m\u001b[0;34m)\u001b[0m\u001b[0;34m\u001b[0m\u001b[0;34m\u001b[0m\u001b[0m\n\u001b[0m\u001b[1;32m    994\u001b[0m         \u001b[0m_assert_all_finite\u001b[0m\u001b[0;34m(\u001b[0m\u001b[0my\u001b[0m\u001b[0;34m)\u001b[0m\u001b[0;34m\u001b[0m\u001b[0;34m\u001b[0m\u001b[0m\n\u001b[1;32m    995\u001b[0m         \u001b[0m_ensure_no_complex_data\u001b[0m\u001b[0;34m(\u001b[0m\u001b[0my\u001b[0m\u001b[0;34m)\u001b[0m\u001b[0;34m\u001b[0m\u001b[0;34m\u001b[0m\u001b[0m\n",
      "\u001b[0;32m/usr/local/lib/python3.7/dist-packages/sklearn/utils/validation.py\u001b[0m in \u001b[0;36mcolumn_or_1d\u001b[0;34m(y, warn)\u001b[0m\n\u001b[1;32m   1037\u001b[0m \u001b[0;34m\u001b[0m\u001b[0m\n\u001b[1;32m   1038\u001b[0m     raise ValueError(\n\u001b[0;32m-> 1039\u001b[0;31m         \u001b[0;34m\"y should be a 1d array, got an array of shape {} instead.\"\u001b[0m\u001b[0;34m.\u001b[0m\u001b[0mformat\u001b[0m\u001b[0;34m(\u001b[0m\u001b[0mshape\u001b[0m\u001b[0;34m)\u001b[0m\u001b[0;34m\u001b[0m\u001b[0;34m\u001b[0m\u001b[0m\n\u001b[0m\u001b[1;32m   1040\u001b[0m     )\n\u001b[1;32m   1041\u001b[0m \u001b[0;34m\u001b[0m\u001b[0m\n",
      "\u001b[0;31mValueError\u001b[0m: y should be a 1d array, got an array of shape (9000, 26) instead."
     ]
    }
   ],
   "source": [
    "from sklearn.naive_bayes import MultinomialNB\n",
    "from sklearn.metrics import accuracy_score\n",
    "clf = MultinomialNB()\n",
    "clf.fit(X_train_ctv,y_train)\n",
    "pred = clf.predict(X_test_ctv)\n",
    "print(accuracy_score(y_test, pred))"
   ]
  },
  {
   "cell_type": "code",
   "execution_count": null,
   "metadata": {
    "colab": {
     "base_uri": "https://localhost:8080/",
     "height": 400
    },
    "id": "zw7A_Rjsmw0O",
    "outputId": "e9f39a26-817d-46ef-ecf3-231a5213aa84"
   },
   "outputs": [
    {
     "ename": "ValueError",
     "evalue": "ignored",
     "output_type": "error",
     "traceback": [
      "\u001b[0;31m---------------------------------------------------------------------------\u001b[0m",
      "\u001b[0;31mValueError\u001b[0m                                Traceback (most recent call last)",
      "\u001b[0;32m<ipython-input-153-8cf9553b7a4c>\u001b[0m in \u001b[0;36m<module>\u001b[0;34m()\u001b[0m\n\u001b[1;32m      2\u001b[0m \u001b[0;32mfrom\u001b[0m \u001b[0msklearn\u001b[0m\u001b[0;34m.\u001b[0m\u001b[0mmetrics\u001b[0m \u001b[0;32mimport\u001b[0m \u001b[0maccuracy_score\u001b[0m\u001b[0;34m\u001b[0m\u001b[0;34m\u001b[0m\u001b[0m\n\u001b[1;32m      3\u001b[0m \u001b[0mclf\u001b[0m \u001b[0;34m=\u001b[0m \u001b[0mBernoulliNB\u001b[0m\u001b[0;34m(\u001b[0m\u001b[0;34m)\u001b[0m\u001b[0;34m\u001b[0m\u001b[0;34m\u001b[0m\u001b[0m\n\u001b[0;32m----> 4\u001b[0;31m \u001b[0mclf\u001b[0m\u001b[0;34m.\u001b[0m\u001b[0mfit\u001b[0m\u001b[0;34m(\u001b[0m\u001b[0mX_train\u001b[0m\u001b[0;34m,\u001b[0m \u001b[0my_train\u001b[0m\u001b[0;34m)\u001b[0m\u001b[0;34m\u001b[0m\u001b[0;34m\u001b[0m\u001b[0m\n\u001b[0m\u001b[1;32m      5\u001b[0m \u001b[0my_pred\u001b[0m \u001b[0;34m=\u001b[0m \u001b[0mclf\u001b[0m\u001b[0;34m.\u001b[0m\u001b[0mpredict\u001b[0m\u001b[0;34m(\u001b[0m\u001b[0mX_test\u001b[0m\u001b[0;34m)\u001b[0m\u001b[0;34m\u001b[0m\u001b[0;34m\u001b[0m\u001b[0m\n",
      "\u001b[0;32m/usr/local/lib/python3.7/dist-packages/sklearn/naive_bayes.py\u001b[0m in \u001b[0;36mfit\u001b[0;34m(self, X, y, sample_weight)\u001b[0m\n\u001b[1;32m    661\u001b[0m             \u001b[0mReturns\u001b[0m \u001b[0mthe\u001b[0m \u001b[0minstance\u001b[0m \u001b[0mitself\u001b[0m\u001b[0;34m.\u001b[0m\u001b[0;34m\u001b[0m\u001b[0;34m\u001b[0m\u001b[0m\n\u001b[1;32m    662\u001b[0m         \"\"\"\n\u001b[0;32m--> 663\u001b[0;31m         \u001b[0mX\u001b[0m\u001b[0;34m,\u001b[0m \u001b[0my\u001b[0m \u001b[0;34m=\u001b[0m \u001b[0mself\u001b[0m\u001b[0;34m.\u001b[0m\u001b[0m_check_X_y\u001b[0m\u001b[0;34m(\u001b[0m\u001b[0mX\u001b[0m\u001b[0;34m,\u001b[0m \u001b[0my\u001b[0m\u001b[0;34m)\u001b[0m\u001b[0;34m\u001b[0m\u001b[0;34m\u001b[0m\u001b[0m\n\u001b[0m\u001b[1;32m    664\u001b[0m         \u001b[0m_\u001b[0m\u001b[0;34m,\u001b[0m \u001b[0mn_features\u001b[0m \u001b[0;34m=\u001b[0m \u001b[0mX\u001b[0m\u001b[0;34m.\u001b[0m\u001b[0mshape\u001b[0m\u001b[0;34m\u001b[0m\u001b[0;34m\u001b[0m\u001b[0m\n\u001b[1;32m    665\u001b[0m \u001b[0;34m\u001b[0m\u001b[0m\n",
      "\u001b[0;32m/usr/local/lib/python3.7/dist-packages/sklearn/naive_bayes.py\u001b[0m in \u001b[0;36m_check_X_y\u001b[0;34m(self, X, y, reset)\u001b[0m\n\u001b[1;32m   1151\u001b[0m \u001b[0;34m\u001b[0m\u001b[0m\n\u001b[1;32m   1152\u001b[0m     \u001b[0;32mdef\u001b[0m \u001b[0m_check_X_y\u001b[0m\u001b[0;34m(\u001b[0m\u001b[0mself\u001b[0m\u001b[0;34m,\u001b[0m \u001b[0mX\u001b[0m\u001b[0;34m,\u001b[0m \u001b[0my\u001b[0m\u001b[0;34m,\u001b[0m \u001b[0mreset\u001b[0m\u001b[0;34m=\u001b[0m\u001b[0;32mTrue\u001b[0m\u001b[0;34m)\u001b[0m\u001b[0;34m:\u001b[0m\u001b[0;34m\u001b[0m\u001b[0;34m\u001b[0m\u001b[0m\n\u001b[0;32m-> 1153\u001b[0;31m         \u001b[0mX\u001b[0m\u001b[0;34m,\u001b[0m \u001b[0my\u001b[0m \u001b[0;34m=\u001b[0m \u001b[0msuper\u001b[0m\u001b[0;34m(\u001b[0m\u001b[0;34m)\u001b[0m\u001b[0;34m.\u001b[0m\u001b[0m_check_X_y\u001b[0m\u001b[0;34m(\u001b[0m\u001b[0mX\u001b[0m\u001b[0;34m,\u001b[0m \u001b[0my\u001b[0m\u001b[0;34m,\u001b[0m \u001b[0mreset\u001b[0m\u001b[0;34m=\u001b[0m\u001b[0mreset\u001b[0m\u001b[0;34m)\u001b[0m\u001b[0;34m\u001b[0m\u001b[0;34m\u001b[0m\u001b[0m\n\u001b[0m\u001b[1;32m   1154\u001b[0m         \u001b[0;32mif\u001b[0m \u001b[0mself\u001b[0m\u001b[0;34m.\u001b[0m\u001b[0mbinarize\u001b[0m \u001b[0;32mis\u001b[0m \u001b[0;32mnot\u001b[0m \u001b[0;32mNone\u001b[0m\u001b[0;34m:\u001b[0m\u001b[0;34m\u001b[0m\u001b[0;34m\u001b[0m\u001b[0m\n\u001b[1;32m   1155\u001b[0m             \u001b[0mX\u001b[0m \u001b[0;34m=\u001b[0m \u001b[0mbinarize\u001b[0m\u001b[0;34m(\u001b[0m\u001b[0mX\u001b[0m\u001b[0;34m,\u001b[0m \u001b[0mthreshold\u001b[0m\u001b[0;34m=\u001b[0m\u001b[0mself\u001b[0m\u001b[0;34m.\u001b[0m\u001b[0mbinarize\u001b[0m\u001b[0;34m)\u001b[0m\u001b[0;34m\u001b[0m\u001b[0;34m\u001b[0m\u001b[0m\n",
      "\u001b[0;32m/usr/local/lib/python3.7/dist-packages/sklearn/naive_bayes.py\u001b[0m in \u001b[0;36m_check_X_y\u001b[0;34m(self, X, y, reset)\u001b[0m\n\u001b[1;32m    521\u001b[0m     \u001b[0;32mdef\u001b[0m \u001b[0m_check_X_y\u001b[0m\u001b[0;34m(\u001b[0m\u001b[0mself\u001b[0m\u001b[0;34m,\u001b[0m \u001b[0mX\u001b[0m\u001b[0;34m,\u001b[0m \u001b[0my\u001b[0m\u001b[0;34m,\u001b[0m \u001b[0mreset\u001b[0m\u001b[0;34m=\u001b[0m\u001b[0;32mTrue\u001b[0m\u001b[0;34m)\u001b[0m\u001b[0;34m:\u001b[0m\u001b[0;34m\u001b[0m\u001b[0;34m\u001b[0m\u001b[0m\n\u001b[1;32m    522\u001b[0m         \u001b[0;34m\"\"\"Validate X and y in fit methods.\"\"\"\u001b[0m\u001b[0;34m\u001b[0m\u001b[0;34m\u001b[0m\u001b[0m\n\u001b[0;32m--> 523\u001b[0;31m         \u001b[0;32mreturn\u001b[0m \u001b[0mself\u001b[0m\u001b[0;34m.\u001b[0m\u001b[0m_validate_data\u001b[0m\u001b[0;34m(\u001b[0m\u001b[0mX\u001b[0m\u001b[0;34m,\u001b[0m \u001b[0my\u001b[0m\u001b[0;34m,\u001b[0m \u001b[0maccept_sparse\u001b[0m\u001b[0;34m=\u001b[0m\u001b[0;34m\"csr\"\u001b[0m\u001b[0;34m,\u001b[0m \u001b[0mreset\u001b[0m\u001b[0;34m=\u001b[0m\u001b[0mreset\u001b[0m\u001b[0;34m)\u001b[0m\u001b[0;34m\u001b[0m\u001b[0;34m\u001b[0m\u001b[0m\n\u001b[0m\u001b[1;32m    524\u001b[0m \u001b[0;34m\u001b[0m\u001b[0m\n\u001b[1;32m    525\u001b[0m     \u001b[0;32mdef\u001b[0m \u001b[0m_update_class_log_prior\u001b[0m\u001b[0;34m(\u001b[0m\u001b[0mself\u001b[0m\u001b[0;34m,\u001b[0m \u001b[0mclass_prior\u001b[0m\u001b[0;34m=\u001b[0m\u001b[0;32mNone\u001b[0m\u001b[0;34m)\u001b[0m\u001b[0;34m:\u001b[0m\u001b[0;34m\u001b[0m\u001b[0;34m\u001b[0m\u001b[0m\n",
      "\u001b[0;32m/usr/local/lib/python3.7/dist-packages/sklearn/base.py\u001b[0m in \u001b[0;36m_validate_data\u001b[0;34m(self, X, y, reset, validate_separately, **check_params)\u001b[0m\n\u001b[1;32m    579\u001b[0m                 \u001b[0my\u001b[0m \u001b[0;34m=\u001b[0m \u001b[0mcheck_array\u001b[0m\u001b[0;34m(\u001b[0m\u001b[0my\u001b[0m\u001b[0;34m,\u001b[0m \u001b[0;34m**\u001b[0m\u001b[0mcheck_y_params\u001b[0m\u001b[0;34m)\u001b[0m\u001b[0;34m\u001b[0m\u001b[0;34m\u001b[0m\u001b[0m\n\u001b[1;32m    580\u001b[0m             \u001b[0;32melse\u001b[0m\u001b[0;34m:\u001b[0m\u001b[0;34m\u001b[0m\u001b[0;34m\u001b[0m\u001b[0m\n\u001b[0;32m--> 581\u001b[0;31m                 \u001b[0mX\u001b[0m\u001b[0;34m,\u001b[0m \u001b[0my\u001b[0m \u001b[0;34m=\u001b[0m \u001b[0mcheck_X_y\u001b[0m\u001b[0;34m(\u001b[0m\u001b[0mX\u001b[0m\u001b[0;34m,\u001b[0m \u001b[0my\u001b[0m\u001b[0;34m,\u001b[0m \u001b[0;34m**\u001b[0m\u001b[0mcheck_params\u001b[0m\u001b[0;34m)\u001b[0m\u001b[0;34m\u001b[0m\u001b[0;34m\u001b[0m\u001b[0m\n\u001b[0m\u001b[1;32m    582\u001b[0m             \u001b[0mout\u001b[0m \u001b[0;34m=\u001b[0m \u001b[0mX\u001b[0m\u001b[0;34m,\u001b[0m \u001b[0my\u001b[0m\u001b[0;34m\u001b[0m\u001b[0;34m\u001b[0m\u001b[0m\n\u001b[1;32m    583\u001b[0m \u001b[0;34m\u001b[0m\u001b[0m\n",
      "\u001b[0;32m/usr/local/lib/python3.7/dist-packages/sklearn/utils/validation.py\u001b[0m in \u001b[0;36mcheck_X_y\u001b[0;34m(X, y, accept_sparse, accept_large_sparse, dtype, order, copy, force_all_finite, ensure_2d, allow_nd, multi_output, ensure_min_samples, ensure_min_features, y_numeric, estimator)\u001b[0m\n\u001b[1;32m    974\u001b[0m         \u001b[0mensure_min_samples\u001b[0m\u001b[0;34m=\u001b[0m\u001b[0mensure_min_samples\u001b[0m\u001b[0;34m,\u001b[0m\u001b[0;34m\u001b[0m\u001b[0;34m\u001b[0m\u001b[0m\n\u001b[1;32m    975\u001b[0m         \u001b[0mensure_min_features\u001b[0m\u001b[0;34m=\u001b[0m\u001b[0mensure_min_features\u001b[0m\u001b[0;34m,\u001b[0m\u001b[0;34m\u001b[0m\u001b[0;34m\u001b[0m\u001b[0m\n\u001b[0;32m--> 976\u001b[0;31m         \u001b[0mestimator\u001b[0m\u001b[0;34m=\u001b[0m\u001b[0mestimator\u001b[0m\u001b[0;34m,\u001b[0m\u001b[0;34m\u001b[0m\u001b[0;34m\u001b[0m\u001b[0m\n\u001b[0m\u001b[1;32m    977\u001b[0m     )\n\u001b[1;32m    978\u001b[0m \u001b[0;34m\u001b[0m\u001b[0m\n",
      "\u001b[0;32m/usr/local/lib/python3.7/dist-packages/sklearn/utils/validation.py\u001b[0m in \u001b[0;36mcheck_array\u001b[0;34m(array, accept_sparse, accept_large_sparse, dtype, order, copy, force_all_finite, ensure_2d, allow_nd, ensure_min_samples, ensure_min_features, estimator)\u001b[0m\n\u001b[1;32m    744\u001b[0m                     \u001b[0marray\u001b[0m \u001b[0;34m=\u001b[0m \u001b[0marray\u001b[0m\u001b[0;34m.\u001b[0m\u001b[0mastype\u001b[0m\u001b[0;34m(\u001b[0m\u001b[0mdtype\u001b[0m\u001b[0;34m,\u001b[0m \u001b[0mcasting\u001b[0m\u001b[0;34m=\u001b[0m\u001b[0;34m\"unsafe\"\u001b[0m\u001b[0;34m,\u001b[0m \u001b[0mcopy\u001b[0m\u001b[0;34m=\u001b[0m\u001b[0;32mFalse\u001b[0m\u001b[0;34m)\u001b[0m\u001b[0;34m\u001b[0m\u001b[0;34m\u001b[0m\u001b[0m\n\u001b[1;32m    745\u001b[0m                 \u001b[0;32melse\u001b[0m\u001b[0;34m:\u001b[0m\u001b[0;34m\u001b[0m\u001b[0;34m\u001b[0m\u001b[0m\n\u001b[0;32m--> 746\u001b[0;31m                     \u001b[0marray\u001b[0m \u001b[0;34m=\u001b[0m \u001b[0mnp\u001b[0m\u001b[0;34m.\u001b[0m\u001b[0masarray\u001b[0m\u001b[0;34m(\u001b[0m\u001b[0marray\u001b[0m\u001b[0;34m,\u001b[0m \u001b[0morder\u001b[0m\u001b[0;34m=\u001b[0m\u001b[0morder\u001b[0m\u001b[0;34m,\u001b[0m \u001b[0mdtype\u001b[0m\u001b[0;34m=\u001b[0m\u001b[0mdtype\u001b[0m\u001b[0;34m)\u001b[0m\u001b[0;34m\u001b[0m\u001b[0;34m\u001b[0m\u001b[0m\n\u001b[0m\u001b[1;32m    747\u001b[0m             \u001b[0;32mexcept\u001b[0m \u001b[0mComplexWarning\u001b[0m \u001b[0;32mas\u001b[0m \u001b[0mcomplex_warning\u001b[0m\u001b[0;34m:\u001b[0m\u001b[0;34m\u001b[0m\u001b[0;34m\u001b[0m\u001b[0m\n\u001b[1;32m    748\u001b[0m                 raise ValueError(\n",
      "\u001b[0;32m/usr/local/lib/python3.7/dist-packages/numpy/core/_asarray.py\u001b[0m in \u001b[0;36masarray\u001b[0;34m(a, dtype, order)\u001b[0m\n\u001b[1;32m     81\u001b[0m \u001b[0;34m\u001b[0m\u001b[0m\n\u001b[1;32m     82\u001b[0m     \"\"\"\n\u001b[0;32m---> 83\u001b[0;31m     \u001b[0;32mreturn\u001b[0m \u001b[0marray\u001b[0m\u001b[0;34m(\u001b[0m\u001b[0ma\u001b[0m\u001b[0;34m,\u001b[0m \u001b[0mdtype\u001b[0m\u001b[0;34m,\u001b[0m \u001b[0mcopy\u001b[0m\u001b[0;34m=\u001b[0m\u001b[0;32mFalse\u001b[0m\u001b[0;34m,\u001b[0m \u001b[0morder\u001b[0m\u001b[0;34m=\u001b[0m\u001b[0morder\u001b[0m\u001b[0;34m)\u001b[0m\u001b[0;34m\u001b[0m\u001b[0;34m\u001b[0m\u001b[0m\n\u001b[0m\u001b[1;32m     84\u001b[0m \u001b[0;34m\u001b[0m\u001b[0m\n\u001b[1;32m     85\u001b[0m \u001b[0;34m\u001b[0m\u001b[0m\n",
      "\u001b[0;32m/usr/local/lib/python3.7/dist-packages/pandas/core/series.py\u001b[0m in \u001b[0;36m__array__\u001b[0;34m(self, dtype)\u001b[0m\n\u001b[1;32m    795\u001b[0m               dtype='datetime64[ns]')\n\u001b[1;32m    796\u001b[0m         \"\"\"\n\u001b[0;32m--> 797\u001b[0;31m         \u001b[0;32mreturn\u001b[0m \u001b[0mnp\u001b[0m\u001b[0;34m.\u001b[0m\u001b[0masarray\u001b[0m\u001b[0;34m(\u001b[0m\u001b[0mself\u001b[0m\u001b[0;34m.\u001b[0m\u001b[0marray\u001b[0m\u001b[0;34m,\u001b[0m \u001b[0mdtype\u001b[0m\u001b[0;34m)\u001b[0m\u001b[0;34m\u001b[0m\u001b[0;34m\u001b[0m\u001b[0m\n\u001b[0m\u001b[1;32m    798\u001b[0m \u001b[0;34m\u001b[0m\u001b[0m\n\u001b[1;32m    799\u001b[0m     \u001b[0;31m# ----------------------------------------------------------------------\u001b[0m\u001b[0;34m\u001b[0m\u001b[0;34m\u001b[0m\u001b[0;34m\u001b[0m\u001b[0m\n",
      "\u001b[0;32m/usr/local/lib/python3.7/dist-packages/numpy/core/_asarray.py\u001b[0m in \u001b[0;36masarray\u001b[0;34m(a, dtype, order)\u001b[0m\n\u001b[1;32m     81\u001b[0m \u001b[0;34m\u001b[0m\u001b[0m\n\u001b[1;32m     82\u001b[0m     \"\"\"\n\u001b[0;32m---> 83\u001b[0;31m     \u001b[0;32mreturn\u001b[0m \u001b[0marray\u001b[0m\u001b[0;34m(\u001b[0m\u001b[0ma\u001b[0m\u001b[0;34m,\u001b[0m \u001b[0mdtype\u001b[0m\u001b[0;34m,\u001b[0m \u001b[0mcopy\u001b[0m\u001b[0;34m=\u001b[0m\u001b[0;32mFalse\u001b[0m\u001b[0;34m,\u001b[0m \u001b[0morder\u001b[0m\u001b[0;34m=\u001b[0m\u001b[0morder\u001b[0m\u001b[0;34m)\u001b[0m\u001b[0;34m\u001b[0m\u001b[0;34m\u001b[0m\u001b[0m\n\u001b[0m\u001b[1;32m     84\u001b[0m \u001b[0;34m\u001b[0m\u001b[0m\n\u001b[1;32m     85\u001b[0m \u001b[0;34m\u001b[0m\u001b[0m\n",
      "\u001b[0;32m/usr/local/lib/python3.7/dist-packages/pandas/core/arrays/numpy_.py\u001b[0m in \u001b[0;36m__array__\u001b[0;34m(self, dtype)\u001b[0m\n\u001b[1;32m    209\u001b[0m \u001b[0;34m\u001b[0m\u001b[0m\n\u001b[1;32m    210\u001b[0m     \u001b[0;32mdef\u001b[0m \u001b[0m__array__\u001b[0m\u001b[0;34m(\u001b[0m\u001b[0mself\u001b[0m\u001b[0;34m,\u001b[0m \u001b[0mdtype\u001b[0m\u001b[0;34m=\u001b[0m\u001b[0;32mNone\u001b[0m\u001b[0;34m)\u001b[0m \u001b[0;34m->\u001b[0m \u001b[0mnp\u001b[0m\u001b[0;34m.\u001b[0m\u001b[0mndarray\u001b[0m\u001b[0;34m:\u001b[0m\u001b[0;34m\u001b[0m\u001b[0;34m\u001b[0m\u001b[0m\n\u001b[0;32m--> 211\u001b[0;31m         \u001b[0;32mreturn\u001b[0m \u001b[0mnp\u001b[0m\u001b[0;34m.\u001b[0m\u001b[0masarray\u001b[0m\u001b[0;34m(\u001b[0m\u001b[0mself\u001b[0m\u001b[0;34m.\u001b[0m\u001b[0m_ndarray\u001b[0m\u001b[0;34m,\u001b[0m \u001b[0mdtype\u001b[0m\u001b[0;34m=\u001b[0m\u001b[0mdtype\u001b[0m\u001b[0;34m)\u001b[0m\u001b[0;34m\u001b[0m\u001b[0;34m\u001b[0m\u001b[0m\n\u001b[0m\u001b[1;32m    212\u001b[0m \u001b[0;34m\u001b[0m\u001b[0m\n\u001b[1;32m    213\u001b[0m     \u001b[0m_HANDLED_TYPES\u001b[0m \u001b[0;34m=\u001b[0m \u001b[0;34m(\u001b[0m\u001b[0mnp\u001b[0m\u001b[0;34m.\u001b[0m\u001b[0mndarray\u001b[0m\u001b[0;34m,\u001b[0m \u001b[0mnumbers\u001b[0m\u001b[0;34m.\u001b[0m\u001b[0mNumber\u001b[0m\u001b[0;34m)\u001b[0m\u001b[0;34m\u001b[0m\u001b[0;34m\u001b[0m\u001b[0m\n",
      "\u001b[0;32m/usr/local/lib/python3.7/dist-packages/numpy/core/_asarray.py\u001b[0m in \u001b[0;36masarray\u001b[0;34m(a, dtype, order)\u001b[0m\n\u001b[1;32m     81\u001b[0m \u001b[0;34m\u001b[0m\u001b[0m\n\u001b[1;32m     82\u001b[0m     \"\"\"\n\u001b[0;32m---> 83\u001b[0;31m     \u001b[0;32mreturn\u001b[0m \u001b[0marray\u001b[0m\u001b[0;34m(\u001b[0m\u001b[0ma\u001b[0m\u001b[0;34m,\u001b[0m \u001b[0mdtype\u001b[0m\u001b[0;34m,\u001b[0m \u001b[0mcopy\u001b[0m\u001b[0;34m=\u001b[0m\u001b[0;32mFalse\u001b[0m\u001b[0;34m,\u001b[0m \u001b[0morder\u001b[0m\u001b[0;34m=\u001b[0m\u001b[0morder\u001b[0m\u001b[0;34m)\u001b[0m\u001b[0;34m\u001b[0m\u001b[0;34m\u001b[0m\u001b[0m\n\u001b[0m\u001b[1;32m     84\u001b[0m \u001b[0;34m\u001b[0m\u001b[0m\n\u001b[1;32m     85\u001b[0m \u001b[0;34m\u001b[0m\u001b[0m\n",
      "\u001b[0;31mValueError\u001b[0m: could not convert string to float: 'yesimbackagainifeellikerantingthesnowismeltinglastnightwasthelaststrawbutnowimleftwithanemptycupnothingiseverwhatitseemsandonceagainivebroughtthisonmyselfandformethereisnogoingbackwillyoucatchupthetearswillnotfallbutthepainwillgoawayisitandlaughbecauseihavebeenherebeforeandwillbehereagainitsokayillliveialwaysdoitsmysenseofhumorthatsavesmesarcasticasitmaybeandasmuchasyoumayhateitithassavedmeiwouldhavegonelongagoifnotforitmytrustyshieldyounevergotascloseasyoucouldhaveitsavedmeitruinedmehmratherabstracttonighthuh'"
     ]
    }
   ],
   "source": [
    "from sklearn.naive_bayes import BernoulliNB\n",
    "from sklearn.metrics import accuracy_score\n",
    "clf = BernoulliNB()\n",
    "clf.fit(X_train, y_train)\n",
    "y_pred = clf.predict(X_test)"
   ]
  },
  {
   "cell_type": "code",
   "execution_count": null,
   "metadata": {
    "id": "l3tsDDFToaAC"
   },
   "outputs": [],
   "source": [
    "Ypred_inverser=bina"
   ]
  },
  {
   "cell_type": "code",
   "execution_count": null,
   "metadata": {
    "colab": {
     "base_uri": "https://localhost:8080/",
     "height": 328
    },
    "id": "aUGQ8NRsm-it",
    "outputId": "a48f6fac-4af0-4699-fc00-616cc2050da4"
   },
   "outputs": [
    {
     "ename": "ValueError",
     "evalue": "ignored",
     "output_type": "error",
     "traceback": [
      "\u001b[0;31m---------------------------------------------------------------------------\u001b[0m",
      "\u001b[0;31mValueError\u001b[0m                                Traceback (most recent call last)",
      "\u001b[0;32m<ipython-input-114-bdd3a3620af6>\u001b[0m in \u001b[0;36m<module>\u001b[0;34m()\u001b[0m\n\u001b[1;32m      1\u001b[0m \u001b[0;31m#prec_score_NB=average_precision_score(y_test,y_pred,average='micro')\u001b[0m\u001b[0;34m\u001b[0m\u001b[0;34m\u001b[0m\u001b[0;34m\u001b[0m\u001b[0m\n\u001b[0;32m----> 2\u001b[0;31m \u001b[0mprint\u001b[0m\u001b[0;34m(\u001b[0m\u001b[0maverage_precision_score\u001b[0m\u001b[0;34m(\u001b[0m\u001b[0my_test\u001b[0m\u001b[0;34m,\u001b[0m\u001b[0my_pred\u001b[0m\u001b[0;34m)\u001b[0m\u001b[0;34m)\u001b[0m\u001b[0;34m\u001b[0m\u001b[0;34m\u001b[0m\u001b[0m\n\u001b[0m",
      "\u001b[0;32m/usr/local/lib/python3.7/dist-packages/sklearn/metrics/_ranking.py\u001b[0m in \u001b[0;36maverage_precision_score\u001b[0;34m(y_true, y_score, average, pos_label, sample_weight)\u001b[0m\n\u001b[1;32m    231\u001b[0m     )\n\u001b[1;32m    232\u001b[0m     return _average_binary_score(\n\u001b[0;32m--> 233\u001b[0;31m         \u001b[0maverage_precision\u001b[0m\u001b[0;34m,\u001b[0m \u001b[0my_true\u001b[0m\u001b[0;34m,\u001b[0m \u001b[0my_score\u001b[0m\u001b[0;34m,\u001b[0m \u001b[0maverage\u001b[0m\u001b[0;34m,\u001b[0m \u001b[0msample_weight\u001b[0m\u001b[0;34m=\u001b[0m\u001b[0msample_weight\u001b[0m\u001b[0;34m\u001b[0m\u001b[0;34m\u001b[0m\u001b[0m\n\u001b[0m\u001b[1;32m    234\u001b[0m     )\n\u001b[1;32m    235\u001b[0m \u001b[0;34m\u001b[0m\u001b[0m\n",
      "\u001b[0;32m/usr/local/lib/python3.7/dist-packages/sklearn/metrics/_base.py\u001b[0m in \u001b[0;36m_average_binary_score\u001b[0;34m(binary_metric, y_true, y_score, average, sample_weight)\u001b[0m\n\u001b[1;32m     70\u001b[0m     \u001b[0my_type\u001b[0m \u001b[0;34m=\u001b[0m \u001b[0mtype_of_target\u001b[0m\u001b[0;34m(\u001b[0m\u001b[0my_true\u001b[0m\u001b[0;34m)\u001b[0m\u001b[0;34m\u001b[0m\u001b[0;34m\u001b[0m\u001b[0m\n\u001b[1;32m     71\u001b[0m     \u001b[0;32mif\u001b[0m \u001b[0my_type\u001b[0m \u001b[0;32mnot\u001b[0m \u001b[0;32min\u001b[0m \u001b[0;34m(\u001b[0m\u001b[0;34m\"binary\"\u001b[0m\u001b[0;34m,\u001b[0m \u001b[0;34m\"multilabel-indicator\"\u001b[0m\u001b[0;34m)\u001b[0m\u001b[0;34m:\u001b[0m\u001b[0;34m\u001b[0m\u001b[0;34m\u001b[0m\u001b[0m\n\u001b[0;32m---> 72\u001b[0;31m         \u001b[0;32mraise\u001b[0m \u001b[0mValueError\u001b[0m\u001b[0;34m(\u001b[0m\u001b[0;34m\"{0} format is not supported\"\u001b[0m\u001b[0;34m.\u001b[0m\u001b[0mformat\u001b[0m\u001b[0;34m(\u001b[0m\u001b[0my_type\u001b[0m\u001b[0;34m)\u001b[0m\u001b[0;34m)\u001b[0m\u001b[0;34m\u001b[0m\u001b[0;34m\u001b[0m\u001b[0m\n\u001b[0m\u001b[1;32m     73\u001b[0m \u001b[0;34m\u001b[0m\u001b[0m\n\u001b[1;32m     74\u001b[0m     \u001b[0;32mif\u001b[0m \u001b[0my_type\u001b[0m \u001b[0;34m==\u001b[0m \u001b[0;34m\"binary\"\u001b[0m\u001b[0;34m:\u001b[0m\u001b[0;34m\u001b[0m\u001b[0;34m\u001b[0m\u001b[0m\n",
      "\u001b[0;31mValueError\u001b[0m: multiclass format is not supported"
     ]
    }
   ],
   "source": [
    "#prec_score_NB=average_precision_score(y_test,y_pred,average='micro')\n",
    "print(average_precision_score(y_test,y_pred))"
   ]
  },
  {
   "cell_type": "code",
   "execution_count": null,
   "metadata": {
    "id": "4ZJmkhk7m-mL"
   },
   "outputs": [],
   "source": [
    ""
   ]
  },
  {
   "cell_type": "code",
   "execution_count": null,
   "metadata": {
    "id": "TLDl2Er0mw2x"
   },
   "outputs": [],
   "source": [
    ""
   ]
  },
  {
   "cell_type": "code",
   "execution_count": null,
   "metadata": {
    "id": "n_IoH4wcmw6X"
   },
   "outputs": [],
   "source": [
    ""
   ]
  },
  {
   "cell_type": "code",
   "execution_count": null,
   "metadata": {
    "colab": {
     "base_uri": "https://localhost:8080/"
    },
    "id": "cHxFNw-xghkS",
    "outputId": "8c15558e-c0cd-428d-ff61-dbf072d2e788"
   },
   "outputs": [
    {
     "name": "stdout",
     "output_type": "stream",
     "text": [
      "heyguysjustreachhomeoniwokeveriearlybcoscarlosttbastardcallmeatamaskingmetopalypoolwithimdayafterhecallmeicantgettosleeplioazallbcosfohisfaultttyiamfeelingsotirednowyawnzzzwenttomyfatherstalltohelpoutuntilplusthenwenthometogetchangedtogetreadytomeetcarlosplaypooltillwanoclocklioazthenmojojoaskmewanaccompanyhimgoeatdinnerornotthenmeandcarloswenttotiongbahruaandwentforhimtoarrivedbythetimehearriveditwasalreadypluswtfmakemewaitforlongbutintheendalsonveatcosallthoesefastfoodreasaurtanthadalreadyclosedsadsadsadsoenduptokingtillwanpmlioazsotimetogohomefeelingrealtirednowbyeguysbythewaythependingisoverandigotperweekinsteadofyeapeaceout\n"
     ]
    }
   ],
   "source": [
    "count_vect = CountVectorizer(analyzer='word',token_pattern=r'\\w{1,}',ngram_range=(1,2),stop_words='english')\n",
    "corpus= list(X_train)+list(X_test)\n",
    "\n",
    "#count_vect.fit_transform(X_train)\n",
    "#count_vect.fit_transform(X_train)\n",
    "print(corpus[1])"
   ]
  },
  {
   "cell_type": "code",
   "execution_count": null,
   "metadata": {
    "colab": {
     "base_uri": "https://localhost:8080/"
    },
    "id": "CcykD1ZjiNs6",
    "outputId": "5f607bcf-5328-4981-b07b-8c7172522af9"
   },
   "outputs": [
    {
     "data": {
      "text/plain": [
       "CountVectorizer(ngram_range=(1, 2), stop_words='english',\n",
       "                token_pattern='\\\\w{1,}')"
      ]
     },
     "execution_count": 96,
     "metadata": {},
     "output_type": "execute_result"
    }
   ],
   "source": [
    "count_vect.fit(corpus)"
   ]
  },
  {
   "cell_type": "code",
   "execution_count": null,
   "metadata": {
    "colab": {
     "base_uri": "https://localhost:8080/"
    },
    "id": "TxYeSrVclwJe",
    "outputId": "453daaca-93e4-467f-ccf7-4effff612604"
   },
   "outputs": [
    {
     "name": "stderr",
     "output_type": "stream",
     "text": [
      "/usr/local/lib/python3.7/dist-packages/sklearn/utils/deprecation.py:87: FutureWarning: Function get_feature_names is deprecated; get_feature_names is deprecated in 1.0 and will be removed in 1.2. Please use get_feature_names_out instead.\n",
      "  warnings.warn(msg, category=FutureWarning)\n"
     ]
    },
    {
     "data": {
      "text/plain": [
       "['aaarrrggghhhhhhhhgggghhhhhhidroppedmyibookmypreciouspreciousibookonthegroundfromachairiknockeditoverbyaccidenthonestacknowmymicrosoftwordapplicationwontopenandcertainfoldersinthefindercantbeopenedeitherandihavemajoressaysduesoonhelpimalmostintearsthisisterribleandireallywantedtofinishanessaybytodaysoicouldstartontherestbutiguessitsnotmeanttobethescarythingisithinkimayhavetosenditintotheapplestoreandgetitfixedandtheymightwannachangetheharddriveorsomethingwhichmeansillhavetobackupallmyapplicationsetcandidonthaveacdwriteroranythingalthoughicouldbackituponidiskontheappleserversbutthatlltaketoolongonmykmodemithinkhopefullymyahemgoodbuddycharlesnudgenudgemightlendmehisexternalcdwritersoicanbackupmystuffwhymustthishappennowimsuretheremustbeareasonforallthistohappensomesortofbigmasterplanorsomethingeitherthatorishouldjustbelesslunzunpersonallyithinkitsthelatternotthatidontbelieveinabmpjustthatimalwayslunzuncharlesandegenetellmethatallthetimelikehowificouldjustbemoreawareandwatchwhatimdoingicouldavoidlotsaaccidentsbutthepointisitsnotlikeimnottryingoranythingwhenyoureunconsciouslyunawareyoujustareitsnotlikeyoucanreallyhelpitorcanyouidontknowireallydontknowasafamousmanoncesaidsohelpmegod',\n",
       " 'aaarrrrggggghhhhhijustrealizedthatihavelostalltheworkthatididonthisthingbloggerdidsomemaintenanceworkwhichcausedmetogeterrormessagesonmypagesoidownloadedthetemplateagaintofixtheerrorandilostmyweathertrampandmytagboardandmyfavoritelinksthisisworsethansomeonestealingmycaralthoughireallywishsomeonewouldorsomethingithinkineedtobealoneforafewminuteswithmygrieftheniwilljusthavetorebuild',\n",
       " 'aarrgghhimissedadayimstilltryingtofindmyrangehereitsallinmyvoiceofcoursebecauseicantspeakinanyvoiceofmyownbutihaventdecideyetifiwanttotryspecializinginasortofnotesorjustcontinuewithrandomthoughtsthatoccupymebeforebedtimethepointofthisisthativebeenfeelingselfconsciousaboutwritingialsohavestartedtobuilditupintosomethingdreadfulthatsabsurdofcoursemyonlyrealtalentisforwordsandwritingienjoywritinginitswayormorepreciselyienjoyplayingwithmylargevocabularyimnotawriterinthesensethatifeelcompelledtoespressthingsmyexpressionsareessentiallyeffortlessthisishowisoundwhenitalkfolksistartedablogbecauseiwanttoexercisemywritingandskillsandiconfessiwanttoseewhereicangowithapublicproclamationalrightsofarthepublicismeandthestuffedbearsonmymonitorbutstillbabysteps',\n",
       " 'ababysealwalksintoaclubsnicker',\n",
       " 'abeautifulmustanghasneverbeentamedbutnowtheressomethingwrongandtheresonlyyoutoblameyoucagedherupnevertoflyamongtheothermustangsamonganotherskyshelooksouttotheworldwishingshewashometogalopinthemeadowwhereshecanfreelyroamtherearethingsthatshecannotforgetthesmellofdifferentflowersandhowthesunmaysetpleaselethergoandletthemustangfreeforthedeepermeaningisthemustangsnbsptrulymeivebeencageduptomanytimesbeforemywingshavebeenclippedsoimayneversoarhopeisallihavebuthowfarwillitgotherearethingsthatiwishicouldknowmaybeonedaynbspyouwillfinallyseethedamageyouhavecausedmeandthepersonicantbeiwillstriveonanddowhaticandothereisnopointinalwaysfeelingblueithankallmyfriendsforalwaysstandingnearandtomynewfriendofwhoishareafearfucktheworldwhohatesusbecausewespeakourmindbutalwaysbehappyofthethingsthatyoumayfindlivelifetodayandletgoofthepastthislifeistrulywonderfulbutdamnitgoestofastwellithinkthatsasfarasthispoemcangomynbspmindhasquitthinkinandwellithasagoodlengthrightnowthanksalsoforpeoplewhocommentonthesehopefullyyouappreciatethingsastheyareandifyouseeyourselfinoneofmyhateblogswellmaybeyouhaveabetterunderstandinwhypeoplemayfuckinhateyouimjustspeakinmymindandtellinyouwhatothersmaybescaredtosaynbsp',\n",
       " 'abirdthatburiesitsheadinmashedpotatoes',\n",
       " 'abookforandaboutstupidpeoplehttpwwwsaloncombooksreviewstupidindexhtml',\n",
       " 'aboringdaylersundaysareboringaihzwenttochurchthismorningkindasleepyaihzthenwentforlunchinsubangthenwewentbackpimjustsodarnboredaihzhmmatlastmycpuhasbeenfixeduphehewentonlinebutnoonewasonlineaihzsobzzzsochamvarchatterboxnowinampendingthemeofgoldenfaithgallenlo',\n",
       " 'abortabortabortsomeonealreadytookpandylandasayahoousernamesoourofficialemailispandylandblogyahoocompandylandmembersemailmeatanniehultgrenyahoocomifyouwouldlikethepassword',\n",
       " 'abortabortabortwearenolongergoingtothemoviewejustheardacrowdclappinginthebreakroomwhatdoesthismeanfreecakeicantpassupfreecakeevenforthehilarityofwillferrell']"
      ]
     },
     "execution_count": 97,
     "metadata": {},
     "output_type": "execute_result"
    }
   ],
   "source": [
    "#Let us see some feature names\n",
    "count_vect.get_feature_names()[:10]"
   ]
  },
  {
   "cell_type": "code",
   "execution_count": null,
   "metadata": {
    "colab": {
     "base_uri": "https://localhost:8080/"
    },
    "id": "EKyocqmylwM6",
    "outputId": "30b53d8a-db52-4474-dc50-2075db89be29"
   },
   "outputs": [
    {
     "data": {
      "text/plain": [
       "9912"
      ]
     },
     "execution_count": 98,
     "metadata": {},
     "output_type": "execute_result"
    }
   ],
   "source": [
    "#Check the vocablury size\n",
    "len(count_vect.vocabulary_)"
   ]
  },
  {
   "cell_type": "code",
   "execution_count": null,
   "metadata": {
    "id": "TSqKiaV4nEeG"
   },
   "outputs": [],
   "source": [
    "X_train_ctv=count_vect.transform(X_train)"
   ]
  },
  {
   "cell_type": "code",
   "execution_count": null,
   "metadata": {
    "id": "V5-2adj9nE1Q"
   },
   "outputs": [],
   "source": [
    "\n",
    "X_test_ctv=count_vect.transform(X_test)"
   ]
  },
  {
   "cell_type": "code",
   "execution_count": null,
   "metadata": {
    "colab": {
     "base_uri": "https://localhost:8080/"
    },
    "id": "jsFWz_2Znbue",
    "outputId": "3851b10e-0734-4571-fd6d-a8167f0c22b6"
   },
   "outputs": [
    {
     "name": "stdout",
     "output_type": "stream",
     "text": [
      "  (0, 9690)\t1\n",
      "  (1, 2427)\t1\n",
      "  (2, 2580)\t1\n",
      "  (3, 7290)\t1\n",
      "  (4, 2207)\t1\n",
      "  (5, 3257)\t1\n",
      "  (6, 1234)\t1\n",
      "  (7, 7317)\t1\n",
      "  (8, 9215)\t1\n",
      "  (9, 627)\t1\n",
      "  (10, 1025)\t1\n",
      "  (11, 230)\t1\n",
      "  (12, 278)\t1\n",
      "  (13, 1650)\t1\n",
      "  (14, 3746)\t1\n",
      "  (15, 8656)\t1\n",
      "  (16, 6743)\t1\n",
      "  (17, 9575)\t1\n",
      "  (18, 6505)\t1\n",
      "  (19, 9620)\t1\n",
      "  (20, 6550)\t1\n",
      "  (21, 3892)\t1\n",
      "  (22, 7108)\t1\n",
      "  (23, 1561)\t1\n",
      "  (24, 8598)\t1\n",
      "  :\t:\n",
      "  (8975, 4004)\t1\n",
      "  (8976, 3738)\t1\n",
      "  (8977, 5004)\t1\n",
      "  (8978, 6959)\t1\n",
      "  (8979, 9488)\t1\n",
      "  (8980, 776)\t1\n",
      "  (8981, 1647)\t1\n",
      "  (8982, 5585)\t1\n",
      "  (8983, 6206)\t1\n",
      "  (8984, 6571)\t1\n",
      "  (8985, 7864)\t1\n",
      "  (8986, 7252)\t1\n",
      "  (8987, 5823)\t1\n",
      "  (8988, 2514)\t1\n",
      "  (8989, 3393)\t1\n",
      "  (8990, 6526)\t1\n",
      "  (8991, 8692)\t1\n",
      "  (8992, 5119)\t1\n",
      "  (8993, 4600)\t1\n",
      "  (8994, 1017)\t1\n",
      "  (8995, 4829)\t1\n",
      "  (8996, 4113)\t1\n",
      "  (8997, 9148)\t1\n",
      "  (8998, 6756)\t1\n",
      "  (8999, 3412)\t1\n",
      "  (0, 7004)\t1\n",
      "  (1, 6782)\t1\n",
      "  (2, 3100)\t1\n",
      "  (3, 3545)\t1\n",
      "  (4, 828)\t1\n",
      "  (5, 3338)\t1\n",
      "  (6, 2693)\t1\n",
      "  (7, 3216)\t1\n",
      "  (8, 3464)\t1\n",
      "  (9, 2875)\t1\n",
      "  (10, 2611)\t1\n",
      "  (11, 4763)\t1\n",
      "  (12, 6230)\t1\n",
      "  (13, 7138)\t1\n",
      "  (14, 4095)\t1\n",
      "  (15, 8252)\t1\n",
      "  (16, 8927)\t1\n",
      "  (17, 8321)\t1\n",
      "  (18, 6079)\t1\n",
      "  (19, 7438)\t1\n",
      "  (20, 8600)\t1\n",
      "  (21, 8214)\t1\n",
      "  (22, 7514)\t1\n",
      "  (23, 2488)\t1\n",
      "  (24, 1408)\t1\n",
      "  :\t:\n",
      "  (975, 6785)\t1\n",
      "  (976, 6040)\t1\n",
      "  (977, 469)\t1\n",
      "  (978, 6205)\t1\n",
      "  (979, 9608)\t1\n",
      "  (980, 5919)\t1\n",
      "  (981, 5020)\t1\n",
      "  (982, 8538)\t1\n",
      "  (983, 1785)\t1\n",
      "  (984, 8595)\t1\n",
      "  (985, 4422)\t1\n",
      "  (986, 5250)\t1\n",
      "  (987, 3784)\t1\n",
      "  (988, 6768)\t1\n",
      "  (989, 3935)\t1\n",
      "  (990, 3904)\t1\n",
      "  (991, 1357)\t1\n",
      "  (992, 1573)\t1\n",
      "  (993, 638)\t1\n",
      "  (994, 771)\t1\n",
      "  (995, 2209)\t1\n",
      "  (996, 3148)\t1\n",
      "  (997, 788)\t1\n",
      "  (998, 2194)\t1\n",
      "  (999, 1787)\t1\n"
     ]
    }
   ],
   "source": [
    "print(X_train_ctv)\n",
    "print(X_test_ctv)"
   ]
  },
  {
   "cell_type": "code",
   "execution_count": null,
   "metadata": {
    "colab": {
     "base_uri": "https://localhost:8080/"
    },
    "id": "35qZOoU5nbx_",
    "outputId": "0498c8e3-297e-4896-a30c-36e6e0a40d7d"
   },
   "outputs": [
    {
     "name": "stdout",
     "output_type": "stream",
     "text": [
      "  (0, 9690)\t1\n",
      "  (0, 7004)\t1\n"
     ]
    }
   ],
   "source": [
    "print(X_train_ctv[0])\n",
    "print(X_test_ctv[0])"
   ]
  },
  {
   "cell_type": "code",
   "execution_count": null,
   "metadata": {
    "id": "NW5_usZGn77p"
   },
   "outputs": [],
   "source": [
    ""
   ]
  },
  {
   "cell_type": "markdown",
   "metadata": {
    "id": "VXxGawOZqSz_"
   },
   "source": [
    "D. Build a base model for Supervised Learning - Classification."
   ]
  },
  {
   "cell_type": "code",
   "execution_count": null,
   "metadata": {
    "colab": {
     "base_uri": "https://localhost:8080/",
     "height": 380
    },
    "id": "Z7rFTHtlp8_6",
    "outputId": "7e8ea4e9-dd30-400d-9386-7287ec45eaa8"
   },
   "outputs": [
    {
     "ename": "ValueError",
     "evalue": "ignored",
     "output_type": "error",
     "traceback": [
      "\u001b[0;31m---------------------------------------------------------------------------\u001b[0m",
      "\u001b[0;31mValueError\u001b[0m                                Traceback (most recent call last)",
      "\u001b[0;32m<ipython-input-217-77a238755a89>\u001b[0m in \u001b[0;36m<module>\u001b[0;34m()\u001b[0m\n\u001b[1;32m      2\u001b[0m \u001b[0;32mfrom\u001b[0m \u001b[0msklearn\u001b[0m\u001b[0;34m.\u001b[0m\u001b[0mmetrics\u001b[0m \u001b[0;32mimport\u001b[0m \u001b[0maccuracy_score\u001b[0m\u001b[0;34m\u001b[0m\u001b[0;34m\u001b[0m\u001b[0m\n\u001b[1;32m      3\u001b[0m \u001b[0mclf\u001b[0m \u001b[0;34m=\u001b[0m \u001b[0mBernoulliNB\u001b[0m\u001b[0;34m(\u001b[0m\u001b[0;34m)\u001b[0m\u001b[0;34m\u001b[0m\u001b[0;34m\u001b[0m\u001b[0m\n\u001b[0;32m----> 4\u001b[0;31m \u001b[0mclf\u001b[0m\u001b[0;34m.\u001b[0m\u001b[0mfit\u001b[0m\u001b[0;34m(\u001b[0m\u001b[0mX_train_ctv\u001b[0m\u001b[0;34m,\u001b[0m \u001b[0my_train\u001b[0m\u001b[0;34m)\u001b[0m\u001b[0;34m\u001b[0m\u001b[0;34m\u001b[0m\u001b[0m\n\u001b[0m\u001b[1;32m      5\u001b[0m \u001b[0my_pred\u001b[0m \u001b[0;34m=\u001b[0m \u001b[0mclf\u001b[0m\u001b[0;34m.\u001b[0m\u001b[0mpredict\u001b[0m\u001b[0;34m(\u001b[0m\u001b[0mX_test_ctv\u001b[0m\u001b[0;34m)\u001b[0m\u001b[0;34m\u001b[0m\u001b[0;34m\u001b[0m\u001b[0m\n\u001b[1;32m      6\u001b[0m \u001b[0;31m#print(accuracy_score(y_test, y_pred))\u001b[0m\u001b[0;34m\u001b[0m\u001b[0;34m\u001b[0m\u001b[0;34m\u001b[0m\u001b[0m\n",
      "\u001b[0;32m/usr/local/lib/python3.7/dist-packages/sklearn/naive_bayes.py\u001b[0m in \u001b[0;36mfit\u001b[0;34m(self, X, y, sample_weight)\u001b[0m\n\u001b[1;32m    661\u001b[0m             \u001b[0mReturns\u001b[0m \u001b[0mthe\u001b[0m \u001b[0minstance\u001b[0m \u001b[0mitself\u001b[0m\u001b[0;34m.\u001b[0m\u001b[0;34m\u001b[0m\u001b[0;34m\u001b[0m\u001b[0m\n\u001b[1;32m    662\u001b[0m         \"\"\"\n\u001b[0;32m--> 663\u001b[0;31m         \u001b[0mX\u001b[0m\u001b[0;34m,\u001b[0m \u001b[0my\u001b[0m \u001b[0;34m=\u001b[0m \u001b[0mself\u001b[0m\u001b[0;34m.\u001b[0m\u001b[0m_check_X_y\u001b[0m\u001b[0;34m(\u001b[0m\u001b[0mX\u001b[0m\u001b[0;34m,\u001b[0m \u001b[0my\u001b[0m\u001b[0;34m)\u001b[0m\u001b[0;34m\u001b[0m\u001b[0;34m\u001b[0m\u001b[0m\n\u001b[0m\u001b[1;32m    664\u001b[0m         \u001b[0m_\u001b[0m\u001b[0;34m,\u001b[0m \u001b[0mn_features\u001b[0m \u001b[0;34m=\u001b[0m \u001b[0mX\u001b[0m\u001b[0;34m.\u001b[0m\u001b[0mshape\u001b[0m\u001b[0;34m\u001b[0m\u001b[0;34m\u001b[0m\u001b[0m\n\u001b[1;32m    665\u001b[0m \u001b[0;34m\u001b[0m\u001b[0m\n",
      "\u001b[0;32m/usr/local/lib/python3.7/dist-packages/sklearn/naive_bayes.py\u001b[0m in \u001b[0;36m_check_X_y\u001b[0;34m(self, X, y, reset)\u001b[0m\n\u001b[1;32m   1151\u001b[0m \u001b[0;34m\u001b[0m\u001b[0m\n\u001b[1;32m   1152\u001b[0m     \u001b[0;32mdef\u001b[0m \u001b[0m_check_X_y\u001b[0m\u001b[0;34m(\u001b[0m\u001b[0mself\u001b[0m\u001b[0;34m,\u001b[0m \u001b[0mX\u001b[0m\u001b[0;34m,\u001b[0m \u001b[0my\u001b[0m\u001b[0;34m,\u001b[0m \u001b[0mreset\u001b[0m\u001b[0;34m=\u001b[0m\u001b[0;32mTrue\u001b[0m\u001b[0;34m)\u001b[0m\u001b[0;34m:\u001b[0m\u001b[0;34m\u001b[0m\u001b[0;34m\u001b[0m\u001b[0m\n\u001b[0;32m-> 1153\u001b[0;31m         \u001b[0mX\u001b[0m\u001b[0;34m,\u001b[0m \u001b[0my\u001b[0m \u001b[0;34m=\u001b[0m \u001b[0msuper\u001b[0m\u001b[0;34m(\u001b[0m\u001b[0;34m)\u001b[0m\u001b[0;34m.\u001b[0m\u001b[0m_check_X_y\u001b[0m\u001b[0;34m(\u001b[0m\u001b[0mX\u001b[0m\u001b[0;34m,\u001b[0m \u001b[0my\u001b[0m\u001b[0;34m,\u001b[0m \u001b[0mreset\u001b[0m\u001b[0;34m=\u001b[0m\u001b[0mreset\u001b[0m\u001b[0;34m)\u001b[0m\u001b[0;34m\u001b[0m\u001b[0;34m\u001b[0m\u001b[0m\n\u001b[0m\u001b[1;32m   1154\u001b[0m         \u001b[0;32mif\u001b[0m \u001b[0mself\u001b[0m\u001b[0;34m.\u001b[0m\u001b[0mbinarize\u001b[0m \u001b[0;32mis\u001b[0m \u001b[0;32mnot\u001b[0m \u001b[0;32mNone\u001b[0m\u001b[0;34m:\u001b[0m\u001b[0;34m\u001b[0m\u001b[0;34m\u001b[0m\u001b[0m\n\u001b[1;32m   1155\u001b[0m             \u001b[0mX\u001b[0m \u001b[0;34m=\u001b[0m \u001b[0mbinarize\u001b[0m\u001b[0;34m(\u001b[0m\u001b[0mX\u001b[0m\u001b[0;34m,\u001b[0m \u001b[0mthreshold\u001b[0m\u001b[0;34m=\u001b[0m\u001b[0mself\u001b[0m\u001b[0;34m.\u001b[0m\u001b[0mbinarize\u001b[0m\u001b[0;34m)\u001b[0m\u001b[0;34m\u001b[0m\u001b[0;34m\u001b[0m\u001b[0m\n",
      "\u001b[0;32m/usr/local/lib/python3.7/dist-packages/sklearn/naive_bayes.py\u001b[0m in \u001b[0;36m_check_X_y\u001b[0;34m(self, X, y, reset)\u001b[0m\n\u001b[1;32m    521\u001b[0m     \u001b[0;32mdef\u001b[0m \u001b[0m_check_X_y\u001b[0m\u001b[0;34m(\u001b[0m\u001b[0mself\u001b[0m\u001b[0;34m,\u001b[0m \u001b[0mX\u001b[0m\u001b[0;34m,\u001b[0m \u001b[0my\u001b[0m\u001b[0;34m,\u001b[0m \u001b[0mreset\u001b[0m\u001b[0;34m=\u001b[0m\u001b[0;32mTrue\u001b[0m\u001b[0;34m)\u001b[0m\u001b[0;34m:\u001b[0m\u001b[0;34m\u001b[0m\u001b[0;34m\u001b[0m\u001b[0m\n\u001b[1;32m    522\u001b[0m         \u001b[0;34m\"\"\"Validate X and y in fit methods.\"\"\"\u001b[0m\u001b[0;34m\u001b[0m\u001b[0;34m\u001b[0m\u001b[0m\n\u001b[0;32m--> 523\u001b[0;31m         \u001b[0;32mreturn\u001b[0m \u001b[0mself\u001b[0m\u001b[0;34m.\u001b[0m\u001b[0m_validate_data\u001b[0m\u001b[0;34m(\u001b[0m\u001b[0mX\u001b[0m\u001b[0;34m,\u001b[0m \u001b[0my\u001b[0m\u001b[0;34m,\u001b[0m \u001b[0maccept_sparse\u001b[0m\u001b[0;34m=\u001b[0m\u001b[0;34m\"csr\"\u001b[0m\u001b[0;34m,\u001b[0m \u001b[0mreset\u001b[0m\u001b[0;34m=\u001b[0m\u001b[0mreset\u001b[0m\u001b[0;34m)\u001b[0m\u001b[0;34m\u001b[0m\u001b[0;34m\u001b[0m\u001b[0m\n\u001b[0m\u001b[1;32m    524\u001b[0m \u001b[0;34m\u001b[0m\u001b[0m\n\u001b[1;32m    525\u001b[0m     \u001b[0;32mdef\u001b[0m \u001b[0m_update_class_log_prior\u001b[0m\u001b[0;34m(\u001b[0m\u001b[0mself\u001b[0m\u001b[0;34m,\u001b[0m \u001b[0mclass_prior\u001b[0m\u001b[0;34m=\u001b[0m\u001b[0;32mNone\u001b[0m\u001b[0;34m)\u001b[0m\u001b[0;34m:\u001b[0m\u001b[0;34m\u001b[0m\u001b[0;34m\u001b[0m\u001b[0m\n",
      "\u001b[0;32m/usr/local/lib/python3.7/dist-packages/sklearn/base.py\u001b[0m in \u001b[0;36m_validate_data\u001b[0;34m(self, X, y, reset, validate_separately, **check_params)\u001b[0m\n\u001b[1;32m    579\u001b[0m                 \u001b[0my\u001b[0m \u001b[0;34m=\u001b[0m \u001b[0mcheck_array\u001b[0m\u001b[0;34m(\u001b[0m\u001b[0my\u001b[0m\u001b[0;34m,\u001b[0m \u001b[0;34m**\u001b[0m\u001b[0mcheck_y_params\u001b[0m\u001b[0;34m)\u001b[0m\u001b[0;34m\u001b[0m\u001b[0;34m\u001b[0m\u001b[0m\n\u001b[1;32m    580\u001b[0m             \u001b[0;32melse\u001b[0m\u001b[0;34m:\u001b[0m\u001b[0;34m\u001b[0m\u001b[0;34m\u001b[0m\u001b[0m\n\u001b[0;32m--> 581\u001b[0;31m                 \u001b[0mX\u001b[0m\u001b[0;34m,\u001b[0m \u001b[0my\u001b[0m \u001b[0;34m=\u001b[0m \u001b[0mcheck_X_y\u001b[0m\u001b[0;34m(\u001b[0m\u001b[0mX\u001b[0m\u001b[0;34m,\u001b[0m \u001b[0my\u001b[0m\u001b[0;34m,\u001b[0m \u001b[0;34m**\u001b[0m\u001b[0mcheck_params\u001b[0m\u001b[0;34m)\u001b[0m\u001b[0;34m\u001b[0m\u001b[0;34m\u001b[0m\u001b[0m\n\u001b[0m\u001b[1;32m    582\u001b[0m             \u001b[0mout\u001b[0m \u001b[0;34m=\u001b[0m \u001b[0mX\u001b[0m\u001b[0;34m,\u001b[0m \u001b[0my\u001b[0m\u001b[0;34m\u001b[0m\u001b[0;34m\u001b[0m\u001b[0m\n\u001b[1;32m    583\u001b[0m \u001b[0;34m\u001b[0m\u001b[0m\n",
      "\u001b[0;32m/usr/local/lib/python3.7/dist-packages/sklearn/utils/validation.py\u001b[0m in \u001b[0;36mcheck_X_y\u001b[0;34m(X, y, accept_sparse, accept_large_sparse, dtype, order, copy, force_all_finite, ensure_2d, allow_nd, multi_output, ensure_min_samples, ensure_min_features, y_numeric, estimator)\u001b[0m\n\u001b[1;32m    977\u001b[0m     )\n\u001b[1;32m    978\u001b[0m \u001b[0;34m\u001b[0m\u001b[0m\n\u001b[0;32m--> 979\u001b[0;31m     \u001b[0my\u001b[0m \u001b[0;34m=\u001b[0m \u001b[0m_check_y\u001b[0m\u001b[0;34m(\u001b[0m\u001b[0my\u001b[0m\u001b[0;34m,\u001b[0m \u001b[0mmulti_output\u001b[0m\u001b[0;34m=\u001b[0m\u001b[0mmulti_output\u001b[0m\u001b[0;34m,\u001b[0m \u001b[0my_numeric\u001b[0m\u001b[0;34m=\u001b[0m\u001b[0my_numeric\u001b[0m\u001b[0;34m)\u001b[0m\u001b[0;34m\u001b[0m\u001b[0;34m\u001b[0m\u001b[0m\n\u001b[0m\u001b[1;32m    980\u001b[0m \u001b[0;34m\u001b[0m\u001b[0m\n\u001b[1;32m    981\u001b[0m     \u001b[0mcheck_consistent_length\u001b[0m\u001b[0;34m(\u001b[0m\u001b[0mX\u001b[0m\u001b[0;34m,\u001b[0m \u001b[0my\u001b[0m\u001b[0;34m)\u001b[0m\u001b[0;34m\u001b[0m\u001b[0;34m\u001b[0m\u001b[0m\n",
      "\u001b[0;32m/usr/local/lib/python3.7/dist-packages/sklearn/utils/validation.py\u001b[0m in \u001b[0;36m_check_y\u001b[0;34m(y, multi_output, y_numeric)\u001b[0m\n\u001b[1;32m    991\u001b[0m         )\n\u001b[1;32m    992\u001b[0m     \u001b[0;32melse\u001b[0m\u001b[0;34m:\u001b[0m\u001b[0;34m\u001b[0m\u001b[0;34m\u001b[0m\u001b[0m\n\u001b[0;32m--> 993\u001b[0;31m         \u001b[0my\u001b[0m \u001b[0;34m=\u001b[0m \u001b[0mcolumn_or_1d\u001b[0m\u001b[0;34m(\u001b[0m\u001b[0my\u001b[0m\u001b[0;34m,\u001b[0m \u001b[0mwarn\u001b[0m\u001b[0;34m=\u001b[0m\u001b[0;32mTrue\u001b[0m\u001b[0;34m)\u001b[0m\u001b[0;34m\u001b[0m\u001b[0;34m\u001b[0m\u001b[0m\n\u001b[0m\u001b[1;32m    994\u001b[0m         \u001b[0m_assert_all_finite\u001b[0m\u001b[0;34m(\u001b[0m\u001b[0my\u001b[0m\u001b[0;34m)\u001b[0m\u001b[0;34m\u001b[0m\u001b[0;34m\u001b[0m\u001b[0m\n\u001b[1;32m    995\u001b[0m         \u001b[0m_ensure_no_complex_data\u001b[0m\u001b[0;34m(\u001b[0m\u001b[0my\u001b[0m\u001b[0;34m)\u001b[0m\u001b[0;34m\u001b[0m\u001b[0;34m\u001b[0m\u001b[0m\n",
      "\u001b[0;32m/usr/local/lib/python3.7/dist-packages/sklearn/utils/validation.py\u001b[0m in \u001b[0;36mcolumn_or_1d\u001b[0;34m(y, warn)\u001b[0m\n\u001b[1;32m   1037\u001b[0m \u001b[0;34m\u001b[0m\u001b[0m\n\u001b[1;32m   1038\u001b[0m     raise ValueError(\n\u001b[0;32m-> 1039\u001b[0;31m         \u001b[0;34m\"y should be a 1d array, got an array of shape {} instead.\"\u001b[0m\u001b[0;34m.\u001b[0m\u001b[0mformat\u001b[0m\u001b[0;34m(\u001b[0m\u001b[0mshape\u001b[0m\u001b[0;34m)\u001b[0m\u001b[0;34m\u001b[0m\u001b[0;34m\u001b[0m\u001b[0m\n\u001b[0m\u001b[1;32m   1040\u001b[0m     )\n\u001b[1;32m   1041\u001b[0m \u001b[0;34m\u001b[0m\u001b[0m\n",
      "\u001b[0;31mValueError\u001b[0m: y should be a 1d array, got an array of shape (9000, 26) instead."
     ]
    }
   ],
   "source": [
    "from sklearn.naive_bayes import BernoulliNB\n",
    "from sklearn.metrics import accuracy_score\n",
    "clf = BernoulliNB()\n",
    "clf.fit(X_train_ctv, y_train)\n",
    "y_pred = clf.predict(X_test_ctv)\n",
    "#print(accuracy_score(y_test, y_pred))"
   ]
  },
  {
   "cell_type": "markdown",
   "metadata": {
    "id": "6cwBIeOvqd5Z"
   },
   "source": [
    "E. Clearly print Performance Metrics.(Accuracy, Precision, F1 score,Recall, ROC-AUC)"
   ]
  },
  {
   "cell_type": "code",
   "execution_count": null,
   "metadata": {
    "colab": {
     "base_uri": "https://localhost:8080/",
     "height": 328
    },
    "id": "wN9mLg1wk0X1",
    "outputId": "5a652977-5e81-45e3-d673-490a550cadb6"
   },
   "outputs": [
    {
     "ename": "ValueError",
     "evalue": "ignored",
     "output_type": "error",
     "traceback": [
      "\u001b[0;31m---------------------------------------------------------------------------\u001b[0m",
      "\u001b[0;31mValueError\u001b[0m                                Traceback (most recent call last)",
      "\u001b[0;32m<ipython-input-104-065bfc375821>\u001b[0m in \u001b[0;36m<module>\u001b[0;34m()\u001b[0m\n\u001b[1;32m      1\u001b[0m \u001b[0;31m#prec_score_NB=average_precision_score(y_test,y_pred,average='micro')\u001b[0m\u001b[0;34m\u001b[0m\u001b[0;34m\u001b[0m\u001b[0;34m\u001b[0m\u001b[0m\n\u001b[0;32m----> 2\u001b[0;31m \u001b[0mprint\u001b[0m\u001b[0;34m(\u001b[0m\u001b[0maverage_precision_score\u001b[0m\u001b[0;34m(\u001b[0m\u001b[0my_test\u001b[0m\u001b[0;34m,\u001b[0m\u001b[0my_pred\u001b[0m\u001b[0;34m,\u001b[0m\u001b[0maverage\u001b[0m\u001b[0;34m=\u001b[0m\u001b[0;34m'micro'\u001b[0m\u001b[0;34m)\u001b[0m\u001b[0;34m)\u001b[0m\u001b[0;34m\u001b[0m\u001b[0;34m\u001b[0m\u001b[0m\n\u001b[0m",
      "\u001b[0;32m/usr/local/lib/python3.7/dist-packages/sklearn/metrics/_ranking.py\u001b[0m in \u001b[0;36maverage_precision_score\u001b[0;34m(y_true, y_score, average, pos_label, sample_weight)\u001b[0m\n\u001b[1;32m    231\u001b[0m     )\n\u001b[1;32m    232\u001b[0m     return _average_binary_score(\n\u001b[0;32m--> 233\u001b[0;31m         \u001b[0maverage_precision\u001b[0m\u001b[0;34m,\u001b[0m \u001b[0my_true\u001b[0m\u001b[0;34m,\u001b[0m \u001b[0my_score\u001b[0m\u001b[0;34m,\u001b[0m \u001b[0maverage\u001b[0m\u001b[0;34m,\u001b[0m \u001b[0msample_weight\u001b[0m\u001b[0;34m=\u001b[0m\u001b[0msample_weight\u001b[0m\u001b[0;34m\u001b[0m\u001b[0;34m\u001b[0m\u001b[0m\n\u001b[0m\u001b[1;32m    234\u001b[0m     )\n\u001b[1;32m    235\u001b[0m \u001b[0;34m\u001b[0m\u001b[0m\n",
      "\u001b[0;32m/usr/local/lib/python3.7/dist-packages/sklearn/metrics/_base.py\u001b[0m in \u001b[0;36m_average_binary_score\u001b[0;34m(binary_metric, y_true, y_score, average, sample_weight)\u001b[0m\n\u001b[1;32m     70\u001b[0m     \u001b[0my_type\u001b[0m \u001b[0;34m=\u001b[0m \u001b[0mtype_of_target\u001b[0m\u001b[0;34m(\u001b[0m\u001b[0my_true\u001b[0m\u001b[0;34m)\u001b[0m\u001b[0;34m\u001b[0m\u001b[0;34m\u001b[0m\u001b[0m\n\u001b[1;32m     71\u001b[0m     \u001b[0;32mif\u001b[0m \u001b[0my_type\u001b[0m \u001b[0;32mnot\u001b[0m \u001b[0;32min\u001b[0m \u001b[0;34m(\u001b[0m\u001b[0;34m\"binary\"\u001b[0m\u001b[0;34m,\u001b[0m \u001b[0;34m\"multilabel-indicator\"\u001b[0m\u001b[0;34m)\u001b[0m\u001b[0;34m:\u001b[0m\u001b[0;34m\u001b[0m\u001b[0;34m\u001b[0m\u001b[0m\n\u001b[0;32m---> 72\u001b[0;31m         \u001b[0;32mraise\u001b[0m \u001b[0mValueError\u001b[0m\u001b[0;34m(\u001b[0m\u001b[0;34m\"{0} format is not supported\"\u001b[0m\u001b[0;34m.\u001b[0m\u001b[0mformat\u001b[0m\u001b[0;34m(\u001b[0m\u001b[0my_type\u001b[0m\u001b[0;34m)\u001b[0m\u001b[0;34m)\u001b[0m\u001b[0;34m\u001b[0m\u001b[0;34m\u001b[0m\u001b[0m\n\u001b[0m\u001b[1;32m     73\u001b[0m \u001b[0;34m\u001b[0m\u001b[0m\n\u001b[1;32m     74\u001b[0m     \u001b[0;32mif\u001b[0m \u001b[0my_type\u001b[0m \u001b[0;34m==\u001b[0m \u001b[0;34m\"binary\"\u001b[0m\u001b[0;34m:\u001b[0m\u001b[0;34m\u001b[0m\u001b[0;34m\u001b[0m\u001b[0m\n",
      "\u001b[0;31mValueError\u001b[0m: multiclass format is not supported"
     ]
    }
   ],
   "source": [
    "#prec_score_NB=average_precision_score(y_test,y_pred,average='micro')\n",
    "print(average_precision_score(y_test,y_pred,average='micro'))"
   ]
  },
  {
   "cell_type": "code",
   "execution_count": null,
   "metadata": {
    "id": "qkXKP94Ok0bO"
   },
   "outputs": [],
   "source": [
    ""
   ]
  },
  {
   "cell_type": "code",
   "execution_count": null,
   "metadata": {
    "id": "58N35Njlp9Dc"
   },
   "outputs": [],
   "source": [
    "from sklearn.metrics import accuracy_score,average_precision_score,f1_score,recall_score,roc_auc_score\n",
    "#from sklearn.metrics import roc_auc_score\n",
    "\n",
    "def print_perfo_metrics(y_test,y_pred):\n",
    "    acc_score_NB=accuracy_score(y_test,y_pred)\n",
    "    print('Accuracy Score :',acc_score_NB)\n",
    "    prec_score_NB=average_precision_score(y_test,y_pred,average='micro')\n",
    "    print('Precision Score :',prec_score_NB)\n",
    "    #f1_score_NB=f1_score(y_test,y_pred,average='micro')\n",
    "    #print('f1 Score :',f1_score_NB)\n",
    "    #reca_score_NB=recall_score(y_test,y_pred,average='micro')\n",
    "    #print('Recall Score :',reca_score_NB)\n",
    "    #ROC_AUC_score_NB=roc_auc_score(y_test,y_pred)\n",
    "    #print('ROC-AUC Score'.format(ROC_AUC_score_NB))"
   ]
  },
  {
   "cell_type": "code",
   "execution_count": null,
   "metadata": {
    "colab": {
     "base_uri": "https://localhost:8080/",
     "height": 328
    },
    "id": "hdFdBen_yVpK",
    "outputId": "4d82a15f-aa21-433d-9821-2556953999b8"
   },
   "outputs": [
    {
     "name": "stdout",
     "output_type": "stream",
     "text": [
      "Accuracy Score : 0.34\n"
     ]
    },
    {
     "ename": "ValueError",
     "evalue": "ignored",
     "output_type": "error",
     "traceback": [
      "\u001b[0;31m---------------------------------------------------------------------------\u001b[0m",
      "\u001b[0;31mValueError\u001b[0m                                Traceback (most recent call last)",
      "\u001b[0;32m<ipython-input-93-9b98defcb9ba>\u001b[0m in \u001b[0;36m<module>\u001b[0;34m()\u001b[0m\n\u001b[0;32m----> 1\u001b[0;31m \u001b[0mprint_perfo_metrics\u001b[0m\u001b[0;34m(\u001b[0m\u001b[0my_test\u001b[0m\u001b[0;34m,\u001b[0m\u001b[0my_pred\u001b[0m\u001b[0;34m)\u001b[0m\u001b[0;34m\u001b[0m\u001b[0;34m\u001b[0m\u001b[0m\n\u001b[0m",
      "\u001b[0;32m<ipython-input-92-2f634e970e35>\u001b[0m in \u001b[0;36mprint_perfo_metrics\u001b[0;34m(y_test, y_pred)\u001b[0m\n\u001b[1;32m      5\u001b[0m     \u001b[0macc_score_NB\u001b[0m\u001b[0;34m=\u001b[0m\u001b[0maccuracy_score\u001b[0m\u001b[0;34m(\u001b[0m\u001b[0my_test\u001b[0m\u001b[0;34m,\u001b[0m\u001b[0my_pred\u001b[0m\u001b[0;34m)\u001b[0m\u001b[0;34m\u001b[0m\u001b[0;34m\u001b[0m\u001b[0m\n\u001b[1;32m      6\u001b[0m     \u001b[0mprint\u001b[0m\u001b[0;34m(\u001b[0m\u001b[0;34m'Accuracy Score :'\u001b[0m\u001b[0;34m,\u001b[0m\u001b[0macc_score_NB\u001b[0m\u001b[0;34m)\u001b[0m\u001b[0;34m\u001b[0m\u001b[0;34m\u001b[0m\u001b[0m\n\u001b[0;32m----> 7\u001b[0;31m     \u001b[0mprec_score_NB\u001b[0m\u001b[0;34m=\u001b[0m\u001b[0maverage_precision_score\u001b[0m\u001b[0;34m(\u001b[0m\u001b[0my_test\u001b[0m\u001b[0;34m,\u001b[0m\u001b[0my_pred\u001b[0m\u001b[0;34m,\u001b[0m\u001b[0maverage\u001b[0m\u001b[0;34m=\u001b[0m\u001b[0;34m'micro'\u001b[0m\u001b[0;34m)\u001b[0m\u001b[0;34m\u001b[0m\u001b[0;34m\u001b[0m\u001b[0m\n\u001b[0m\u001b[1;32m      8\u001b[0m     \u001b[0mprint\u001b[0m\u001b[0;34m(\u001b[0m\u001b[0;34m'Precision Score :'\u001b[0m\u001b[0;34m,\u001b[0m\u001b[0mprec_score_NB\u001b[0m\u001b[0;34m)\u001b[0m\u001b[0;34m\u001b[0m\u001b[0;34m\u001b[0m\u001b[0m\n\u001b[1;32m      9\u001b[0m     \u001b[0;31m#f1_score_NB=f1_score(y_test,y_pred,average='micro')\u001b[0m\u001b[0;34m\u001b[0m\u001b[0;34m\u001b[0m\u001b[0;34m\u001b[0m\u001b[0m\n",
      "\u001b[0;32m/usr/local/lib/python3.7/dist-packages/sklearn/metrics/_ranking.py\u001b[0m in \u001b[0;36maverage_precision_score\u001b[0;34m(y_true, y_score, average, pos_label, sample_weight)\u001b[0m\n\u001b[1;32m    231\u001b[0m     )\n\u001b[1;32m    232\u001b[0m     return _average_binary_score(\n\u001b[0;32m--> 233\u001b[0;31m         \u001b[0maverage_precision\u001b[0m\u001b[0;34m,\u001b[0m \u001b[0my_true\u001b[0m\u001b[0;34m,\u001b[0m \u001b[0my_score\u001b[0m\u001b[0;34m,\u001b[0m \u001b[0maverage\u001b[0m\u001b[0;34m,\u001b[0m \u001b[0msample_weight\u001b[0m\u001b[0;34m=\u001b[0m\u001b[0msample_weight\u001b[0m\u001b[0;34m\u001b[0m\u001b[0;34m\u001b[0m\u001b[0m\n\u001b[0m\u001b[1;32m    234\u001b[0m     )\n\u001b[1;32m    235\u001b[0m \u001b[0;34m\u001b[0m\u001b[0m\n",
      "\u001b[0;32m/usr/local/lib/python3.7/dist-packages/sklearn/metrics/_base.py\u001b[0m in \u001b[0;36m_average_binary_score\u001b[0;34m(binary_metric, y_true, y_score, average, sample_weight)\u001b[0m\n\u001b[1;32m     70\u001b[0m     \u001b[0my_type\u001b[0m \u001b[0;34m=\u001b[0m \u001b[0mtype_of_target\u001b[0m\u001b[0;34m(\u001b[0m\u001b[0my_true\u001b[0m\u001b[0;34m)\u001b[0m\u001b[0;34m\u001b[0m\u001b[0;34m\u001b[0m\u001b[0m\n\u001b[1;32m     71\u001b[0m     \u001b[0;32mif\u001b[0m \u001b[0my_type\u001b[0m \u001b[0;32mnot\u001b[0m \u001b[0;32min\u001b[0m \u001b[0;34m(\u001b[0m\u001b[0;34m\"binary\"\u001b[0m\u001b[0;34m,\u001b[0m \u001b[0;34m\"multilabel-indicator\"\u001b[0m\u001b[0;34m)\u001b[0m\u001b[0;34m:\u001b[0m\u001b[0;34m\u001b[0m\u001b[0;34m\u001b[0m\u001b[0m\n\u001b[0;32m---> 72\u001b[0;31m         \u001b[0;32mraise\u001b[0m \u001b[0mValueError\u001b[0m\u001b[0;34m(\u001b[0m\u001b[0;34m\"{0} format is not supported\"\u001b[0m\u001b[0;34m.\u001b[0m\u001b[0mformat\u001b[0m\u001b[0;34m(\u001b[0m\u001b[0my_type\u001b[0m\u001b[0;34m)\u001b[0m\u001b[0;34m)\u001b[0m\u001b[0;34m\u001b[0m\u001b[0;34m\u001b[0m\u001b[0m\n\u001b[0m\u001b[1;32m     73\u001b[0m \u001b[0;34m\u001b[0m\u001b[0m\n\u001b[1;32m     74\u001b[0m     \u001b[0;32mif\u001b[0m \u001b[0my_type\u001b[0m \u001b[0;34m==\u001b[0m \u001b[0;34m\"binary\"\u001b[0m\u001b[0;34m:\u001b[0m\u001b[0;34m\u001b[0m\u001b[0;34m\u001b[0m\u001b[0m\n",
      "\u001b[0;31mValueError\u001b[0m: multiclass format is not supported"
     ]
    }
   ],
   "source": [
    "print_perfo_metrics(y_test,y_pred)"
   ]
  },
  {
   "cell_type": "markdown",
   "metadata": {
    "id": "TyJ77zWIynGh"
   },
   "source": [
    "4. Improve Performance of model."
   ]
  },
  {
   "cell_type": "markdown",
   "metadata": {
    "id": "3booTIDoywNb"
   },
   "source": [
    "A. Experiment with other vectorisers. "
   ]
  },
  {
   "cell_type": "code",
   "execution_count": null,
   "metadata": {
    "id": "lMNN06A3zxwk"
   },
   "outputs": [],
   "source": [
    "count_vect = CountVectorizer(binary=True,ngram_range=(1,2))\n",
    "X_train= count_vect.fit_transform(X_train)\n",
    "print(X_train[1])"
   ]
  },
  {
   "cell_type": "code",
   "execution_count": null,
   "metadata": {
    "id": "vrNPNs7Yygj9"
   },
   "outputs": [],
   "source": [
    "#final_tf = final_X\n",
    "tf_idf_vect= TfidfVectorizer(max_features=5000)\n",
    "X_train = tf_idf_vect.fit_transform(X_train)\n",
    "print(X_train[1])"
   ]
  },
  {
   "cell_type": "code",
   "execution_count": null,
   "metadata": {
    "id": "kjIIP6m90ELX"
   },
   "outputs": [],
   "source": [
    "#Let us see some feature names\n",
    "tf_idf_vect.get_feature_names()[:5]"
   ]
  },
  {
   "cell_type": "code",
   "execution_count": null,
   "metadata": {
    "id": "HB1ZgJQe0EOu"
   },
   "outputs": [],
   "source": [
    "#Check the vocablury size\n",
    "len(tf_idf_vect.vocabulary_)"
   ]
  },
  {
   "cell_type": "code",
   "execution_count": null,
   "metadata": {
    "id": "KFOokk-Gygnc"
   },
   "outputs": [],
   "source": [
    "X_train_tfidfvec=tf_idf_vect.transform(X_train)\n",
    "X_test_tfidfvec=tf_idf_vect.transform(X_test)"
   ]
  },
  {
   "cell_type": "code",
   "execution_count": null,
   "metadata": {
    "id": "olnAZmnM0bwJ"
   },
   "outputs": [],
   "source": [
    "print(X_train_tfidfvec[0])\n",
    "print(X_test_tfidfvec[0])"
   ]
  },
  {
   "cell_type": "markdown",
   "metadata": {
    "id": "KA8slBcW1MUz"
   },
   "source": [
    "B. Build classifier Models using other algorithms than base model. "
   ]
  },
  {
   "cell_type": "code",
   "execution_count": null,
   "metadata": {
    "id": "sy92B94X0bzl"
   },
   "outputs": [],
   "source": [
    "from sklearn.ensemble import RandomForestClassifier\n",
    "clf=RandomForestClassifier()\n",
    "clf.fit(X_train_tfidfvec, y_train)\n",
    "pred_clf= clf.predict(X_test_tfidfvec)\n",
    "#print(accuracy_score(y_test, pred_clf))"
   ]
  },
  {
   "cell_type": "markdown",
   "metadata": {
    "id": "QPOTYqCU2Z3-"
   },
   "source": [
    "C. Tune Parameters/Hyperparameters of the model/s. "
   ]
  },
  {
   "cell_type": "code",
   "execution_count": null,
   "metadata": {
    "id": "HhSZAGsz2b6J"
   },
   "outputs": [],
   "source": [
    "from sklearn.preprocessing import MinMaxScaler\n",
    "ms = MinMaxScaler(feature_range=(0, 1))\n",
    "train = ms.fit_transform(train)\n",
    "test = ms.transform(test)"
   ]
  },
  {
   "cell_type": "code",
   "execution_count": null,
   "metadata": {
    "id": "d7jkFhT_2b9p"
   },
   "outputs": [],
   "source": [
    ""
   ]
  },
  {
   "cell_type": "markdown",
   "metadata": {
    "id": "BbuDkK0P2cjX"
   },
   "source": [
    "D. Clearly print Performance Metrics."
   ]
  },
  {
   "cell_type": "code",
   "execution_count": null,
   "metadata": {
    "id": "QoKtOVzS1dtN"
   },
   "outputs": [],
   "source": [
    "from sklearn.metrics import accuracy_score,precision_score,f1_score,recall_score,roc_auc_score\n",
    "#from sklearn.metrics import roc_auc_score\n",
    "\n",
    "def print_perfo_metrics(y_test,pred_clf)\n",
    "    acc_score_RFC=accuracy_score(y_test,pred_clf)\n",
    "    print('Accuracy Score :',acc_score_RFC)\n",
    "    prec_score_RFC=precision_score(y_test,pred_clf)\n",
    "    print('Precision Score :',prec_score_RFC)\n",
    "    f1_score_RFC=f1_score(y_test,pred_clf)\n",
    "    print('f1 Score :',f1_score_RFC)\n",
    "    reca_score_RFC=recall_score(y_test,pred_clf)\n",
    "    print('Recall Score :',reca_score_RFC)\n",
    "    ROC_AUC_score_RFC=roc_auc_score(y_test,pred_clf)\n",
    "    print('ROC-AUC Score'.format(ROC_AUC_score_RFC))"
   ]
  },
  {
   "cell_type": "code",
   "execution_count": null,
   "metadata": {
    "id": "VY6Xb8Ln1dvy"
   },
   "outputs": [],
   "source": [
    "print_perfo_metrics(y_test,y_pred)"
   ]
  },
  {
   "cell_type": "code",
   "execution_count": null,
   "metadata": {
    "id": "7_vu_oYI1dzK"
   },
   "outputs": [],
   "source": [
    ""
   ]
  },
  {
   "cell_type": "code",
   "execution_count": null,
   "metadata": {
    "id": "cB2ZrywSn6eW"
   },
   "outputs": [],
   "source": [
    "from sklearn.feature_extraction.text import TfidfVectorizer,CountVectorizer\n",
    "\n",
    "ctv=CountVectorizer(analyzer='word',token_pattern=r'\\w{1,}',ngram_range=(1,3),stop_words='english')\n",
    "\n",
    "corpus=list(X_train)+list(X_test)"
   ]
  },
  {
   "cell_type": "code",
   "execution_count": null,
   "metadata": {
    "id": "YSZUVc4Eh8S-"
   },
   "outputs": [],
   "source": [
    "ctv.fit(corpus)"
   ]
  },
  {
   "cell_type": "code",
   "execution_count": null,
   "metadata": {
    "id": "JGKZOfjniHDu"
   },
   "outputs": [],
   "source": [
    "xtrain_ctv=ctv.transform(X_train)"
   ]
  },
  {
   "cell_type": "code",
   "execution_count": null,
   "metadata": {
    "id": "zpKjuXqliQG2"
   },
   "outputs": [],
   "source": [
    "xtest_ctv=ctv.transform(X_test)"
   ]
  },
  {
   "cell_type": "code",
   "execution_count": null,
   "metadata": {
    "id": "olGFdhIWiXD3"
   },
   "outputs": [],
   "source": [
    "print(len(ctv.vocabulary_))"
   ]
  },
  {
   "cell_type": "code",
   "execution_count": null,
   "metadata": {
    "id": "_6pyDsE7iXHJ"
   },
   "outputs": [],
   "source": [
    "ctv.get_feature_names()[:10]"
   ]
  }
 ],
 "metadata": {
  "colab": {
   "collapsed_sections": [],
   "name": "GL_Project_NLP_Part1-DiptiParmar.ipynb",
   "provenance": []
  },
  "kernelspec": {
   "display_name": "Python 3",
   "name": "python3"
  },
  "language_info": {
   "name": "python"
  }
 },
 "nbformat": 4,
 "nbformat_minor": 0
}
